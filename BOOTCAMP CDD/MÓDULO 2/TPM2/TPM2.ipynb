{
 "cells": [
  {
   "cell_type": "code",
   "execution_count": 309,
   "metadata": {},
   "outputs": [],
   "source": [
    "import pandas as pd"
   ]
  },
  {
   "cell_type": "code",
   "execution_count": 310,
   "metadata": {},
   "outputs": [
    {
     "data": {
      "text/html": [
       "<div>\n",
       "<style scoped>\n",
       "    .dataframe tbody tr th:only-of-type {\n",
       "        vertical-align: middle;\n",
       "    }\n",
       "\n",
       "    .dataframe tbody tr th {\n",
       "        vertical-align: top;\n",
       "    }\n",
       "\n",
       "    .dataframe thead th {\n",
       "        text-align: right;\n",
       "    }\n",
       "</style>\n",
       "<table border=\"1\" class=\"dataframe\">\n",
       "  <thead>\n",
       "    <tr style=\"text-align: right;\">\n",
       "      <th></th>\n",
       "      <th>date</th>\n",
       "      <th>open</th>\n",
       "      <th>high</th>\n",
       "      <th>low</th>\n",
       "      <th>close</th>\n",
       "      <th>volume</th>\n",
       "      <th>Name</th>\n",
       "    </tr>\n",
       "  </thead>\n",
       "  <tbody>\n",
       "    <tr>\n",
       "      <th>0</th>\n",
       "      <td>2013-02-08</td>\n",
       "      <td>15.07</td>\n",
       "      <td>15.12</td>\n",
       "      <td>14.63</td>\n",
       "      <td>14.75</td>\n",
       "      <td>8407500</td>\n",
       "      <td>AAL</td>\n",
       "    </tr>\n",
       "    <tr>\n",
       "      <th>1</th>\n",
       "      <td>2013-02-11</td>\n",
       "      <td>14.89</td>\n",
       "      <td>15.01</td>\n",
       "      <td>14.26</td>\n",
       "      <td>14.46</td>\n",
       "      <td>8882000</td>\n",
       "      <td>AAL</td>\n",
       "    </tr>\n",
       "    <tr>\n",
       "      <th>2</th>\n",
       "      <td>2013-02-12</td>\n",
       "      <td>14.45</td>\n",
       "      <td>14.51</td>\n",
       "      <td>14.10</td>\n",
       "      <td>14.27</td>\n",
       "      <td>8126000</td>\n",
       "      <td>AAL</td>\n",
       "    </tr>\n",
       "    <tr>\n",
       "      <th>3</th>\n",
       "      <td>2013-02-13</td>\n",
       "      <td>14.30</td>\n",
       "      <td>14.94</td>\n",
       "      <td>14.25</td>\n",
       "      <td>14.66</td>\n",
       "      <td>10259500</td>\n",
       "      <td>AAL</td>\n",
       "    </tr>\n",
       "    <tr>\n",
       "      <th>4</th>\n",
       "      <td>2013-02-14</td>\n",
       "      <td>14.94</td>\n",
       "      <td>14.96</td>\n",
       "      <td>13.16</td>\n",
       "      <td>13.99</td>\n",
       "      <td>31879900</td>\n",
       "      <td>AAL</td>\n",
       "    </tr>\n",
       "    <tr>\n",
       "      <th>...</th>\n",
       "      <td>...</td>\n",
       "      <td>...</td>\n",
       "      <td>...</td>\n",
       "      <td>...</td>\n",
       "      <td>...</td>\n",
       "      <td>...</td>\n",
       "      <td>...</td>\n",
       "    </tr>\n",
       "    <tr>\n",
       "      <th>619035</th>\n",
       "      <td>2018-02-01</td>\n",
       "      <td>76.84</td>\n",
       "      <td>78.27</td>\n",
       "      <td>76.69</td>\n",
       "      <td>77.82</td>\n",
       "      <td>2982259</td>\n",
       "      <td>ZTS</td>\n",
       "    </tr>\n",
       "    <tr>\n",
       "      <th>619036</th>\n",
       "      <td>2018-02-02</td>\n",
       "      <td>77.53</td>\n",
       "      <td>78.12</td>\n",
       "      <td>76.73</td>\n",
       "      <td>76.78</td>\n",
       "      <td>2595187</td>\n",
       "      <td>ZTS</td>\n",
       "    </tr>\n",
       "    <tr>\n",
       "      <th>619037</th>\n",
       "      <td>2018-02-05</td>\n",
       "      <td>76.64</td>\n",
       "      <td>76.92</td>\n",
       "      <td>73.18</td>\n",
       "      <td>73.83</td>\n",
       "      <td>2962031</td>\n",
       "      <td>ZTS</td>\n",
       "    </tr>\n",
       "    <tr>\n",
       "      <th>619038</th>\n",
       "      <td>2018-02-06</td>\n",
       "      <td>72.74</td>\n",
       "      <td>74.56</td>\n",
       "      <td>72.13</td>\n",
       "      <td>73.27</td>\n",
       "      <td>4924323</td>\n",
       "      <td>ZTS</td>\n",
       "    </tr>\n",
       "    <tr>\n",
       "      <th>619039</th>\n",
       "      <td>2018-02-07</td>\n",
       "      <td>72.70</td>\n",
       "      <td>75.00</td>\n",
       "      <td>72.69</td>\n",
       "      <td>73.86</td>\n",
       "      <td>4534912</td>\n",
       "      <td>ZTS</td>\n",
       "    </tr>\n",
       "  </tbody>\n",
       "</table>\n",
       "<p>619040 rows × 7 columns</p>\n",
       "</div>"
      ],
      "text/plain": [
       "              date   open   high    low  close    volume Name\n",
       "0       2013-02-08  15.07  15.12  14.63  14.75   8407500  AAL\n",
       "1       2013-02-11  14.89  15.01  14.26  14.46   8882000  AAL\n",
       "2       2013-02-12  14.45  14.51  14.10  14.27   8126000  AAL\n",
       "3       2013-02-13  14.30  14.94  14.25  14.66  10259500  AAL\n",
       "4       2013-02-14  14.94  14.96  13.16  13.99  31879900  AAL\n",
       "...            ...    ...    ...    ...    ...       ...  ...\n",
       "619035  2018-02-01  76.84  78.27  76.69  77.82   2982259  ZTS\n",
       "619036  2018-02-02  77.53  78.12  76.73  76.78   2595187  ZTS\n",
       "619037  2018-02-05  76.64  76.92  73.18  73.83   2962031  ZTS\n",
       "619038  2018-02-06  72.74  74.56  72.13  73.27   4924323  ZTS\n",
       "619039  2018-02-07  72.70  75.00  72.69  73.86   4534912  ZTS\n",
       "\n",
       "[619040 rows x 7 columns]"
      ]
     },
     "execution_count": 310,
     "metadata": {},
     "output_type": "execute_result"
    }
   ],
   "source": [
    "df = pd.read_csv(\"C:\\\\Users\\\\Matheus Poletto\\\\Desktop\\\\Cientista de Dados\\\\POS XP\\\\BOOTCAMP CDD\\\\MÓDULO 2\\\\TPM2\\\\data\\\\all_stocks_5yr.csv\")\n",
    "df"
   ]
  },
  {
   "cell_type": "code",
   "execution_count": 311,
   "metadata": {},
   "outputs": [
    {
     "data": {
      "text/html": [
       "<div>\n",
       "<style scoped>\n",
       "    .dataframe tbody tr th:only-of-type {\n",
       "        vertical-align: middle;\n",
       "    }\n",
       "\n",
       "    .dataframe tbody tr th {\n",
       "        vertical-align: top;\n",
       "    }\n",
       "\n",
       "    .dataframe thead th {\n",
       "        text-align: right;\n",
       "    }\n",
       "</style>\n",
       "<table border=\"1\" class=\"dataframe\">\n",
       "  <thead>\n",
       "    <tr style=\"text-align: right;\">\n",
       "      <th></th>\n",
       "      <th>date</th>\n",
       "      <th>open</th>\n",
       "      <th>high</th>\n",
       "      <th>low</th>\n",
       "      <th>close</th>\n",
       "      <th>volume</th>\n",
       "      <th>Name</th>\n",
       "    </tr>\n",
       "  </thead>\n",
       "  <tbody>\n",
       "    <tr>\n",
       "      <th>0</th>\n",
       "      <td>2013-02-08</td>\n",
       "      <td>15.07</td>\n",
       "      <td>15.12</td>\n",
       "      <td>14.63</td>\n",
       "      <td>14.75</td>\n",
       "      <td>8407500</td>\n",
       "      <td>AAL</td>\n",
       "    </tr>\n",
       "    <tr>\n",
       "      <th>1</th>\n",
       "      <td>2013-02-11</td>\n",
       "      <td>14.89</td>\n",
       "      <td>15.01</td>\n",
       "      <td>14.26</td>\n",
       "      <td>14.46</td>\n",
       "      <td>8882000</td>\n",
       "      <td>AAL</td>\n",
       "    </tr>\n",
       "    <tr>\n",
       "      <th>2</th>\n",
       "      <td>2013-02-12</td>\n",
       "      <td>14.45</td>\n",
       "      <td>14.51</td>\n",
       "      <td>14.10</td>\n",
       "      <td>14.27</td>\n",
       "      <td>8126000</td>\n",
       "      <td>AAL</td>\n",
       "    </tr>\n",
       "    <tr>\n",
       "      <th>3</th>\n",
       "      <td>2013-02-13</td>\n",
       "      <td>14.30</td>\n",
       "      <td>14.94</td>\n",
       "      <td>14.25</td>\n",
       "      <td>14.66</td>\n",
       "      <td>10259500</td>\n",
       "      <td>AAL</td>\n",
       "    </tr>\n",
       "    <tr>\n",
       "      <th>4</th>\n",
       "      <td>2013-02-14</td>\n",
       "      <td>14.94</td>\n",
       "      <td>14.96</td>\n",
       "      <td>13.16</td>\n",
       "      <td>13.99</td>\n",
       "      <td>31879900</td>\n",
       "      <td>AAL</td>\n",
       "    </tr>\n",
       "    <tr>\n",
       "      <th>...</th>\n",
       "      <td>...</td>\n",
       "      <td>...</td>\n",
       "      <td>...</td>\n",
       "      <td>...</td>\n",
       "      <td>...</td>\n",
       "      <td>...</td>\n",
       "      <td>...</td>\n",
       "    </tr>\n",
       "    <tr>\n",
       "      <th>619035</th>\n",
       "      <td>2018-02-01</td>\n",
       "      <td>76.84</td>\n",
       "      <td>78.27</td>\n",
       "      <td>76.69</td>\n",
       "      <td>77.82</td>\n",
       "      <td>2982259</td>\n",
       "      <td>ZTS</td>\n",
       "    </tr>\n",
       "    <tr>\n",
       "      <th>619036</th>\n",
       "      <td>2018-02-02</td>\n",
       "      <td>77.53</td>\n",
       "      <td>78.12</td>\n",
       "      <td>76.73</td>\n",
       "      <td>76.78</td>\n",
       "      <td>2595187</td>\n",
       "      <td>ZTS</td>\n",
       "    </tr>\n",
       "    <tr>\n",
       "      <th>619037</th>\n",
       "      <td>2018-02-05</td>\n",
       "      <td>76.64</td>\n",
       "      <td>76.92</td>\n",
       "      <td>73.18</td>\n",
       "      <td>73.83</td>\n",
       "      <td>2962031</td>\n",
       "      <td>ZTS</td>\n",
       "    </tr>\n",
       "    <tr>\n",
       "      <th>619038</th>\n",
       "      <td>2018-02-06</td>\n",
       "      <td>72.74</td>\n",
       "      <td>74.56</td>\n",
       "      <td>72.13</td>\n",
       "      <td>73.27</td>\n",
       "      <td>4924323</td>\n",
       "      <td>ZTS</td>\n",
       "    </tr>\n",
       "    <tr>\n",
       "      <th>619039</th>\n",
       "      <td>2018-02-07</td>\n",
       "      <td>72.70</td>\n",
       "      <td>75.00</td>\n",
       "      <td>72.69</td>\n",
       "      <td>73.86</td>\n",
       "      <td>4534912</td>\n",
       "      <td>ZTS</td>\n",
       "    </tr>\n",
       "  </tbody>\n",
       "</table>\n",
       "<p>619040 rows × 7 columns</p>\n",
       "</div>"
      ],
      "text/plain": [
       "              date   open   high    low  close    volume Name\n",
       "0       2013-02-08  15.07  15.12  14.63  14.75   8407500  AAL\n",
       "1       2013-02-11  14.89  15.01  14.26  14.46   8882000  AAL\n",
       "2       2013-02-12  14.45  14.51  14.10  14.27   8126000  AAL\n",
       "3       2013-02-13  14.30  14.94  14.25  14.66  10259500  AAL\n",
       "4       2013-02-14  14.94  14.96  13.16  13.99  31879900  AAL\n",
       "...            ...    ...    ...    ...    ...       ...  ...\n",
       "619035  2018-02-01  76.84  78.27  76.69  77.82   2982259  ZTS\n",
       "619036  2018-02-02  77.53  78.12  76.73  76.78   2595187  ZTS\n",
       "619037  2018-02-05  76.64  76.92  73.18  73.83   2962031  ZTS\n",
       "619038  2018-02-06  72.74  74.56  72.13  73.27   4924323  ZTS\n",
       "619039  2018-02-07  72.70  75.00  72.69  73.86   4534912  ZTS\n",
       "\n",
       "[619040 rows x 7 columns]"
      ]
     },
     "execution_count": 311,
     "metadata": {},
     "output_type": "execute_result"
    }
   ],
   "source": [
    "df"
   ]
  },
  {
   "cell_type": "code",
   "execution_count": 312,
   "metadata": {},
   "outputs": [
    {
     "name": "stdout",
     "output_type": "stream",
     "text": [
      "Existem 619040 registros na planilha.\n"
     ]
    }
   ],
   "source": [
    "#1 -  Quantos registros há na planilha?\n",
    "registros = df.count().iloc[0]\n",
    "print(f\"Existem {registros} registros na planilha.\")\n"
   ]
  },
  {
   "cell_type": "code",
   "execution_count": 313,
   "metadata": {},
   "outputs": [
    {
     "name": "stdout",
     "output_type": "stream",
     "text": [
      "Existem 1259 registros de AAPL na planilha.\n"
     ]
    }
   ],
   "source": [
    "#2 -  Quantos registros há na planilha para a ação da Apple (AAPL)?\n",
    "df_aapl = df[(df['Name'] == 'AAPL')]\n",
    "registros_aapl = df_aapl.count().iloc[0]\n",
    "print(f\"Existem {registros_aapl} registros de AAPL na planilha.\")"
   ]
  },
  {
   "cell_type": "code",
   "execution_count": 314,
   "metadata": {},
   "outputs": [
    {
     "name": "stdout",
     "output_type": "stream",
     "text": [
      "Existem 505 empresas distintas nessa planilha.\n"
     ]
    }
   ],
   "source": [
    "#3 - Quantas empresas distintas têm registros nessa planilha?\n",
    "df_distinct = df['Name'].nunique()\n",
    "df_distinct\n",
    "\n",
    "print(f\"Existem {df_distinct} empresas distintas nessa planilha.\")"
   ]
  },
  {
   "cell_type": "code",
   "execution_count": 315,
   "metadata": {},
   "outputs": [
    {
     "name": "stdout",
     "output_type": "stream",
     "text": [
      "51.53% das vezes o preço da ação possui fechamento maior\n"
     ]
    }
   ],
   "source": [
    "#4 - Com qual frequência o preço de uma ação no fechamento é maior do que o preço na abertura?\n",
    "maior_fechamento = round((df[(df['close'] > df['open'])].count().iloc[0])/registros*100,2)\n",
    "print(f\"{maior_fechamento}% das vezes o preço da ação possui fechamento maior\")"
   ]
  },
  {
   "cell_type": "code",
   "execution_count": 316,
   "metadata": {},
   "outputs": [
    {
     "name": "stdout",
     "output_type": "stream",
     "text": [
      "O maior valor das ações da Apple da história é 180.1.\n"
     ]
    }
   ],
   "source": [
    "#5 - Qual o maior valor das ações da Apple (AAPL) na história?\n",
    "max_valores_lista = df_aapl.select_dtypes(include=['number']).max().tolist()\n",
    "max_aapl = max_valores_lista[1]\n",
    "print(f\"O maior valor das ações da Apple da história é {max_aapl}.\")"
   ]
  },
  {
   "cell_type": "code",
   "execution_count": 317,
   "metadata": {},
   "outputs": [
    {
     "name": "stdout",
     "output_type": "stream",
     "text": [
      "PCLN\n"
     ]
    }
   ],
   "source": [
    "#6 - Qual ação tem a maior volatilidade? Uma forma é medir o desvio-padrão do preço de fechamento de cada ação e considerar a ação de maior desvio-padrão.\n",
    "\n",
    "df['desvio_padrao'] = df.groupby('Name')['close'].transform('std')\n",
    "df_std = df.sort_values(by= 'desvio_padrao', ascending=False)\n",
    "max_std = df.groupby('Name')['desvio_padrao'].max().idxmax()\n",
    "print(max_std)\n"
   ]
  },
  {
   "cell_type": "code",
   "execution_count": 318,
   "metadata": {},
   "outputs": [
    {
     "data": {
      "text/plain": [
       "'2015-08-24'"
      ]
     },
     "execution_count": 318,
     "metadata": {},
     "output_type": "execute_result"
    }
   ],
   "source": [
    "#7 - Qual o dia com maior volume total de negociação da bolsa?\n",
    "df['total_vol_date'] = df.groupby('date')['volume'].transform('sum')\n",
    "df_totalvol = df.sort_values(by= 'total_vol_date', ascending=False)\n",
    "max_vol = df.groupby('date')['total_vol_date'].max().idxmax()\n",
    "max_vol"
   ]
  },
  {
   "cell_type": "code",
   "execution_count": 319,
   "metadata": {},
   "outputs": [
    {
     "data": {
      "text/plain": [
       "'BAC'"
      ]
     },
     "execution_count": 319,
     "metadata": {},
     "output_type": "execute_result"
    }
   ],
   "source": [
    "#8 - Qual a ação mais negociada da bolsa, em volume de transações?\n",
    "df['total_vol_name'] = df.groupby('Name')['volume'].transform('sum')\n",
    "df\n",
    "df_vol_max_name = df.sort_values(by= 'total_vol_name', ascending=False)\n",
    "vol_max_name = df.groupby('Name')['total_vol_name'].max().idxmax()\n",
    "vol_max_name"
   ]
  },
  {
   "cell_type": "code",
   "execution_count": 320,
   "metadata": {},
   "outputs": [
    {
     "data": {
      "text/html": [
       "<div>\n",
       "<style scoped>\n",
       "    .dataframe tbody tr th:only-of-type {\n",
       "        vertical-align: middle;\n",
       "    }\n",
       "\n",
       "    .dataframe tbody tr th {\n",
       "        vertical-align: top;\n",
       "    }\n",
       "\n",
       "    .dataframe thead th {\n",
       "        text-align: right;\n",
       "    }\n",
       "</style>\n",
       "<table border=\"1\" class=\"dataframe\">\n",
       "  <thead>\n",
       "    <tr style=\"text-align: right;\">\n",
       "      <th></th>\n",
       "      <th>date</th>\n",
       "      <th>open</th>\n",
       "      <th>high</th>\n",
       "      <th>low</th>\n",
       "      <th>close</th>\n",
       "      <th>volume</th>\n",
       "      <th>Name</th>\n",
       "      <th>desvio_padrao</th>\n",
       "      <th>total_vol_date</th>\n",
       "      <th>total_vol_name</th>\n",
       "    </tr>\n",
       "  </thead>\n",
       "  <tbody>\n",
       "    <tr>\n",
       "      <th>0</th>\n",
       "      <td>2013-02-08</td>\n",
       "      <td>15.07</td>\n",
       "      <td>15.12</td>\n",
       "      <td>14.63</td>\n",
       "      <td>14.75</td>\n",
       "      <td>8407500</td>\n",
       "      <td>AAL</td>\n",
       "      <td>10.957636</td>\n",
       "      <td>2210298420</td>\n",
       "      <td>11822414547</td>\n",
       "    </tr>\n",
       "    <tr>\n",
       "      <th>1</th>\n",
       "      <td>2013-02-11</td>\n",
       "      <td>14.89</td>\n",
       "      <td>15.01</td>\n",
       "      <td>14.26</td>\n",
       "      <td>14.46</td>\n",
       "      <td>8882000</td>\n",
       "      <td>AAL</td>\n",
       "      <td>10.957636</td>\n",
       "      <td>1948002462</td>\n",
       "      <td>11822414547</td>\n",
       "    </tr>\n",
       "    <tr>\n",
       "      <th>2</th>\n",
       "      <td>2013-02-12</td>\n",
       "      <td>14.45</td>\n",
       "      <td>14.51</td>\n",
       "      <td>14.10</td>\n",
       "      <td>14.27</td>\n",
       "      <td>8126000</td>\n",
       "      <td>AAL</td>\n",
       "      <td>10.957636</td>\n",
       "      <td>2438463132</td>\n",
       "      <td>11822414547</td>\n",
       "    </tr>\n",
       "    <tr>\n",
       "      <th>3</th>\n",
       "      <td>2013-02-13</td>\n",
       "      <td>14.30</td>\n",
       "      <td>14.94</td>\n",
       "      <td>14.25</td>\n",
       "      <td>14.66</td>\n",
       "      <td>10259500</td>\n",
       "      <td>AAL</td>\n",
       "      <td>10.957636</td>\n",
       "      <td>2442872925</td>\n",
       "      <td>11822414547</td>\n",
       "    </tr>\n",
       "    <tr>\n",
       "      <th>4</th>\n",
       "      <td>2013-02-14</td>\n",
       "      <td>14.94</td>\n",
       "      <td>14.96</td>\n",
       "      <td>13.16</td>\n",
       "      <td>13.99</td>\n",
       "      <td>31879900</td>\n",
       "      <td>AAL</td>\n",
       "      <td>10.957636</td>\n",
       "      <td>2609614514</td>\n",
       "      <td>11822414547</td>\n",
       "    </tr>\n",
       "    <tr>\n",
       "      <th>...</th>\n",
       "      <td>...</td>\n",
       "      <td>...</td>\n",
       "      <td>...</td>\n",
       "      <td>...</td>\n",
       "      <td>...</td>\n",
       "      <td>...</td>\n",
       "      <td>...</td>\n",
       "      <td>...</td>\n",
       "      <td>...</td>\n",
       "      <td>...</td>\n",
       "    </tr>\n",
       "    <tr>\n",
       "      <th>619035</th>\n",
       "      <td>2018-02-01</td>\n",
       "      <td>76.84</td>\n",
       "      <td>78.27</td>\n",
       "      <td>76.69</td>\n",
       "      <td>77.82</td>\n",
       "      <td>2982259</td>\n",
       "      <td>ZTS</td>\n",
       "      <td>11.981390</td>\n",
       "      <td>2491742144</td>\n",
       "      <td>4635485010</td>\n",
       "    </tr>\n",
       "    <tr>\n",
       "      <th>619036</th>\n",
       "      <td>2018-02-02</td>\n",
       "      <td>77.53</td>\n",
       "      <td>78.12</td>\n",
       "      <td>76.73</td>\n",
       "      <td>76.78</td>\n",
       "      <td>2595187</td>\n",
       "      <td>ZTS</td>\n",
       "      <td>11.981390</td>\n",
       "      <td>2751594961</td>\n",
       "      <td>4635485010</td>\n",
       "    </tr>\n",
       "    <tr>\n",
       "      <th>619037</th>\n",
       "      <td>2018-02-05</td>\n",
       "      <td>76.64</td>\n",
       "      <td>76.92</td>\n",
       "      <td>73.18</td>\n",
       "      <td>73.83</td>\n",
       "      <td>2962031</td>\n",
       "      <td>ZTS</td>\n",
       "      <td>11.981390</td>\n",
       "      <td>3598437288</td>\n",
       "      <td>4635485010</td>\n",
       "    </tr>\n",
       "    <tr>\n",
       "      <th>619038</th>\n",
       "      <td>2018-02-06</td>\n",
       "      <td>72.74</td>\n",
       "      <td>74.56</td>\n",
       "      <td>72.13</td>\n",
       "      <td>73.27</td>\n",
       "      <td>4924323</td>\n",
       "      <td>ZTS</td>\n",
       "      <td>11.981390</td>\n",
       "      <td>4072080890</td>\n",
       "      <td>4635485010</td>\n",
       "    </tr>\n",
       "    <tr>\n",
       "      <th>619039</th>\n",
       "      <td>2018-02-07</td>\n",
       "      <td>72.70</td>\n",
       "      <td>75.00</td>\n",
       "      <td>72.69</td>\n",
       "      <td>73.86</td>\n",
       "      <td>4534912</td>\n",
       "      <td>ZTS</td>\n",
       "      <td>11.981390</td>\n",
       "      <td>2865639412</td>\n",
       "      <td>4635485010</td>\n",
       "    </tr>\n",
       "  </tbody>\n",
       "</table>\n",
       "<p>619040 rows × 10 columns</p>\n",
       "</div>"
      ],
      "text/plain": [
       "              date   open   high    low  close    volume Name  desvio_padrao  \\\n",
       "0       2013-02-08  15.07  15.12  14.63  14.75   8407500  AAL      10.957636   \n",
       "1       2013-02-11  14.89  15.01  14.26  14.46   8882000  AAL      10.957636   \n",
       "2       2013-02-12  14.45  14.51  14.10  14.27   8126000  AAL      10.957636   \n",
       "3       2013-02-13  14.30  14.94  14.25  14.66  10259500  AAL      10.957636   \n",
       "4       2013-02-14  14.94  14.96  13.16  13.99  31879900  AAL      10.957636   \n",
       "...            ...    ...    ...    ...    ...       ...  ...            ...   \n",
       "619035  2018-02-01  76.84  78.27  76.69  77.82   2982259  ZTS      11.981390   \n",
       "619036  2018-02-02  77.53  78.12  76.73  76.78   2595187  ZTS      11.981390   \n",
       "619037  2018-02-05  76.64  76.92  73.18  73.83   2962031  ZTS      11.981390   \n",
       "619038  2018-02-06  72.74  74.56  72.13  73.27   4924323  ZTS      11.981390   \n",
       "619039  2018-02-07  72.70  75.00  72.69  73.86   4534912  ZTS      11.981390   \n",
       "\n",
       "        total_vol_date  total_vol_name  \n",
       "0           2210298420     11822414547  \n",
       "1           1948002462     11822414547  \n",
       "2           2438463132     11822414547  \n",
       "3           2442872925     11822414547  \n",
       "4           2609614514     11822414547  \n",
       "...                ...             ...  \n",
       "619035      2491742144      4635485010  \n",
       "619036      2751594961      4635485010  \n",
       "619037      3598437288      4635485010  \n",
       "619038      4072080890      4635485010  \n",
       "619039      2865639412      4635485010  \n",
       "\n",
       "[619040 rows x 10 columns]"
      ]
     },
     "execution_count": 320,
     "metadata": {},
     "output_type": "execute_result"
    }
   ],
   "source": [
    "df"
   ]
  },
  {
   "cell_type": "code",
   "execution_count": 321,
   "metadata": {},
   "outputs": [
    {
     "data": {
      "text/plain": [
       "59"
      ]
     },
     "execution_count": 321,
     "metadata": {},
     "output_type": "execute_result"
    }
   ],
   "source": [
    "#9 - Quantas ações começam com a letra “A”?\n",
    "quantidade_acoes_A = df[['Name']]\n",
    "quantidade_acoes_A = quantidade_acoes_A.drop_duplicates()\n",
    "quantidade_acoes_A = quantidade_acoes_A[quantidade_acoes_A['Name'].str.startswith(\"A\")]\n",
    "quantidade_acoes_A.count().iloc[0]"
   ]
  },
  {
   "cell_type": "code",
   "execution_count": 322,
   "metadata": {},
   "outputs": [
    {
     "data": {
      "text/plain": [
       "1.2"
      ]
     },
     "execution_count": 322,
     "metadata": {},
     "output_type": "execute_result"
    }
   ],
   "source": [
    "#10 - Com qual frequência o preço mais alto do dia da ação também é o preço de fechamento?\n",
    "high_close = round((df[(df['close'] == df['high'])].count().iloc[0])/registros*100,2)\n",
    "high_close"
   ]
  },
  {
   "cell_type": "code",
   "execution_count": 323,
   "metadata": {},
   "outputs": [
    {
     "data": {
      "text/plain": [
       "'2015-08-24'"
      ]
     },
     "execution_count": 323,
     "metadata": {},
     "output_type": "execute_result"
    }
   ],
   "source": [
    "#11 - Em qual dia a ação da Apple mais subiu entre a abertura e o fechamento, de forma absoluta?\n",
    "df['intervalo'] = (df['close'] - df['open'])\n",
    "df_aapl = df[df['Name'] == 'AAPL']\n",
    "max_intervalo_aapl = df_aapl.groupby('date')['intervalo'].max().idxmax()\n",
    "max_intervalo_aapl\n"
   ]
  },
  {
   "cell_type": "code",
   "execution_count": 324,
   "metadata": {},
   "outputs": [
    {
     "data": {
      "text/plain": [
       "54047899.73550437"
      ]
     },
     "execution_count": 324,
     "metadata": {},
     "output_type": "execute_result"
    }
   ],
   "source": [
    "#12 - Em média, qual o volume diário de transações das ações da AAPL?\n",
    "media_vol = df_aapl['volume'].mean()\n",
    "media_vol"
   ]
  },
  {
   "cell_type": "code",
   "execution_count": 325,
   "metadata": {},
   "outputs": [
    {
     "data": {
      "text/plain": [
       "name_length\n",
       "1     10\n",
       "2     50\n",
       "3    323\n",
       "4    117\n",
       "5      5\n",
       "Name: count, dtype: int64"
      ]
     },
     "execution_count": 325,
     "metadata": {},
     "output_type": "execute_result"
    }
   ],
   "source": [
    "#13 - Quantas ações tem 1, 2, 3, 4 e 5 caracteres em seu nome, respectivamente?\n",
    "df['name_length'] = df['Name'].str.len()\n",
    "df\n",
    "df_carac = df.drop_duplicates(subset=['name_length', 'Name'])\n",
    "contagem = df_carac['name_length'].value_counts().sort_index()\n",
    "contagem"
   ]
  },
  {
   "cell_type": "code",
   "execution_count": 326,
   "metadata": {},
   "outputs": [
    {
     "data": {
      "text/plain": [
       "'APTV'"
      ]
     },
     "execution_count": 326,
     "metadata": {},
     "output_type": "execute_result"
    }
   ],
   "source": [
    "#14 - Qual a ação menos negociada da bolsa, em volume de transações?\n",
    "df_vol_min_name = df.sort_values(by= 'total_vol_name', ascending=True)\n",
    "vol_min_name = df.groupby('Name')['total_vol_name'].min().idxmin()\n",
    "vol_min_name"
   ]
  }
 ],
 "metadata": {
  "kernelspec": {
   "display_name": "Python 3",
   "language": "python",
   "name": "python3"
  },
  "language_info": {
   "codemirror_mode": {
    "name": "ipython",
    "version": 3
   },
   "file_extension": ".py",
   "mimetype": "text/x-python",
   "name": "python",
   "nbconvert_exporter": "python",
   "pygments_lexer": "ipython3",
   "version": "3.12.3"
  }
 },
 "nbformat": 4,
 "nbformat_minor": 2
}
