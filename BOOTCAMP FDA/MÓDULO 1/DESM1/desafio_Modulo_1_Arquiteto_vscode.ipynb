{
  "cells": [
    {
      "cell_type": "code",
      "execution_count": 1,
      "metadata": {
        "id": "a4EGqn34VPPH"
      },
      "outputs": [],
      "source": [
        "import pandas as pd\n",
        "import sklearn as sk\n",
        "import plotly as py\n",
        "import seaborn as sns\n",
        "import plotly.express as px\n",
        "from sklearn.cluster import KMeans\n",
        "import matplotlib.pyplot as plt\n",
        "from plotly import graph_objects as go"
      ]
    },
    {
      "cell_type": "code",
      "execution_count": 2,
      "metadata": {
        "id": "a8L_KySTWdWo"
      },
      "outputs": [],
      "source": [
        "df_paciente = pd.read_csv('D:/Arquivos/Dropbox/00 - XPE/00 - Arquiteto de dados/00 - Modulo 01/03 - Desafio/01 - Dados/dados_pacientes.csv',\n",
        "    sep=';',\n",
        "    encoding='latin-1',\n",
        "    decimal=',')\n",
        "df_HeadBrain = pd.read_csv('D:/Arquivos/Dropbox/00 - XPE/00 - Arquiteto de dados/00 - Modulo 01/03 - Desafio/01 - Dados/dados_headbrain.csv',\n",
        "    sep=';',\n",
        "    encoding='latin-1',\n",
        "    decimal=',')"
      ]
    },
    {
      "cell_type": "code",
      "execution_count": 3,
      "metadata": {
        "colab": {
          "base_uri": "https://localhost:8080/",
          "height": 300
        },
        "id": "7Fy1V0fJW_Vg",
        "outputId": "b9c69f0d-358d-4470-bb9a-a275d096fb81"
      },
      "outputs": [
        {
          "data": {
            "text/html": [
              "<div>\n",
              "<style scoped>\n",
              "    .dataframe tbody tr th:only-of-type {\n",
              "        vertical-align: middle;\n",
              "    }\n",
              "\n",
              "    .dataframe tbody tr th {\n",
              "        vertical-align: top;\n",
              "    }\n",
              "\n",
              "    .dataframe thead th {\n",
              "        text-align: right;\n",
              "    }\n",
              "</style>\n",
              "<table border=\"1\" class=\"dataframe\">\n",
              "  <thead>\n",
              "    <tr style=\"text-align: right;\">\n",
              "      <th></th>\n",
              "      <th>cod_paciente</th>\n",
              "      <th>Head Size(cm^3)</th>\n",
              "      <th>Brain Weight(grams)</th>\n",
              "    </tr>\n",
              "  </thead>\n",
              "  <tbody>\n",
              "    <tr>\n",
              "      <th>count</th>\n",
              "      <td>319.000000</td>\n",
              "      <td>319.000000</td>\n",
              "      <td>319.000000</td>\n",
              "    </tr>\n",
              "    <tr>\n",
              "      <th>mean</th>\n",
              "      <td>121.755486</td>\n",
              "      <td>3642.238245</td>\n",
              "      <td>1281.996865</td>\n",
              "    </tr>\n",
              "    <tr>\n",
              "      <th>std</th>\n",
              "      <td>65.268120</td>\n",
              "      <td>351.124447</td>\n",
              "      <td>117.665246</td>\n",
              "    </tr>\n",
              "    <tr>\n",
              "      <th>min</th>\n",
              "      <td>1.000000</td>\n",
              "      <td>2720.000000</td>\n",
              "      <td>955.000000</td>\n",
              "    </tr>\n",
              "    <tr>\n",
              "      <th>25%</th>\n",
              "      <td>75.500000</td>\n",
              "      <td>3394.000000</td>\n",
              "      <td>1209.000000</td>\n",
              "    </tr>\n",
              "    <tr>\n",
              "      <th>50%</th>\n",
              "      <td>115.000000</td>\n",
              "      <td>3632.000000</td>\n",
              "      <td>1280.000000</td>\n",
              "    </tr>\n",
              "    <tr>\n",
              "      <th>75%</th>\n",
              "      <td>175.500000</td>\n",
              "      <td>3876.000000</td>\n",
              "      <td>1350.000000</td>\n",
              "    </tr>\n",
              "    <tr>\n",
              "      <th>max</th>\n",
              "      <td>237.000000</td>\n",
              "      <td>4747.000000</td>\n",
              "      <td>1635.000000</td>\n",
              "    </tr>\n",
              "  </tbody>\n",
              "</table>\n",
              "</div>"
            ],
            "text/plain": [
              "       cod_paciente  Head Size(cm^3)  Brain Weight(grams)\n",
              "count    319.000000       319.000000           319.000000\n",
              "mean     121.755486      3642.238245          1281.996865\n",
              "std       65.268120       351.124447           117.665246\n",
              "min        1.000000      2720.000000           955.000000\n",
              "25%       75.500000      3394.000000          1209.000000\n",
              "50%      115.000000      3632.000000          1280.000000\n",
              "75%      175.500000      3876.000000          1350.000000\n",
              "max      237.000000      4747.000000          1635.000000"
            ]
          },
          "execution_count": 3,
          "metadata": {},
          "output_type": "execute_result"
        }
      ],
      "source": [
        "df_HeadBrain.describe()"
      ]
    },
    {
      "cell_type": "code",
      "execution_count": 4,
      "metadata": {
        "colab": {
          "base_uri": "https://localhost:8080/",
          "height": 206
        },
        "id": "UALjLLAQXRpM",
        "outputId": "7c6acddc-f0ca-4e73-c4a1-7ef8886bab89"
      },
      "outputs": [
        {
          "data": {
            "text/html": [
              "<div>\n",
              "<style scoped>\n",
              "    .dataframe tbody tr th:only-of-type {\n",
              "        vertical-align: middle;\n",
              "    }\n",
              "\n",
              "    .dataframe tbody tr th {\n",
              "        vertical-align: top;\n",
              "    }\n",
              "\n",
              "    .dataframe thead th {\n",
              "        text-align: right;\n",
              "    }\n",
              "</style>\n",
              "<table border=\"1\" class=\"dataframe\">\n",
              "  <thead>\n",
              "    <tr style=\"text-align: right;\">\n",
              "      <th></th>\n",
              "      <th>cod_paciente</th>\n",
              "      <th>genero</th>\n",
              "      <th>Head Size(cm^3)</th>\n",
              "      <th>Brain Weight(grams)</th>\n",
              "    </tr>\n",
              "  </thead>\n",
              "  <tbody>\n",
              "    <tr>\n",
              "      <th>0</th>\n",
              "      <td>1</td>\n",
              "      <td>Masculino</td>\n",
              "      <td>4512</td>\n",
              "      <td>1530</td>\n",
              "    </tr>\n",
              "    <tr>\n",
              "      <th>1</th>\n",
              "      <td>2</td>\n",
              "      <td>Masculino</td>\n",
              "      <td>3738</td>\n",
              "      <td>1297</td>\n",
              "    </tr>\n",
              "    <tr>\n",
              "      <th>2</th>\n",
              "      <td>3</td>\n",
              "      <td>Masculino</td>\n",
              "      <td>4261</td>\n",
              "      <td>1335</td>\n",
              "    </tr>\n",
              "    <tr>\n",
              "      <th>3</th>\n",
              "      <td>4</td>\n",
              "      <td>Masculino</td>\n",
              "      <td>3777</td>\n",
              "      <td>1282</td>\n",
              "    </tr>\n",
              "    <tr>\n",
              "      <th>4</th>\n",
              "      <td>5</td>\n",
              "      <td>Masculino</td>\n",
              "      <td>4177</td>\n",
              "      <td>1590</td>\n",
              "    </tr>\n",
              "  </tbody>\n",
              "</table>\n",
              "</div>"
            ],
            "text/plain": [
              "   cod_paciente     genero  Head Size(cm^3)  Brain Weight(grams)\n",
              "0             1  Masculino             4512                 1530\n",
              "1             2  Masculino             3738                 1297\n",
              "2             3  Masculino             4261                 1335\n",
              "3             4  Masculino             3777                 1282\n",
              "4             5  Masculino             4177                 1590"
            ]
          },
          "execution_count": 4,
          "metadata": {},
          "output_type": "execute_result"
        }
      ],
      "source": [
        "df_HeadBrain.head()"
      ]
    },
    {
      "cell_type": "code",
      "execution_count": 5,
      "metadata": {
        "colab": {
          "base_uri": "https://localhost:8080/",
          "height": 300
        },
        "id": "I-4NLkYLXShA",
        "outputId": "0672694c-d4ca-4c56-ef06-6d14c3455f6a"
      },
      "outputs": [
        {
          "data": {
            "text/html": [
              "<div>\n",
              "<style scoped>\n",
              "    .dataframe tbody tr th:only-of-type {\n",
              "        vertical-align: middle;\n",
              "    }\n",
              "\n",
              "    .dataframe tbody tr th {\n",
              "        vertical-align: top;\n",
              "    }\n",
              "\n",
              "    .dataframe thead th {\n",
              "        text-align: right;\n",
              "    }\n",
              "</style>\n",
              "<table border=\"1\" class=\"dataframe\">\n",
              "  <thead>\n",
              "    <tr style=\"text-align: right;\">\n",
              "      <th></th>\n",
              "      <th>cod_paciente</th>\n",
              "      <th>idade</th>\n",
              "      <th>id_estado</th>\n",
              "      <th>qtde_filhos</th>\n",
              "      <th>salario</th>\n",
              "    </tr>\n",
              "  </thead>\n",
              "  <tbody>\n",
              "    <tr>\n",
              "      <th>count</th>\n",
              "      <td>7999.000000</td>\n",
              "      <td>7999.000000</td>\n",
              "      <td>7999.000000</td>\n",
              "      <td>7989.000000</td>\n",
              "      <td>7999.000000</td>\n",
              "    </tr>\n",
              "    <tr>\n",
              "      <th>mean</th>\n",
              "      <td>4000.000000</td>\n",
              "      <td>38.477060</td>\n",
              "      <td>14.094012</td>\n",
              "      <td>2.405432</td>\n",
              "      <td>3169.312664</td>\n",
              "    </tr>\n",
              "    <tr>\n",
              "      <th>std</th>\n",
              "      <td>2309.256735</td>\n",
              "      <td>13.568667</td>\n",
              "      <td>7.821634</td>\n",
              "      <td>1.703916</td>\n",
              "      <td>3055.862493</td>\n",
              "    </tr>\n",
              "    <tr>\n",
              "      <th>min</th>\n",
              "      <td>1.000000</td>\n",
              "      <td>17.000000</td>\n",
              "      <td>1.000000</td>\n",
              "      <td>0.000000</td>\n",
              "      <td>0.000000</td>\n",
              "    </tr>\n",
              "    <tr>\n",
              "      <th>25%</th>\n",
              "      <td>2000.500000</td>\n",
              "      <td>28.000000</td>\n",
              "      <td>7.000000</td>\n",
              "      <td>1.000000</td>\n",
              "      <td>1100.000000</td>\n",
              "    </tr>\n",
              "    <tr>\n",
              "      <th>50%</th>\n",
              "      <td>4000.000000</td>\n",
              "      <td>37.000000</td>\n",
              "      <td>14.000000</td>\n",
              "      <td>2.000000</td>\n",
              "      <td>2410.000000</td>\n",
              "    </tr>\n",
              "    <tr>\n",
              "      <th>75%</th>\n",
              "      <td>5999.500000</td>\n",
              "      <td>47.000000</td>\n",
              "      <td>21.000000</td>\n",
              "      <td>4.000000</td>\n",
              "      <td>3640.500000</td>\n",
              "    </tr>\n",
              "    <tr>\n",
              "      <th>max</th>\n",
              "      <td>7999.000000</td>\n",
              "      <td>90.000000</td>\n",
              "      <td>27.000000</td>\n",
              "      <td>5.000000</td>\n",
              "      <td>19994.000000</td>\n",
              "    </tr>\n",
              "  </tbody>\n",
              "</table>\n",
              "</div>"
            ],
            "text/plain": [
              "       cod_paciente        idade    id_estado  qtde_filhos       salario\n",
              "count   7999.000000  7999.000000  7999.000000  7989.000000   7999.000000\n",
              "mean    4000.000000    38.477060    14.094012     2.405432   3169.312664\n",
              "std     2309.256735    13.568667     7.821634     1.703916   3055.862493\n",
              "min        1.000000    17.000000     1.000000     0.000000      0.000000\n",
              "25%     2000.500000    28.000000     7.000000     1.000000   1100.000000\n",
              "50%     4000.000000    37.000000    14.000000     2.000000   2410.000000\n",
              "75%     5999.500000    47.000000    21.000000     4.000000   3640.500000\n",
              "max     7999.000000    90.000000    27.000000     5.000000  19994.000000"
            ]
          },
          "execution_count": 5,
          "metadata": {},
          "output_type": "execute_result"
        }
      ],
      "source": [
        "df_paciente.rename(columns = {\"ï»¿id_cliente\": \"cod_paciente\"}, inplace = True)\n",
        "df_paciente.describe()"
      ]
    },
    {
      "cell_type": "code",
      "execution_count": 6,
      "metadata": {
        "colab": {
          "base_uri": "https://localhost:8080/",
          "height": 293
        },
        "id": "-pJ-ypVVX8g3",
        "outputId": "6d6e9ada-90a4-46d1-e862-87837a777018"
      },
      "outputs": [
        {
          "data": {
            "text/html": [
              "<div>\n",
              "<style scoped>\n",
              "    .dataframe tbody tr th:only-of-type {\n",
              "        vertical-align: middle;\n",
              "    }\n",
              "\n",
              "    .dataframe tbody tr th {\n",
              "        vertical-align: top;\n",
              "    }\n",
              "\n",
              "    .dataframe thead th {\n",
              "        text-align: right;\n",
              "    }\n",
              "</style>\n",
              "<table border=\"1\" class=\"dataframe\">\n",
              "  <thead>\n",
              "    <tr style=\"text-align: right;\">\n",
              "      <th></th>\n",
              "      <th>cod_paciente</th>\n",
              "      <th>idade</th>\n",
              "      <th>classe_trabalho</th>\n",
              "      <th>escolaridade</th>\n",
              "      <th>id_estado</th>\n",
              "      <th>estado_civil</th>\n",
              "      <th>raca</th>\n",
              "      <th>qtde_filhos</th>\n",
              "      <th>salario</th>\n",
              "    </tr>\n",
              "  </thead>\n",
              "  <tbody>\n",
              "    <tr>\n",
              "      <th>0</th>\n",
              "      <td>1</td>\n",
              "      <td>39</td>\n",
              "      <td>Servidor PÃºblico</td>\n",
              "      <td>Ensino MÃ©dio Completo</td>\n",
              "      <td>2</td>\n",
              "      <td>Solteiro</td>\n",
              "      <td>Branco</td>\n",
              "      <td>2.0</td>\n",
              "      <td>4754</td>\n",
              "    </tr>\n",
              "    <tr>\n",
              "      <th>1</th>\n",
              "      <td>2</td>\n",
              "      <td>50</td>\n",
              "      <td>AutÃ´nomo</td>\n",
              "      <td>Superior Incompleto</td>\n",
              "      <td>24</td>\n",
              "      <td>Casado</td>\n",
              "      <td>Branco</td>\n",
              "      <td>1.0</td>\n",
              "      <td>3923</td>\n",
              "    </tr>\n",
              "    <tr>\n",
              "      <th>2</th>\n",
              "      <td>3</td>\n",
              "      <td>38</td>\n",
              "      <td>FuncionÃ¡rio Setor Privado</td>\n",
              "      <td>Ensino MÃ©dio Incompleto</td>\n",
              "      <td>4</td>\n",
              "      <td>Divorciado</td>\n",
              "      <td>Branco</td>\n",
              "      <td>0.0</td>\n",
              "      <td>1100</td>\n",
              "    </tr>\n",
              "    <tr>\n",
              "      <th>3</th>\n",
              "      <td>4</td>\n",
              "      <td>53</td>\n",
              "      <td>FuncionÃ¡rio Setor Privado</td>\n",
              "      <td>Ensino MÃ©dio Incompleto</td>\n",
              "      <td>24</td>\n",
              "      <td>Casado</td>\n",
              "      <td>Negro</td>\n",
              "      <td>1.0</td>\n",
              "      <td>1100</td>\n",
              "    </tr>\n",
              "    <tr>\n",
              "      <th>4</th>\n",
              "      <td>5</td>\n",
              "      <td>28</td>\n",
              "      <td>FuncionÃ¡rio Setor Privado</td>\n",
              "      <td>Ensino MÃ©dio Completo</td>\n",
              "      <td>15</td>\n",
              "      <td>Casado</td>\n",
              "      <td>Negro</td>\n",
              "      <td>0.0</td>\n",
              "      <td>3430</td>\n",
              "    </tr>\n",
              "  </tbody>\n",
              "</table>\n",
              "</div>"
            ],
            "text/plain": [
              "   cod_paciente  idade             classe_trabalho              escolaridade  \\\n",
              "0             1     39           Servidor PÃºblico    Ensino MÃ©dio Completo   \n",
              "1             2     50                   AutÃ´nomo       Superior Incompleto   \n",
              "2             3     38  FuncionÃ¡rio Setor Privado  Ensino MÃ©dio Incompleto   \n",
              "3             4     53  FuncionÃ¡rio Setor Privado  Ensino MÃ©dio Incompleto   \n",
              "4             5     28  FuncionÃ¡rio Setor Privado    Ensino MÃ©dio Completo   \n",
              "\n",
              "   id_estado estado_civil    raca  qtde_filhos  salario  \n",
              "0          2     Solteiro  Branco          2.0     4754  \n",
              "1         24       Casado  Branco          1.0     3923  \n",
              "2          4   Divorciado  Branco          0.0     1100  \n",
              "3         24       Casado   Negro          1.0     1100  \n",
              "4         15       Casado   Negro          0.0     3430  "
            ]
          },
          "execution_count": 6,
          "metadata": {},
          "output_type": "execute_result"
        }
      ],
      "source": [
        "df_paciente.head()"
      ]
    },
    {
      "cell_type": "code",
      "execution_count": 7,
      "metadata": {
        "colab": {
          "base_uri": "https://localhost:8080/"
        },
        "id": "z9LnV-UqYLbh",
        "outputId": "3f378b84-c342-4393-b452-891ec27d1ad5"
      },
      "outputs": [
        {
          "name": "stdout",
          "output_type": "stream",
          "text": [
            "O Dataset Head Brain não possui informações em branco\n",
            "--------------\n",
            "O Dataset Paciente possui 397 em branco\n",
            "cod_paciente         0\n",
            "idade                0\n",
            "classe_trabalho    387\n",
            "escolaridade         0\n",
            "id_estado            0\n",
            "estado_civil         0\n",
            "raca                 0\n",
            "qtde_filhos         10\n",
            "salario              0\n",
            "dtype: int64\n"
          ]
        }
      ],
      "source": [
        "#Verifica se há dados em branco\n",
        "missing_data_HeadBrain = df_HeadBrain.isna().sum().sum()\n",
        "missing_data_Paciente = df_paciente.isna().sum().sum()\n",
        "# Print dos resultados da verificação de dados em branco.\n",
        "if missing_data_HeadBrain >0:\n",
        "  print(f\"O Dataset Head Brain possui {missing_data_HeadBrain} em branco\")\n",
        "else:\n",
        "  print(\"O Dataset Head Brain não possui informações em branco\")\n",
        "\n",
        "\n",
        "print(\"--------------\")\n",
        "\n",
        "if missing_data_Paciente >0:\n",
        "  print(f\"O Dataset Paciente possui {missing_data_Paciente} em branco\")\n",
        "  print(df_paciente.isna().sum())\n",
        "else:\n",
        "  print(\"O Dataset Paciente não possui informações em branco\")\n",
        "\n",
        "\n"
      ]
    },
    {
      "cell_type": "code",
      "execution_count": 8,
      "metadata": {
        "colab": {
          "base_uri": "https://localhost:8080/",
          "height": 448
        },
        "id": "yuViEap7cqKZ",
        "outputId": "dafd0582-f181-4a69-9670-78d56a639a70"
      },
      "outputs": [
        {
          "data": {
            "text/plain": [
              "<Axes: >"
            ]
          },
          "execution_count": 8,
          "metadata": {},
          "output_type": "execute_result"
        },
        {
          "data": {
            "image/png": "[encoded data removed]",
            "text/plain": [
              "<Figure size 640x480 with 1 Axes>"
            ]
          },
          "metadata": {},
          "output_type": "display_data"
        }
      ],
      "source": [
        "df_paciente['idade'].hist(bins=20)"
      ]
    },
    {
      "cell_type": "code",
      "execution_count": 9,
      "metadata": {
        "colab": {
          "base_uri": "https://localhost:8080/"
        },
        "id": "zCXP_2-BS5Aq",
        "outputId": "1028b268-8301-46d8-c2c2-05f58a2dee11"
      },
      "outputs": [
        {
          "name": "stdout",
          "output_type": "stream",
          "text": [
            "[]\n",
            "Quantidade de linhas duplicadas: 0\n",
            "Empty DataFrame\n",
            "Columns: [cod_paciente]\n",
            "Index: []\n"
          ]
        }
      ],
      "source": [
        "# Verificar Duplicados\n",
        "df_subset = []\n",
        "print(df_subset)\n",
        "colunas_verificadas = [\"cod_paciente\"]\n",
        "df_subset = df_paciente[colunas_verificadas]\n",
        "\n",
        "# Busca por duplicados nas colunas selecionadas\n",
        "duplicados = df_subset[df_subset.duplicated()]\n",
        "\n",
        "# Printa a quantidade de linhas duplicadas\n",
        "print(f\"Quantidade de linhas duplicadas: {len(duplicados)}\")\n",
        "\n",
        "# Printa os valores duplicados\n",
        "print(duplicados)"
      ]
    },
    {
      "cell_type": "code",
      "execution_count": 10,
      "metadata": {
        "colab": {
          "base_uri": "https://localhost:8080/"
        },
        "id": "NRWcEJFWTkyg",
        "outputId": "8f565f4d-ac8e-42b1-a5ad-c244ed00ee10"
      },
      "outputs": [
        {
          "name": "stdout",
          "output_type": "stream",
          "text": [
            "[]\n",
            "Quantidade de linhas duplicadas: 82\n",
            "     cod_paciente     genero  Head Size(cm^3)  Brain Weight(grams)\n",
            "237            71  Masculino             4008                 1468\n",
            "238            72  Masculino             3858                 1390\n",
            "239            73  Masculino             4121                 1380\n",
            "240            74  Masculino             4057                 1432\n",
            "241            75  Masculino             3824                 1240\n",
            "..            ...        ...              ...                  ...\n",
            "314           231   Feminino             3685                 1350\n",
            "315           232   Feminino             3704                 1220\n",
            "316           233   Feminino             3214                 1110\n",
            "317           234   Feminino             3394                 1215\n",
            "318           235   Feminino             3233                 1104\n",
            "\n",
            "[82 rows x 4 columns]\n"
          ]
        }
      ],
      "source": [
        "# Verificar Duplicados\n",
        "df_subset = []\n",
        "print(df_subset)\n",
        "colunas_verificadas = [\"cod_paciente\", \"genero\", \t\"Head Size(cm^3)\", \t\"Brain Weight(grams)\"]\n",
        "df_subset = df_HeadBrain[colunas_verificadas]\n",
        "\n",
        "# Busca por duplicados nas colunas selecionadas\n",
        "duplicados = df_subset[df_subset.duplicated()]\n",
        "\n",
        "# Printa a quantidade de linhas duplicadas\n",
        "print(f\"Quantidade de linhas duplicadas: {len(duplicados)}\")\n",
        "\n",
        "# Printa os valores duplicados\n",
        "print(duplicados)"
      ]
    },
    {
      "cell_type": "code",
      "execution_count": 11,
      "metadata": {
        "colab": {
          "base_uri": "https://localhost:8080/",
          "height": 549
        },
        "id": "eTng_GKKU1Mr",
        "outputId": "71b19788-115c-4171-bba7-059d092f11e8"
      },
      "outputs": [
        {
          "name": "stdout",
          "output_type": "stream",
          "text": [
            "Numero de linhas mantidas após a exclusão dos duplicados: 237\n",
            "   cod_paciente     genero  Head Size(cm^3)  Brain Weight(grams)\n",
            "0             1  Masculino             4512                 1530\n",
            "1             2  Masculino             3738                 1297\n",
            "2             3  Masculino             4261                 1335\n",
            "3             4  Masculino             3777                 1282\n",
            "4             5  Masculino             4177                 1590\n"
          ]
        },
        {
          "data": {
            "text/html": [
              "<div>\n",
              "<style scoped>\n",
              "    .dataframe tbody tr th:only-of-type {\n",
              "        vertical-align: middle;\n",
              "    }\n",
              "\n",
              "    .dataframe tbody tr th {\n",
              "        vertical-align: top;\n",
              "    }\n",
              "\n",
              "    .dataframe thead th {\n",
              "        text-align: right;\n",
              "    }\n",
              "</style>\n",
              "<table border=\"1\" class=\"dataframe\">\n",
              "  <thead>\n",
              "    <tr style=\"text-align: right;\">\n",
              "      <th></th>\n",
              "      <th>cod_paciente</th>\n",
              "      <th>genero</th>\n",
              "      <th>Head Size(cm^3)</th>\n",
              "      <th>Brain Weight(grams)</th>\n",
              "    </tr>\n",
              "  </thead>\n",
              "  <tbody>\n",
              "    <tr>\n",
              "      <th>0</th>\n",
              "      <td>1</td>\n",
              "      <td>Masculino</td>\n",
              "      <td>4512</td>\n",
              "      <td>1530</td>\n",
              "    </tr>\n",
              "    <tr>\n",
              "      <th>1</th>\n",
              "      <td>2</td>\n",
              "      <td>Masculino</td>\n",
              "      <td>3738</td>\n",
              "      <td>1297</td>\n",
              "    </tr>\n",
              "    <tr>\n",
              "      <th>2</th>\n",
              "      <td>3</td>\n",
              "      <td>Masculino</td>\n",
              "      <td>4261</td>\n",
              "      <td>1335</td>\n",
              "    </tr>\n",
              "    <tr>\n",
              "      <th>3</th>\n",
              "      <td>4</td>\n",
              "      <td>Masculino</td>\n",
              "      <td>3777</td>\n",
              "      <td>1282</td>\n",
              "    </tr>\n",
              "    <tr>\n",
              "      <th>4</th>\n",
              "      <td>5</td>\n",
              "      <td>Masculino</td>\n",
              "      <td>4177</td>\n",
              "      <td>1590</td>\n",
              "    </tr>\n",
              "    <tr>\n",
              "      <th>...</th>\n",
              "      <td>...</td>\n",
              "      <td>...</td>\n",
              "      <td>...</td>\n",
              "      <td>...</td>\n",
              "    </tr>\n",
              "    <tr>\n",
              "      <th>232</th>\n",
              "      <td>233</td>\n",
              "      <td>Feminino</td>\n",
              "      <td>3214</td>\n",
              "      <td>1110</td>\n",
              "    </tr>\n",
              "    <tr>\n",
              "      <th>233</th>\n",
              "      <td>234</td>\n",
              "      <td>Feminino</td>\n",
              "      <td>3394</td>\n",
              "      <td>1215</td>\n",
              "    </tr>\n",
              "    <tr>\n",
              "      <th>234</th>\n",
              "      <td>235</td>\n",
              "      <td>Feminino</td>\n",
              "      <td>3233</td>\n",
              "      <td>1104</td>\n",
              "    </tr>\n",
              "    <tr>\n",
              "      <th>235</th>\n",
              "      <td>236</td>\n",
              "      <td>Feminino</td>\n",
              "      <td>3352</td>\n",
              "      <td>1170</td>\n",
              "    </tr>\n",
              "    <tr>\n",
              "      <th>236</th>\n",
              "      <td>237</td>\n",
              "      <td>Feminino</td>\n",
              "      <td>3391</td>\n",
              "      <td>1120</td>\n",
              "    </tr>\n",
              "  </tbody>\n",
              "</table>\n",
              "<p>237 rows × 4 columns</p>\n",
              "</div>"
            ],
            "text/plain": [
              "     cod_paciente     genero  Head Size(cm^3)  Brain Weight(grams)\n",
              "0               1  Masculino             4512                 1530\n",
              "1               2  Masculino             3738                 1297\n",
              "2               3  Masculino             4261                 1335\n",
              "3               4  Masculino             3777                 1282\n",
              "4               5  Masculino             4177                 1590\n",
              "..            ...        ...              ...                  ...\n",
              "232           233   Feminino             3214                 1110\n",
              "233           234   Feminino             3394                 1215\n",
              "234           235   Feminino             3233                 1104\n",
              "235           236   Feminino             3352                 1170\n",
              "236           237   Feminino             3391                 1120\n",
              "\n",
              "[237 rows x 4 columns]"
            ]
          },
          "execution_count": 11,
          "metadata": {},
          "output_type": "execute_result"
        }
      ],
      "source": [
        "# Excluir linhas duplicadas\n",
        "df_HeadBrain = df_subset.drop_duplicates()\n",
        "\n",
        "# Print quantidade de linhas duplicadas\n",
        "print(f\"Numero de linhas mantidas após a exclusão dos duplicados: {len(df_HeadBrain)}\")\n",
        "\n",
        "# Print as primeiras linhas excluidas\n",
        "print(df_HeadBrain.head())\n",
        "df_HeadBrain"
      ]
    },
    {
      "cell_type": "code",
      "execution_count": 12,
      "metadata": {
        "id": "WTjVJVfJVQoL"
      },
      "outputs": [],
      "source": [
        "# Combinando as consultas\n",
        "#df_combined = df_paciente.set_index(\"cod_paciente\").join(df_HeadBrain.set_index(\"cod_paciente\"), how=\"left\")\n",
        "df_combined = pd.merge(df_HeadBrain, df_paciente, on=\"cod_paciente\", how=\"left\")"
      ]
    },
    {
      "cell_type": "code",
      "execution_count": 13,
      "metadata": {
        "colab": {
          "base_uri": "https://localhost:8080/",
          "height": 635
        },
        "id": "IT83QwVeVQea",
        "outputId": "61e12177-4efd-4e7e-e76d-41fbe2230f7f"
      },
      "outputs": [
        {
          "data": {
            "text/html": [
              "<div>\n",
              "<style scoped>\n",
              "    .dataframe tbody tr th:only-of-type {\n",
              "        vertical-align: middle;\n",
              "    }\n",
              "\n",
              "    .dataframe tbody tr th {\n",
              "        vertical-align: top;\n",
              "    }\n",
              "\n",
              "    .dataframe thead th {\n",
              "        text-align: right;\n",
              "    }\n",
              "</style>\n",
              "<table border=\"1\" class=\"dataframe\">\n",
              "  <thead>\n",
              "    <tr style=\"text-align: right;\">\n",
              "      <th></th>\n",
              "      <th>cod_paciente</th>\n",
              "      <th>genero</th>\n",
              "      <th>Head Size(cm^3)</th>\n",
              "      <th>Brain Weight(grams)</th>\n",
              "      <th>idade</th>\n",
              "      <th>classe_trabalho</th>\n",
              "      <th>escolaridade</th>\n",
              "      <th>id_estado</th>\n",
              "      <th>estado_civil</th>\n",
              "      <th>raca</th>\n",
              "      <th>qtde_filhos</th>\n",
              "      <th>salario</th>\n",
              "    </tr>\n",
              "  </thead>\n",
              "  <tbody>\n",
              "    <tr>\n",
              "      <th>0</th>\n",
              "      <td>1</td>\n",
              "      <td>Masculino</td>\n",
              "      <td>4512</td>\n",
              "      <td>1530</td>\n",
              "      <td>39</td>\n",
              "      <td>Servidor PÃºblico</td>\n",
              "      <td>Ensino MÃ©dio Completo</td>\n",
              "      <td>2</td>\n",
              "      <td>Solteiro</td>\n",
              "      <td>Branco</td>\n",
              "      <td>2.0</td>\n",
              "      <td>4754</td>\n",
              "    </tr>\n",
              "    <tr>\n",
              "      <th>1</th>\n",
              "      <td>2</td>\n",
              "      <td>Masculino</td>\n",
              "      <td>3738</td>\n",
              "      <td>1297</td>\n",
              "      <td>50</td>\n",
              "      <td>AutÃ´nomo</td>\n",
              "      <td>Superior Incompleto</td>\n",
              "      <td>24</td>\n",
              "      <td>Casado</td>\n",
              "      <td>Branco</td>\n",
              "      <td>1.0</td>\n",
              "      <td>3923</td>\n",
              "    </tr>\n",
              "    <tr>\n",
              "      <th>2</th>\n",
              "      <td>3</td>\n",
              "      <td>Masculino</td>\n",
              "      <td>4261</td>\n",
              "      <td>1335</td>\n",
              "      <td>38</td>\n",
              "      <td>FuncionÃ¡rio Setor Privado</td>\n",
              "      <td>Ensino MÃ©dio Incompleto</td>\n",
              "      <td>4</td>\n",
              "      <td>Divorciado</td>\n",
              "      <td>Branco</td>\n",
              "      <td>0.0</td>\n",
              "      <td>1100</td>\n",
              "    </tr>\n",
              "    <tr>\n",
              "      <th>3</th>\n",
              "      <td>4</td>\n",
              "      <td>Masculino</td>\n",
              "      <td>3777</td>\n",
              "      <td>1282</td>\n",
              "      <td>53</td>\n",
              "      <td>FuncionÃ¡rio Setor Privado</td>\n",
              "      <td>Ensino MÃ©dio Incompleto</td>\n",
              "      <td>24</td>\n",
              "      <td>Casado</td>\n",
              "      <td>Negro</td>\n",
              "      <td>1.0</td>\n",
              "      <td>1100</td>\n",
              "    </tr>\n",
              "    <tr>\n",
              "      <th>4</th>\n",
              "      <td>5</td>\n",
              "      <td>Masculino</td>\n",
              "      <td>4177</td>\n",
              "      <td>1590</td>\n",
              "      <td>28</td>\n",
              "      <td>FuncionÃ¡rio Setor Privado</td>\n",
              "      <td>Ensino MÃ©dio Completo</td>\n",
              "      <td>15</td>\n",
              "      <td>Casado</td>\n",
              "      <td>Negro</td>\n",
              "      <td>0.0</td>\n",
              "      <td>3430</td>\n",
              "    </tr>\n",
              "    <tr>\n",
              "      <th>...</th>\n",
              "      <td>...</td>\n",
              "      <td>...</td>\n",
              "      <td>...</td>\n",
              "      <td>...</td>\n",
              "      <td>...</td>\n",
              "      <td>...</td>\n",
              "      <td>...</td>\n",
              "      <td>...</td>\n",
              "      <td>...</td>\n",
              "      <td>...</td>\n",
              "      <td>...</td>\n",
              "      <td>...</td>\n",
              "    </tr>\n",
              "    <tr>\n",
              "      <th>232</th>\n",
              "      <td>233</td>\n",
              "      <td>Feminino</td>\n",
              "      <td>3214</td>\n",
              "      <td>1110</td>\n",
              "      <td>33</td>\n",
              "      <td>FuncionÃ¡rio Setor Privado</td>\n",
              "      <td>Ensino MÃ©dio Completo</td>\n",
              "      <td>16</td>\n",
              "      <td>Divorciado</td>\n",
              "      <td>Amarelo</td>\n",
              "      <td>0.0</td>\n",
              "      <td>3565</td>\n",
              "    </tr>\n",
              "    <tr>\n",
              "      <th>233</th>\n",
              "      <td>234</td>\n",
              "      <td>Feminino</td>\n",
              "      <td>3394</td>\n",
              "      <td>1215</td>\n",
              "      <td>28</td>\n",
              "      <td>FuncionÃ¡rio Setor Privado</td>\n",
              "      <td>Mestrado</td>\n",
              "      <td>26</td>\n",
              "      <td>Solteiro</td>\n",
              "      <td>Branco</td>\n",
              "      <td>NaN</td>\n",
              "      <td>10671</td>\n",
              "    </tr>\n",
              "    <tr>\n",
              "      <th>234</th>\n",
              "      <td>235</td>\n",
              "      <td>Feminino</td>\n",
              "      <td>3233</td>\n",
              "      <td>1104</td>\n",
              "      <td>59</td>\n",
              "      <td>Servidor PÃºblico</td>\n",
              "      <td>Ensino MÃ©dio Incompleto</td>\n",
              "      <td>26</td>\n",
              "      <td>Casado</td>\n",
              "      <td>Branco</td>\n",
              "      <td>1.0</td>\n",
              "      <td>1964</td>\n",
              "    </tr>\n",
              "    <tr>\n",
              "      <th>235</th>\n",
              "      <td>236</td>\n",
              "      <td>Feminino</td>\n",
              "      <td>3352</td>\n",
              "      <td>1170</td>\n",
              "      <td>40</td>\n",
              "      <td>Servidor PÃºblico</td>\n",
              "      <td>Ensino MÃ©dio Completo</td>\n",
              "      <td>7</td>\n",
              "      <td>Solteiro</td>\n",
              "      <td>Branco</td>\n",
              "      <td>1.0</td>\n",
              "      <td>3951</td>\n",
              "    </tr>\n",
              "    <tr>\n",
              "      <th>236</th>\n",
              "      <td>237</td>\n",
              "      <td>Feminino</td>\n",
              "      <td>3391</td>\n",
              "      <td>1120</td>\n",
              "      <td>41</td>\n",
              "      <td>FuncionÃ¡rio Setor Privado</td>\n",
              "      <td>Ensino MÃ©dio Completo</td>\n",
              "      <td>15</td>\n",
              "      <td>Casado</td>\n",
              "      <td>Branco</td>\n",
              "      <td>2.0</td>\n",
              "      <td>2324</td>\n",
              "    </tr>\n",
              "  </tbody>\n",
              "</table>\n",
              "<p>237 rows × 12 columns</p>\n",
              "</div>"
            ],
            "text/plain": [
              "     cod_paciente     genero  Head Size(cm^3)  Brain Weight(grams)  idade  \\\n",
              "0               1  Masculino             4512                 1530     39   \n",
              "1               2  Masculino             3738                 1297     50   \n",
              "2               3  Masculino             4261                 1335     38   \n",
              "3               4  Masculino             3777                 1282     53   \n",
              "4               5  Masculino             4177                 1590     28   \n",
              "..            ...        ...              ...                  ...    ...   \n",
              "232           233   Feminino             3214                 1110     33   \n",
              "233           234   Feminino             3394                 1215     28   \n",
              "234           235   Feminino             3233                 1104     59   \n",
              "235           236   Feminino             3352                 1170     40   \n",
              "236           237   Feminino             3391                 1120     41   \n",
              "\n",
              "                classe_trabalho              escolaridade  id_estado  \\\n",
              "0             Servidor PÃºblico    Ensino MÃ©dio Completo          2   \n",
              "1                     AutÃ´nomo       Superior Incompleto         24   \n",
              "2    FuncionÃ¡rio Setor Privado  Ensino MÃ©dio Incompleto          4   \n",
              "3    FuncionÃ¡rio Setor Privado  Ensino MÃ©dio Incompleto         24   \n",
              "4    FuncionÃ¡rio Setor Privado    Ensino MÃ©dio Completo         15   \n",
              "..                          ...                       ...        ...   \n",
              "232  FuncionÃ¡rio Setor Privado    Ensino MÃ©dio Completo         16   \n",
              "233  FuncionÃ¡rio Setor Privado                  Mestrado         26   \n",
              "234           Servidor PÃºblico  Ensino MÃ©dio Incompleto         26   \n",
              "235           Servidor PÃºblico    Ensino MÃ©dio Completo          7   \n",
              "236  FuncionÃ¡rio Setor Privado    Ensino MÃ©dio Completo         15   \n",
              "\n",
              "    estado_civil     raca  qtde_filhos  salario  \n",
              "0       Solteiro   Branco          2.0     4754  \n",
              "1         Casado   Branco          1.0     3923  \n",
              "2     Divorciado   Branco          0.0     1100  \n",
              "3         Casado    Negro          1.0     1100  \n",
              "4         Casado    Negro          0.0     3430  \n",
              "..           ...      ...          ...      ...  \n",
              "232   Divorciado  Amarelo          0.0     3565  \n",
              "233     Solteiro   Branco          NaN    10671  \n",
              "234       Casado   Branco          1.0     1964  \n",
              "235     Solteiro   Branco          1.0     3951  \n",
              "236       Casado   Branco          2.0     2324  \n",
              "\n",
              "[237 rows x 12 columns]"
            ]
          },
          "execution_count": 13,
          "metadata": {},
          "output_type": "execute_result"
        }
      ],
      "source": [
        "df_combined\n"
      ]
    },
    {
      "cell_type": "code",
      "execution_count": 14,
      "metadata": {
        "colab": {
          "base_uri": "https://localhost:8080/"
        },
        "id": "KFK5m5gTeY5y",
        "outputId": "a106b71c-5c78-4323-9118-276f8494818e"
      },
      "outputs": [
        {
          "name": "stdout",
          "output_type": "stream",
          "text": [
            "O Dataset Head Brain não possui informações em branco\n"
          ]
        }
      ],
      "source": [
        "missing_data_combined= df_combined.isna().sum().sum()\n",
        "# Print dos resultados da verificação de dados em branco.\n",
        "if missing_data_HeadBrain >0:\n",
        "  print(f\"O Dataset Head Brain possui {missing_data_combined} em branco\")\n",
        "else:\n",
        "  print(\"O Dataset Head Brain não possui informações em branco\")"
      ]
    },
    {
      "cell_type": "code",
      "execution_count": 15,
      "metadata": {},
      "outputs": [
        {
          "data": {
            "text/plain": [
              "<Axes: >"
            ]
          },
          "execution_count": 15,
          "metadata": {},
          "output_type": "execute_result"
        },
        {
          "data": {
            "image/png": "[encoded data removed]",
            "text/plain": [
              "<Figure size 640x480 with 1 Axes>"
            ]
          },
          "metadata": {},
          "output_type": "display_data"
        }
      ],
      "source": [
        "df_combined['idade'].hist(bins=20)"
      ]
    },
    {
      "cell_type": "code",
      "execution_count": 16,
      "metadata": {
        "colab": {
          "base_uri": "https://localhost:8080/"
        },
        "id": "HcQILol_eA-B",
        "outputId": "804d999f-a527-4ebd-bc3f-897fd176162c"
      },
      "outputs": [
        {
          "name": "stdout",
          "output_type": "stream",
          "text": [
            "inplace = false\n",
            "Verifica a quantidade de vazios no dataset original apos o fillna com inplace = False, 4 ainda vazios\n",
            "O novo dataset gerado possui 0 dados vazios\n",
            "-------------------\n",
            "inplace = true\n",
            "Agora, verifica a quantidade de vazios no dataset original apos o fillna com inplace = True, 0 vazios\n"
          ]
        }
      ],
      "source": [
        "# Questão 3 substitui os valores e aplica a média da coluna no mesmo dataset\n",
        "\n",
        "teste = df_combined\n",
        "\n",
        "# Quando 'inplace = False' o dataset original não é modificado e é gerado um novo datafreme\n",
        "\n",
        "Teste_novo = teste['qtde_filhos'].fillna(round(teste['qtde_filhos'].mean(),2), inplace = False)\n",
        "\n",
        "missing_data_teste = teste['qtde_filhos'].isna().sum().sum()\n",
        "\n",
        "missing_data_teste_novo = Teste_novo.isna().sum().sum()\n",
        "\n",
        "print(\"inplace = false\")\n",
        "\n",
        "print(f\"Verifica a quantidade de vazios no dataset original apos o fillna com inplace = False, {missing_data_teste} ainda vazios\")\n",
        "\n",
        "print(f\"O novo dataset gerado possui {missing_data_teste_novo} dados vazios\")\n",
        "\n",
        "print(\"-------------------\")\n",
        "\n",
        "# Quando 'inplace = True' o dataset original é modificado.\n",
        "\n",
        "print(\"inplace = true\")\n",
        "\n",
        "\n",
        "\n",
        "teste['qtde_filhos'].fillna(round(teste['qtde_filhos'].mean(),2), inplace = True)\n",
        "\n",
        "missing_data_teste = teste['qtde_filhos'].isna().sum().sum()\n",
        "\n",
        "print(f\"Agora, verifica a quantidade de vazios no dataset original apos o fillna com inplace = True, {missing_data_teste} vazios\")\n",
        "\n",
        "\n",
        "#se rodar de novo, o dataset original vai retornar 0 nos dois resultados, pois o dataset original foi alterado\n",
        "\n",
        "\n"
      ]
    },
    {
      "cell_type": "code",
      "execution_count": 17,
      "metadata": {
        "colab": {
          "base_uri": "https://localhost:8080/"
        },
        "id": "gHUpJAMnGD_S",
        "outputId": "727ea3b1-a192-4f57-bf97-36182dd6761d"
      },
      "outputs": [
        {
          "data": {
            "text/plain": [
              "array([[4512, 1530],\n",
              "       [3738, 1297],\n",
              "       [4261, 1335],\n",
              "       [3777, 1282],\n",
              "       [4177, 1590],\n",
              "       [3585, 1300],\n",
              "       [3785, 1400],\n",
              "       [3559, 1255],\n",
              "       [3613, 1355],\n",
              "       [3982, 1375],\n",
              "       [3443, 1340],\n",
              "       [3993, 1380],\n",
              "       [3640, 1355],\n",
              "       [4208, 1522],\n",
              "       [3832, 1208],\n",
              "       [3876, 1405],\n",
              "       [3497, 1358],\n",
              "       [3466, 1292],\n",
              "       [3095, 1340],\n",
              "       [4424, 1400],\n",
              "       [3878, 1357],\n",
              "       [4046, 1287],\n",
              "       [3804, 1275],\n",
              "       [3710, 1270],\n",
              "       [4747, 1635],\n",
              "       [4423, 1505],\n",
              "       [4036, 1490],\n",
              "       [4022, 1485],\n",
              "       [3454, 1310],\n",
              "       [4175, 1420],\n",
              "       [3787, 1318],\n",
              "       [3796, 1432],\n",
              "       [4103, 1364],\n",
              "       [4161, 1405],\n",
              "       [4158, 1432],\n",
              "       [3814, 1207],\n",
              "       [3527, 1375],\n",
              "       [3748, 1350],\n",
              "       [3334, 1236],\n",
              "       [3492, 1250],\n",
              "       [3962, 1350],\n",
              "       [3505, 1320],\n",
              "       [4315, 1525],\n",
              "       [3804, 1570],\n",
              "       [3863, 1340],\n",
              "       [4034, 1422],\n",
              "       [4308, 1506],\n",
              "       [3165, 1215],\n",
              "       [3641, 1311],\n",
              "       [3644, 1300],\n",
              "       [3891, 1224],\n",
              "       [3793, 1350],\n",
              "       [4270, 1335],\n",
              "       [4063, 1390],\n",
              "       [4012, 1400],\n",
              "       [3458, 1225],\n",
              "       [3890, 1310],\n",
              "       [4166, 1560],\n",
              "       [3935, 1330],\n",
              "       [3669, 1222],\n",
              "       [3866, 1415],\n",
              "       [3393, 1175],\n",
              "       [4442, 1330],\n",
              "       [4253, 1485],\n",
              "       [3727, 1470],\n",
              "       [3329, 1135],\n",
              "       [3415, 1310],\n",
              "       [3372, 1154],\n",
              "       [4430, 1510],\n",
              "       [4381, 1415],\n",
              "       [4008, 1468],\n",
              "       [3858, 1390],\n",
              "       [4121, 1380],\n",
              "       [4057, 1432],\n",
              "       [3824, 1240],\n",
              "       [3394, 1195],\n",
              "       [3558, 1225],\n",
              "       [3362, 1188],\n",
              "       [3930, 1252],\n",
              "       [3835, 1315],\n",
              "       [3830, 1245],\n",
              "       [3856, 1430],\n",
              "       [3249, 1279],\n",
              "       [3577, 1245],\n",
              "       [3933, 1309],\n",
              "       [3850, 1412],\n",
              "       [3309, 1120],\n",
              "       [3406, 1220],\n",
              "       [3506, 1280],\n",
              "       [3907, 1440],\n",
              "       [4160, 1370],\n",
              "       [3318, 1192],\n",
              "       [3662, 1230],\n",
              "       [3899, 1346],\n",
              "       [3700, 1290],\n",
              "       [3779, 1165],\n",
              "       [3473, 1240],\n",
              "       [3490, 1132],\n",
              "       [3654, 1242],\n",
              "       [3478, 1270],\n",
              "       [3495, 1218],\n",
              "       [3834, 1430],\n",
              "       [3876, 1588],\n",
              "       [3661, 1320],\n",
              "       [3618, 1290],\n",
              "       [3648, 1260],\n",
              "       [4032, 1425],\n",
              "       [3399, 1226],\n",
              "       [3916, 1360],\n",
              "       [4430, 1620],\n",
              "       [3695, 1310],\n",
              "       [3524, 1250],\n",
              "       [3571, 1295],\n",
              "       [3594, 1290],\n",
              "       [3383, 1290],\n",
              "       [3499, 1275],\n",
              "       [3589, 1250],\n",
              "       [3900, 1270],\n",
              "       [4114, 1362],\n",
              "       [3937, 1300],\n",
              "       [3399, 1173],\n",
              "       [4200, 1256],\n",
              "       [4488, 1440],\n",
              "       [3614, 1180],\n",
              "       [4051, 1306],\n",
              "       [3782, 1350],\n",
              "       [3391, 1125],\n",
              "       [3124, 1165],\n",
              "       [4053, 1312],\n",
              "       [3582, 1300],\n",
              "       [3666, 1270],\n",
              "       [3532, 1335],\n",
              "       [4046, 1450],\n",
              "       [3667, 1310],\n",
              "       [2857, 1027],\n",
              "       [3436, 1235],\n",
              "       [3791, 1260],\n",
              "       [3302, 1165],\n",
              "       [3104, 1080],\n",
              "       [3171, 1127],\n",
              "       [3572, 1270],\n",
              "       [3530, 1252],\n",
              "       [3175, 1200],\n",
              "       [3438, 1290],\n",
              "       [3903, 1334],\n",
              "       [3899, 1380],\n",
              "       [3401, 1140],\n",
              "       [3267, 1243],\n",
              "       [3451, 1340],\n",
              "       [3090, 1168],\n",
              "       [3413, 1322],\n",
              "       [3323, 1249],\n",
              "       [3680, 1321],\n",
              "       [3439, 1192],\n",
              "       [3853, 1373],\n",
              "       [3156, 1170],\n",
              "       [3279, 1265],\n",
              "       [3707, 1235],\n",
              "       [4006, 1302],\n",
              "       [3269, 1241],\n",
              "       [3071, 1078],\n",
              "       [3779, 1520],\n",
              "       [3548, 1460],\n",
              "       [3292, 1075],\n",
              "       [3497, 1280],\n",
              "       [3082, 1180],\n",
              "       [3248, 1250],\n",
              "       [3358, 1190],\n",
              "       [3803, 1374],\n",
              "       [3566, 1306],\n",
              "       [3145, 1202],\n",
              "       [3503, 1240],\n",
              "       [3571, 1316],\n",
              "       [3724, 1280],\n",
              "       [3615, 1350],\n",
              "       [3203, 1180],\n",
              "       [3609, 1210],\n",
              "       [3561, 1127],\n",
              "       [3979, 1324],\n",
              "       [3533, 1210],\n",
              "       [3689, 1290],\n",
              "       [3158, 1100],\n",
              "       [4005, 1280],\n",
              "       [3181, 1175],\n",
              "       [3479, 1160],\n",
              "       [3642, 1205],\n",
              "       [3632, 1163],\n",
              "       [3069, 1022],\n",
              "       [3394, 1243],\n",
              "       [3703, 1350],\n",
              "       [3165, 1237],\n",
              "       [3354, 1204],\n",
              "       [3000, 1090],\n",
              "       [3687, 1355],\n",
              "       [3556, 1250],\n",
              "       [2773, 1076],\n",
              "       [3058, 1120],\n",
              "       [3344, 1220],\n",
              "       [3493, 1240],\n",
              "       [3297, 1220],\n",
              "       [3360, 1095],\n",
              "       [3228, 1235],\n",
              "       [3277, 1105],\n",
              "       [3851, 1405],\n",
              "       [3067, 1150],\n",
              "       [3692, 1305],\n",
              "       [3402, 1220],\n",
              "       [3995, 1296],\n",
              "       [3318, 1175],\n",
              "       [2720,  955],\n",
              "       [2937, 1070],\n",
              "       [3580, 1320],\n",
              "       [2939, 1060],\n",
              "       [2989, 1130],\n",
              "       [3586, 1250],\n",
              "       [3156, 1225],\n",
              "       [3246, 1180],\n",
              "       [3170, 1178],\n",
              "       [3268, 1142],\n",
              "       [3389, 1130],\n",
              "       [3381, 1185],\n",
              "       [2864, 1012],\n",
              "       [3740, 1280],\n",
              "       [3479, 1103],\n",
              "       [3647, 1408],\n",
              "       [3716, 1300],\n",
              "       [3284, 1246],\n",
              "       [4204, 1380],\n",
              "       [3735, 1350],\n",
              "       [3218, 1060],\n",
              "       [3685, 1350],\n",
              "       [3704, 1220],\n",
              "       [3214, 1110],\n",
              "       [3394, 1215],\n",
              "       [3233, 1104],\n",
              "       [3352, 1170],\n",
              "       [3391, 1120]], dtype=int64)"
            ]
          },
          "execution_count": 17,
          "metadata": {},
          "output_type": "execute_result"
        }
      ],
      "source": [
        "#from sklearn.preprocessing import StandardScaler\n",
        "df_head = df_HeadBrain.iloc[:,[2,3]].values\n",
        "df_head\n",
        "#normaliza_df = StandardScaler()\n",
        "#df_HeadBrain_norm = normaliza_df.fit_transform(df_head)\n",
        "df_HeadBrain_norm=df_head\n",
        "df_head"
      ]
    },
    {
      "cell_type": "code",
      "execution_count": 18,
      "metadata": {
        "colab": {
          "base_uri": "https://localhost:8080/"
        },
        "id": "uTMK5P_PzZSj",
        "outputId": "a15af484-4edc-42ad-ced6-d9b68da386bc"
      },
      "outputs": [
        {
          "name": "stderr",
          "output_type": "stream",
          "text": [
            "i:\\Python\\Anaconda\\Lib\\site-packages\\sklearn\\cluster\\_kmeans.py:870: FutureWarning: The default value of `n_init` will change from 10 to 'auto' in 1.4. Set the value of `n_init` explicitly to suppress the warning\n",
            "  warnings.warn(\n",
            "i:\\Python\\Anaconda\\Lib\\site-packages\\sklearn\\cluster\\_kmeans.py:1382: UserWarning: KMeans is known to have a memory leak on Windows with MKL, when there are less chunks than available threads. You can avoid it by setting the environment variable OMP_NUM_THREADS=1.\n",
            "  warnings.warn(\n",
            "i:\\Python\\Anaconda\\Lib\\site-packages\\sklearn\\cluster\\_kmeans.py:870: FutureWarning: The default value of `n_init` will change from 10 to 'auto' in 1.4. Set the value of `n_init` explicitly to suppress the warning\n",
            "  warnings.warn(\n",
            "i:\\Python\\Anaconda\\Lib\\site-packages\\sklearn\\cluster\\_kmeans.py:1382: UserWarning: KMeans is known to have a memory leak on Windows with MKL, when there are less chunks than available threads. You can avoid it by setting the environment variable OMP_NUM_THREADS=1.\n",
            "  warnings.warn(\n",
            "i:\\Python\\Anaconda\\Lib\\site-packages\\sklearn\\cluster\\_kmeans.py:870: FutureWarning: The default value of `n_init` will change from 10 to 'auto' in 1.4. Set the value of `n_init` explicitly to suppress the warning\n",
            "  warnings.warn(\n",
            "i:\\Python\\Anaconda\\Lib\\site-packages\\sklearn\\cluster\\_kmeans.py:1382: UserWarning: KMeans is known to have a memory leak on Windows with MKL, when there are less chunks than available threads. You can avoid it by setting the environment variable OMP_NUM_THREADS=1.\n",
            "  warnings.warn(\n",
            "i:\\Python\\Anaconda\\Lib\\site-packages\\sklearn\\cluster\\_kmeans.py:870: FutureWarning: The default value of `n_init` will change from 10 to 'auto' in 1.4. Set the value of `n_init` explicitly to suppress the warning\n",
            "  warnings.warn(\n",
            "i:\\Python\\Anaconda\\Lib\\site-packages\\sklearn\\cluster\\_kmeans.py:1382: UserWarning: KMeans is known to have a memory leak on Windows with MKL, when there are less chunks than available threads. You can avoid it by setting the environment variable OMP_NUM_THREADS=1.\n",
            "  warnings.warn(\n",
            "i:\\Python\\Anaconda\\Lib\\site-packages\\sklearn\\cluster\\_kmeans.py:870: FutureWarning: The default value of `n_init` will change from 10 to 'auto' in 1.4. Set the value of `n_init` explicitly to suppress the warning\n",
            "  warnings.warn(\n",
            "i:\\Python\\Anaconda\\Lib\\site-packages\\sklearn\\cluster\\_kmeans.py:1382: UserWarning: KMeans is known to have a memory leak on Windows with MKL, when there are less chunks than available threads. You can avoid it by setting the environment variable OMP_NUM_THREADS=1.\n",
            "  warnings.warn(\n",
            "i:\\Python\\Anaconda\\Lib\\site-packages\\sklearn\\cluster\\_kmeans.py:870: FutureWarning: The default value of `n_init` will change from 10 to 'auto' in 1.4. Set the value of `n_init` explicitly to suppress the warning\n",
            "  warnings.warn(\n",
            "i:\\Python\\Anaconda\\Lib\\site-packages\\sklearn\\cluster\\_kmeans.py:1382: UserWarning: KMeans is known to have a memory leak on Windows with MKL, when there are less chunks than available threads. You can avoid it by setting the environment variable OMP_NUM_THREADS=1.\n",
            "  warnings.warn(\n",
            "i:\\Python\\Anaconda\\Lib\\site-packages\\sklearn\\cluster\\_kmeans.py:870: FutureWarning: The default value of `n_init` will change from 10 to 'auto' in 1.4. Set the value of `n_init` explicitly to suppress the warning\n",
            "  warnings.warn(\n",
            "i:\\Python\\Anaconda\\Lib\\site-packages\\sklearn\\cluster\\_kmeans.py:1382: UserWarning: KMeans is known to have a memory leak on Windows with MKL, when there are less chunks than available threads. You can avoid it by setting the environment variable OMP_NUM_THREADS=1.\n",
            "  warnings.warn(\n",
            "i:\\Python\\Anaconda\\Lib\\site-packages\\sklearn\\cluster\\_kmeans.py:870: FutureWarning: The default value of `n_init` will change from 10 to 'auto' in 1.4. Set the value of `n_init` explicitly to suppress the warning\n",
            "  warnings.warn(\n",
            "i:\\Python\\Anaconda\\Lib\\site-packages\\sklearn\\cluster\\_kmeans.py:1382: UserWarning: KMeans is known to have a memory leak on Windows with MKL, when there are less chunks than available threads. You can avoid it by setting the environment variable OMP_NUM_THREADS=1.\n",
            "  warnings.warn(\n",
            "i:\\Python\\Anaconda\\Lib\\site-packages\\sklearn\\cluster\\_kmeans.py:870: FutureWarning: The default value of `n_init` will change from 10 to 'auto' in 1.4. Set the value of `n_init` explicitly to suppress the warning\n",
            "  warnings.warn(\n",
            "i:\\Python\\Anaconda\\Lib\\site-packages\\sklearn\\cluster\\_kmeans.py:1382: UserWarning: KMeans is known to have a memory leak on Windows with MKL, when there are less chunks than available threads. You can avoid it by setting the environment variable OMP_NUM_THREADS=1.\n",
            "  warnings.warn(\n",
            "i:\\Python\\Anaconda\\Lib\\site-packages\\sklearn\\cluster\\_kmeans.py:870: FutureWarning: The default value of `n_init` will change from 10 to 'auto' in 1.4. Set the value of `n_init` explicitly to suppress the warning\n",
            "  warnings.warn(\n",
            "i:\\Python\\Anaconda\\Lib\\site-packages\\sklearn\\cluster\\_kmeans.py:1382: UserWarning: KMeans is known to have a memory leak on Windows with MKL, when there are less chunks than available threads. You can avoid it by setting the environment variable OMP_NUM_THREADS=1.\n",
            "  warnings.warn(\n"
          ]
        }
      ],
      "source": [
        "\n",
        "\n",
        "df_HeadBrain_corrigido = df_HeadBrain_norm\n",
        "#df_HeadBrain_corrigido[\"genero\"] = df_HeadBrain_corrigido[\"genero\"].replace({\"Masculino\": 0, \"Feminino\": 1})\n",
        "\n",
        "# Create a list of WCSS values\n",
        "wcss_head = []\n",
        "\n",
        "# Loop through a range of cluster numbers\n",
        "for i in range(1, 11):\n",
        "  # Create a KMeans model with the current cluster number\n",
        "  kmeans_head = KMeans(n_clusters=i, random_state=0)\n",
        "\n",
        "  # Fit the model to the data\n",
        "  kmeans_head.fit(df_HeadBrain_corrigido)\n",
        "\n",
        "  # Append the WCSS value to the list\n",
        "  wcss_head.append(kmeans_head.inertia_)\n"
      ]
    },
    {
      "cell_type": "code",
      "execution_count": 19,
      "metadata": {
        "colab": {
          "base_uri": "https://localhost:8080/"
        },
        "id": "L8-nmN_g-Df9",
        "outputId": "025eb63e-b9a7-471c-f77e-7c87b6628322"
      },
      "outputs": [
        {
          "name": "stdout",
          "output_type": "stream",
          "text": [
            "Cluster: 0  - valor do wcss 34903864.18565401\n",
            "Cluster: 1  - valor do wcss 12994263.40947717\n",
            "Cluster: 2  - valor do wcss 7402867.843870258\n",
            "Cluster: 3  - valor do wcss 4948479.069395583\n",
            "Cluster: 4  - valor do wcss 3591427.8050726494\n",
            "Cluster: 5  - valor do wcss 2945421.0165694086\n",
            "Cluster: 6  - valor do wcss 2427060.557155792\n",
            "Cluster: 7  - valor do wcss 2091192.9499842415\n",
            "Cluster: 8  - valor do wcss 1855091.3936831953\n",
            "Cluster: 9  - valor do wcss 1693029.8596479564\n"
          ]
        }
      ],
      "source": [
        "#Visualizando os valores de wcss\n",
        "for i in range(len(wcss_head)):\n",
        "  print('Cluster:', i, \" - valor do wcss\", wcss_head[i])\n"
      ]
    },
    {
      "cell_type": "code",
      "execution_count": 20,
      "metadata": {
        "colab": {
          "base_uri": "https://localhost:8080/",
          "height": 997
        },
        "id": "8GKC_umE-G8d",
        "outputId": "46cd9522-2fee-4180-9794-8710fdadaa52"
      },
      "outputs": [
        {
          "data": {
            "image/png": "[encoded data removed]",
            "text/plain": [
              "<Figure size 640x480 with 1 Axes>"
            ]
          },
          "metadata": {},
          "output_type": "display_data"
        },
        {
          "data": {
            "application/vnd.plotly.v1+json": {
              "config": {
                "plotlyServerURL": "https://plot.ly"
              },
              "data": [
                {
                  "hovertemplate": "x=%{x}<br>y=%{y}<extra></extra>",
                  "legendgroup": "",
                  "line": {
                    "color": "#636efa",
                    "dash": "solid"
                  },
                  "marker": {
                    "symbol": "circle"
                  },
                  "mode": "lines",
                  "name": "",
                  "orientation": "v",
                  "showlegend": false,
                  "type": "scatter",
                  "x": [
                    1,
                    2,
                    3,
                    4,
                    5,
                    6,
                    7,
                    8,
                    9,
                    10
                  ],
                  "xaxis": "x",
                  "y": [
                    34903864.18565401,
                    12994263.40947717,
                    7402867.843870258,
                    4948479.069395583,
                    3591427.8050726494,
                    2945421.0165694086,
                    2427060.557155792,
                    2091192.9499842415,
                    1855091.3936831953,
                    1693029.8596479564
                  ],
                  "yaxis": "y"
                }
              ],
              "layout": {
                "legend": {
                  "tracegroupgap": 0
                },
                "margin": {
                  "t": 60
                },
                "template": {
                  "data": {
                    "bar": [
                      {
                        "error_x": {
                          "color": "#2a3f5f"
                        },
                        "error_y": {
                          "color": "#2a3f5f"
                        },
                        "marker": {
                          "line": {
                            "color": "#E5ECF6",
                            "width": 0.5
                          },
                          "pattern": {
                            "fillmode": "overlay",
                            "size": 10,
                            "solidity": 0.2
                          }
                        },
                        "type": "bar"
                      }
                    ],
                    "barpolar": [
                      {
                        "marker": {
                          "line": {
                            "color": "#E5ECF6",
                            "width": 0.5
                          },
                          "pattern": {
                            "fillmode": "overlay",
                            "size": 10,
                            "solidity": 0.2
                          }
                        },
                        "type": "barpolar"
                      }
                    ],
                    "carpet": [
                      {
                        "aaxis": {
                          "endlinecolor": "#2a3f5f",
                          "gridcolor": "white",
                          "linecolor": "white",
                          "minorgridcolor": "white",
                          "startlinecolor": "#2a3f5f"
                        },
                        "baxis": {
                          "endlinecolor": "#2a3f5f",
                          "gridcolor": "white",
                          "linecolor": "white",
                          "minorgridcolor": "white",
                          "startlinecolor": "#2a3f5f"
                        },
                        "type": "carpet"
                      }
                    ],
                    "choropleth": [
                      {
                        "colorbar": {
                          "outlinewidth": 0,
                          "ticks": ""
                        },
                        "type": "choropleth"
                      }
                    ],
                    "contour": [
                      {
                        "colorbar": {
                          "outlinewidth": 0,
                          "ticks": ""
                        },
                        "colorscale": [
                          [
                            0,
                            "#0d0887"
                          ],
                          [
                            0.1111111111111111,
                            "#46039f"
                          ],
                          [
                            0.2222222222222222,
                            "#7201a8"
                          ],
                          [
                            0.3333333333333333,
                            "#9c179e"
                          ],
                          [
                            0.4444444444444444,
                            "#bd3786"
                          ],
                          [
                            0.5555555555555556,
                            "#d8576b"
                          ],
                          [
                            0.6666666666666666,
                            "#ed7953"
                          ],
                          [
                            0.7777777777777778,
                            "#fb9f3a"
                          ],
                          [
                            0.8888888888888888,
                            "#fdca26"
                          ],
                          [
                            1,
                            "#f0f921"
                          ]
                        ],
                        "type": "contour"
                      }
                    ],
                    "contourcarpet": [
                      {
                        "colorbar": {
                          "outlinewidth": 0,
                          "ticks": ""
                        },
                        "type": "contourcarpet"
                      }
                    ],
                    "heatmap": [
                      {
                        "colorbar": {
                          "outlinewidth": 0,
                          "ticks": ""
                        },
                        "colorscale": [
                          [
                            0,
                            "#0d0887"
                          ],
                          [
                            0.1111111111111111,
                            "#46039f"
                          ],
                          [
                            0.2222222222222222,
                            "#7201a8"
                          ],
                          [
                            0.3333333333333333,
                            "#9c179e"
                          ],
                          [
                            0.4444444444444444,
                            "#bd3786"
                          ],
                          [
                            0.5555555555555556,
                            "#d8576b"
                          ],
                          [
                            0.6666666666666666,
                            "#ed7953"
                          ],
                          [
                            0.7777777777777778,
                            "#fb9f3a"
                          ],
                          [
                            0.8888888888888888,
                            "#fdca26"
                          ],
                          [
                            1,
                            "#f0f921"
                          ]
                        ],
                        "type": "heatmap"
                      }
                    ],
                    "heatmapgl": [
                      {
                        "colorbar": {
                          "outlinewidth": 0,
                          "ticks": ""
                        },
                        "colorscale": [
                          [
                            0,
                            "#0d0887"
                          ],
                          [
                            0.1111111111111111,
                            "#46039f"
                          ],
                          [
                            0.2222222222222222,
                            "#7201a8"
                          ],
                          [
                            0.3333333333333333,
                            "#9c179e"
                          ],
                          [
                            0.4444444444444444,
                            "#bd3786"
                          ],
                          [
                            0.5555555555555556,
                            "#d8576b"
                          ],
                          [
                            0.6666666666666666,
                            "#ed7953"
                          ],
                          [
                            0.7777777777777778,
                            "#fb9f3a"
                          ],
                          [
                            0.8888888888888888,
                            "#fdca26"
                          ],
                          [
                            1,
                            "#f0f921"
                          ]
                        ],
                        "type": "heatmapgl"
                      }
                    ],
                    "histogram": [
                      {
                        "marker": {
                          "pattern": {
                            "fillmode": "overlay",
                            "size": 10,
                            "solidity": 0.2
                          }
                        },
                        "type": "histogram"
                      }
                    ],
                    "histogram2d": [
                      {
                        "colorbar": {
                          "outlinewidth": 0,
                          "ticks": ""
                        },
                        "colorscale": [
                          [
                            0,
                            "#0d0887"
                          ],
                          [
                            0.1111111111111111,
                            "#46039f"
                          ],
                          [
                            0.2222222222222222,
                            "#7201a8"
                          ],
                          [
                            0.3333333333333333,
                            "#9c179e"
                          ],
                          [
                            0.4444444444444444,
                            "#bd3786"
                          ],
                          [
                            0.5555555555555556,
                            "#d8576b"
                          ],
                          [
                            0.6666666666666666,
                            "#ed7953"
                          ],
                          [
                            0.7777777777777778,
                            "#fb9f3a"
                          ],
                          [
                            0.8888888888888888,
                            "#fdca26"
                          ],
                          [
                            1,
                            "#f0f921"
                          ]
                        ],
                        "type": "histogram2d"
                      }
                    ],
                    "histogram2dcontour": [
                      {
                        "colorbar": {
                          "outlinewidth": 0,
                          "ticks": ""
                        },
                        "colorscale": [
                          [
                            0,
                            "#0d0887"
                          ],
                          [
                            0.1111111111111111,
                            "#46039f"
                          ],
                          [
                            0.2222222222222222,
                            "#7201a8"
                          ],
                          [
                            0.3333333333333333,
                            "#9c179e"
                          ],
                          [
                            0.4444444444444444,
                            "#bd3786"
                          ],
                          [
                            0.5555555555555556,
                            "#d8576b"
                          ],
                          [
                            0.6666666666666666,
                            "#ed7953"
                          ],
                          [
                            0.7777777777777778,
                            "#fb9f3a"
                          ],
                          [
                            0.8888888888888888,
                            "#fdca26"
                          ],
                          [
                            1,
                            "#f0f921"
                          ]
                        ],
                        "type": "histogram2dcontour"
                      }
                    ],
                    "mesh3d": [
                      {
                        "colorbar": {
                          "outlinewidth": 0,
                          "ticks": ""
                        },
                        "type": "mesh3d"
                      }
                    ],
                    "parcoords": [
                      {
                        "line": {
                          "colorbar": {
                            "outlinewidth": 0,
                            "ticks": ""
                          }
                        },
                        "type": "parcoords"
                      }
                    ],
                    "pie": [
                      {
                        "automargin": true,
                        "type": "pie"
                      }
                    ],
                    "scatter": [
                      {
                        "fillpattern": {
                          "fillmode": "overlay",
                          "size": 10,
                          "solidity": 0.2
                        },
                        "type": "scatter"
                      }
                    ],
                    "scatter3d": [
                      {
                        "line": {
                          "colorbar": {
                            "outlinewidth": 0,
                            "ticks": ""
                          }
                        },
                        "marker": {
                          "colorbar": {
                            "outlinewidth": 0,
                            "ticks": ""
                          }
                        },
                        "type": "scatter3d"
                      }
                    ],
                    "scattercarpet": [
                      {
                        "marker": {
                          "colorbar": {
                            "outlinewidth": 0,
                            "ticks": ""
                          }
                        },
                        "type": "scattercarpet"
                      }
                    ],
                    "scattergeo": [
                      {
                        "marker": {
                          "colorbar": {
                            "outlinewidth": 0,
                            "ticks": ""
                          }
                        },
                        "type": "scattergeo"
                      }
                    ],
                    "scattergl": [
                      {
                        "marker": {
                          "colorbar": {
                            "outlinewidth": 0,
                            "ticks": ""
                          }
                        },
                        "type": "scattergl"
                      }
                    ],
                    "scattermapbox": [
                      {
                        "marker": {
                          "colorbar": {
                            "outlinewidth": 0,
                            "ticks": ""
                          }
                        },
                        "type": "scattermapbox"
                      }
                    ],
                    "scatterpolar": [
                      {
                        "marker": {
                          "colorbar": {
                            "outlinewidth": 0,
                            "ticks": ""
                          }
                        },
                        "type": "scatterpolar"
                      }
                    ],
                    "scatterpolargl": [
                      {
                        "marker": {
                          "colorbar": {
                            "outlinewidth": 0,
                            "ticks": ""
                          }
                        },
                        "type": "scatterpolargl"
                      }
                    ],
                    "scatterternary": [
                      {
                        "marker": {
                          "colorbar": {
                            "outlinewidth": 0,
                            "ticks": ""
                          }
                        },
                        "type": "scatterternary"
                      }
                    ],
                    "surface": [
                      {
                        "colorbar": {
                          "outlinewidth": 0,
                          "ticks": ""
                        },
                        "colorscale": [
                          [
                            0,
                            "#0d0887"
                          ],
                          [
                            0.1111111111111111,
                            "#46039f"
                          ],
                          [
                            0.2222222222222222,
                            "#7201a8"
                          ],
                          [
                            0.3333333333333333,
                            "#9c179e"
                          ],
                          [
                            0.4444444444444444,
                            "#bd3786"
                          ],
                          [
                            0.5555555555555556,
                            "#d8576b"
                          ],
                          [
                            0.6666666666666666,
                            "#ed7953"
                          ],
                          [
                            0.7777777777777778,
                            "#fb9f3a"
                          ],
                          [
                            0.8888888888888888,
                            "#fdca26"
                          ],
                          [
                            1,
                            "#f0f921"
                          ]
                        ],
                        "type": "surface"
                      }
                    ],
                    "table": [
                      {
                        "cells": {
                          "fill": {
                            "color": "#EBF0F8"
                          },
                          "line": {
                            "color": "white"
                          }
                        },
                        "header": {
                          "fill": {
                            "color": "#C8D4E3"
                          },
                          "line": {
                            "color": "white"
                          }
                        },
                        "type": "table"
                      }
                    ]
                  },
                  "layout": {
                    "annotationdefaults": {
                      "arrowcolor": "#2a3f5f",
                      "arrowhead": 0,
                      "arrowwidth": 1
                    },
                    "autotypenumbers": "strict",
                    "coloraxis": {
                      "colorbar": {
                        "outlinewidth": 0,
                        "ticks": ""
                      }
                    },
                    "colorscale": {
                      "diverging": [
                        [
                          0,
                          "#8e0152"
                        ],
                        [
                          0.1,
                          "#c51b7d"
                        ],
                        [
                          0.2,
                          "#de77ae"
                        ],
                        [
                          0.3,
                          "#f1b6da"
                        ],
                        [
                          0.4,
                          "#fde0ef"
                        ],
                        [
                          0.5,
                          "#f7f7f7"
                        ],
                        [
                          0.6,
                          "#e6f5d0"
                        ],
                        [
                          0.7,
                          "#b8e186"
                        ],
                        [
                          0.8,
                          "#7fbc41"
                        ],
                        [
                          0.9,
                          "#4d9221"
                        ],
                        [
                          1,
                          "#276419"
                        ]
                      ],
                      "sequential": [
                        [
                          0,
                          "#0d0887"
                        ],
                        [
                          0.1111111111111111,
                          "#46039f"
                        ],
                        [
                          0.2222222222222222,
                          "#7201a8"
                        ],
                        [
                          0.3333333333333333,
                          "#9c179e"
                        ],
                        [
                          0.4444444444444444,
                          "#bd3786"
                        ],
                        [
                          0.5555555555555556,
                          "#d8576b"
                        ],
                        [
                          0.6666666666666666,
                          "#ed7953"
                        ],
                        [
                          0.7777777777777778,
                          "#fb9f3a"
                        ],
                        [
                          0.8888888888888888,
                          "#fdca26"
                        ],
                        [
                          1,
                          "#f0f921"
                        ]
                      ],
                      "sequentialminus": [
                        [
                          0,
                          "#0d0887"
                        ],
                        [
                          0.1111111111111111,
                          "#46039f"
                        ],
                        [
                          0.2222222222222222,
                          "#7201a8"
                        ],
                        [
                          0.3333333333333333,
                          "#9c179e"
                        ],
                        [
                          0.4444444444444444,
                          "#bd3786"
                        ],
                        [
                          0.5555555555555556,
                          "#d8576b"
                        ],
                        [
                          0.6666666666666666,
                          "#ed7953"
                        ],
                        [
                          0.7777777777777778,
                          "#fb9f3a"
                        ],
                        [
                          0.8888888888888888,
                          "#fdca26"
                        ],
                        [
                          1,
                          "#f0f921"
                        ]
                      ]
                    },
                    "colorway": [
                      "#636efa",
                      "#EF553B",
                      "#00cc96",
                      "#ab63fa",
                      "#FFA15A",
                      "#19d3f3",
                      "#FF6692",
                      "#B6E880",
                      "#FF97FF",
                      "#FECB52"
                    ],
                    "font": {
                      "color": "#2a3f5f"
                    },
                    "geo": {
                      "bgcolor": "white",
                      "lakecolor": "white",
                      "landcolor": "#E5ECF6",
                      "showlakes": true,
                      "showland": true,
                      "subunitcolor": "white"
                    },
                    "hoverlabel": {
                      "align": "left"
                    },
                    "hovermode": "closest",
                    "mapbox": {
                      "style": "light"
                    },
                    "paper_bgcolor": "white",
                    "plot_bgcolor": "#E5ECF6",
                    "polar": {
                      "angularaxis": {
                        "gridcolor": "white",
                        "linecolor": "white",
                        "ticks": ""
                      },
                      "bgcolor": "#E5ECF6",
                      "radialaxis": {
                        "gridcolor": "white",
                        "linecolor": "white",
                        "ticks": ""
                      }
                    },
                    "scene": {
                      "xaxis": {
                        "backgroundcolor": "#E5ECF6",
                        "gridcolor": "white",
                        "gridwidth": 2,
                        "linecolor": "white",
                        "showbackground": true,
                        "ticks": "",
                        "zerolinecolor": "white"
                      },
                      "yaxis": {
                        "backgroundcolor": "#E5ECF6",
                        "gridcolor": "white",
                        "gridwidth": 2,
                        "linecolor": "white",
                        "showbackground": true,
                        "ticks": "",
                        "zerolinecolor": "white"
                      },
                      "zaxis": {
                        "backgroundcolor": "#E5ECF6",
                        "gridcolor": "white",
                        "gridwidth": 2,
                        "linecolor": "white",
                        "showbackground": true,
                        "ticks": "",
                        "zerolinecolor": "white"
                      }
                    },
                    "shapedefaults": {
                      "line": {
                        "color": "#2a3f5f"
                      }
                    },
                    "ternary": {
                      "aaxis": {
                        "gridcolor": "white",
                        "linecolor": "white",
                        "ticks": ""
                      },
                      "baxis": {
                        "gridcolor": "white",
                        "linecolor": "white",
                        "ticks": ""
                      },
                      "bgcolor": "#E5ECF6",
                      "caxis": {
                        "gridcolor": "white",
                        "linecolor": "white",
                        "ticks": ""
                      }
                    },
                    "title": {
                      "x": 0.05
                    },
                    "xaxis": {
                      "automargin": true,
                      "gridcolor": "white",
                      "linecolor": "white",
                      "ticks": "",
                      "title": {
                        "standoff": 15
                      },
                      "zerolinecolor": "white",
                      "zerolinewidth": 2
                    },
                    "yaxis": {
                      "automargin": true,
                      "gridcolor": "white",
                      "linecolor": "white",
                      "ticks": "",
                      "title": {
                        "standoff": 15
                      },
                      "zerolinecolor": "white",
                      "zerolinewidth": 2
                    }
                  }
                },
                "xaxis": {
                  "anchor": "y",
                  "domain": [
                    0,
                    1
                  ],
                  "title": {
                    "text": "x"
                  }
                },
                "yaxis": {
                  "anchor": "x",
                  "domain": [
                    0,
                    1
                  ],
                  "title": {
                    "text": "y"
                  }
                }
              }
            }
          },
          "metadata": {},
          "output_type": "display_data"
        }
      ],
      "source": [
        "/#criando grafipo para visualização\n",
        "plt.plot(range(1, 11), wcss_head)\n",
        "plt.xlabel(\"Number of clusters\")\n",
        "plt.ylabel(\"WCSS\")\n",
        "plt.title(\"WCSS Graph for df_HeadBrain\")\n",
        "\n",
        "plt.show()\n",
        "\n",
        "grafico_wcss_head = px.line(x= range(1,11), y=wcss_head)\n",
        "grafico_wcss_head.show()"
      ]
    },
    {
      "cell_type": "code",
      "execution_count": 21,
      "metadata": {
        "colab": {
          "base_uri": "https://localhost:8080/"
        },
        "id": "2A1CbZzG4ps_",
        "outputId": "e0459b58-4a35-4f85-f9f7-be3a5d456cbc"
      },
      "outputs": [
        {
          "name": "stdout",
          "output_type": "stream",
          "text": [
            "WCSS for 3 clusters: 7.402867843870258\n"
          ]
        }
      ],
      "source": [
        "#Resposta da pergunda 4\n",
        "print(\"WCSS for 3 clusters:\", (wcss_head[2]/1000000))\n"
      ]
    },
    {
      "cell_type": "code",
      "execution_count": 22,
      "metadata": {
        "colab": {
          "base_uri": "https://localhost:8080/"
        },
        "id": "neTxShww8WRk",
        "outputId": "102f31b4-1c0d-4c40-faaa-727e9a00a3fb"
      },
      "outputs": [
        {
          "name": "stderr",
          "output_type": "stream",
          "text": [
            "i:\\Python\\Anaconda\\Lib\\site-packages\\sklearn\\cluster\\_kmeans.py:870: FutureWarning:\n",
            "\n",
            "The default value of `n_init` will change from 10 to 'auto' in 1.4. Set the value of `n_init` explicitly to suppress the warning\n",
            "\n",
            "i:\\Python\\Anaconda\\Lib\\site-packages\\sklearn\\cluster\\_kmeans.py:1382: UserWarning:\n",
            "\n",
            "KMeans is known to have a memory leak on Windows with MKL, when there are less chunks than available threads. You can avoid it by setting the environment variable OMP_NUM_THREADS=1.\n",
            "\n"
          ]
        }
      ],
      "source": [
        "#X_std = StandardScaler().fit_transform(df_HeadBrain_corrigido)\n",
        "\n",
        "# Run local implementation of kmeans\n",
        "#km = KMeans(n_clusters=3, random_state=0)\n",
        "#km.fit(X_std)\n",
        "#centroids = km.cluster_centers_\n",
        "\n",
        "\n",
        "kmeans_head2 = KMeans(n_clusters=3, random_state=42)\n",
        "label_cluster_head = kmeans_head2.fit_predict(df_HeadBrain_corrigido)\n"
      ]
    },
    {
      "cell_type": "code",
      "execution_count": 23,
      "metadata": {
        "colab": {
          "base_uri": "https://localhost:8080/"
        },
        "id": "vSKllyeEAQZw",
        "outputId": "77a84a86-a4c8-4d68-d8e0-92b8f07740b7"
      },
      "outputs": [
        {
          "data": {
            "text/plain": [
              "array([2, 1, 2, 1, 2, 1, 1, 1, 1, 2, 1, 2, 1, 2, 1, 1, 1, 1, 0, 2, 1, 2,\n",
              "       1, 1, 2, 2, 2, 2, 1, 2, 1, 1, 2, 2, 2, 1, 1, 1, 0, 1, 2, 1, 2, 1,\n",
              "       1, 2, 2, 0, 1, 1, 1, 1, 2, 2, 2, 0, 1, 2, 2, 1, 1, 0, 2, 2, 1, 0,\n",
              "       0, 0, 2, 2, 2, 1, 2, 2, 1, 0, 1, 0, 1, 1, 1, 1, 0, 1, 2, 1, 0, 0,\n",
              "       1, 2, 2, 0, 1, 1, 1, 1, 1, 0, 1, 1, 1, 1, 2, 1, 1, 1, 2, 0, 1, 2,\n",
              "       1, 1, 1, 1, 0, 1, 1, 1, 2, 2, 0, 2, 2, 1, 2, 1, 0, 0, 2, 1, 1, 1,\n",
              "       2, 1, 0, 0, 1, 0, 0, 0, 1, 1, 0, 0, 1, 1, 0, 0, 1, 0, 0, 0, 1, 0,\n",
              "       1, 0, 0, 1, 2, 0, 0, 1, 1, 0, 1, 0, 0, 0, 1, 1, 0, 1, 1, 1, 1, 0,\n",
              "       1, 1, 2, 1, 1, 0, 2, 0, 0, 1, 1, 0, 0, 1, 0, 0, 0, 1, 1, 0, 0, 0,\n",
              "       1, 0, 0, 0, 0, 1, 0, 1, 0, 2, 0, 0, 0, 1, 0, 0, 1, 0, 0, 0, 0, 0,\n",
              "       0, 0, 1, 0, 1, 1, 0, 2, 1, 0, 1, 1, 0, 0, 0, 0, 0])"
            ]
          },
          "execution_count": 23,
          "metadata": {},
          "output_type": "execute_result"
        }
      ],
      "source": [
        "#verifica a classificação dos clusters\n",
        "label_cluster_head"
      ]
    },
    {
      "cell_type": "code",
      "execution_count": 24,
      "metadata": {
        "colab": {
          "base_uri": "https://localhost:8080/"
        },
        "id": "3W55PdBiAYP0",
        "outputId": "1d679945-6769-40f5-ca36-932cc13295ac"
      },
      "outputs": [
        {
          "data": {
            "text/plain": [
              "array([[3248.15      , 1170.075     ],\n",
              "       [3680.40186916, 1305.43925234],\n",
              "       [4152.02      , 1415.06      ]])"
            ]
          },
          "execution_count": 24,
          "metadata": {},
          "output_type": "execute_result"
        }
      ],
      "source": [
        "#Verifica os centroides do Kmeans\n",
        "centroide_head = kmeans_head2.cluster_centers_\n",
        "centroide_head"
      ]
    },
    {
      "cell_type": "code",
      "execution_count": 25,
      "metadata": {
        "colab": {
          "base_uri": "https://localhost:8080/",
          "height": 143
        },
        "id": "B-dFH4oLD0b7",
        "outputId": "a985ba18-1bb4-45f3-8d9b-987fca735011"
      },
      "outputs": [
        {
          "data": {
            "text/html": [
              "<div>\n",
              "<style scoped>\n",
              "    .dataframe tbody tr th:only-of-type {\n",
              "        vertical-align: middle;\n",
              "    }\n",
              "\n",
              "    .dataframe tbody tr th {\n",
              "        vertical-align: top;\n",
              "    }\n",
              "\n",
              "    .dataframe thead th {\n",
              "        text-align: right;\n",
              "    }\n",
              "</style>\n",
              "<table border=\"1\" class=\"dataframe\">\n",
              "  <thead>\n",
              "    <tr style=\"text-align: right;\">\n",
              "      <th></th>\n",
              "      <th>0</th>\n",
              "      <th>1</th>\n",
              "    </tr>\n",
              "  </thead>\n",
              "  <tbody>\n",
              "    <tr>\n",
              "      <th>0</th>\n",
              "      <td>3248.150000</td>\n",
              "      <td>1170.075000</td>\n",
              "    </tr>\n",
              "    <tr>\n",
              "      <th>1</th>\n",
              "      <td>3680.401869</td>\n",
              "      <td>1305.439252</td>\n",
              "    </tr>\n",
              "    <tr>\n",
              "      <th>2</th>\n",
              "      <td>4152.020000</td>\n",
              "      <td>1415.060000</td>\n",
              "    </tr>\n",
              "  </tbody>\n",
              "</table>\n",
              "</div>"
            ],
            "text/plain": [
              "             0            1\n",
              "0  3248.150000  1170.075000\n",
              "1  3680.401869  1305.439252\n",
              "2  4152.020000  1415.060000"
            ]
          },
          "execution_count": 25,
          "metadata": {},
          "output_type": "execute_result"
        }
      ],
      "source": [
        "#Transforma o array em tabela\n",
        "df_centroid_head = pd.DataFrame(centroide_head)\n",
        "df_centroid_head"
      ]
    },
    {
      "cell_type": "code",
      "execution_count": 26,
      "metadata": {
        "colab": {
          "base_uri": "https://localhost:8080/",
          "height": 143
        },
        "id": "Z_eq3CsRow4v",
        "outputId": "1333e4e2-5793-40cf-b028-41f6f19ea760"
      },
      "outputs": [
        {
          "data": {
            "text/html": [
              "<div>\n",
              "<style scoped>\n",
              "    .dataframe tbody tr th:only-of-type {\n",
              "        vertical-align: middle;\n",
              "    }\n",
              "\n",
              "    .dataframe tbody tr th {\n",
              "        vertical-align: top;\n",
              "    }\n",
              "\n",
              "    .dataframe thead th {\n",
              "        text-align: right;\n",
              "    }\n",
              "</style>\n",
              "<table border=\"1\" class=\"dataframe\">\n",
              "  <thead>\n",
              "    <tr style=\"text-align: right;\">\n",
              "      <th></th>\n",
              "      <th>x</th>\n",
              "      <th>y</th>\n",
              "    </tr>\n",
              "  </thead>\n",
              "  <tbody>\n",
              "    <tr>\n",
              "      <th>0</th>\n",
              "      <td>3248.150000</td>\n",
              "      <td>1170.075000</td>\n",
              "    </tr>\n",
              "    <tr>\n",
              "      <th>1</th>\n",
              "      <td>3680.401869</td>\n",
              "      <td>1305.439252</td>\n",
              "    </tr>\n",
              "    <tr>\n",
              "      <th>2</th>\n",
              "      <td>4152.020000</td>\n",
              "      <td>1415.060000</td>\n",
              "    </tr>\n",
              "  </tbody>\n",
              "</table>\n",
              "</div>"
            ],
            "text/plain": [
              "             x            y\n",
              "0  3248.150000  1170.075000\n",
              "1  3680.401869  1305.439252\n",
              "2  4152.020000  1415.060000"
            ]
          },
          "execution_count": 26,
          "metadata": {},
          "output_type": "execute_result"
        }
      ],
      "source": [
        "df_cent = df_centroid_head\n",
        "df_cent.rename(columns = {0: \"x\", 1: \"y\"}, inplace = True)\n",
        "df_cent"
      ]
    },
    {
      "cell_type": "code",
      "execution_count": 27,
      "metadata": {
        "colab": {
          "base_uri": "https://localhost:8080/",
          "height": 1000
        },
        "id": "0QpB98eWlmX1",
        "outputId": "248cd1b3-7eee-4f79-b786-c0ac9c85cf6a"
      },
      "outputs": [
        {
          "data": {
            "application/vnd.plotly.v1+json": {
              "config": {
                "plotlyServerURL": "https://plot.ly"
              },
              "data": [
                {
                  "hovertemplate": "x=%{x}<br>y=%{y}<br>color=%{marker.color}<extra></extra>",
                  "legendgroup": "",
                  "marker": {
                    "color": [
                      2,
                      1,
                      2,
                      1,
                      2,
                      1,
                      1,
                      1,
                      1,
                      2,
                      1,
                      2,
                      1,
                      2,
                      1,
                      1,
                      1,
                      1,
                      0,
                      2,
                      1,
                      2,
                      1,
                      1,
                      2,
                      2,
                      2,
                      2,
                      1,
                      2,
                      1,
                      1,
                      2,
                      2,
                      2,
                      1,
                      1,
                      1,
                      0,
                      1,
                      2,
                      1,
                      2,
                      1,
                      1,
                      2,
                      2,
                      0,
                      1,
                      1,
                      1,
                      1,
                      2,
                      2,
                      2,
                      0,
                      1,
                      2,
                      2,
                      1,
                      1,
                      0,
                      2,
                      2,
                      1,
                      0,
                      0,
                      0,
                      2,
                      2,
                      2,
                      1,
                      2,
                      2,
                      1,
                      0,
                      1,
                      0,
                      1,
                      1,
                      1,
                      1,
                      0,
                      1,
                      2,
                      1,
                      0,
                      0,
                      1,
                      2,
                      2,
                      0,
                      1,
                      1,
                      1,
                      1,
                      1,
                      0,
                      1,
                      1,
                      1,
                      1,
                      2,
                      1,
                      1,
                      1,
                      2,
                      0,
                      1,
                      2,
                      1,
                      1,
                      1,
                      1,
                      0,
                      1,
                      1,
                      1,
                      2,
                      2,
                      0,
                      2,
                      2,
                      1,
                      2,
                      1,
                      0,
                      0,
                      2,
                      1,
                      1,
                      1,
                      2,
                      1,
                      0,
                      0,
                      1,
                      0,
                      0,
                      0,
                      1,
                      1,
                      0,
                      0,
                      1,
                      1,
                      0,
                      0,
                      1,
                      0,
                      0,
                      0,
                      1,
                      0,
                      1,
                      0,
                      0,
                      1,
                      2,
                      0,
                      0,
                      1,
                      1,
                      0,
                      1,
                      0,
                      0,
                      0,
                      1,
                      1,
                      0,
                      1,
                      1,
                      1,
                      1,
                      0,
                      1,
                      1,
                      2,
                      1,
                      1,
                      0,
                      2,
                      0,
                      0,
                      1,
                      1,
                      0,
                      0,
                      1,
                      0,
                      0,
                      0,
                      1,
                      1,
                      0,
                      0,
                      0,
                      1,
                      0,
                      0,
                      0,
                      0,
                      1,
                      0,
                      1,
                      0,
                      2,
                      0,
                      0,
                      0,
                      1,
                      0,
                      0,
                      1,
                      0,
                      0,
                      0,
                      0,
                      0,
                      0,
                      0,
                      1,
                      0,
                      1,
                      1,
                      0,
                      2,
                      1,
                      0,
                      1,
                      1,
                      0,
                      0,
                      0,
                      0,
                      0
                    ],
                    "coloraxis": "coloraxis",
                    "symbol": "circle"
                  },
                  "mode": "markers",
                  "name": "",
                  "orientation": "v",
                  "showlegend": false,
                  "type": "scatter",
                  "x": [
                    4512,
                    3738,
                    4261,
                    3777,
                    4177,
                    3585,
                    3785,
                    3559,
                    3613,
                    3982,
                    3443,
                    3993,
                    3640,
                    4208,
                    3832,
                    3876,
                    3497,
                    3466,
                    3095,
                    4424,
                    3878,
                    4046,
                    3804,
                    3710,
                    4747,
                    4423,
                    4036,
                    4022,
                    3454,
                    4175,
                    3787,
                    3796,
                    4103,
                    4161,
                    4158,
                    3814,
                    3527,
                    3748,
                    3334,
                    3492,
                    3962,
                    3505,
                    4315,
                    3804,
                    3863,
                    4034,
                    4308,
                    3165,
                    3641,
                    3644,
                    3891,
                    3793,
                    4270,
                    4063,
                    4012,
                    3458,
                    3890,
                    4166,
                    3935,
                    3669,
                    3866,
                    3393,
                    4442,
                    4253,
                    3727,
                    3329,
                    3415,
                    3372,
                    4430,
                    4381,
                    4008,
                    3858,
                    4121,
                    4057,
                    3824,
                    3394,
                    3558,
                    3362,
                    3930,
                    3835,
                    3830,
                    3856,
                    3249,
                    3577,
                    3933,
                    3850,
                    3309,
                    3406,
                    3506,
                    3907,
                    4160,
                    3318,
                    3662,
                    3899,
                    3700,
                    3779,
                    3473,
                    3490,
                    3654,
                    3478,
                    3495,
                    3834,
                    3876,
                    3661,
                    3618,
                    3648,
                    4032,
                    3399,
                    3916,
                    4430,
                    3695,
                    3524,
                    3571,
                    3594,
                    3383,
                    3499,
                    3589,
                    3900,
                    4114,
                    3937,
                    3399,
                    4200,
                    4488,
                    3614,
                    4051,
                    3782,
                    3391,
                    3124,
                    4053,
                    3582,
                    3666,
                    3532,
                    4046,
                    3667,
                    2857,
                    3436,
                    3791,
                    3302,
                    3104,
                    3171,
                    3572,
                    3530,
                    3175,
                    3438,
                    3903,
                    3899,
                    3401,
                    3267,
                    3451,
                    3090,
                    3413,
                    3323,
                    3680,
                    3439,
                    3853,
                    3156,
                    3279,
                    3707,
                    4006,
                    3269,
                    3071,
                    3779,
                    3548,
                    3292,
                    3497,
                    3082,
                    3248,
                    3358,
                    3803,
                    3566,
                    3145,
                    3503,
                    3571,
                    3724,
                    3615,
                    3203,
                    3609,
                    3561,
                    3979,
                    3533,
                    3689,
                    3158,
                    4005,
                    3181,
                    3479,
                    3642,
                    3632,
                    3069,
                    3394,
                    3703,
                    3165,
                    3354,
                    3000,
                    3687,
                    3556,
                    2773,
                    3058,
                    3344,
                    3493,
                    3297,
                    3360,
                    3228,
                    3277,
                    3851,
                    3067,
                    3692,
                    3402,
                    3995,
                    3318,
                    2720,
                    2937,
                    3580,
                    2939,
                    2989,
                    3586,
                    3156,
                    3246,
                    3170,
                    3268,
                    3389,
                    3381,
                    2864,
                    3740,
                    3479,
                    3647,
                    3716,
                    3284,
                    4204,
                    3735,
                    3218,
                    3685,
                    3704,
                    3214,
                    3394,
                    3233,
                    3352,
                    3391
                  ],
                  "xaxis": "x",
                  "y": [
                    1530,
                    1297,
                    1335,
                    1282,
                    1590,
                    1300,
                    1400,
                    1255,
                    1355,
                    1375,
                    1340,
                    1380,
                    1355,
                    1522,
                    1208,
                    1405,
                    1358,
                    1292,
                    1340,
                    1400,
                    1357,
                    1287,
                    1275,
                    1270,
                    1635,
                    1505,
                    1490,
                    1485,
                    1310,
                    1420,
                    1318,
                    1432,
                    1364,
                    1405,
                    1432,
                    1207,
                    1375,
                    1350,
                    1236,
                    1250,
                    1350,
                    1320,
                    1525,
                    1570,
                    1340,
                    1422,
                    1506,
                    1215,
                    1311,
                    1300,
                    1224,
                    1350,
                    1335,
                    1390,
                    1400,
                    1225,
                    1310,
                    1560,
                    1330,
                    1222,
                    1415,
                    1175,
                    1330,
                    1485,
                    1470,
                    1135,
                    1310,
                    1154,
                    1510,
                    1415,
                    1468,
                    1390,
                    1380,
                    1432,
                    1240,
                    1195,
                    1225,
                    1188,
                    1252,
                    1315,
                    1245,
                    1430,
                    1279,
                    1245,
                    1309,
                    1412,
                    1120,
                    1220,
                    1280,
                    1440,
                    1370,
                    1192,
                    1230,
                    1346,
                    1290,
                    1165,
                    1240,
                    1132,
                    1242,
                    1270,
                    1218,
                    1430,
                    1588,
                    1320,
                    1290,
                    1260,
                    1425,
                    1226,
                    1360,
                    1620,
                    1310,
                    1250,
                    1295,
                    1290,
                    1290,
                    1275,
                    1250,
                    1270,
                    1362,
                    1300,
                    1173,
                    1256,
                    1440,
                    1180,
                    1306,
                    1350,
                    1125,
                    1165,
                    1312,
                    1300,
                    1270,
                    1335,
                    1450,
                    1310,
                    1027,
                    1235,
                    1260,
                    1165,
                    1080,
                    1127,
                    1270,
                    1252,
                    1200,
                    1290,
                    1334,
                    1380,
                    1140,
                    1243,
                    1340,
                    1168,
                    1322,
                    1249,
                    1321,
                    1192,
                    1373,
                    1170,
                    1265,
                    1235,
                    1302,
                    1241,
                    1078,
                    1520,
                    1460,
                    1075,
                    1280,
                    1180,
                    1250,
                    1190,
                    1374,
                    1306,
                    1202,
                    1240,
                    1316,
                    1280,
                    1350,
                    1180,
                    1210,
                    1127,
                    1324,
                    1210,
                    1290,
                    1100,
                    1280,
                    1175,
                    1160,
                    1205,
                    1163,
                    1022,
                    1243,
                    1350,
                    1237,
                    1204,
                    1090,
                    1355,
                    1250,
                    1076,
                    1120,
                    1220,
                    1240,
                    1220,
                    1095,
                    1235,
                    1105,
                    1405,
                    1150,
                    1305,
                    1220,
                    1296,
                    1175,
                    955,
                    1070,
                    1320,
                    1060,
                    1130,
                    1250,
                    1225,
                    1180,
                    1178,
                    1142,
                    1130,
                    1185,
                    1012,
                    1280,
                    1103,
                    1408,
                    1300,
                    1246,
                    1380,
                    1350,
                    1060,
                    1350,
                    1220,
                    1110,
                    1215,
                    1104,
                    1170,
                    1120
                  ],
                  "yaxis": "y"
                }
              ],
              "layout": {
                "coloraxis": {
                  "colorbar": {
                    "title": {
                      "text": "color"
                    }
                  },
                  "colorscale": [
                    [
                      0,
                      "#0d0887"
                    ],
                    [
                      0.1111111111111111,
                      "#46039f"
                    ],
                    [
                      0.2222222222222222,
                      "#7201a8"
                    ],
                    [
                      0.3333333333333333,
                      "#9c179e"
                    ],
                    [
                      0.4444444444444444,
                      "#bd3786"
                    ],
                    [
                      0.5555555555555556,
                      "#d8576b"
                    ],
                    [
                      0.6666666666666666,
                      "#ed7953"
                    ],
                    [
                      0.7777777777777778,
                      "#fb9f3a"
                    ],
                    [
                      0.8888888888888888,
                      "#fdca26"
                    ],
                    [
                      1,
                      "#f0f921"
                    ]
                  ]
                },
                "legend": {
                  "tracegroupgap": 0
                },
                "margin": {
                  "t": 60
                },
                "template": {
                  "data": {
                    "bar": [
                      {
                        "error_x": {
                          "color": "#2a3f5f"
                        },
                        "error_y": {
                          "color": "#2a3f5f"
                        },
                        "marker": {
                          "line": {
                            "color": "#E5ECF6",
                            "width": 0.5
                          },
                          "pattern": {
                            "fillmode": "overlay",
                            "size": 10,
                            "solidity": 0.2
                          }
                        },
                        "type": "bar"
                      }
                    ],
                    "barpolar": [
                      {
                        "marker": {
                          "line": {
                            "color": "#E5ECF6",
                            "width": 0.5
                          },
                          "pattern": {
                            "fillmode": "overlay",
                            "size": 10,
                            "solidity": 0.2
                          }
                        },
                        "type": "barpolar"
                      }
                    ],
                    "carpet": [
                      {
                        "aaxis": {
                          "endlinecolor": "#2a3f5f",
                          "gridcolor": "white",
                          "linecolor": "white",
                          "minorgridcolor": "white",
                          "startlinecolor": "#2a3f5f"
                        },
                        "baxis": {
                          "endlinecolor": "#2a3f5f",
                          "gridcolor": "white",
                          "linecolor": "white",
                          "minorgridcolor": "white",
                          "startlinecolor": "#2a3f5f"
                        },
                        "type": "carpet"
                      }
                    ],
                    "choropleth": [
                      {
                        "colorbar": {
                          "outlinewidth": 0,
                          "ticks": ""
                        },
                        "type": "choropleth"
                      }
                    ],
                    "contour": [
                      {
                        "colorbar": {
                          "outlinewidth": 0,
                          "ticks": ""
                        },
                        "colorscale": [
                          [
                            0,
                            "#0d0887"
                          ],
                          [
                            0.1111111111111111,
                            "#46039f"
                          ],
                          [
                            0.2222222222222222,
                            "#7201a8"
                          ],
                          [
                            0.3333333333333333,
                            "#9c179e"
                          ],
                          [
                            0.4444444444444444,
                            "#bd3786"
                          ],
                          [
                            0.5555555555555556,
                            "#d8576b"
                          ],
                          [
                            0.6666666666666666,
                            "#ed7953"
                          ],
                          [
                            0.7777777777777778,
                            "#fb9f3a"
                          ],
                          [
                            0.8888888888888888,
                            "#fdca26"
                          ],
                          [
                            1,
                            "#f0f921"
                          ]
                        ],
                        "type": "contour"
                      }
                    ],
                    "contourcarpet": [
                      {
                        "colorbar": {
                          "outlinewidth": 0,
                          "ticks": ""
                        },
                        "type": "contourcarpet"
                      }
                    ],
                    "heatmap": [
                      {
                        "colorbar": {
                          "outlinewidth": 0,
                          "ticks": ""
                        },
                        "colorscale": [
                          [
                            0,
                            "#0d0887"
                          ],
                          [
                            0.1111111111111111,
                            "#46039f"
                          ],
                          [
                            0.2222222222222222,
                            "#7201a8"
                          ],
                          [
                            0.3333333333333333,
                            "#9c179e"
                          ],
                          [
                            0.4444444444444444,
                            "#bd3786"
                          ],
                          [
                            0.5555555555555556,
                            "#d8576b"
                          ],
                          [
                            0.6666666666666666,
                            "#ed7953"
                          ],
                          [
                            0.7777777777777778,
                            "#fb9f3a"
                          ],
                          [
                            0.8888888888888888,
                            "#fdca26"
                          ],
                          [
                            1,
                            "#f0f921"
                          ]
                        ],
                        "type": "heatmap"
                      }
                    ],
                    "heatmapgl": [
                      {
                        "colorbar": {
                          "outlinewidth": 0,
                          "ticks": ""
                        },
                        "colorscale": [
                          [
                            0,
                            "#0d0887"
                          ],
                          [
                            0.1111111111111111,
                            "#46039f"
                          ],
                          [
                            0.2222222222222222,
                            "#7201a8"
                          ],
                          [
                            0.3333333333333333,
                            "#9c179e"
                          ],
                          [
                            0.4444444444444444,
                            "#bd3786"
                          ],
                          [
                            0.5555555555555556,
                            "#d8576b"
                          ],
                          [
                            0.6666666666666666,
                            "#ed7953"
                          ],
                          [
                            0.7777777777777778,
                            "#fb9f3a"
                          ],
                          [
                            0.8888888888888888,
                            "#fdca26"
                          ],
                          [
                            1,
                            "#f0f921"
                          ]
                        ],
                        "type": "heatmapgl"
                      }
                    ],
                    "histogram": [
                      {
                        "marker": {
                          "pattern": {
                            "fillmode": "overlay",
                            "size": 10,
                            "solidity": 0.2
                          }
                        },
                        "type": "histogram"
                      }
                    ],
                    "histogram2d": [
                      {
                        "colorbar": {
                          "outlinewidth": 0,
                          "ticks": ""
                        },
                        "colorscale": [
                          [
                            0,
                            "#0d0887"
                          ],
                          [
                            0.1111111111111111,
                            "#46039f"
                          ],
                          [
                            0.2222222222222222,
                            "#7201a8"
                          ],
                          [
                            0.3333333333333333,
                            "#9c179e"
                          ],
                          [
                            0.4444444444444444,
                            "#bd3786"
                          ],
                          [
                            0.5555555555555556,
                            "#d8576b"
                          ],
                          [
                            0.6666666666666666,
                            "#ed7953"
                          ],
                          [
                            0.7777777777777778,
                            "#fb9f3a"
                          ],
                          [
                            0.8888888888888888,
                            "#fdca26"
                          ],
                          [
                            1,
                            "#f0f921"
                          ]
                        ],
                        "type": "histogram2d"
                      }
                    ],
                    "histogram2dcontour": [
                      {
                        "colorbar": {
                          "outlinewidth": 0,
                          "ticks": ""
                        },
                        "colorscale": [
                          [
                            0,
                            "#0d0887"
                          ],
                          [
                            0.1111111111111111,
                            "#46039f"
                          ],
                          [
                            0.2222222222222222,
                            "#7201a8"
                          ],
                          [
                            0.3333333333333333,
                            "#9c179e"
                          ],
                          [
                            0.4444444444444444,
                            "#bd3786"
                          ],
                          [
                            0.5555555555555556,
                            "#d8576b"
                          ],
                          [
                            0.6666666666666666,
                            "#ed7953"
                          ],
                          [
                            0.7777777777777778,
                            "#fb9f3a"
                          ],
                          [
                            0.8888888888888888,
                            "#fdca26"
                          ],
                          [
                            1,
                            "#f0f921"
                          ]
                        ],
                        "type": "histogram2dcontour"
                      }
                    ],
                    "mesh3d": [
                      {
                        "colorbar": {
                          "outlinewidth": 0,
                          "ticks": ""
                        },
                        "type": "mesh3d"
                      }
                    ],
                    "parcoords": [
                      {
                        "line": {
                          "colorbar": {
                            "outlinewidth": 0,
                            "ticks": ""
                          }
                        },
                        "type": "parcoords"
                      }
                    ],
                    "pie": [
                      {
                        "automargin": true,
                        "type": "pie"
                      }
                    ],
                    "scatter": [
                      {
                        "fillpattern": {
                          "fillmode": "overlay",
                          "size": 10,
                          "solidity": 0.2
                        },
                        "type": "scatter"
                      }
                    ],
                    "scatter3d": [
                      {
                        "line": {
                          "colorbar": {
                            "outlinewidth": 0,
                            "ticks": ""
                          }
                        },
                        "marker": {
                          "colorbar": {
                            "outlinewidth": 0,
                            "ticks": ""
                          }
                        },
                        "type": "scatter3d"
                      }
                    ],
                    "scattercarpet": [
                      {
                        "marker": {
                          "colorbar": {
                            "outlinewidth": 0,
                            "ticks": ""
                          }
                        },
                        "type": "scattercarpet"
                      }
                    ],
                    "scattergeo": [
                      {
                        "marker": {
                          "colorbar": {
                            "outlinewidth": 0,
                            "ticks": ""
                          }
                        },
                        "type": "scattergeo"
                      }
                    ],
                    "scattergl": [
                      {
                        "marker": {
                          "colorbar": {
                            "outlinewidth": 0,
                            "ticks": ""
                          }
                        },
                        "type": "scattergl"
                      }
                    ],
                    "scattermapbox": [
                      {
                        "marker": {
                          "colorbar": {
                            "outlinewidth": 0,
                            "ticks": ""
                          }
                        },
                        "type": "scattermapbox"
                      }
                    ],
                    "scatterpolar": [
                      {
                        "marker": {
                          "colorbar": {
                            "outlinewidth": 0,
                            "ticks": ""
                          }
                        },
                        "type": "scatterpolar"
                      }
                    ],
                    "scatterpolargl": [
                      {
                        "marker": {
                          "colorbar": {
                            "outlinewidth": 0,
                            "ticks": ""
                          }
                        },
                        "type": "scatterpolargl"
                      }
                    ],
                    "scatterternary": [
                      {
                        "marker": {
                          "colorbar": {
                            "outlinewidth": 0,
                            "ticks": ""
                          }
                        },
                        "type": "scatterternary"
                      }
                    ],
                    "surface": [
                      {
                        "colorbar": {
                          "outlinewidth": 0,
                          "ticks": ""
                        },
                        "colorscale": [
                          [
                            0,
                            "#0d0887"
                          ],
                          [
                            0.1111111111111111,
                            "#46039f"
                          ],
                          [
                            0.2222222222222222,
                            "#7201a8"
                          ],
                          [
                            0.3333333333333333,
                            "#9c179e"
                          ],
                          [
                            0.4444444444444444,
                            "#bd3786"
                          ],
                          [
                            0.5555555555555556,
                            "#d8576b"
                          ],
                          [
                            0.6666666666666666,
                            "#ed7953"
                          ],
                          [
                            0.7777777777777778,
                            "#fb9f3a"
                          ],
                          [
                            0.8888888888888888,
                            "#fdca26"
                          ],
                          [
                            1,
                            "#f0f921"
                          ]
                        ],
                        "type": "surface"
                      }
                    ],
                    "table": [
                      {
                        "cells": {
                          "fill": {
                            "color": "#EBF0F8"
                          },
                          "line": {
                            "color": "white"
                          }
                        },
                        "header": {
                          "fill": {
                            "color": "#C8D4E3"
                          },
                          "line": {
                            "color": "white"
                          }
                        },
                        "type": "table"
                      }
                    ]
                  },
                  "layout": {
                    "annotationdefaults": {
                      "arrowcolor": "#2a3f5f",
                      "arrowhead": 0,
                      "arrowwidth": 1
                    },
                    "autotypenumbers": "strict",
                    "coloraxis": {
                      "colorbar": {
                        "outlinewidth": 0,
                        "ticks": ""
                      }
                    },
                    "colorscale": {
                      "diverging": [
                        [
                          0,
                          "#8e0152"
                        ],
                        [
                          0.1,
                          "#c51b7d"
                        ],
                        [
                          0.2,
                          "#de77ae"
                        ],
                        [
                          0.3,
                          "#f1b6da"
                        ],
                        [
                          0.4,
                          "#fde0ef"
                        ],
                        [
                          0.5,
                          "#f7f7f7"
                        ],
                        [
                          0.6,
                          "#e6f5d0"
                        ],
                        [
                          0.7,
                          "#b8e186"
                        ],
                        [
                          0.8,
                          "#7fbc41"
                        ],
                        [
                          0.9,
                          "#4d9221"
                        ],
                        [
                          1,
                          "#276419"
                        ]
                      ],
                      "sequential": [
                        [
                          0,
                          "#0d0887"
                        ],
                        [
                          0.1111111111111111,
                          "#46039f"
                        ],
                        [
                          0.2222222222222222,
                          "#7201a8"
                        ],
                        [
                          0.3333333333333333,
                          "#9c179e"
                        ],
                        [
                          0.4444444444444444,
                          "#bd3786"
                        ],
                        [
                          0.5555555555555556,
                          "#d8576b"
                        ],
                        [
                          0.6666666666666666,
                          "#ed7953"
                        ],
                        [
                          0.7777777777777778,
                          "#fb9f3a"
                        ],
                        [
                          0.8888888888888888,
                          "#fdca26"
                        ],
                        [
                          1,
                          "#f0f921"
                        ]
                      ],
                      "sequentialminus": [
                        [
                          0,
                          "#0d0887"
                        ],
                        [
                          0.1111111111111111,
                          "#46039f"
                        ],
                        [
                          0.2222222222222222,
                          "#7201a8"
                        ],
                        [
                          0.3333333333333333,
                          "#9c179e"
                        ],
                        [
                          0.4444444444444444,
                          "#bd3786"
                        ],
                        [
                          0.5555555555555556,
                          "#d8576b"
                        ],
                        [
                          0.6666666666666666,
                          "#ed7953"
                        ],
                        [
                          0.7777777777777778,
                          "#fb9f3a"
                        ],
                        [
                          0.8888888888888888,
                          "#fdca26"
                        ],
                        [
                          1,
                          "#f0f921"
                        ]
                      ]
                    },
                    "colorway": [
                      "#636efa",
                      "#EF553B",
                      "#00cc96",
                      "#ab63fa",
                      "#FFA15A",
                      "#19d3f3",
                      "#FF6692",
                      "#B6E880",
                      "#FF97FF",
                      "#FECB52"
                    ],
                    "font": {
                      "color": "#2a3f5f"
                    },
                    "geo": {
                      "bgcolor": "white",
                      "lakecolor": "white",
                      "landcolor": "#E5ECF6",
                      "showlakes": true,
                      "showland": true,
                      "subunitcolor": "white"
                    },
                    "hoverlabel": {
                      "align": "left"
                    },
                    "hovermode": "closest",
                    "mapbox": {
                      "style": "light"
                    },
                    "paper_bgcolor": "white",
                    "plot_bgcolor": "#E5ECF6",
                    "polar": {
                      "angularaxis": {
                        "gridcolor": "white",
                        "linecolor": "white",
                        "ticks": ""
                      },
                      "bgcolor": "#E5ECF6",
                      "radialaxis": {
                        "gridcolor": "white",
                        "linecolor": "white",
                        "ticks": ""
                      }
                    },
                    "scene": {
                      "xaxis": {
                        "backgroundcolor": "#E5ECF6",
                        "gridcolor": "white",
                        "gridwidth": 2,
                        "linecolor": "white",
                        "showbackground": true,
                        "ticks": "",
                        "zerolinecolor": "white"
                      },
                      "yaxis": {
                        "backgroundcolor": "#E5ECF6",
                        "gridcolor": "white",
                        "gridwidth": 2,
                        "linecolor": "white",
                        "showbackground": true,
                        "ticks": "",
                        "zerolinecolor": "white"
                      },
                      "zaxis": {
                        "backgroundcolor": "#E5ECF6",
                        "gridcolor": "white",
                        "gridwidth": 2,
                        "linecolor": "white",
                        "showbackground": true,
                        "ticks": "",
                        "zerolinecolor": "white"
                      }
                    },
                    "shapedefaults": {
                      "line": {
                        "color": "#2a3f5f"
                      }
                    },
                    "ternary": {
                      "aaxis": {
                        "gridcolor": "white",
                        "linecolor": "white",
                        "ticks": ""
                      },
                      "baxis": {
                        "gridcolor": "white",
                        "linecolor": "white",
                        "ticks": ""
                      },
                      "bgcolor": "#E5ECF6",
                      "caxis": {
                        "gridcolor": "white",
                        "linecolor": "white",
                        "ticks": ""
                      }
                    },
                    "title": {
                      "x": 0.05
                    },
                    "xaxis": {
                      "automargin": true,
                      "gridcolor": "white",
                      "linecolor": "white",
                      "ticks": "",
                      "title": {
                        "standoff": 15
                      },
                      "zerolinecolor": "white",
                      "zerolinewidth": 2
                    },
                    "yaxis": {
                      "automargin": true,
                      "gridcolor": "white",
                      "linecolor": "white",
                      "ticks": "",
                      "title": {
                        "standoff": 15
                      },
                      "zerolinecolor": "white",
                      "zerolinewidth": 2
                    }
                  }
                },
                "xaxis": {
                  "anchor": "y",
                  "domain": [
                    0,
                    1
                  ],
                  "title": {
                    "text": "x"
                  }
                },
                "yaxis": {
                  "anchor": "x",
                  "domain": [
                    0,
                    1
                  ],
                  "title": {
                    "text": "y"
                  }
                }
              }
            }
          },
          "metadata": {},
          "output_type": "display_data"
        },
        {
          "data": {
            "application/vnd.plotly.v1+json": {
              "config": {
                "plotlyServerURL": "https://plot.ly"
              },
              "data": [
                {
                  "hovertemplate": "x=%{x}<br>y=%{y}<br>size=%{marker.size}<extra></extra>",
                  "legendgroup": "",
                  "marker": {
                    "color": "#636efa",
                    "size": [
                      7,
                      7,
                      7
                    ],
                    "sizemode": "area",
                    "sizeref": 0.0175,
                    "symbol": "circle"
                  },
                  "mode": "markers",
                  "name": "",
                  "orientation": "v",
                  "showlegend": false,
                  "type": "scatter",
                  "x": [
                    3248.1499999999996,
                    3680.4018691588785,
                    4152.0199999999995
                  ],
                  "xaxis": "x",
                  "y": [
                    1170.0749999999998,
                    1305.4392523364486,
                    1415.06
                  ],
                  "yaxis": "y"
                }
              ],
              "layout": {
                "legend": {
                  "itemsizing": "constant",
                  "tracegroupgap": 0
                },
                "margin": {
                  "t": 60
                },
                "template": {
                  "data": {
                    "bar": [
                      {
                        "error_x": {
                          "color": "#2a3f5f"
                        },
                        "error_y": {
                          "color": "#2a3f5f"
                        },
                        "marker": {
                          "line": {
                            "color": "#E5ECF6",
                            "width": 0.5
                          },
                          "pattern": {
                            "fillmode": "overlay",
                            "size": 10,
                            "solidity": 0.2
                          }
                        },
                        "type": "bar"
                      }
                    ],
                    "barpolar": [
                      {
                        "marker": {
                          "line": {
                            "color": "#E5ECF6",
                            "width": 0.5
                          },
                          "pattern": {
                            "fillmode": "overlay",
                            "size": 10,
                            "solidity": 0.2
                          }
                        },
                        "type": "barpolar"
                      }
                    ],
                    "carpet": [
                      {
                        "aaxis": {
                          "endlinecolor": "#2a3f5f",
                          "gridcolor": "white",
                          "linecolor": "white",
                          "minorgridcolor": "white",
                          "startlinecolor": "#2a3f5f"
                        },
                        "baxis": {
                          "endlinecolor": "#2a3f5f",
                          "gridcolor": "white",
                          "linecolor": "white",
                          "minorgridcolor": "white",
                          "startlinecolor": "#2a3f5f"
                        },
                        "type": "carpet"
                      }
                    ],
                    "choropleth": [
                      {
                        "colorbar": {
                          "outlinewidth": 0,
                          "ticks": ""
                        },
                        "type": "choropleth"
                      }
                    ],
                    "contour": [
                      {
                        "colorbar": {
                          "outlinewidth": 0,
                          "ticks": ""
                        },
                        "colorscale": [
                          [
                            0,
                            "#0d0887"
                          ],
                          [
                            0.1111111111111111,
                            "#46039f"
                          ],
                          [
                            0.2222222222222222,
                            "#7201a8"
                          ],
                          [
                            0.3333333333333333,
                            "#9c179e"
                          ],
                          [
                            0.4444444444444444,
                            "#bd3786"
                          ],
                          [
                            0.5555555555555556,
                            "#d8576b"
                          ],
                          [
                            0.6666666666666666,
                            "#ed7953"
                          ],
                          [
                            0.7777777777777778,
                            "#fb9f3a"
                          ],
                          [
                            0.8888888888888888,
                            "#fdca26"
                          ],
                          [
                            1,
                            "#f0f921"
                          ]
                        ],
                        "type": "contour"
                      }
                    ],
                    "contourcarpet": [
                      {
                        "colorbar": {
                          "outlinewidth": 0,
                          "ticks": ""
                        },
                        "type": "contourcarpet"
                      }
                    ],
                    "heatmap": [
                      {
                        "colorbar": {
                          "outlinewidth": 0,
                          "ticks": ""
                        },
                        "colorscale": [
                          [
                            0,
                            "#0d0887"
                          ],
                          [
                            0.1111111111111111,
                            "#46039f"
                          ],
                          [
                            0.2222222222222222,
                            "#7201a8"
                          ],
                          [
                            0.3333333333333333,
                            "#9c179e"
                          ],
                          [
                            0.4444444444444444,
                            "#bd3786"
                          ],
                          [
                            0.5555555555555556,
                            "#d8576b"
                          ],
                          [
                            0.6666666666666666,
                            "#ed7953"
                          ],
                          [
                            0.7777777777777778,
                            "#fb9f3a"
                          ],
                          [
                            0.8888888888888888,
                            "#fdca26"
                          ],
                          [
                            1,
                            "#f0f921"
                          ]
                        ],
                        "type": "heatmap"
                      }
                    ],
                    "heatmapgl": [
                      {
                        "colorbar": {
                          "outlinewidth": 0,
                          "ticks": ""
                        },
                        "colorscale": [
                          [
                            0,
                            "#0d0887"
                          ],
                          [
                            0.1111111111111111,
                            "#46039f"
                          ],
                          [
                            0.2222222222222222,
                            "#7201a8"
                          ],
                          [
                            0.3333333333333333,
                            "#9c179e"
                          ],
                          [
                            0.4444444444444444,
                            "#bd3786"
                          ],
                          [
                            0.5555555555555556,
                            "#d8576b"
                          ],
                          [
                            0.6666666666666666,
                            "#ed7953"
                          ],
                          [
                            0.7777777777777778,
                            "#fb9f3a"
                          ],
                          [
                            0.8888888888888888,
                            "#fdca26"
                          ],
                          [
                            1,
                            "#f0f921"
                          ]
                        ],
                        "type": "heatmapgl"
                      }
                    ],
                    "histogram": [
                      {
                        "marker": {
                          "pattern": {
                            "fillmode": "overlay",
                            "size": 10,
                            "solidity": 0.2
                          }
                        },
                        "type": "histogram"
                      }
                    ],
                    "histogram2d": [
                      {
                        "colorbar": {
                          "outlinewidth": 0,
                          "ticks": ""
                        },
                        "colorscale": [
                          [
                            0,
                            "#0d0887"
                          ],
                          [
                            0.1111111111111111,
                            "#46039f"
                          ],
                          [
                            0.2222222222222222,
                            "#7201a8"
                          ],
                          [
                            0.3333333333333333,
                            "#9c179e"
                          ],
                          [
                            0.4444444444444444,
                            "#bd3786"
                          ],
                          [
                            0.5555555555555556,
                            "#d8576b"
                          ],
                          [
                            0.6666666666666666,
                            "#ed7953"
                          ],
                          [
                            0.7777777777777778,
                            "#fb9f3a"
                          ],
                          [
                            0.8888888888888888,
                            "#fdca26"
                          ],
                          [
                            1,
                            "#f0f921"
                          ]
                        ],
                        "type": "histogram2d"
                      }
                    ],
                    "histogram2dcontour": [
                      {
                        "colorbar": {
                          "outlinewidth": 0,
                          "ticks": ""
                        },
                        "colorscale": [
                          [
                            0,
                            "#0d0887"
                          ],
                          [
                            0.1111111111111111,
                            "#46039f"
                          ],
                          [
                            0.2222222222222222,
                            "#7201a8"
                          ],
                          [
                            0.3333333333333333,
                            "#9c179e"
                          ],
                          [
                            0.4444444444444444,
                            "#bd3786"
                          ],
                          [
                            0.5555555555555556,
                            "#d8576b"
                          ],
                          [
                            0.6666666666666666,
                            "#ed7953"
                          ],
                          [
                            0.7777777777777778,
                            "#fb9f3a"
                          ],
                          [
                            0.8888888888888888,
                            "#fdca26"
                          ],
                          [
                            1,
                            "#f0f921"
                          ]
                        ],
                        "type": "histogram2dcontour"
                      }
                    ],
                    "mesh3d": [
                      {
                        "colorbar": {
                          "outlinewidth": 0,
                          "ticks": ""
                        },
                        "type": "mesh3d"
                      }
                    ],
                    "parcoords": [
                      {
                        "line": {
                          "colorbar": {
                            "outlinewidth": 0,
                            "ticks": ""
                          }
                        },
                        "type": "parcoords"
                      }
                    ],
                    "pie": [
                      {
                        "automargin": true,
                        "type": "pie"
                      }
                    ],
                    "scatter": [
                      {
                        "fillpattern": {
                          "fillmode": "overlay",
                          "size": 10,
                          "solidity": 0.2
                        },
                        "type": "scatter"
                      }
                    ],
                    "scatter3d": [
                      {
                        "line": {
                          "colorbar": {
                            "outlinewidth": 0,
                            "ticks": ""
                          }
                        },
                        "marker": {
                          "colorbar": {
                            "outlinewidth": 0,
                            "ticks": ""
                          }
                        },
                        "type": "scatter3d"
                      }
                    ],
                    "scattercarpet": [
                      {
                        "marker": {
                          "colorbar": {
                            "outlinewidth": 0,
                            "ticks": ""
                          }
                        },
                        "type": "scattercarpet"
                      }
                    ],
                    "scattergeo": [
                      {
                        "marker": {
                          "colorbar": {
                            "outlinewidth": 0,
                            "ticks": ""
                          }
                        },
                        "type": "scattergeo"
                      }
                    ],
                    "scattergl": [
                      {
                        "marker": {
                          "colorbar": {
                            "outlinewidth": 0,
                            "ticks": ""
                          }
                        },
                        "type": "scattergl"
                      }
                    ],
                    "scattermapbox": [
                      {
                        "marker": {
                          "colorbar": {
                            "outlinewidth": 0,
                            "ticks": ""
                          }
                        },
                        "type": "scattermapbox"
                      }
                    ],
                    "scatterpolar": [
                      {
                        "marker": {
                          "colorbar": {
                            "outlinewidth": 0,
                            "ticks": ""
                          }
                        },
                        "type": "scatterpolar"
                      }
                    ],
                    "scatterpolargl": [
                      {
                        "marker": {
                          "colorbar": {
                            "outlinewidth": 0,
                            "ticks": ""
                          }
                        },
                        "type": "scatterpolargl"
                      }
                    ],
                    "scatterternary": [
                      {
                        "marker": {
                          "colorbar": {
                            "outlinewidth": 0,
                            "ticks": ""
                          }
                        },
                        "type": "scatterternary"
                      }
                    ],
                    "surface": [
                      {
                        "colorbar": {
                          "outlinewidth": 0,
                          "ticks": ""
                        },
                        "colorscale": [
                          [
                            0,
                            "#0d0887"
                          ],
                          [
                            0.1111111111111111,
                            "#46039f"
                          ],
                          [
                            0.2222222222222222,
                            "#7201a8"
                          ],
                          [
                            0.3333333333333333,
                            "#9c179e"
                          ],
                          [
                            0.4444444444444444,
                            "#bd3786"
                          ],
                          [
                            0.5555555555555556,
                            "#d8576b"
                          ],
                          [
                            0.6666666666666666,
                            "#ed7953"
                          ],
                          [
                            0.7777777777777778,
                            "#fb9f3a"
                          ],
                          [
                            0.8888888888888888,
                            "#fdca26"
                          ],
                          [
                            1,
                            "#f0f921"
                          ]
                        ],
                        "type": "surface"
                      }
                    ],
                    "table": [
                      {
                        "cells": {
                          "fill": {
                            "color": "#EBF0F8"
                          },
                          "line": {
                            "color": "white"
                          }
                        },
                        "header": {
                          "fill": {
                            "color": "#C8D4E3"
                          },
                          "line": {
                            "color": "white"
                          }
                        },
                        "type": "table"
                      }
                    ]
                  },
                  "layout": {
                    "annotationdefaults": {
                      "arrowcolor": "#2a3f5f",
                      "arrowhead": 0,
                      "arrowwidth": 1
                    },
                    "autotypenumbers": "strict",
                    "coloraxis": {
                      "colorbar": {
                        "outlinewidth": 0,
                        "ticks": ""
                      }
                    },
                    "colorscale": {
                      "diverging": [
                        [
                          0,
                          "#8e0152"
                        ],
                        [
                          0.1,
                          "#c51b7d"
                        ],
                        [
                          0.2,
                          "#de77ae"
                        ],
                        [
                          0.3,
                          "#f1b6da"
                        ],
                        [
                          0.4,
                          "#fde0ef"
                        ],
                        [
                          0.5,
                          "#f7f7f7"
                        ],
                        [
                          0.6,
                          "#e6f5d0"
                        ],
                        [
                          0.7,
                          "#b8e186"
                        ],
                        [
                          0.8,
                          "#7fbc41"
                        ],
                        [
                          0.9,
                          "#4d9221"
                        ],
                        [
                          1,
                          "#276419"
                        ]
                      ],
                      "sequential": [
                        [
                          0,
                          "#0d0887"
                        ],
                        [
                          0.1111111111111111,
                          "#46039f"
                        ],
                        [
                          0.2222222222222222,
                          "#7201a8"
                        ],
                        [
                          0.3333333333333333,
                          "#9c179e"
                        ],
                        [
                          0.4444444444444444,
                          "#bd3786"
                        ],
                        [
                          0.5555555555555556,
                          "#d8576b"
                        ],
                        [
                          0.6666666666666666,
                          "#ed7953"
                        ],
                        [
                          0.7777777777777778,
                          "#fb9f3a"
                        ],
                        [
                          0.8888888888888888,
                          "#fdca26"
                        ],
                        [
                          1,
                          "#f0f921"
                        ]
                      ],
                      "sequentialminus": [
                        [
                          0,
                          "#0d0887"
                        ],
                        [
                          0.1111111111111111,
                          "#46039f"
                        ],
                        [
                          0.2222222222222222,
                          "#7201a8"
                        ],
                        [
                          0.3333333333333333,
                          "#9c179e"
                        ],
                        [
                          0.4444444444444444,
                          "#bd3786"
                        ],
                        [
                          0.5555555555555556,
                          "#d8576b"
                        ],
                        [
                          0.6666666666666666,
                          "#ed7953"
                        ],
                        [
                          0.7777777777777778,
                          "#fb9f3a"
                        ],
                        [
                          0.8888888888888888,
                          "#fdca26"
                        ],
                        [
                          1,
                          "#f0f921"
                        ]
                      ]
                    },
                    "colorway": [
                      "#636efa",
                      "#EF553B",
                      "#00cc96",
                      "#ab63fa",
                      "#FFA15A",
                      "#19d3f3",
                      "#FF6692",
                      "#B6E880",
                      "#FF97FF",
                      "#FECB52"
                    ],
                    "font": {
                      "color": "#2a3f5f"
                    },
                    "geo": {
                      "bgcolor": "white",
                      "lakecolor": "white",
                      "landcolor": "#E5ECF6",
                      "showlakes": true,
                      "showland": true,
                      "subunitcolor": "white"
                    },
                    "hoverlabel": {
                      "align": "left"
                    },
                    "hovermode": "closest",
                    "mapbox": {
                      "style": "light"
                    },
                    "paper_bgcolor": "white",
                    "plot_bgcolor": "#E5ECF6",
                    "polar": {
                      "angularaxis": {
                        "gridcolor": "white",
                        "linecolor": "white",
                        "ticks": ""
                      },
                      "bgcolor": "#E5ECF6",
                      "radialaxis": {
                        "gridcolor": "white",
                        "linecolor": "white",
                        "ticks": ""
                      }
                    },
                    "scene": {
                      "xaxis": {
                        "backgroundcolor": "#E5ECF6",
                        "gridcolor": "white",
                        "gridwidth": 2,
                        "linecolor": "white",
                        "showbackground": true,
                        "ticks": "",
                        "zerolinecolor": "white"
                      },
                      "yaxis": {
                        "backgroundcolor": "#E5ECF6",
                        "gridcolor": "white",
                        "gridwidth": 2,
                        "linecolor": "white",
                        "showbackground": true,
                        "ticks": "",
                        "zerolinecolor": "white"
                      },
                      "zaxis": {
                        "backgroundcolor": "#E5ECF6",
                        "gridcolor": "white",
                        "gridwidth": 2,
                        "linecolor": "white",
                        "showbackground": true,
                        "ticks": "",
                        "zerolinecolor": "white"
                      }
                    },
                    "shapedefaults": {
                      "line": {
                        "color": "#2a3f5f"
                      }
                    },
                    "ternary": {
                      "aaxis": {
                        "gridcolor": "white",
                        "linecolor": "white",
                        "ticks": ""
                      },
                      "baxis": {
                        "gridcolor": "white",
                        "linecolor": "white",
                        "ticks": ""
                      },
                      "bgcolor": "#E5ECF6",
                      "caxis": {
                        "gridcolor": "white",
                        "linecolor": "white",
                        "ticks": ""
                      }
                    },
                    "title": {
                      "x": 0.05
                    },
                    "xaxis": {
                      "automargin": true,
                      "gridcolor": "white",
                      "linecolor": "white",
                      "ticks": "",
                      "title": {
                        "standoff": 15
                      },
                      "zerolinecolor": "white",
                      "zerolinewidth": 2
                    },
                    "yaxis": {
                      "automargin": true,
                      "gridcolor": "white",
                      "linecolor": "white",
                      "ticks": "",
                      "title": {
                        "standoff": 15
                      },
                      "zerolinecolor": "white",
                      "zerolinewidth": 2
                    }
                  }
                },
                "xaxis": {
                  "anchor": "y",
                  "domain": [
                    0,
                    1
                  ],
                  "title": {
                    "text": "x"
                  }
                },
                "yaxis": {
                  "anchor": "x",
                  "domain": [
                    0,
                    1
                  ],
                  "title": {
                    "text": "y"
                  }
                }
              }
            }
          },
          "metadata": {},
          "output_type": "display_data"
        }
      ],
      "source": [
        "grafico_Head = px.scatter(x = df_HeadBrain_corrigido[:,0], y = df_HeadBrain_corrigido[:,1], color = label_cluster_head )\n",
        "grafico_Head.show()\n",
        "fig = px.scatter(x=df_cent[\"x\"], y=df_cent[\"y\"], size= [7,7,7])\n",
        "fig.show()"
      ]
    },
    {
      "cell_type": "code",
      "execution_count": 28,
      "metadata": {
        "colab": {
          "base_uri": "https://localhost:8080/",
          "height": 542
        },
        "id": "k5sTYITZqiZ9",
        "outputId": "1819a03b-e5e4-435a-99f4-8d2b396e3536"
      },
      "outputs": [
        {
          "data": {
            "application/vnd.plotly.v1+json": {
              "config": {
                "plotlyServerURL": "https://plot.ly"
              },
              "data": [
                {
                  "hovertemplate": "x=%{x}<br>y=%{y}<br>color=%{marker.color}<extra></extra>",
                  "legendgroup": "",
                  "marker": {
                    "color": [
                      2,
                      1,
                      2,
                      1,
                      2,
                      1,
                      1,
                      1,
                      1,
                      2,
                      1,
                      2,
                      1,
                      2,
                      1,
                      1,
                      1,
                      1,
                      0,
                      2,
                      1,
                      2,
                      1,
                      1,
                      2,
                      2,
                      2,
                      2,
                      1,
                      2,
                      1,
                      1,
                      2,
                      2,
                      2,
                      1,
                      1,
                      1,
                      0,
                      1,
                      2,
                      1,
                      2,
                      1,
                      1,
                      2,
                      2,
                      0,
                      1,
                      1,
                      1,
                      1,
                      2,
                      2,
                      2,
                      0,
                      1,
                      2,
                      2,
                      1,
                      1,
                      0,
                      2,
                      2,
                      1,
                      0,
                      0,
                      0,
                      2,
                      2,
                      2,
                      1,
                      2,
                      2,
                      1,
                      0,
                      1,
                      0,
                      1,
                      1,
                      1,
                      1,
                      0,
                      1,
                      2,
                      1,
                      0,
                      0,
                      1,
                      2,
                      2,
                      0,
                      1,
                      1,
                      1,
                      1,
                      1,
                      0,
                      1,
                      1,
                      1,
                      1,
                      2,
                      1,
                      1,
                      1,
                      2,
                      0,
                      1,
                      2,
                      1,
                      1,
                      1,
                      1,
                      0,
                      1,
                      1,
                      1,
                      2,
                      2,
                      0,
                      2,
                      2,
                      1,
                      2,
                      1,
                      0,
                      0,
                      2,
                      1,
                      1,
                      1,
                      2,
                      1,
                      0,
                      0,
                      1,
                      0,
                      0,
                      0,
                      1,
                      1,
                      0,
                      0,
                      1,
                      1,
                      0,
                      0,
                      1,
                      0,
                      0,
                      0,
                      1,
                      0,
                      1,
                      0,
                      0,
                      1,
                      2,
                      0,
                      0,
                      1,
                      1,
                      0,
                      1,
                      0,
                      0,
                      0,
                      1,
                      1,
                      0,
                      1,
                      1,
                      1,
                      1,
                      0,
                      1,
                      1,
                      2,
                      1,
                      1,
                      0,
                      2,
                      0,
                      0,
                      1,
                      1,
                      0,
                      0,
                      1,
                      0,
                      0,
                      0,
                      1,
                      1,
                      0,
                      0,
                      0,
                      1,
                      0,
                      0,
                      0,
                      0,
                      1,
                      0,
                      1,
                      0,
                      2,
                      0,
                      0,
                      0,
                      1,
                      0,
                      0,
                      1,
                      0,
                      0,
                      0,
                      0,
                      0,
                      0,
                      0,
                      1,
                      0,
                      1,
                      1,
                      0,
                      2,
                      1,
                      0,
                      1,
                      1,
                      0,
                      0,
                      0,
                      0,
                      0
                    ],
                    "coloraxis": "coloraxis",
                    "symbol": "circle"
                  },
                  "mode": "markers",
                  "name": "",
                  "orientation": "v",
                  "showlegend": false,
                  "type": "scatter",
                  "x": [
                    4512,
                    3738,
                    4261,
                    3777,
                    4177,
                    3585,
                    3785,
                    3559,
                    3613,
                    3982,
                    3443,
                    3993,
                    3640,
                    4208,
                    3832,
                    3876,
                    3497,
                    3466,
                    3095,
                    4424,
                    3878,
                    4046,
                    3804,
                    3710,
                    4747,
                    4423,
                    4036,
                    4022,
                    3454,
                    4175,
                    3787,
                    3796,
                    4103,
                    4161,
                    4158,
                    3814,
                    3527,
                    3748,
                    3334,
                    3492,
                    3962,
                    3505,
                    4315,
                    3804,
                    3863,
                    4034,
                    4308,
                    3165,
                    3641,
                    3644,
                    3891,
                    3793,
                    4270,
                    4063,
                    4012,
                    3458,
                    3890,
                    4166,
                    3935,
                    3669,
                    3866,
                    3393,
                    4442,
                    4253,
                    3727,
                    3329,
                    3415,
                    3372,
                    4430,
                    4381,
                    4008,
                    3858,
                    4121,
                    4057,
                    3824,
                    3394,
                    3558,
                    3362,
                    3930,
                    3835,
                    3830,
                    3856,
                    3249,
                    3577,
                    3933,
                    3850,
                    3309,
                    3406,
                    3506,
                    3907,
                    4160,
                    3318,
                    3662,
                    3899,
                    3700,
                    3779,
                    3473,
                    3490,
                    3654,
                    3478,
                    3495,
                    3834,
                    3876,
                    3661,
                    3618,
                    3648,
                    4032,
                    3399,
                    3916,
                    4430,
                    3695,
                    3524,
                    3571,
                    3594,
                    3383,
                    3499,
                    3589,
                    3900,
                    4114,
                    3937,
                    3399,
                    4200,
                    4488,
                    3614,
                    4051,
                    3782,
                    3391,
                    3124,
                    4053,
                    3582,
                    3666,
                    3532,
                    4046,
                    3667,
                    2857,
                    3436,
                    3791,
                    3302,
                    3104,
                    3171,
                    3572,
                    3530,
                    3175,
                    3438,
                    3903,
                    3899,
                    3401,
                    3267,
                    3451,
                    3090,
                    3413,
                    3323,
                    3680,
                    3439,
                    3853,
                    3156,
                    3279,
                    3707,
                    4006,
                    3269,
                    3071,
                    3779,
                    3548,
                    3292,
                    3497,
                    3082,
                    3248,
                    3358,
                    3803,
                    3566,
                    3145,
                    3503,
                    3571,
                    3724,
                    3615,
                    3203,
                    3609,
                    3561,
                    3979,
                    3533,
                    3689,
                    3158,
                    4005,
                    3181,
                    3479,
                    3642,
                    3632,
                    3069,
                    3394,
                    3703,
                    3165,
                    3354,
                    3000,
                    3687,
                    3556,
                    2773,
                    3058,
                    3344,
                    3493,
                    3297,
                    3360,
                    3228,
                    3277,
                    3851,
                    3067,
                    3692,
                    3402,
                    3995,
                    3318,
                    2720,
                    2937,
                    3580,
                    2939,
                    2989,
                    3586,
                    3156,
                    3246,
                    3170,
                    3268,
                    3389,
                    3381,
                    2864,
                    3740,
                    3479,
                    3647,
                    3716,
                    3284,
                    4204,
                    3735,
                    3218,
                    3685,
                    3704,
                    3214,
                    3394,
                    3233,
                    3352,
                    3391
                  ],
                  "xaxis": "x",
                  "y": [
                    1530,
                    1297,
                    1335,
                    1282,
                    1590,
                    1300,
                    1400,
                    1255,
                    1355,
                    1375,
                    1340,
                    1380,
                    1355,
                    1522,
                    1208,
                    1405,
                    1358,
                    1292,
                    1340,
                    1400,
                    1357,
                    1287,
                    1275,
                    1270,
                    1635,
                    1505,
                    1490,
                    1485,
                    1310,
                    1420,
                    1318,
                    1432,
                    1364,
                    1405,
                    1432,
                    1207,
                    1375,
                    1350,
                    1236,
                    1250,
                    1350,
                    1320,
                    1525,
                    1570,
                    1340,
                    1422,
                    1506,
                    1215,
                    1311,
                    1300,
                    1224,
                    1350,
                    1335,
                    1390,
                    1400,
                    1225,
                    1310,
                    1560,
                    1330,
                    1222,
                    1415,
                    1175,
                    1330,
                    1485,
                    1470,
                    1135,
                    1310,
                    1154,
                    1510,
                    1415,
                    1468,
                    1390,
                    1380,
                    1432,
                    1240,
                    1195,
                    1225,
                    1188,
                    1252,
                    1315,
                    1245,
                    1430,
                    1279,
                    1245,
                    1309,
                    1412,
                    1120,
                    1220,
                    1280,
                    1440,
                    1370,
                    1192,
                    1230,
                    1346,
                    1290,
                    1165,
                    1240,
                    1132,
                    1242,
                    1270,
                    1218,
                    1430,
                    1588,
                    1320,
                    1290,
                    1260,
                    1425,
                    1226,
                    1360,
                    1620,
                    1310,
                    1250,
                    1295,
                    1290,
                    1290,
                    1275,
                    1250,
                    1270,
                    1362,
                    1300,
                    1173,
                    1256,
                    1440,
                    1180,
                    1306,
                    1350,
                    1125,
                    1165,
                    1312,
                    1300,
                    1270,
                    1335,
                    1450,
                    1310,
                    1027,
                    1235,
                    1260,
                    1165,
                    1080,
                    1127,
                    1270,
                    1252,
                    1200,
                    1290,
                    1334,
                    1380,
                    1140,
                    1243,
                    1340,
                    1168,
                    1322,
                    1249,
                    1321,
                    1192,
                    1373,
                    1170,
                    1265,
                    1235,
                    1302,
                    1241,
                    1078,
                    1520,
                    1460,
                    1075,
                    1280,
                    1180,
                    1250,
                    1190,
                    1374,
                    1306,
                    1202,
                    1240,
                    1316,
                    1280,
                    1350,
                    1180,
                    1210,
                    1127,
                    1324,
                    1210,
                    1290,
                    1100,
                    1280,
                    1175,
                    1160,
                    1205,
                    1163,
                    1022,
                    1243,
                    1350,
                    1237,
                    1204,
                    1090,
                    1355,
                    1250,
                    1076,
                    1120,
                    1220,
                    1240,
                    1220,
                    1095,
                    1235,
                    1105,
                    1405,
                    1150,
                    1305,
                    1220,
                    1296,
                    1175,
                    955,
                    1070,
                    1320,
                    1060,
                    1130,
                    1250,
                    1225,
                    1180,
                    1178,
                    1142,
                    1130,
                    1185,
                    1012,
                    1280,
                    1103,
                    1408,
                    1300,
                    1246,
                    1380,
                    1350,
                    1060,
                    1350,
                    1220,
                    1110,
                    1215,
                    1104,
                    1170,
                    1120
                  ],
                  "yaxis": "y"
                },
                {
                  "hovertemplate": "x=%{x}<br>y=%{y}<br>size=%{marker.size}<extra></extra>",
                  "legendgroup": "",
                  "marker": {
                    "color": "#636efa",
                    "size": [
                      7,
                      7,
                      7
                    ],
                    "sizemode": "area",
                    "sizeref": 0.0175,
                    "symbol": "circle"
                  },
                  "mode": "markers",
                  "name": "",
                  "orientation": "v",
                  "showlegend": false,
                  "type": "scatter",
                  "x": [
                    3248.1499999999996,
                    3680.4018691588785,
                    4152.0199999999995
                  ],
                  "xaxis": "x",
                  "y": [
                    1170.0749999999998,
                    1305.4392523364486,
                    1415.06
                  ],
                  "yaxis": "y"
                }
              ],
              "layout": {
                "template": {
                  "data": {
                    "bar": [
                      {
                        "error_x": {
                          "color": "#2a3f5f"
                        },
                        "error_y": {
                          "color": "#2a3f5f"
                        },
                        "marker": {
                          "line": {
                            "color": "#E5ECF6",
                            "width": 0.5
                          },
                          "pattern": {
                            "fillmode": "overlay",
                            "size": 10,
                            "solidity": 0.2
                          }
                        },
                        "type": "bar"
                      }
                    ],
                    "barpolar": [
                      {
                        "marker": {
                          "line": {
                            "color": "#E5ECF6",
                            "width": 0.5
                          },
                          "pattern": {
                            "fillmode": "overlay",
                            "size": 10,
                            "solidity": 0.2
                          }
                        },
                        "type": "barpolar"
                      }
                    ],
                    "carpet": [
                      {
                        "aaxis": {
                          "endlinecolor": "#2a3f5f",
                          "gridcolor": "white",
                          "linecolor": "white",
                          "minorgridcolor": "white",
                          "startlinecolor": "#2a3f5f"
                        },
                        "baxis": {
                          "endlinecolor": "#2a3f5f",
                          "gridcolor": "white",
                          "linecolor": "white",
                          "minorgridcolor": "white",
                          "startlinecolor": "#2a3f5f"
                        },
                        "type": "carpet"
                      }
                    ],
                    "choropleth": [
                      {
                        "colorbar": {
                          "outlinewidth": 0,
                          "ticks": ""
                        },
                        "type": "choropleth"
                      }
                    ],
                    "contour": [
                      {
                        "colorbar": {
                          "outlinewidth": 0,
                          "ticks": ""
                        },
                        "colorscale": [
                          [
                            0,
                            "#0d0887"
                          ],
                          [
                            0.1111111111111111,
                            "#46039f"
                          ],
                          [
                            0.2222222222222222,
                            "#7201a8"
                          ],
                          [
                            0.3333333333333333,
                            "#9c179e"
                          ],
                          [
                            0.4444444444444444,
                            "#bd3786"
                          ],
                          [
                            0.5555555555555556,
                            "#d8576b"
                          ],
                          [
                            0.6666666666666666,
                            "#ed7953"
                          ],
                          [
                            0.7777777777777778,
                            "#fb9f3a"
                          ],
                          [
                            0.8888888888888888,
                            "#fdca26"
                          ],
                          [
                            1,
                            "#f0f921"
                          ]
                        ],
                        "type": "contour"
                      }
                    ],
                    "contourcarpet": [
                      {
                        "colorbar": {
                          "outlinewidth": 0,
                          "ticks": ""
                        },
                        "type": "contourcarpet"
                      }
                    ],
                    "heatmap": [
                      {
                        "colorbar": {
                          "outlinewidth": 0,
                          "ticks": ""
                        },
                        "colorscale": [
                          [
                            0,
                            "#0d0887"
                          ],
                          [
                            0.1111111111111111,
                            "#46039f"
                          ],
                          [
                            0.2222222222222222,
                            "#7201a8"
                          ],
                          [
                            0.3333333333333333,
                            "#9c179e"
                          ],
                          [
                            0.4444444444444444,
                            "#bd3786"
                          ],
                          [
                            0.5555555555555556,
                            "#d8576b"
                          ],
                          [
                            0.6666666666666666,
                            "#ed7953"
                          ],
                          [
                            0.7777777777777778,
                            "#fb9f3a"
                          ],
                          [
                            0.8888888888888888,
                            "#fdca26"
                          ],
                          [
                            1,
                            "#f0f921"
                          ]
                        ],
                        "type": "heatmap"
                      }
                    ],
                    "heatmapgl": [
                      {
                        "colorbar": {
                          "outlinewidth": 0,
                          "ticks": ""
                        },
                        "colorscale": [
                          [
                            0,
                            "#0d0887"
                          ],
                          [
                            0.1111111111111111,
                            "#46039f"
                          ],
                          [
                            0.2222222222222222,
                            "#7201a8"
                          ],
                          [
                            0.3333333333333333,
                            "#9c179e"
                          ],
                          [
                            0.4444444444444444,
                            "#bd3786"
                          ],
                          [
                            0.5555555555555556,
                            "#d8576b"
                          ],
                          [
                            0.6666666666666666,
                            "#ed7953"
                          ],
                          [
                            0.7777777777777778,
                            "#fb9f3a"
                          ],
                          [
                            0.8888888888888888,
                            "#fdca26"
                          ],
                          [
                            1,
                            "#f0f921"
                          ]
                        ],
                        "type": "heatmapgl"
                      }
                    ],
                    "histogram": [
                      {
                        "marker": {
                          "pattern": {
                            "fillmode": "overlay",
                            "size": 10,
                            "solidity": 0.2
                          }
                        },
                        "type": "histogram"
                      }
                    ],
                    "histogram2d": [
                      {
                        "colorbar": {
                          "outlinewidth": 0,
                          "ticks": ""
                        },
                        "colorscale": [
                          [
                            0,
                            "#0d0887"
                          ],
                          [
                            0.1111111111111111,
                            "#46039f"
                          ],
                          [
                            0.2222222222222222,
                            "#7201a8"
                          ],
                          [
                            0.3333333333333333,
                            "#9c179e"
                          ],
                          [
                            0.4444444444444444,
                            "#bd3786"
                          ],
                          [
                            0.5555555555555556,
                            "#d8576b"
                          ],
                          [
                            0.6666666666666666,
                            "#ed7953"
                          ],
                          [
                            0.7777777777777778,
                            "#fb9f3a"
                          ],
                          [
                            0.8888888888888888,
                            "#fdca26"
                          ],
                          [
                            1,
                            "#f0f921"
                          ]
                        ],
                        "type": "histogram2d"
                      }
                    ],
                    "histogram2dcontour": [
                      {
                        "colorbar": {
                          "outlinewidth": 0,
                          "ticks": ""
                        },
                        "colorscale": [
                          [
                            0,
                            "#0d0887"
                          ],
                          [
                            0.1111111111111111,
                            "#46039f"
                          ],
                          [
                            0.2222222222222222,
                            "#7201a8"
                          ],
                          [
                            0.3333333333333333,
                            "#9c179e"
                          ],
                          [
                            0.4444444444444444,
                            "#bd3786"
                          ],
                          [
                            0.5555555555555556,
                            "#d8576b"
                          ],
                          [
                            0.6666666666666666,
                            "#ed7953"
                          ],
                          [
                            0.7777777777777778,
                            "#fb9f3a"
                          ],
                          [
                            0.8888888888888888,
                            "#fdca26"
                          ],
                          [
                            1,
                            "#f0f921"
                          ]
                        ],
                        "type": "histogram2dcontour"
                      }
                    ],
                    "mesh3d": [
                      {
                        "colorbar": {
                          "outlinewidth": 0,
                          "ticks": ""
                        },
                        "type": "mesh3d"
                      }
                    ],
                    "parcoords": [
                      {
                        "line": {
                          "colorbar": {
                            "outlinewidth": 0,
                            "ticks": ""
                          }
                        },
                        "type": "parcoords"
                      }
                    ],
                    "pie": [
                      {
                        "automargin": true,
                        "type": "pie"
                      }
                    ],
                    "scatter": [
                      {
                        "fillpattern": {
                          "fillmode": "overlay",
                          "size": 10,
                          "solidity": 0.2
                        },
                        "type": "scatter"
                      }
                    ],
                    "scatter3d": [
                      {
                        "line": {
                          "colorbar": {
                            "outlinewidth": 0,
                            "ticks": ""
                          }
                        },
                        "marker": {
                          "colorbar": {
                            "outlinewidth": 0,
                            "ticks": ""
                          }
                        },
                        "type": "scatter3d"
                      }
                    ],
                    "scattercarpet": [
                      {
                        "marker": {
                          "colorbar": {
                            "outlinewidth": 0,
                            "ticks": ""
                          }
                        },
                        "type": "scattercarpet"
                      }
                    ],
                    "scattergeo": [
                      {
                        "marker": {
                          "colorbar": {
                            "outlinewidth": 0,
                            "ticks": ""
                          }
                        },
                        "type": "scattergeo"
                      }
                    ],
                    "scattergl": [
                      {
                        "marker": {
                          "colorbar": {
                            "outlinewidth": 0,
                            "ticks": ""
                          }
                        },
                        "type": "scattergl"
                      }
                    ],
                    "scattermapbox": [
                      {
                        "marker": {
                          "colorbar": {
                            "outlinewidth": 0,
                            "ticks": ""
                          }
                        },
                        "type": "scattermapbox"
                      }
                    ],
                    "scatterpolar": [
                      {
                        "marker": {
                          "colorbar": {
                            "outlinewidth": 0,
                            "ticks": ""
                          }
                        },
                        "type": "scatterpolar"
                      }
                    ],
                    "scatterpolargl": [
                      {
                        "marker": {
                          "colorbar": {
                            "outlinewidth": 0,
                            "ticks": ""
                          }
                        },
                        "type": "scatterpolargl"
                      }
                    ],
                    "scatterternary": [
                      {
                        "marker": {
                          "colorbar": {
                            "outlinewidth": 0,
                            "ticks": ""
                          }
                        },
                        "type": "scatterternary"
                      }
                    ],
                    "surface": [
                      {
                        "colorbar": {
                          "outlinewidth": 0,
                          "ticks": ""
                        },
                        "colorscale": [
                          [
                            0,
                            "#0d0887"
                          ],
                          [
                            0.1111111111111111,
                            "#46039f"
                          ],
                          [
                            0.2222222222222222,
                            "#7201a8"
                          ],
                          [
                            0.3333333333333333,
                            "#9c179e"
                          ],
                          [
                            0.4444444444444444,
                            "#bd3786"
                          ],
                          [
                            0.5555555555555556,
                            "#d8576b"
                          ],
                          [
                            0.6666666666666666,
                            "#ed7953"
                          ],
                          [
                            0.7777777777777778,
                            "#fb9f3a"
                          ],
                          [
                            0.8888888888888888,
                            "#fdca26"
                          ],
                          [
                            1,
                            "#f0f921"
                          ]
                        ],
                        "type": "surface"
                      }
                    ],
                    "table": [
                      {
                        "cells": {
                          "fill": {
                            "color": "#EBF0F8"
                          },
                          "line": {
                            "color": "white"
                          }
                        },
                        "header": {
                          "fill": {
                            "color": "#C8D4E3"
                          },
                          "line": {
                            "color": "white"
                          }
                        },
                        "type": "table"
                      }
                    ]
                  },
                  "layout": {
                    "annotationdefaults": {
                      "arrowcolor": "#2a3f5f",
                      "arrowhead": 0,
                      "arrowwidth": 1
                    },
                    "autotypenumbers": "strict",
                    "coloraxis": {
                      "colorbar": {
                        "outlinewidth": 0,
                        "ticks": ""
                      }
                    },
                    "colorscale": {
                      "diverging": [
                        [
                          0,
                          "#8e0152"
                        ],
                        [
                          0.1,
                          "#c51b7d"
                        ],
                        [
                          0.2,
                          "#de77ae"
                        ],
                        [
                          0.3,
                          "#f1b6da"
                        ],
                        [
                          0.4,
                          "#fde0ef"
                        ],
                        [
                          0.5,
                          "#f7f7f7"
                        ],
                        [
                          0.6,
                          "#e6f5d0"
                        ],
                        [
                          0.7,
                          "#b8e186"
                        ],
                        [
                          0.8,
                          "#7fbc41"
                        ],
                        [
                          0.9,
                          "#4d9221"
                        ],
                        [
                          1,
                          "#276419"
                        ]
                      ],
                      "sequential": [
                        [
                          0,
                          "#0d0887"
                        ],
                        [
                          0.1111111111111111,
                          "#46039f"
                        ],
                        [
                          0.2222222222222222,
                          "#7201a8"
                        ],
                        [
                          0.3333333333333333,
                          "#9c179e"
                        ],
                        [
                          0.4444444444444444,
                          "#bd3786"
                        ],
                        [
                          0.5555555555555556,
                          "#d8576b"
                        ],
                        [
                          0.6666666666666666,
                          "#ed7953"
                        ],
                        [
                          0.7777777777777778,
                          "#fb9f3a"
                        ],
                        [
                          0.8888888888888888,
                          "#fdca26"
                        ],
                        [
                          1,
                          "#f0f921"
                        ]
                      ],
                      "sequentialminus": [
                        [
                          0,
                          "#0d0887"
                        ],
                        [
                          0.1111111111111111,
                          "#46039f"
                        ],
                        [
                          0.2222222222222222,
                          "#7201a8"
                        ],
                        [
                          0.3333333333333333,
                          "#9c179e"
                        ],
                        [
                          0.4444444444444444,
                          "#bd3786"
                        ],
                        [
                          0.5555555555555556,
                          "#d8576b"
                        ],
                        [
                          0.6666666666666666,
                          "#ed7953"
                        ],
                        [
                          0.7777777777777778,
                          "#fb9f3a"
                        ],
                        [
                          0.8888888888888888,
                          "#fdca26"
                        ],
                        [
                          1,
                          "#f0f921"
                        ]
                      ]
                    },
                    "colorway": [
                      "#636efa",
                      "#EF553B",
                      "#00cc96",
                      "#ab63fa",
                      "#FFA15A",
                      "#19d3f3",
                      "#FF6692",
                      "#B6E880",
                      "#FF97FF",
                      "#FECB52"
                    ],
                    "font": {
                      "color": "#2a3f5f"
                    },
                    "geo": {
                      "bgcolor": "white",
                      "lakecolor": "white",
                      "landcolor": "#E5ECF6",
                      "showlakes": true,
                      "showland": true,
                      "subunitcolor": "white"
                    },
                    "hoverlabel": {
                      "align": "left"
                    },
                    "hovermode": "closest",
                    "mapbox": {
                      "style": "light"
                    },
                    "paper_bgcolor": "white",
                    "plot_bgcolor": "#E5ECF6",
                    "polar": {
                      "angularaxis": {
                        "gridcolor": "white",
                        "linecolor": "white",
                        "ticks": ""
                      },
                      "bgcolor": "#E5ECF6",
                      "radialaxis": {
                        "gridcolor": "white",
                        "linecolor": "white",
                        "ticks": ""
                      }
                    },
                    "scene": {
                      "xaxis": {
                        "backgroundcolor": "#E5ECF6",
                        "gridcolor": "white",
                        "gridwidth": 2,
                        "linecolor": "white",
                        "showbackground": true,
                        "ticks": "",
                        "zerolinecolor": "white"
                      },
                      "yaxis": {
                        "backgroundcolor": "#E5ECF6",
                        "gridcolor": "white",
                        "gridwidth": 2,
                        "linecolor": "white",
                        "showbackground": true,
                        "ticks": "",
                        "zerolinecolor": "white"
                      },
                      "zaxis": {
                        "backgroundcolor": "#E5ECF6",
                        "gridcolor": "white",
                        "gridwidth": 2,
                        "linecolor": "white",
                        "showbackground": true,
                        "ticks": "",
                        "zerolinecolor": "white"
                      }
                    },
                    "shapedefaults": {
                      "line": {
                        "color": "#2a3f5f"
                      }
                    },
                    "ternary": {
                      "aaxis": {
                        "gridcolor": "white",
                        "linecolor": "white",
                        "ticks": ""
                      },
                      "baxis": {
                        "gridcolor": "white",
                        "linecolor": "white",
                        "ticks": ""
                      },
                      "bgcolor": "#E5ECF6",
                      "caxis": {
                        "gridcolor": "white",
                        "linecolor": "white",
                        "ticks": ""
                      }
                    },
                    "title": {
                      "x": 0.05
                    },
                    "xaxis": {
                      "automargin": true,
                      "gridcolor": "white",
                      "linecolor": "white",
                      "ticks": "",
                      "title": {
                        "standoff": 15
                      },
                      "zerolinecolor": "white",
                      "zerolinewidth": 2
                    },
                    "yaxis": {
                      "automargin": true,
                      "gridcolor": "white",
                      "linecolor": "white",
                      "ticks": "",
                      "title": {
                        "standoff": 15
                      },
                      "zerolinecolor": "white",
                      "zerolinewidth": 2
                    }
                  }
                }
              }
            }
          },
          "metadata": {},
          "output_type": "display_data"
        }
      ],
      "source": [
        "\n",
        "graf_fin = go.Figure(data = grafico_Head.data + fig.data)\n",
        "graf_fin.show()"
      ]
    },
    {
      "cell_type": "code",
      "execution_count": 29,
      "metadata": {
        "colab": {
          "base_uri": "https://localhost:8080/",
          "height": 424
        },
        "id": "mCqaAu0jr0Ml",
        "outputId": "a6dc9341-f46b-4001-b7ce-e5fb7bc3b035"
      },
      "outputs": [
        {
          "data": {
            "text/html": [
              "<div>\n",
              "<style scoped>\n",
              "    .dataframe tbody tr th:only-of-type {\n",
              "        vertical-align: middle;\n",
              "    }\n",
              "\n",
              "    .dataframe tbody tr th {\n",
              "        vertical-align: top;\n",
              "    }\n",
              "\n",
              "    .dataframe thead th {\n",
              "        text-align: right;\n",
              "    }\n",
              "</style>\n",
              "<table border=\"1\" class=\"dataframe\">\n",
              "  <thead>\n",
              "    <tr style=\"text-align: right;\">\n",
              "      <th></th>\n",
              "      <th>cod_paciente</th>\n",
              "      <th>Cluster</th>\n",
              "    </tr>\n",
              "  </thead>\n",
              "  <tbody>\n",
              "    <tr>\n",
              "      <th>0</th>\n",
              "      <td>1</td>\n",
              "      <td>2</td>\n",
              "    </tr>\n",
              "    <tr>\n",
              "      <th>1</th>\n",
              "      <td>2</td>\n",
              "      <td>1</td>\n",
              "    </tr>\n",
              "    <tr>\n",
              "      <th>2</th>\n",
              "      <td>3</td>\n",
              "      <td>2</td>\n",
              "    </tr>\n",
              "    <tr>\n",
              "      <th>3</th>\n",
              "      <td>4</td>\n",
              "      <td>1</td>\n",
              "    </tr>\n",
              "    <tr>\n",
              "      <th>4</th>\n",
              "      <td>5</td>\n",
              "      <td>2</td>\n",
              "    </tr>\n",
              "    <tr>\n",
              "      <th>...</th>\n",
              "      <td>...</td>\n",
              "      <td>...</td>\n",
              "    </tr>\n",
              "    <tr>\n",
              "      <th>232</th>\n",
              "      <td>233</td>\n",
              "      <td>0</td>\n",
              "    </tr>\n",
              "    <tr>\n",
              "      <th>233</th>\n",
              "      <td>234</td>\n",
              "      <td>0</td>\n",
              "    </tr>\n",
              "    <tr>\n",
              "      <th>234</th>\n",
              "      <td>235</td>\n",
              "      <td>0</td>\n",
              "    </tr>\n",
              "    <tr>\n",
              "      <th>235</th>\n",
              "      <td>236</td>\n",
              "      <td>0</td>\n",
              "    </tr>\n",
              "    <tr>\n",
              "      <th>236</th>\n",
              "      <td>237</td>\n",
              "      <td>0</td>\n",
              "    </tr>\n",
              "  </tbody>\n",
              "</table>\n",
              "<p>237 rows × 2 columns</p>\n",
              "</div>"
            ],
            "text/plain": [
              "     cod_paciente  Cluster\n",
              "0               1        2\n",
              "1               2        1\n",
              "2               3        2\n",
              "3               4        1\n",
              "4               5        2\n",
              "..            ...      ...\n",
              "232           233        0\n",
              "233           234        0\n",
              "234           235        0\n",
              "235           236        0\n",
              "236           237        0\n",
              "\n",
              "[237 rows x 2 columns]"
            ]
          },
          "execution_count": 29,
          "metadata": {},
          "output_type": "execute_result"
        }
      ],
      "source": [
        "#Preparação para a Pergunta 6\n",
        "df_Label = pd.DataFrame(label_cluster_head)\n",
        "df_Label.rename(columns = {'': \"cod_paciente\", 0: \"Cluster\"}, inplace = True)\n",
        "df_Label.insert(0, 'cod_paciente', range(1, len(df_Label)+1))\n",
        "df_Label"
      ]
    },
    {
      "cell_type": "code",
      "execution_count": 30,
      "metadata": {
        "colab": {
          "base_uri": "https://localhost:8080/",
          "height": 635
        },
        "id": "qp3FuTtQRNKC",
        "outputId": "c1533e0c-57fb-4a39-8a1c-75d00370ccc8"
      },
      "outputs": [
        {
          "data": {
            "text/html": [
              "<div>\n",
              "<style scoped>\n",
              "    .dataframe tbody tr th:only-of-type {\n",
              "        vertical-align: middle;\n",
              "    }\n",
              "\n",
              "    .dataframe tbody tr th {\n",
              "        vertical-align: top;\n",
              "    }\n",
              "\n",
              "    .dataframe thead th {\n",
              "        text-align: right;\n",
              "    }\n",
              "</style>\n",
              "<table border=\"1\" class=\"dataframe\">\n",
              "  <thead>\n",
              "    <tr style=\"text-align: right;\">\n",
              "      <th></th>\n",
              "      <th>cod_paciente</th>\n",
              "      <th>genero</th>\n",
              "      <th>Head Size(cm^3)</th>\n",
              "      <th>Brain Weight(grams)</th>\n",
              "      <th>idade</th>\n",
              "      <th>classe_trabalho</th>\n",
              "      <th>escolaridade</th>\n",
              "      <th>id_estado</th>\n",
              "      <th>estado_civil</th>\n",
              "      <th>raca</th>\n",
              "      <th>qtde_filhos</th>\n",
              "      <th>salario</th>\n",
              "      <th>Cluster</th>\n",
              "    </tr>\n",
              "  </thead>\n",
              "  <tbody>\n",
              "    <tr>\n",
              "      <th>0</th>\n",
              "      <td>1</td>\n",
              "      <td>Masculino</td>\n",
              "      <td>4512</td>\n",
              "      <td>1530</td>\n",
              "      <td>39</td>\n",
              "      <td>Servidor PÃºblico</td>\n",
              "      <td>Ensino MÃ©dio Completo</td>\n",
              "      <td>2</td>\n",
              "      <td>Solteiro</td>\n",
              "      <td>Branco</td>\n",
              "      <td>2.00</td>\n",
              "      <td>4754</td>\n",
              "      <td>2</td>\n",
              "    </tr>\n",
              "    <tr>\n",
              "      <th>1</th>\n",
              "      <td>2</td>\n",
              "      <td>Masculino</td>\n",
              "      <td>3738</td>\n",
              "      <td>1297</td>\n",
              "      <td>50</td>\n",
              "      <td>AutÃ´nomo</td>\n",
              "      <td>Superior Incompleto</td>\n",
              "      <td>24</td>\n",
              "      <td>Casado</td>\n",
              "      <td>Branco</td>\n",
              "      <td>1.00</td>\n",
              "      <td>3923</td>\n",
              "      <td>1</td>\n",
              "    </tr>\n",
              "    <tr>\n",
              "      <th>2</th>\n",
              "      <td>3</td>\n",
              "      <td>Masculino</td>\n",
              "      <td>4261</td>\n",
              "      <td>1335</td>\n",
              "      <td>38</td>\n",
              "      <td>FuncionÃ¡rio Setor Privado</td>\n",
              "      <td>Ensino MÃ©dio Incompleto</td>\n",
              "      <td>4</td>\n",
              "      <td>Divorciado</td>\n",
              "      <td>Branco</td>\n",
              "      <td>0.00</td>\n",
              "      <td>1100</td>\n",
              "      <td>2</td>\n",
              "    </tr>\n",
              "    <tr>\n",
              "      <th>3</th>\n",
              "      <td>4</td>\n",
              "      <td>Masculino</td>\n",
              "      <td>3777</td>\n",
              "      <td>1282</td>\n",
              "      <td>53</td>\n",
              "      <td>FuncionÃ¡rio Setor Privado</td>\n",
              "      <td>Ensino MÃ©dio Incompleto</td>\n",
              "      <td>24</td>\n",
              "      <td>Casado</td>\n",
              "      <td>Negro</td>\n",
              "      <td>1.00</td>\n",
              "      <td>1100</td>\n",
              "      <td>1</td>\n",
              "    </tr>\n",
              "    <tr>\n",
              "      <th>4</th>\n",
              "      <td>5</td>\n",
              "      <td>Masculino</td>\n",
              "      <td>4177</td>\n",
              "      <td>1590</td>\n",
              "      <td>28</td>\n",
              "      <td>FuncionÃ¡rio Setor Privado</td>\n",
              "      <td>Ensino MÃ©dio Completo</td>\n",
              "      <td>15</td>\n",
              "      <td>Casado</td>\n",
              "      <td>Negro</td>\n",
              "      <td>0.00</td>\n",
              "      <td>3430</td>\n",
              "      <td>2</td>\n",
              "    </tr>\n",
              "    <tr>\n",
              "      <th>...</th>\n",
              "      <td>...</td>\n",
              "      <td>...</td>\n",
              "      <td>...</td>\n",
              "      <td>...</td>\n",
              "      <td>...</td>\n",
              "      <td>...</td>\n",
              "      <td>...</td>\n",
              "      <td>...</td>\n",
              "      <td>...</td>\n",
              "      <td>...</td>\n",
              "      <td>...</td>\n",
              "      <td>...</td>\n",
              "      <td>...</td>\n",
              "    </tr>\n",
              "    <tr>\n",
              "      <th>232</th>\n",
              "      <td>233</td>\n",
              "      <td>Feminino</td>\n",
              "      <td>3214</td>\n",
              "      <td>1110</td>\n",
              "      <td>33</td>\n",
              "      <td>FuncionÃ¡rio Setor Privado</td>\n",
              "      <td>Ensino MÃ©dio Completo</td>\n",
              "      <td>16</td>\n",
              "      <td>Divorciado</td>\n",
              "      <td>Amarelo</td>\n",
              "      <td>0.00</td>\n",
              "      <td>3565</td>\n",
              "      <td>0</td>\n",
              "    </tr>\n",
              "    <tr>\n",
              "      <th>233</th>\n",
              "      <td>234</td>\n",
              "      <td>Feminino</td>\n",
              "      <td>3394</td>\n",
              "      <td>1215</td>\n",
              "      <td>28</td>\n",
              "      <td>FuncionÃ¡rio Setor Privado</td>\n",
              "      <td>Mestrado</td>\n",
              "      <td>26</td>\n",
              "      <td>Solteiro</td>\n",
              "      <td>Branco</td>\n",
              "      <td>2.41</td>\n",
              "      <td>10671</td>\n",
              "      <td>0</td>\n",
              "    </tr>\n",
              "    <tr>\n",
              "      <th>234</th>\n",
              "      <td>235</td>\n",
              "      <td>Feminino</td>\n",
              "      <td>3233</td>\n",
              "      <td>1104</td>\n",
              "      <td>59</td>\n",
              "      <td>Servidor PÃºblico</td>\n",
              "      <td>Ensino MÃ©dio Incompleto</td>\n",
              "      <td>26</td>\n",
              "      <td>Casado</td>\n",
              "      <td>Branco</td>\n",
              "      <td>1.00</td>\n",
              "      <td>1964</td>\n",
              "      <td>0</td>\n",
              "    </tr>\n",
              "    <tr>\n",
              "      <th>235</th>\n",
              "      <td>236</td>\n",
              "      <td>Feminino</td>\n",
              "      <td>3352</td>\n",
              "      <td>1170</td>\n",
              "      <td>40</td>\n",
              "      <td>Servidor PÃºblico</td>\n",
              "      <td>Ensino MÃ©dio Completo</td>\n",
              "      <td>7</td>\n",
              "      <td>Solteiro</td>\n",
              "      <td>Branco</td>\n",
              "      <td>1.00</td>\n",
              "      <td>3951</td>\n",
              "      <td>0</td>\n",
              "    </tr>\n",
              "    <tr>\n",
              "      <th>236</th>\n",
              "      <td>237</td>\n",
              "      <td>Feminino</td>\n",
              "      <td>3391</td>\n",
              "      <td>1120</td>\n",
              "      <td>41</td>\n",
              "      <td>FuncionÃ¡rio Setor Privado</td>\n",
              "      <td>Ensino MÃ©dio Completo</td>\n",
              "      <td>15</td>\n",
              "      <td>Casado</td>\n",
              "      <td>Branco</td>\n",
              "      <td>2.00</td>\n",
              "      <td>2324</td>\n",
              "      <td>0</td>\n",
              "    </tr>\n",
              "  </tbody>\n",
              "</table>\n",
              "<p>237 rows × 13 columns</p>\n",
              "</div>"
            ],
            "text/plain": [
              "     cod_paciente     genero  Head Size(cm^3)  Brain Weight(grams)  idade  \\\n",
              "0               1  Masculino             4512                 1530     39   \n",
              "1               2  Masculino             3738                 1297     50   \n",
              "2               3  Masculino             4261                 1335     38   \n",
              "3               4  Masculino             3777                 1282     53   \n",
              "4               5  Masculino             4177                 1590     28   \n",
              "..            ...        ...              ...                  ...    ...   \n",
              "232           233   Feminino             3214                 1110     33   \n",
              "233           234   Feminino             3394                 1215     28   \n",
              "234           235   Feminino             3233                 1104     59   \n",
              "235           236   Feminino             3352                 1170     40   \n",
              "236           237   Feminino             3391                 1120     41   \n",
              "\n",
              "                classe_trabalho              escolaridade  id_estado  \\\n",
              "0             Servidor PÃºblico    Ensino MÃ©dio Completo          2   \n",
              "1                     AutÃ´nomo       Superior Incompleto         24   \n",
              "2    FuncionÃ¡rio Setor Privado  Ensino MÃ©dio Incompleto          4   \n",
              "3    FuncionÃ¡rio Setor Privado  Ensino MÃ©dio Incompleto         24   \n",
              "4    FuncionÃ¡rio Setor Privado    Ensino MÃ©dio Completo         15   \n",
              "..                          ...                       ...        ...   \n",
              "232  FuncionÃ¡rio Setor Privado    Ensino MÃ©dio Completo         16   \n",
              "233  FuncionÃ¡rio Setor Privado                  Mestrado         26   \n",
              "234           Servidor PÃºblico  Ensino MÃ©dio Incompleto         26   \n",
              "235           Servidor PÃºblico    Ensino MÃ©dio Completo          7   \n",
              "236  FuncionÃ¡rio Setor Privado    Ensino MÃ©dio Completo         15   \n",
              "\n",
              "    estado_civil     raca  qtde_filhos  salario  Cluster  \n",
              "0       Solteiro   Branco         2.00     4754        2  \n",
              "1         Casado   Branco         1.00     3923        1  \n",
              "2     Divorciado   Branco         0.00     1100        2  \n",
              "3         Casado    Negro         1.00     1100        1  \n",
              "4         Casado    Negro         0.00     3430        2  \n",
              "..           ...      ...          ...      ...      ...  \n",
              "232   Divorciado  Amarelo         0.00     3565        0  \n",
              "233     Solteiro   Branco         2.41    10671        0  \n",
              "234       Casado   Branco         1.00     1964        0  \n",
              "235     Solteiro   Branco         1.00     3951        0  \n",
              "236       Casado   Branco         2.00     2324        0  \n",
              "\n",
              "[237 rows x 13 columns]"
            ]
          },
          "execution_count": 30,
          "metadata": {},
          "output_type": "execute_result"
        }
      ],
      "source": [
        "df_merge = pd.merge(df_combined, df_Label, on=\"cod_paciente\", how=\"left\")\n",
        "df_merge\n"
      ]
    },
    {
      "cell_type": "code",
      "execution_count": 31,
      "metadata": {
        "colab": {
          "base_uri": "https://localhost:8080/",
          "height": 175
        },
        "id": "fa-6ncpCTdYF",
        "outputId": "4f22fdd4-cc57-4a20-b19f-dd2336810071"
      },
      "outputs": [
        {
          "data": {
            "text/html": [
              "<div>\n",
              "<style scoped>\n",
              "    .dataframe tbody tr th:only-of-type {\n",
              "        vertical-align: middle;\n",
              "    }\n",
              "\n",
              "    .dataframe tbody tr th {\n",
              "        vertical-align: top;\n",
              "    }\n",
              "\n",
              "    .dataframe thead th {\n",
              "        text-align: right;\n",
              "    }\n",
              "</style>\n",
              "<table border=\"1\" class=\"dataframe\">\n",
              "  <thead>\n",
              "    <tr style=\"text-align: right;\">\n",
              "      <th></th>\n",
              "      <th>count</th>\n",
              "      <th>mean</th>\n",
              "      <th>std</th>\n",
              "      <th>min</th>\n",
              "      <th>25%</th>\n",
              "      <th>50%</th>\n",
              "      <th>75%</th>\n",
              "      <th>max</th>\n",
              "    </tr>\n",
              "    <tr>\n",
              "      <th>Cluster</th>\n",
              "      <th></th>\n",
              "      <th></th>\n",
              "      <th></th>\n",
              "      <th></th>\n",
              "      <th></th>\n",
              "      <th></th>\n",
              "      <th></th>\n",
              "      <th></th>\n",
              "    </tr>\n",
              "  </thead>\n",
              "  <tbody>\n",
              "    <tr>\n",
              "      <th>0</th>\n",
              "      <td>80.0</td>\n",
              "      <td>3248.150000</td>\n",
              "      <td>168.631206</td>\n",
              "      <td>2720.0</td>\n",
              "      <td>3157.5</td>\n",
              "      <td>3281.5</td>\n",
              "      <td>3389.5</td>\n",
              "      <td>3490.0</td>\n",
              "    </tr>\n",
              "    <tr>\n",
              "      <th>1</th>\n",
              "      <td>107.0</td>\n",
              "      <td>3680.401869</td>\n",
              "      <td>134.637519</td>\n",
              "      <td>3443.0</td>\n",
              "      <td>3571.0</td>\n",
              "      <td>3669.0</td>\n",
              "      <td>3794.5</td>\n",
              "      <td>3930.0</td>\n",
              "    </tr>\n",
              "    <tr>\n",
              "      <th>2</th>\n",
              "      <td>50.0</td>\n",
              "      <td>4152.020000</td>\n",
              "      <td>189.529115</td>\n",
              "      <td>3876.0</td>\n",
              "      <td>4009.0</td>\n",
              "      <td>4108.5</td>\n",
              "      <td>4259.0</td>\n",
              "      <td>4747.0</td>\n",
              "    </tr>\n",
              "  </tbody>\n",
              "</table>\n",
              "</div>"
            ],
            "text/plain": [
              "         count         mean         std     min     25%     50%     75%  \\\n",
              "Cluster                                                                   \n",
              "0         80.0  3248.150000  168.631206  2720.0  3157.5  3281.5  3389.5   \n",
              "1        107.0  3680.401869  134.637519  3443.0  3571.0  3669.0  3794.5   \n",
              "2         50.0  4152.020000  189.529115  3876.0  4009.0  4108.5  4259.0   \n",
              "\n",
              "            max  \n",
              "Cluster          \n",
              "0        3490.0  \n",
              "1        3930.0  \n",
              "2        4747.0  "
            ]
          },
          "execution_count": 31,
          "metadata": {},
          "output_type": "execute_result"
        }
      ],
      "source": [
        "df_merge.groupby(\"Cluster\")[\"Head Size(cm^3)\"].describe()"
      ]
    },
    {
      "cell_type": "code",
      "execution_count": 32,
      "metadata": {
        "colab": {
          "base_uri": "https://localhost:8080/",
          "height": 1000
        },
        "id": "VJGoqPzyklw8",
        "outputId": "cdf16654-f9eb-4498-daf7-2b5865620446"
      },
      "outputs": [
        {
          "data": {
            "application/vnd.plotly.v1+json": {
              "config": {
                "plotlyServerURL": "https://plot.ly"
              },
              "data": [
                {
                  "alignmentgroup": "True",
                  "bingroup": "x",
                  "hovertemplate": "Cluster=%{x}<br>count=%{y}<extra></extra>",
                  "legendgroup": "",
                  "marker": {
                    "color": "#636efa",
                    "pattern": {
                      "shape": ""
                    }
                  },
                  "name": "",
                  "nbinsx": 10,
                  "offsetgroup": "",
                  "orientation": "v",
                  "showlegend": false,
                  "type": "histogram",
                  "x": [
                    2,
                    1,
                    2,
                    1,
                    2,
                    1,
                    1,
                    1,
                    1,
                    2,
                    1,
                    2,
                    1,
                    2,
                    1,
                    1,
                    1,
                    1,
                    0,
                    2,
                    1,
                    2,
                    1,
                    1,
                    2,
                    2,
                    2,
                    2,
                    1,
                    2,
                    1,
                    1,
                    2,
                    2,
                    2,
                    1,
                    1,
                    1,
                    0,
                    1,
                    2,
                    1,
                    2,
                    1,
                    1,
                    2,
                    2,
                    0,
                    1,
                    1,
                    1,
                    1,
                    2,
                    2,
                    2,
                    0,
                    1,
                    2,
                    2,
                    1,
                    1,
                    0,
                    2,
                    2,
                    1,
                    0,
                    0,
                    0,
                    2,
                    2,
                    2,
                    1,
                    2,
                    2,
                    1,
                    0,
                    1,
                    0,
                    1,
                    1,
                    1,
                    1,
                    0,
                    1,
                    2,
                    1,
                    0,
                    0,
                    1,
                    2,
                    2,
                    0,
                    1,
                    1,
                    1,
                    1,
                    1,
                    0,
                    1,
                    1,
                    1,
                    1,
                    2,
                    1,
                    1,
                    1,
                    2,
                    0,
                    1,
                    2,
                    1,
                    1,
                    1,
                    1,
                    0,
                    1,
                    1,
                    1,
                    2,
                    2,
                    0,
                    2,
                    2,
                    1,
                    2,
                    1,
                    0,
                    0,
                    2,
                    1,
                    1,
                    1,
                    2,
                    1,
                    0,
                    0,
                    1,
                    0,
                    0,
                    0,
                    1,
                    1,
                    0,
                    0,
                    1,
                    1,
                    0,
                    0,
                    1,
                    0,
                    0,
                    0,
                    1,
                    0,
                    1,
                    0,
                    0,
                    1,
                    2,
                    0,
                    0,
                    1,
                    1,
                    0,
                    1,
                    0,
                    0,
                    0,
                    1,
                    1,
                    0,
                    1,
                    1,
                    1,
                    1,
                    0,
                    1,
                    1,
                    2,
                    1,
                    1,
                    0,
                    2,
                    0,
                    0,
                    1,
                    1,
                    0,
                    0,
                    1,
                    0,
                    0,
                    0,
                    1,
                    1,
                    0,
                    0,
                    0,
                    1,
                    0,
                    0,
                    0,
                    0,
                    1,
                    0,
                    1,
                    0,
                    2,
                    0,
                    0,
                    0,
                    1,
                    0,
                    0,
                    1,
                    0,
                    0,
                    0,
                    0,
                    0,
                    0,
                    0,
                    1,
                    0,
                    1,
                    1,
                    0,
                    2,
                    1,
                    0,
                    1,
                    1,
                    0,
                    0,
                    0,
                    0,
                    0
                  ],
                  "xaxis": "x",
                  "yaxis": "y"
                }
              ],
              "layout": {
                "barmode": "relative",
                "legend": {
                  "tracegroupgap": 0
                },
                "margin": {
                  "t": 60
                },
                "template": {
                  "data": {
                    "bar": [
                      {
                        "error_x": {
                          "color": "#2a3f5f"
                        },
                        "error_y": {
                          "color": "#2a3f5f"
                        },
                        "marker": {
                          "line": {
                            "color": "#E5ECF6",
                            "width": 0.5
                          },
                          "pattern": {
                            "fillmode": "overlay",
                            "size": 10,
                            "solidity": 0.2
                          }
                        },
                        "type": "bar"
                      }
                    ],
                    "barpolar": [
                      {
                        "marker": {
                          "line": {
                            "color": "#E5ECF6",
                            "width": 0.5
                          },
                          "pattern": {
                            "fillmode": "overlay",
                            "size": 10,
                            "solidity": 0.2
                          }
                        },
                        "type": "barpolar"
                      }
                    ],
                    "carpet": [
                      {
                        "aaxis": {
                          "endlinecolor": "#2a3f5f",
                          "gridcolor": "white",
                          "linecolor": "white",
                          "minorgridcolor": "white",
                          "startlinecolor": "#2a3f5f"
                        },
                        "baxis": {
                          "endlinecolor": "#2a3f5f",
                          "gridcolor": "white",
                          "linecolor": "white",
                          "minorgridcolor": "white",
                          "startlinecolor": "#2a3f5f"
                        },
                        "type": "carpet"
                      }
                    ],
                    "choropleth": [
                      {
                        "colorbar": {
                          "outlinewidth": 0,
                          "ticks": ""
                        },
                        "type": "choropleth"
                      }
                    ],
                    "contour": [
                      {
                        "colorbar": {
                          "outlinewidth": 0,
                          "ticks": ""
                        },
                        "colorscale": [
                          [
                            0,
                            "#0d0887"
                          ],
                          [
                            0.1111111111111111,
                            "#46039f"
                          ],
                          [
                            0.2222222222222222,
                            "#7201a8"
                          ],
                          [
                            0.3333333333333333,
                            "#9c179e"
                          ],
                          [
                            0.4444444444444444,
                            "#bd3786"
                          ],
                          [
                            0.5555555555555556,
                            "#d8576b"
                          ],
                          [
                            0.6666666666666666,
                            "#ed7953"
                          ],
                          [
                            0.7777777777777778,
                            "#fb9f3a"
                          ],
                          [
                            0.8888888888888888,
                            "#fdca26"
                          ],
                          [
                            1,
                            "#f0f921"
                          ]
                        ],
                        "type": "contour"
                      }
                    ],
                    "contourcarpet": [
                      {
                        "colorbar": {
                          "outlinewidth": 0,
                          "ticks": ""
                        },
                        "type": "contourcarpet"
                      }
                    ],
                    "heatmap": [
                      {
                        "colorbar": {
                          "outlinewidth": 0,
                          "ticks": ""
                        },
                        "colorscale": [
                          [
                            0,
                            "#0d0887"
                          ],
                          [
                            0.1111111111111111,
                            "#46039f"
                          ],
                          [
                            0.2222222222222222,
                            "#7201a8"
                          ],
                          [
                            0.3333333333333333,
                            "#9c179e"
                          ],
                          [
                            0.4444444444444444,
                            "#bd3786"
                          ],
                          [
                            0.5555555555555556,
                            "#d8576b"
                          ],
                          [
                            0.6666666666666666,
                            "#ed7953"
                          ],
                          [
                            0.7777777777777778,
                            "#fb9f3a"
                          ],
                          [
                            0.8888888888888888,
                            "#fdca26"
                          ],
                          [
                            1,
                            "#f0f921"
                          ]
                        ],
                        "type": "heatmap"
                      }
                    ],
                    "heatmapgl": [
                      {
                        "colorbar": {
                          "outlinewidth": 0,
                          "ticks": ""
                        },
                        "colorscale": [
                          [
                            0,
                            "#0d0887"
                          ],
                          [
                            0.1111111111111111,
                            "#46039f"
                          ],
                          [
                            0.2222222222222222,
                            "#7201a8"
                          ],
                          [
                            0.3333333333333333,
                            "#9c179e"
                          ],
                          [
                            0.4444444444444444,
                            "#bd3786"
                          ],
                          [
                            0.5555555555555556,
                            "#d8576b"
                          ],
                          [
                            0.6666666666666666,
                            "#ed7953"
                          ],
                          [
                            0.7777777777777778,
                            "#fb9f3a"
                          ],
                          [
                            0.8888888888888888,
                            "#fdca26"
                          ],
                          [
                            1,
                            "#f0f921"
                          ]
                        ],
                        "type": "heatmapgl"
                      }
                    ],
                    "histogram": [
                      {
                        "marker": {
                          "pattern": {
                            "fillmode": "overlay",
                            "size": 10,
                            "solidity": 0.2
                          }
                        },
                        "type": "histogram"
                      }
                    ],
                    "histogram2d": [
                      {
                        "colorbar": {
                          "outlinewidth": 0,
                          "ticks": ""
                        },
                        "colorscale": [
                          [
                            0,
                            "#0d0887"
                          ],
                          [
                            0.1111111111111111,
                            "#46039f"
                          ],
                          [
                            0.2222222222222222,
                            "#7201a8"
                          ],
                          [
                            0.3333333333333333,
                            "#9c179e"
                          ],
                          [
                            0.4444444444444444,
                            "#bd3786"
                          ],
                          [
                            0.5555555555555556,
                            "#d8576b"
                          ],
                          [
                            0.6666666666666666,
                            "#ed7953"
                          ],
                          [
                            0.7777777777777778,
                            "#fb9f3a"
                          ],
                          [
                            0.8888888888888888,
                            "#fdca26"
                          ],
                          [
                            1,
                            "#f0f921"
                          ]
                        ],
                        "type": "histogram2d"
                      }
                    ],
                    "histogram2dcontour": [
                      {
                        "colorbar": {
                          "outlinewidth": 0,
                          "ticks": ""
                        },
                        "colorscale": [
                          [
                            0,
                            "#0d0887"
                          ],
                          [
                            0.1111111111111111,
                            "#46039f"
                          ],
                          [
                            0.2222222222222222,
                            "#7201a8"
                          ],
                          [
                            0.3333333333333333,
                            "#9c179e"
                          ],
                          [
                            0.4444444444444444,
                            "#bd3786"
                          ],
                          [
                            0.5555555555555556,
                            "#d8576b"
                          ],
                          [
                            0.6666666666666666,
                            "#ed7953"
                          ],
                          [
                            0.7777777777777778,
                            "#fb9f3a"
                          ],
                          [
                            0.8888888888888888,
                            "#fdca26"
                          ],
                          [
                            1,
                            "#f0f921"
                          ]
                        ],
                        "type": "histogram2dcontour"
                      }
                    ],
                    "mesh3d": [
                      {
                        "colorbar": {
                          "outlinewidth": 0,
                          "ticks": ""
                        },
                        "type": "mesh3d"
                      }
                    ],
                    "parcoords": [
                      {
                        "line": {
                          "colorbar": {
                            "outlinewidth": 0,
                            "ticks": ""
                          }
                        },
                        "type": "parcoords"
                      }
                    ],
                    "pie": [
                      {
                        "automargin": true,
                        "type": "pie"
                      }
                    ],
                    "scatter": [
                      {
                        "fillpattern": {
                          "fillmode": "overlay",
                          "size": 10,
                          "solidity": 0.2
                        },
                        "type": "scatter"
                      }
                    ],
                    "scatter3d": [
                      {
                        "line": {
                          "colorbar": {
                            "outlinewidth": 0,
                            "ticks": ""
                          }
                        },
                        "marker": {
                          "colorbar": {
                            "outlinewidth": 0,
                            "ticks": ""
                          }
                        },
                        "type": "scatter3d"
                      }
                    ],
                    "scattercarpet": [
                      {
                        "marker": {
                          "colorbar": {
                            "outlinewidth": 0,
                            "ticks": ""
                          }
                        },
                        "type": "scattercarpet"
                      }
                    ],
                    "scattergeo": [
                      {
                        "marker": {
                          "colorbar": {
                            "outlinewidth": 0,
                            "ticks": ""
                          }
                        },
                        "type": "scattergeo"
                      }
                    ],
                    "scattergl": [
                      {
                        "marker": {
                          "colorbar": {
                            "outlinewidth": 0,
                            "ticks": ""
                          }
                        },
                        "type": "scattergl"
                      }
                    ],
                    "scattermapbox": [
                      {
                        "marker": {
                          "colorbar": {
                            "outlinewidth": 0,
                            "ticks": ""
                          }
                        },
                        "type": "scattermapbox"
                      }
                    ],
                    "scatterpolar": [
                      {
                        "marker": {
                          "colorbar": {
                            "outlinewidth": 0,
                            "ticks": ""
                          }
                        },
                        "type": "scatterpolar"
                      }
                    ],
                    "scatterpolargl": [
                      {
                        "marker": {
                          "colorbar": {
                            "outlinewidth": 0,
                            "ticks": ""
                          }
                        },
                        "type": "scatterpolargl"
                      }
                    ],
                    "scatterternary": [
                      {
                        "marker": {
                          "colorbar": {
                            "outlinewidth": 0,
                            "ticks": ""
                          }
                        },
                        "type": "scatterternary"
                      }
                    ],
                    "surface": [
                      {
                        "colorbar": {
                          "outlinewidth": 0,
                          "ticks": ""
                        },
                        "colorscale": [
                          [
                            0,
                            "#0d0887"
                          ],
                          [
                            0.1111111111111111,
                            "#46039f"
                          ],
                          [
                            0.2222222222222222,
                            "#7201a8"
                          ],
                          [
                            0.3333333333333333,
                            "#9c179e"
                          ],
                          [
                            0.4444444444444444,
                            "#bd3786"
                          ],
                          [
                            0.5555555555555556,
                            "#d8576b"
                          ],
                          [
                            0.6666666666666666,
                            "#ed7953"
                          ],
                          [
                            0.7777777777777778,
                            "#fb9f3a"
                          ],
                          [
                            0.8888888888888888,
                            "#fdca26"
                          ],
                          [
                            1,
                            "#f0f921"
                          ]
                        ],
                        "type": "surface"
                      }
                    ],
                    "table": [
                      {
                        "cells": {
                          "fill": {
                            "color": "#EBF0F8"
                          },
                          "line": {
                            "color": "white"
                          }
                        },
                        "header": {
                          "fill": {
                            "color": "#C8D4E3"
                          },
                          "line": {
                            "color": "white"
                          }
                        },
                        "type": "table"
                      }
                    ]
                  },
                  "layout": {
                    "annotationdefaults": {
                      "arrowcolor": "#2a3f5f",
                      "arrowhead": 0,
                      "arrowwidth": 1
                    },
                    "autotypenumbers": "strict",
                    "coloraxis": {
                      "colorbar": {
                        "outlinewidth": 0,
                        "ticks": ""
                      }
                    },
                    "colorscale": {
                      "diverging": [
                        [
                          0,
                          "#8e0152"
                        ],
                        [
                          0.1,
                          "#c51b7d"
                        ],
                        [
                          0.2,
                          "#de77ae"
                        ],
                        [
                          0.3,
                          "#f1b6da"
                        ],
                        [
                          0.4,
                          "#fde0ef"
                        ],
                        [
                          0.5,
                          "#f7f7f7"
                        ],
                        [
                          0.6,
                          "#e6f5d0"
                        ],
                        [
                          0.7,
                          "#b8e186"
                        ],
                        [
                          0.8,
                          "#7fbc41"
                        ],
                        [
                          0.9,
                          "#4d9221"
                        ],
                        [
                          1,
                          "#276419"
                        ]
                      ],
                      "sequential": [
                        [
                          0,
                          "#0d0887"
                        ],
                        [
                          0.1111111111111111,
                          "#46039f"
                        ],
                        [
                          0.2222222222222222,
                          "#7201a8"
                        ],
                        [
                          0.3333333333333333,
                          "#9c179e"
                        ],
                        [
                          0.4444444444444444,
                          "#bd3786"
                        ],
                        [
                          0.5555555555555556,
                          "#d8576b"
                        ],
                        [
                          0.6666666666666666,
                          "#ed7953"
                        ],
                        [
                          0.7777777777777778,
                          "#fb9f3a"
                        ],
                        [
                          0.8888888888888888,
                          "#fdca26"
                        ],
                        [
                          1,
                          "#f0f921"
                        ]
                      ],
                      "sequentialminus": [
                        [
                          0,
                          "#0d0887"
                        ],
                        [
                          0.1111111111111111,
                          "#46039f"
                        ],
                        [
                          0.2222222222222222,
                          "#7201a8"
                        ],
                        [
                          0.3333333333333333,
                          "#9c179e"
                        ],
                        [
                          0.4444444444444444,
                          "#bd3786"
                        ],
                        [
                          0.5555555555555556,
                          "#d8576b"
                        ],
                        [
                          0.6666666666666666,
                          "#ed7953"
                        ],
                        [
                          0.7777777777777778,
                          "#fb9f3a"
                        ],
                        [
                          0.8888888888888888,
                          "#fdca26"
                        ],
                        [
                          1,
                          "#f0f921"
                        ]
                      ]
                    },
                    "colorway": [
                      "#636efa",
                      "#EF553B",
                      "#00cc96",
                      "#ab63fa",
                      "#FFA15A",
                      "#19d3f3",
                      "#FF6692",
                      "#B6E880",
                      "#FF97FF",
                      "#FECB52"
                    ],
                    "font": {
                      "color": "#2a3f5f"
                    },
                    "geo": {
                      "bgcolor": "white",
                      "lakecolor": "white",
                      "landcolor": "#E5ECF6",
                      "showlakes": true,
                      "showland": true,
                      "subunitcolor": "white"
                    },
                    "hoverlabel": {
                      "align": "left"
                    },
                    "hovermode": "closest",
                    "mapbox": {
                      "style": "light"
                    },
                    "paper_bgcolor": "white",
                    "plot_bgcolor": "#E5ECF6",
                    "polar": {
                      "angularaxis": {
                        "gridcolor": "white",
                        "linecolor": "white",
                        "ticks": ""
                      },
                      "bgcolor": "#E5ECF6",
                      "radialaxis": {
                        "gridcolor": "white",
                        "linecolor": "white",
                        "ticks": ""
                      }
                    },
                    "scene": {
                      "xaxis": {
                        "backgroundcolor": "#E5ECF6",
                        "gridcolor": "white",
                        "gridwidth": 2,
                        "linecolor": "white",
                        "showbackground": true,
                        "ticks": "",
                        "zerolinecolor": "white"
                      },
                      "yaxis": {
                        "backgroundcolor": "#E5ECF6",
                        "gridcolor": "white",
                        "gridwidth": 2,
                        "linecolor": "white",
                        "showbackground": true,
                        "ticks": "",
                        "zerolinecolor": "white"
                      },
                      "zaxis": {
                        "backgroundcolor": "#E5ECF6",
                        "gridcolor": "white",
                        "gridwidth": 2,
                        "linecolor": "white",
                        "showbackground": true,
                        "ticks": "",
                        "zerolinecolor": "white"
                      }
                    },
                    "shapedefaults": {
                      "line": {
                        "color": "#2a3f5f"
                      }
                    },
                    "ternary": {
                      "aaxis": {
                        "gridcolor": "white",
                        "linecolor": "white",
                        "ticks": ""
                      },
                      "baxis": {
                        "gridcolor": "white",
                        "linecolor": "white",
                        "ticks": ""
                      },
                      "bgcolor": "#E5ECF6",
                      "caxis": {
                        "gridcolor": "white",
                        "linecolor": "white",
                        "ticks": ""
                      }
                    },
                    "title": {
                      "x": 0.05
                    },
                    "xaxis": {
                      "automargin": true,
                      "gridcolor": "white",
                      "linecolor": "white",
                      "ticks": "",
                      "title": {
                        "standoff": 15
                      },
                      "zerolinecolor": "white",
                      "zerolinewidth": 2
                    },
                    "yaxis": {
                      "automargin": true,
                      "gridcolor": "white",
                      "linecolor": "white",
                      "ticks": "",
                      "title": {
                        "standoff": 15
                      },
                      "zerolinecolor": "white",
                      "zerolinewidth": 2
                    }
                  }
                },
                "xaxis": {
                  "anchor": "y",
                  "domain": [
                    0,
                    1
                  ],
                  "title": {
                    "text": "Cluster"
                  }
                },
                "yaxis": {
                  "anchor": "x",
                  "domain": [
                    0,
                    1
                  ],
                  "title": {
                    "text": "count"
                  }
                }
              }
            }
          },
          "metadata": {},
          "output_type": "display_data"
        },
        {
          "data": {
            "application/vnd.plotly.v1+json": {
              "config": {
                "plotlyServerURL": "https://plot.ly"
              },
              "data": [
                {
                  "alignmentgroup": "True",
                  "hovertemplate": "Cluster=%{x}<br>Head Size(cm^3)=%{y}<extra></extra>",
                  "legendgroup": "",
                  "marker": {
                    "color": "#636efa"
                  },
                  "name": "",
                  "notched": false,
                  "offsetgroup": "",
                  "orientation": "v",
                  "showlegend": false,
                  "type": "box",
                  "x": [
                    2,
                    1,
                    2,
                    1,
                    2,
                    1,
                    1,
                    1,
                    1,
                    2,
                    1,
                    2,
                    1,
                    2,
                    1,
                    1,
                    1,
                    1,
                    0,
                    2,
                    1,
                    2,
                    1,
                    1,
                    2,
                    2,
                    2,
                    2,
                    1,
                    2,
                    1,
                    1,
                    2,
                    2,
                    2,
                    1,
                    1,
                    1,
                    0,
                    1,
                    2,
                    1,
                    2,
                    1,
                    1,
                    2,
                    2,
                    0,
                    1,
                    1,
                    1,
                    1,
                    2,
                    2,
                    2,
                    0,
                    1,
                    2,
                    2,
                    1,
                    1,
                    0,
                    2,
                    2,
                    1,
                    0,
                    0,
                    0,
                    2,
                    2,
                    2,
                    1,
                    2,
                    2,
                    1,
                    0,
                    1,
                    0,
                    1,
                    1,
                    1,
                    1,
                    0,
                    1,
                    2,
                    1,
                    0,
                    0,
                    1,
                    2,
                    2,
                    0,
                    1,
                    1,
                    1,
                    1,
                    1,
                    0,
                    1,
                    1,
                    1,
                    1,
                    2,
                    1,
                    1,
                    1,
                    2,
                    0,
                    1,
                    2,
                    1,
                    1,
                    1,
                    1,
                    0,
                    1,
                    1,
                    1,
                    2,
                    2,
                    0,
                    2,
                    2,
                    1,
                    2,
                    1,
                    0,
                    0,
                    2,
                    1,
                    1,
                    1,
                    2,
                    1,
                    0,
                    0,
                    1,
                    0,
                    0,
                    0,
                    1,
                    1,
                    0,
                    0,
                    1,
                    1,
                    0,
                    0,
                    1,
                    0,
                    0,
                    0,
                    1,
                    0,
                    1,
                    0,
                    0,
                    1,
                    2,
                    0,
                    0,
                    1,
                    1,
                    0,
                    1,
                    0,
                    0,
                    0,
                    1,
                    1,
                    0,
                    1,
                    1,
                    1,
                    1,
                    0,
                    1,
                    1,
                    2,
                    1,
                    1,
                    0,
                    2,
                    0,
                    0,
                    1,
                    1,
                    0,
                    0,
                    1,
                    0,
                    0,
                    0,
                    1,
                    1,
                    0,
                    0,
                    0,
                    1,
                    0,
                    0,
                    0,
                    0,
                    1,
                    0,
                    1,
                    0,
                    2,
                    0,
                    0,
                    0,
                    1,
                    0,
                    0,
                    1,
                    0,
                    0,
                    0,
                    0,
                    0,
                    0,
                    0,
                    1,
                    0,
                    1,
                    1,
                    0,
                    2,
                    1,
                    0,
                    1,
                    1,
                    0,
                    0,
                    0,
                    0,
                    0
                  ],
                  "x0": " ",
                  "xaxis": "x",
                  "y": [
                    4512,
                    3738,
                    4261,
                    3777,
                    4177,
                    3585,
                    3785,
                    3559,
                    3613,
                    3982,
                    3443,
                    3993,
                    3640,
                    4208,
                    3832,
                    3876,
                    3497,
                    3466,
                    3095,
                    4424,
                    3878,
                    4046,
                    3804,
                    3710,
                    4747,
                    4423,
                    4036,
                    4022,
                    3454,
                    4175,
                    3787,
                    3796,
                    4103,
                    4161,
                    4158,
                    3814,
                    3527,
                    3748,
                    3334,
                    3492,
                    3962,
                    3505,
                    4315,
                    3804,
                    3863,
                    4034,
                    4308,
                    3165,
                    3641,
                    3644,
                    3891,
                    3793,
                    4270,
                    4063,
                    4012,
                    3458,
                    3890,
                    4166,
                    3935,
                    3669,
                    3866,
                    3393,
                    4442,
                    4253,
                    3727,
                    3329,
                    3415,
                    3372,
                    4430,
                    4381,
                    4008,
                    3858,
                    4121,
                    4057,
                    3824,
                    3394,
                    3558,
                    3362,
                    3930,
                    3835,
                    3830,
                    3856,
                    3249,
                    3577,
                    3933,
                    3850,
                    3309,
                    3406,
                    3506,
                    3907,
                    4160,
                    3318,
                    3662,
                    3899,
                    3700,
                    3779,
                    3473,
                    3490,
                    3654,
                    3478,
                    3495,
                    3834,
                    3876,
                    3661,
                    3618,
                    3648,
                    4032,
                    3399,
                    3916,
                    4430,
                    3695,
                    3524,
                    3571,
                    3594,
                    3383,
                    3499,
                    3589,
                    3900,
                    4114,
                    3937,
                    3399,
                    4200,
                    4488,
                    3614,
                    4051,
                    3782,
                    3391,
                    3124,
                    4053,
                    3582,
                    3666,
                    3532,
                    4046,
                    3667,
                    2857,
                    3436,
                    3791,
                    3302,
                    3104,
                    3171,
                    3572,
                    3530,
                    3175,
                    3438,
                    3903,
                    3899,
                    3401,
                    3267,
                    3451,
                    3090,
                    3413,
                    3323,
                    3680,
                    3439,
                    3853,
                    3156,
                    3279,
                    3707,
                    4006,
                    3269,
                    3071,
                    3779,
                    3548,
                    3292,
                    3497,
                    3082,
                    3248,
                    3358,
                    3803,
                    3566,
                    3145,
                    3503,
                    3571,
                    3724,
                    3615,
                    3203,
                    3609,
                    3561,
                    3979,
                    3533,
                    3689,
                    3158,
                    4005,
                    3181,
                    3479,
                    3642,
                    3632,
                    3069,
                    3394,
                    3703,
                    3165,
                    3354,
                    3000,
                    3687,
                    3556,
                    2773,
                    3058,
                    3344,
                    3493,
                    3297,
                    3360,
                    3228,
                    3277,
                    3851,
                    3067,
                    3692,
                    3402,
                    3995,
                    3318,
                    2720,
                    2937,
                    3580,
                    2939,
                    2989,
                    3586,
                    3156,
                    3246,
                    3170,
                    3268,
                    3389,
                    3381,
                    2864,
                    3740,
                    3479,
                    3647,
                    3716,
                    3284,
                    4204,
                    3735,
                    3218,
                    3685,
                    3704,
                    3214,
                    3394,
                    3233,
                    3352,
                    3391
                  ],
                  "y0": " ",
                  "yaxis": "y"
                }
              ],
              "layout": {
                "boxmode": "group",
                "legend": {
                  "tracegroupgap": 0
                },
                "margin": {
                  "t": 60
                },
                "template": {
                  "data": {
                    "bar": [
                      {
                        "error_x": {
                          "color": "#2a3f5f"
                        },
                        "error_y": {
                          "color": "#2a3f5f"
                        },
                        "marker": {
                          "line": {
                            "color": "#E5ECF6",
                            "width": 0.5
                          },
                          "pattern": {
                            "fillmode": "overlay",
                            "size": 10,
                            "solidity": 0.2
                          }
                        },
                        "type": "bar"
                      }
                    ],
                    "barpolar": [
                      {
                        "marker": {
                          "line": {
                            "color": "#E5ECF6",
                            "width": 0.5
                          },
                          "pattern": {
                            "fillmode": "overlay",
                            "size": 10,
                            "solidity": 0.2
                          }
                        },
                        "type": "barpolar"
                      }
                    ],
                    "carpet": [
                      {
                        "aaxis": {
                          "endlinecolor": "#2a3f5f",
                          "gridcolor": "white",
                          "linecolor": "white",
                          "minorgridcolor": "white",
                          "startlinecolor": "#2a3f5f"
                        },
                        "baxis": {
                          "endlinecolor": "#2a3f5f",
                          "gridcolor": "white",
                          "linecolor": "white",
                          "minorgridcolor": "white",
                          "startlinecolor": "#2a3f5f"
                        },
                        "type": "carpet"
                      }
                    ],
                    "choropleth": [
                      {
                        "colorbar": {
                          "outlinewidth": 0,
                          "ticks": ""
                        },
                        "type": "choropleth"
                      }
                    ],
                    "contour": [
                      {
                        "colorbar": {
                          "outlinewidth": 0,
                          "ticks": ""
                        },
                        "colorscale": [
                          [
                            0,
                            "#0d0887"
                          ],
                          [
                            0.1111111111111111,
                            "#46039f"
                          ],
                          [
                            0.2222222222222222,
                            "#7201a8"
                          ],
                          [
                            0.3333333333333333,
                            "#9c179e"
                          ],
                          [
                            0.4444444444444444,
                            "#bd3786"
                          ],
                          [
                            0.5555555555555556,
                            "#d8576b"
                          ],
                          [
                            0.6666666666666666,
                            "#ed7953"
                          ],
                          [
                            0.7777777777777778,
                            "#fb9f3a"
                          ],
                          [
                            0.8888888888888888,
                            "#fdca26"
                          ],
                          [
                            1,
                            "#f0f921"
                          ]
                        ],
                        "type": "contour"
                      }
                    ],
                    "contourcarpet": [
                      {
                        "colorbar": {
                          "outlinewidth": 0,
                          "ticks": ""
                        },
                        "type": "contourcarpet"
                      }
                    ],
                    "heatmap": [
                      {
                        "colorbar": {
                          "outlinewidth": 0,
                          "ticks": ""
                        },
                        "colorscale": [
                          [
                            0,
                            "#0d0887"
                          ],
                          [
                            0.1111111111111111,
                            "#46039f"
                          ],
                          [
                            0.2222222222222222,
                            "#7201a8"
                          ],
                          [
                            0.3333333333333333,
                            "#9c179e"
                          ],
                          [
                            0.4444444444444444,
                            "#bd3786"
                          ],
                          [
                            0.5555555555555556,
                            "#d8576b"
                          ],
                          [
                            0.6666666666666666,
                            "#ed7953"
                          ],
                          [
                            0.7777777777777778,
                            "#fb9f3a"
                          ],
                          [
                            0.8888888888888888,
                            "#fdca26"
                          ],
                          [
                            1,
                            "#f0f921"
                          ]
                        ],
                        "type": "heatmap"
                      }
                    ],
                    "heatmapgl": [
                      {
                        "colorbar": {
                          "outlinewidth": 0,
                          "ticks": ""
                        },
                        "colorscale": [
                          [
                            0,
                            "#0d0887"
                          ],
                          [
                            0.1111111111111111,
                            "#46039f"
                          ],
                          [
                            0.2222222222222222,
                            "#7201a8"
                          ],
                          [
                            0.3333333333333333,
                            "#9c179e"
                          ],
                          [
                            0.4444444444444444,
                            "#bd3786"
                          ],
                          [
                            0.5555555555555556,
                            "#d8576b"
                          ],
                          [
                            0.6666666666666666,
                            "#ed7953"
                          ],
                          [
                            0.7777777777777778,
                            "#fb9f3a"
                          ],
                          [
                            0.8888888888888888,
                            "#fdca26"
                          ],
                          [
                            1,
                            "#f0f921"
                          ]
                        ],
                        "type": "heatmapgl"
                      }
                    ],
                    "histogram": [
                      {
                        "marker": {
                          "pattern": {
                            "fillmode": "overlay",
                            "size": 10,
                            "solidity": 0.2
                          }
                        },
                        "type": "histogram"
                      }
                    ],
                    "histogram2d": [
                      {
                        "colorbar": {
                          "outlinewidth": 0,
                          "ticks": ""
                        },
                        "colorscale": [
                          [
                            0,
                            "#0d0887"
                          ],
                          [
                            0.1111111111111111,
                            "#46039f"
                          ],
                          [
                            0.2222222222222222,
                            "#7201a8"
                          ],
                          [
                            0.3333333333333333,
                            "#9c179e"
                          ],
                          [
                            0.4444444444444444,
                            "#bd3786"
                          ],
                          [
                            0.5555555555555556,
                            "#d8576b"
                          ],
                          [
                            0.6666666666666666,
                            "#ed7953"
                          ],
                          [
                            0.7777777777777778,
                            "#fb9f3a"
                          ],
                          [
                            0.8888888888888888,
                            "#fdca26"
                          ],
                          [
                            1,
                            "#f0f921"
                          ]
                        ],
                        "type": "histogram2d"
                      }
                    ],
                    "histogram2dcontour": [
                      {
                        "colorbar": {
                          "outlinewidth": 0,
                          "ticks": ""
                        },
                        "colorscale": [
                          [
                            0,
                            "#0d0887"
                          ],
                          [
                            0.1111111111111111,
                            "#46039f"
                          ],
                          [
                            0.2222222222222222,
                            "#7201a8"
                          ],
                          [
                            0.3333333333333333,
                            "#9c179e"
                          ],
                          [
                            0.4444444444444444,
                            "#bd3786"
                          ],
                          [
                            0.5555555555555556,
                            "#d8576b"
                          ],
                          [
                            0.6666666666666666,
                            "#ed7953"
                          ],
                          [
                            0.7777777777777778,
                            "#fb9f3a"
                          ],
                          [
                            0.8888888888888888,
                            "#fdca26"
                          ],
                          [
                            1,
                            "#f0f921"
                          ]
                        ],
                        "type": "histogram2dcontour"
                      }
                    ],
                    "mesh3d": [
                      {
                        "colorbar": {
                          "outlinewidth": 0,
                          "ticks": ""
                        },
                        "type": "mesh3d"
                      }
                    ],
                    "parcoords": [
                      {
                        "line": {
                          "colorbar": {
                            "outlinewidth": 0,
                            "ticks": ""
                          }
                        },
                        "type": "parcoords"
                      }
                    ],
                    "pie": [
                      {
                        "automargin": true,
                        "type": "pie"
                      }
                    ],
                    "scatter": [
                      {
                        "fillpattern": {
                          "fillmode": "overlay",
                          "size": 10,
                          "solidity": 0.2
                        },
                        "type": "scatter"
                      }
                    ],
                    "scatter3d": [
                      {
                        "line": {
                          "colorbar": {
                            "outlinewidth": 0,
                            "ticks": ""
                          }
                        },
                        "marker": {
                          "colorbar": {
                            "outlinewidth": 0,
                            "ticks": ""
                          }
                        },
                        "type": "scatter3d"
                      }
                    ],
                    "scattercarpet": [
                      {
                        "marker": {
                          "colorbar": {
                            "outlinewidth": 0,
                            "ticks": ""
                          }
                        },
                        "type": "scattercarpet"
                      }
                    ],
                    "scattergeo": [
                      {
                        "marker": {
                          "colorbar": {
                            "outlinewidth": 0,
                            "ticks": ""
                          }
                        },
                        "type": "scattergeo"
                      }
                    ],
                    "scattergl": [
                      {
                        "marker": {
                          "colorbar": {
                            "outlinewidth": 0,
                            "ticks": ""
                          }
                        },
                        "type": "scattergl"
                      }
                    ],
                    "scattermapbox": [
                      {
                        "marker": {
                          "colorbar": {
                            "outlinewidth": 0,
                            "ticks": ""
                          }
                        },
                        "type": "scattermapbox"
                      }
                    ],
                    "scatterpolar": [
                      {
                        "marker": {
                          "colorbar": {
                            "outlinewidth": 0,
                            "ticks": ""
                          }
                        },
                        "type": "scatterpolar"
                      }
                    ],
                    "scatterpolargl": [
                      {
                        "marker": {
                          "colorbar": {
                            "outlinewidth": 0,
                            "ticks": ""
                          }
                        },
                        "type": "scatterpolargl"
                      }
                    ],
                    "scatterternary": [
                      {
                        "marker": {
                          "colorbar": {
                            "outlinewidth": 0,
                            "ticks": ""
                          }
                        },
                        "type": "scatterternary"
                      }
                    ],
                    "surface": [
                      {
                        "colorbar": {
                          "outlinewidth": 0,
                          "ticks": ""
                        },
                        "colorscale": [
                          [
                            0,
                            "#0d0887"
                          ],
                          [
                            0.1111111111111111,
                            "#46039f"
                          ],
                          [
                            0.2222222222222222,
                            "#7201a8"
                          ],
                          [
                            0.3333333333333333,
                            "#9c179e"
                          ],
                          [
                            0.4444444444444444,
                            "#bd3786"
                          ],
                          [
                            0.5555555555555556,
                            "#d8576b"
                          ],
                          [
                            0.6666666666666666,
                            "#ed7953"
                          ],
                          [
                            0.7777777777777778,
                            "#fb9f3a"
                          ],
                          [
                            0.8888888888888888,
                            "#fdca26"
                          ],
                          [
                            1,
                            "#f0f921"
                          ]
                        ],
                        "type": "surface"
                      }
                    ],
                    "table": [
                      {
                        "cells": {
                          "fill": {
                            "color": "#EBF0F8"
                          },
                          "line": {
                            "color": "white"
                          }
                        },
                        "header": {
                          "fill": {
                            "color": "#C8D4E3"
                          },
                          "line": {
                            "color": "white"
                          }
                        },
                        "type": "table"
                      }
                    ]
                  },
                  "layout": {
                    "annotationdefaults": {
                      "arrowcolor": "#2a3f5f",
                      "arrowhead": 0,
                      "arrowwidth": 1
                    },
                    "autotypenumbers": "strict",
                    "coloraxis": {
                      "colorbar": {
                        "outlinewidth": 0,
                        "ticks": ""
                      }
                    },
                    "colorscale": {
                      "diverging": [
                        [
                          0,
                          "#8e0152"
                        ],
                        [
                          0.1,
                          "#c51b7d"
                        ],
                        [
                          0.2,
                          "#de77ae"
                        ],
                        [
                          0.3,
                          "#f1b6da"
                        ],
                        [
                          0.4,
                          "#fde0ef"
                        ],
                        [
                          0.5,
                          "#f7f7f7"
                        ],
                        [
                          0.6,
                          "#e6f5d0"
                        ],
                        [
                          0.7,
                          "#b8e186"
                        ],
                        [
                          0.8,
                          "#7fbc41"
                        ],
                        [
                          0.9,
                          "#4d9221"
                        ],
                        [
                          1,
                          "#276419"
                        ]
                      ],
                      "sequential": [
                        [
                          0,
                          "#0d0887"
                        ],
                        [
                          0.1111111111111111,
                          "#46039f"
                        ],
                        [
                          0.2222222222222222,
                          "#7201a8"
                        ],
                        [
                          0.3333333333333333,
                          "#9c179e"
                        ],
                        [
                          0.4444444444444444,
                          "#bd3786"
                        ],
                        [
                          0.5555555555555556,
                          "#d8576b"
                        ],
                        [
                          0.6666666666666666,
                          "#ed7953"
                        ],
                        [
                          0.7777777777777778,
                          "#fb9f3a"
                        ],
                        [
                          0.8888888888888888,
                          "#fdca26"
                        ],
                        [
                          1,
                          "#f0f921"
                        ]
                      ],
                      "sequentialminus": [
                        [
                          0,
                          "#0d0887"
                        ],
                        [
                          0.1111111111111111,
                          "#46039f"
                        ],
                        [
                          0.2222222222222222,
                          "#7201a8"
                        ],
                        [
                          0.3333333333333333,
                          "#9c179e"
                        ],
                        [
                          0.4444444444444444,
                          "#bd3786"
                        ],
                        [
                          0.5555555555555556,
                          "#d8576b"
                        ],
                        [
                          0.6666666666666666,
                          "#ed7953"
                        ],
                        [
                          0.7777777777777778,
                          "#fb9f3a"
                        ],
                        [
                          0.8888888888888888,
                          "#fdca26"
                        ],
                        [
                          1,
                          "#f0f921"
                        ]
                      ]
                    },
                    "colorway": [
                      "#636efa",
                      "#EF553B",
                      "#00cc96",
                      "#ab63fa",
                      "#FFA15A",
                      "#19d3f3",
                      "#FF6692",
                      "#B6E880",
                      "#FF97FF",
                      "#FECB52"
                    ],
                    "font": {
                      "color": "#2a3f5f"
                    },
                    "geo": {
                      "bgcolor": "white",
                      "lakecolor": "white",
                      "landcolor": "#E5ECF6",
                      "showlakes": true,
                      "showland": true,
                      "subunitcolor": "white"
                    },
                    "hoverlabel": {
                      "align": "left"
                    },
                    "hovermode": "closest",
                    "mapbox": {
                      "style": "light"
                    },
                    "paper_bgcolor": "white",
                    "plot_bgcolor": "#E5ECF6",
                    "polar": {
                      "angularaxis": {
                        "gridcolor": "white",
                        "linecolor": "white",
                        "ticks": ""
                      },
                      "bgcolor": "#E5ECF6",
                      "radialaxis": {
                        "gridcolor": "white",
                        "linecolor": "white",
                        "ticks": ""
                      }
                    },
                    "scene": {
                      "xaxis": {
                        "backgroundcolor": "#E5ECF6",
                        "gridcolor": "white",
                        "gridwidth": 2,
                        "linecolor": "white",
                        "showbackground": true,
                        "ticks": "",
                        "zerolinecolor": "white"
                      },
                      "yaxis": {
                        "backgroundcolor": "#E5ECF6",
                        "gridcolor": "white",
                        "gridwidth": 2,
                        "linecolor": "white",
                        "showbackground": true,
                        "ticks": "",
                        "zerolinecolor": "white"
                      },
                      "zaxis": {
                        "backgroundcolor": "#E5ECF6",
                        "gridcolor": "white",
                        "gridwidth": 2,
                        "linecolor": "white",
                        "showbackground": true,
                        "ticks": "",
                        "zerolinecolor": "white"
                      }
                    },
                    "shapedefaults": {
                      "line": {
                        "color": "#2a3f5f"
                      }
                    },
                    "ternary": {
                      "aaxis": {
                        "gridcolor": "white",
                        "linecolor": "white",
                        "ticks": ""
                      },
                      "baxis": {
                        "gridcolor": "white",
                        "linecolor": "white",
                        "ticks": ""
                      },
                      "bgcolor": "#E5ECF6",
                      "caxis": {
                        "gridcolor": "white",
                        "linecolor": "white",
                        "ticks": ""
                      }
                    },
                    "title": {
                      "x": 0.05
                    },
                    "xaxis": {
                      "automargin": true,
                      "gridcolor": "white",
                      "linecolor": "white",
                      "ticks": "",
                      "title": {
                        "standoff": 15
                      },
                      "zerolinecolor": "white",
                      "zerolinewidth": 2
                    },
                    "yaxis": {
                      "automargin": true,
                      "gridcolor": "white",
                      "linecolor": "white",
                      "ticks": "",
                      "title": {
                        "standoff": 15
                      },
                      "zerolinecolor": "white",
                      "zerolinewidth": 2
                    }
                  }
                },
                "xaxis": {
                  "anchor": "y",
                  "domain": [
                    0,
                    1
                  ],
                  "title": {
                    "text": "Cluster"
                  }
                },
                "yaxis": {
                  "anchor": "x",
                  "domain": [
                    0,
                    1
                  ],
                  "title": {
                    "text": "Head Size(cm^3)"
                  }
                }
              }
            }
          },
          "metadata": {},
          "output_type": "display_data"
        }
      ],
      "source": [
        "#Quantidade de Indivíduos por grupos\n",
        "fig = px.histogram(df_merge, x=\"Cluster\", nbins=10)\n",
        "fig.show()\n",
        "\n",
        "\n",
        "#Média do tamanho da cabeça por grupo\n",
        "fig2 = px.box(df_merge, x=\"Cluster\", y=\"Head Size(cm^3)\")\n",
        "fig2.show()\n"
      ]
    },
    {
      "cell_type": "code",
      "execution_count": 33,
      "metadata": {
        "id": "inDa6bgQyCfS"
      },
      "outputs": [],
      "source": [
        "# Questões\n"
      ]
    },
    {
      "cell_type": "code",
      "execution_count": 34,
      "metadata": {
        "colab": {
          "base_uri": "https://localhost:8080/"
        },
        "id": "OmA818dJ1_lY",
        "outputId": "eaae404e-c49b-42e7-d445-98485dcd2cdf"
      },
      "outputs": [
        {
          "name": "stdout",
          "output_type": "stream",
          "text": [
            "A correlação entre o tamanho da cabeça e o peso do cérebro é de: 0.7995697092542962\n"
          ]
        }
      ],
      "source": [
        "# Resposta da Pergunta 7\n",
        "correlacao = df_merge[\"Head Size(cm^3)\"].corr(df_merge[\"Brain Weight(grams)\"])\n",
        "\n",
        "# Printar a correlação entre as variaveis\n",
        "print(f\"A correlação entre o tamanho da cabeça e o peso do cérebro é de: {correlacao}\")"
      ]
    },
    {
      "cell_type": "code",
      "execution_count": 35,
      "metadata": {
        "colab": {
          "base_uri": "https://localhost:8080/"
        },
        "id": "gqKLZhjh2T4z",
        "outputId": "ef6d0d24-4fad-4836-db52-b1b7de79d064"
      },
      "outputs": [
        {
          "name": "stdout",
          "output_type": "stream",
          "text": [
            "A quantidade de pessoas do gênero feminino no cluster de tamanho pequeno é: 60 indivíduos\n"
          ]
        }
      ],
      "source": [
        "# Resposta da Pergunta 8\n",
        "qtd_feminino_by_cluster = df_merge.groupby(\"Cluster\")[\"genero\"].agg(lambda x: (x == \"Feminino\").sum())\n",
        "\n",
        "print(f\"A quantidade de pessoas do gênero feminino no cluster de tamanho pequeno é: {qtd_feminino_by_cluster[0]} indivíduos\")\n"
      ]
    },
    {
      "cell_type": "code",
      "execution_count": 36,
      "metadata": {
        "colab": {
          "base_uri": "https://localhost:8080/"
        },
        "id": "Zc5pPXvh5ESQ",
        "outputId": "7286e802-1f71-4021-abdf-153b8f7c2121"
      },
      "outputs": [
        {
          "name": "stdout",
          "output_type": "stream",
          "text": [
            "O Cluster com maior quantidade de indivíduos masculinos é: 1\n"
          ]
        }
      ],
      "source": [
        "# Resposta da Pergunta 9\n",
        "qtd_masculino_by_cluster = df_merge.groupby(\"Cluster\")[\"genero\"].agg(lambda x: (x == \"Masculino\").sum())\n",
        "\n",
        "Maior_cluster_masculino = qtd_masculino_by_cluster.sort_values(ascending=False).index[0]\n",
        "\n",
        "print(f\"O Cluster com maior quantidade de indivíduos masculinos é: {Maior_cluster_masculino}\")"
      ]
    },
    {
      "cell_type": "code",
      "execution_count": 39,
      "metadata": {
        "colab": {
          "base_uri": "https://localhost:8080/",
          "height": 560
        },
        "id": "tkksVkqa6FlK",
        "outputId": "f935c4cc-3483-4479-d963-80379103083a"
      },
      "outputs": [
        {
          "name": "stdout",
          "output_type": "stream",
          "text": [
            "A média de idade das pessoas do cluster de tamanho grande é de 39.08\n"
          ]
        },
        {
          "data": {
            "application/vnd.plotly.v1+json": {
              "config": {
                "plotlyServerURL": "https://plot.ly"
              },
              "data": [
                {
                  "alignmentgroup": "True",
                  "hovertemplate": "Cluster=%{x}<br>idade=%{y}<extra></extra>",
                  "legendgroup": "",
                  "marker": {
                    "color": "#636efa"
                  },
                  "name": "",
                  "notched": false,
                  "offsetgroup": "",
                  "orientation": "v",
                  "showlegend": false,
                  "type": "box",
                  "x": [
                    2,
                    1,
                    2,
                    1,
                    2,
                    1,
                    1,
                    1,
                    1,
                    2,
                    1,
                    2,
                    1,
                    2,
                    1,
                    1,
                    1,
                    1,
                    0,
                    2,
                    1,
                    2,
                    1,
                    1,
                    2,
                    2,
                    2,
                    2,
                    1,
                    2,
                    1,
                    1,
                    2,
                    2,
                    2,
                    1,
                    1,
                    1,
                    0,
                    1,
                    2,
                    1,
                    2,
                    1,
                    1,
                    2,
                    2,
                    0,
                    1,
                    1,
                    1,
                    1,
                    2,
                    2,
                    2,
                    0,
                    1,
                    2,
                    2,
                    1,
                    1,
                    0,
                    2,
                    2,
                    1,
                    0,
                    0,
                    0,
                    2,
                    2,
                    2,
                    1,
                    2,
                    2,
                    1,
                    0,
                    1,
                    0,
                    1,
                    1,
                    1,
                    1,
                    0,
                    1,
                    2,
                    1,
                    0,
                    0,
                    1,
                    2,
                    2,
                    0,
                    1,
                    1,
                    1,
                    1,
                    1,
                    0,
                    1,
                    1,
                    1,
                    1,
                    2,
                    1,
                    1,
                    1,
                    2,
                    0,
                    1,
                    2,
                    1,
                    1,
                    1,
                    1,
                    0,
                    1,
                    1,
                    1,
                    2,
                    2,
                    0,
                    2,
                    2,
                    1,
                    2,
                    1,
                    0,
                    0,
                    2,
                    1,
                    1,
                    1,
                    2,
                    1,
                    0,
                    0,
                    1,
                    0,
                    0,
                    0,
                    1,
                    1,
                    0,
                    0,
                    1,
                    1,
                    0,
                    0,
                    1,
                    0,
                    0,
                    0,
                    1,
                    0,
                    1,
                    0,
                    0,
                    1,
                    2,
                    0,
                    0,
                    1,
                    1,
                    0,
                    1,
                    0,
                    0,
                    0,
                    1,
                    1,
                    0,
                    1,
                    1,
                    1,
                    1,
                    0,
                    1,
                    1,
                    2,
                    1,
                    1,
                    0,
                    2,
                    0,
                    0,
                    1,
                    1,
                    0,
                    0,
                    1,
                    0,
                    0,
                    0,
                    1,
                    1,
                    0,
                    0,
                    0,
                    1,
                    0,
                    0,
                    0,
                    0,
                    1,
                    0,
                    1,
                    0,
                    2,
                    0,
                    0,
                    0,
                    1,
                    0,
                    0,
                    1,
                    0,
                    0,
                    0,
                    0,
                    0,
                    0,
                    0,
                    1,
                    0,
                    1,
                    1,
                    0,
                    2,
                    1,
                    0,
                    1,
                    1,
                    0,
                    0,
                    0,
                    0,
                    0
                  ],
                  "x0": " ",
                  "xaxis": "x",
                  "y": [
                    39,
                    50,
                    38,
                    53,
                    28,
                    37,
                    49,
                    52,
                    31,
                    42,
                    37,
                    30,
                    23,
                    32,
                    40,
                    34,
                    25,
                    32,
                    38,
                    43,
                    40,
                    54,
                    35,
                    43,
                    59,
                    56,
                    19,
                    54,
                    39,
                    49,
                    23,
                    20,
                    45,
                    30,
                    22,
                    48,
                    21,
                    19,
                    31,
                    48,
                    31,
                    53,
                    24,
                    49,
                    25,
                    57,
                    53,
                    44,
                    41,
                    29,
                    25,
                    18,
                    47,
                    50,
                    47,
                    43,
                    46,
                    35,
                    41,
                    30,
                    30,
                    32,
                    48,
                    42,
                    29,
                    36,
                    28,
                    53,
                    49,
                    25,
                    19,
                    31,
                    29,
                    23,
                    79,
                    27,
                    40,
                    67,
                    18,
                    31,
                    18,
                    52,
                    59,
                    44,
                    53,
                    49,
                    33,
                    30,
                    43,
                    57,
                    37,
                    28,
                    30,
                    34,
                    29,
                    48,
                    37,
                    48,
                    32,
                    76,
                    44,
                    47,
                    20,
                    29,
                    32,
                    17,
                    30,
                    31,
                    42,
                    24,
                    38,
                    56,
                    28,
                    36,
                    53,
                    56,
                    49,
                    55,
                    22,
                    21,
                    40,
                    30,
                    29,
                    19,
                    47,
                    20,
                    31,
                    35,
                    39,
                    28,
                    24,
                    38,
                    37,
                    46,
                    38,
                    43,
                    27,
                    20,
                    49,
                    61,
                    27,
                    19,
                    45,
                    70,
                    31,
                    22,
                    36,
                    64,
                    43,
                    47,
                    34,
                    33,
                    21,
                    52,
                    48,
                    23,
                    71,
                    29,
                    42,
                    68,
                    25,
                    44,
                    28,
                    45,
                    36,
                    39,
                    46,
                    18,
                    66,
                    27,
                    28,
                    51,
                    27,
                    28,
                    27,
                    21,
                    34,
                    18,
                    33,
                    44,
                    43,
                    30,
                    40,
                    37,
                    34,
                    41,
                    53,
                    31,
                    58,
                    38,
                    24,
                    41,
                    47,
                    41,
                    23,
                    36,
                    40,
                    35,
                    24,
                    26,
                    19,
                    51,
                    42,
                    37,
                    18,
                    36,
                    35,
                    58,
                    17,
                    44,
                    37,
                    35,
                    60,
                    54,
                    37,
                    50,
                    38,
                    45,
                    25,
                    31,
                    64,
                    90,
                    54,
                    53,
                    18,
                    60,
                    66,
                    75,
                    65,
                    35,
                    41,
                    25,
                    33,
                    28,
                    59,
                    40,
                    41
                  ],
                  "y0": " ",
                  "yaxis": "y"
                }
              ],
              "layout": {
                "boxmode": "group",
                "legend": {
                  "tracegroupgap": 0
                },
                "margin": {
                  "t": 60
                },
                "template": {
                  "data": {
                    "bar": [
                      {
                        "error_x": {
                          "color": "#2a3f5f"
                        },
                        "error_y": {
                          "color": "#2a3f5f"
                        },
                        "marker": {
                          "line": {
                            "color": "#E5ECF6",
                            "width": 0.5
                          },
                          "pattern": {
                            "fillmode": "overlay",
                            "size": 10,
                            "solidity": 0.2
                          }
                        },
                        "type": "bar"
                      }
                    ],
                    "barpolar": [
                      {
                        "marker": {
                          "line": {
                            "color": "#E5ECF6",
                            "width": 0.5
                          },
                          "pattern": {
                            "fillmode": "overlay",
                            "size": 10,
                            "solidity": 0.2
                          }
                        },
                        "type": "barpolar"
                      }
                    ],
                    "carpet": [
                      {
                        "aaxis": {
                          "endlinecolor": "#2a3f5f",
                          "gridcolor": "white",
                          "linecolor": "white",
                          "minorgridcolor": "white",
                          "startlinecolor": "#2a3f5f"
                        },
                        "baxis": {
                          "endlinecolor": "#2a3f5f",
                          "gridcolor": "white",
                          "linecolor": "white",
                          "minorgridcolor": "white",
                          "startlinecolor": "#2a3f5f"
                        },
                        "type": "carpet"
                      }
                    ],
                    "choropleth": [
                      {
                        "colorbar": {
                          "outlinewidth": 0,
                          "ticks": ""
                        },
                        "type": "choropleth"
                      }
                    ],
                    "contour": [
                      {
                        "colorbar": {
                          "outlinewidth": 0,
                          "ticks": ""
                        },
                        "colorscale": [
                          [
                            0,
                            "#0d0887"
                          ],
                          [
                            0.1111111111111111,
                            "#46039f"
                          ],
                          [
                            0.2222222222222222,
                            "#7201a8"
                          ],
                          [
                            0.3333333333333333,
                            "#9c179e"
                          ],
                          [
                            0.4444444444444444,
                            "#bd3786"
                          ],
                          [
                            0.5555555555555556,
                            "#d8576b"
                          ],
                          [
                            0.6666666666666666,
                            "#ed7953"
                          ],
                          [
                            0.7777777777777778,
                            "#fb9f3a"
                          ],
                          [
                            0.8888888888888888,
                            "#fdca26"
                          ],
                          [
                            1,
                            "#f0f921"
                          ]
                        ],
                        "type": "contour"
                      }
                    ],
                    "contourcarpet": [
                      {
                        "colorbar": {
                          "outlinewidth": 0,
                          "ticks": ""
                        },
                        "type": "contourcarpet"
                      }
                    ],
                    "heatmap": [
                      {
                        "colorbar": {
                          "outlinewidth": 0,
                          "ticks": ""
                        },
                        "colorscale": [
                          [
                            0,
                            "#0d0887"
                          ],
                          [
                            0.1111111111111111,
                            "#46039f"
                          ],
                          [
                            0.2222222222222222,
                            "#7201a8"
                          ],
                          [
                            0.3333333333333333,
                            "#9c179e"
                          ],
                          [
                            0.4444444444444444,
                            "#bd3786"
                          ],
                          [
                            0.5555555555555556,
                            "#d8576b"
                          ],
                          [
                            0.6666666666666666,
                            "#ed7953"
                          ],
                          [
                            0.7777777777777778,
                            "#fb9f3a"
                          ],
                          [
                            0.8888888888888888,
                            "#fdca26"
                          ],
                          [
                            1,
                            "#f0f921"
                          ]
                        ],
                        "type": "heatmap"
                      }
                    ],
                    "heatmapgl": [
                      {
                        "colorbar": {
                          "outlinewidth": 0,
                          "ticks": ""
                        },
                        "colorscale": [
                          [
                            0,
                            "#0d0887"
                          ],
                          [
                            0.1111111111111111,
                            "#46039f"
                          ],
                          [
                            0.2222222222222222,
                            "#7201a8"
                          ],
                          [
                            0.3333333333333333,
                            "#9c179e"
                          ],
                          [
                            0.4444444444444444,
                            "#bd3786"
                          ],
                          [
                            0.5555555555555556,
                            "#d8576b"
                          ],
                          [
                            0.6666666666666666,
                            "#ed7953"
                          ],
                          [
                            0.7777777777777778,
                            "#fb9f3a"
                          ],
                          [
                            0.8888888888888888,
                            "#fdca26"
                          ],
                          [
                            1,
                            "#f0f921"
                          ]
                        ],
                        "type": "heatmapgl"
                      }
                    ],
                    "histogram": [
                      {
                        "marker": {
                          "pattern": {
                            "fillmode": "overlay",
                            "size": 10,
                            "solidity": 0.2
                          }
                        },
                        "type": "histogram"
                      }
                    ],
                    "histogram2d": [
                      {
                        "colorbar": {
                          "outlinewidth": 0,
                          "ticks": ""
                        },
                        "colorscale": [
                          [
                            0,
                            "#0d0887"
                          ],
                          [
                            0.1111111111111111,
                            "#46039f"
                          ],
                          [
                            0.2222222222222222,
                            "#7201a8"
                          ],
                          [
                            0.3333333333333333,
                            "#9c179e"
                          ],
                          [
                            0.4444444444444444,
                            "#bd3786"
                          ],
                          [
                            0.5555555555555556,
                            "#d8576b"
                          ],
                          [
                            0.6666666666666666,
                            "#ed7953"
                          ],
                          [
                            0.7777777777777778,
                            "#fb9f3a"
                          ],
                          [
                            0.8888888888888888,
                            "#fdca26"
                          ],
                          [
                            1,
                            "#f0f921"
                          ]
                        ],
                        "type": "histogram2d"
                      }
                    ],
                    "histogram2dcontour": [
                      {
                        "colorbar": {
                          "outlinewidth": 0,
                          "ticks": ""
                        },
                        "colorscale": [
                          [
                            0,
                            "#0d0887"
                          ],
                          [
                            0.1111111111111111,
                            "#46039f"
                          ],
                          [
                            0.2222222222222222,
                            "#7201a8"
                          ],
                          [
                            0.3333333333333333,
                            "#9c179e"
                          ],
                          [
                            0.4444444444444444,
                            "#bd3786"
                          ],
                          [
                            0.5555555555555556,
                            "#d8576b"
                          ],
                          [
                            0.6666666666666666,
                            "#ed7953"
                          ],
                          [
                            0.7777777777777778,
                            "#fb9f3a"
                          ],
                          [
                            0.8888888888888888,
                            "#fdca26"
                          ],
                          [
                            1,
                            "#f0f921"
                          ]
                        ],
                        "type": "histogram2dcontour"
                      }
                    ],
                    "mesh3d": [
                      {
                        "colorbar": {
                          "outlinewidth": 0,
                          "ticks": ""
                        },
                        "type": "mesh3d"
                      }
                    ],
                    "parcoords": [
                      {
                        "line": {
                          "colorbar": {
                            "outlinewidth": 0,
                            "ticks": ""
                          }
                        },
                        "type": "parcoords"
                      }
                    ],
                    "pie": [
                      {
                        "automargin": true,
                        "type": "pie"
                      }
                    ],
                    "scatter": [
                      {
                        "fillpattern": {
                          "fillmode": "overlay",
                          "size": 10,
                          "solidity": 0.2
                        },
                        "type": "scatter"
                      }
                    ],
                    "scatter3d": [
                      {
                        "line": {
                          "colorbar": {
                            "outlinewidth": 0,
                            "ticks": ""
                          }
                        },
                        "marker": {
                          "colorbar": {
                            "outlinewidth": 0,
                            "ticks": ""
                          }
                        },
                        "type": "scatter3d"
                      }
                    ],
                    "scattercarpet": [
                      {
                        "marker": {
                          "colorbar": {
                            "outlinewidth": 0,
                            "ticks": ""
                          }
                        },
                        "type": "scattercarpet"
                      }
                    ],
                    "scattergeo": [
                      {
                        "marker": {
                          "colorbar": {
                            "outlinewidth": 0,
                            "ticks": ""
                          }
                        },
                        "type": "scattergeo"
                      }
                    ],
                    "scattergl": [
                      {
                        "marker": {
                          "colorbar": {
                            "outlinewidth": 0,
                            "ticks": ""
                          }
                        },
                        "type": "scattergl"
                      }
                    ],
                    "scattermapbox": [
                      {
                        "marker": {
                          "colorbar": {
                            "outlinewidth": 0,
                            "ticks": ""
                          }
                        },
                        "type": "scattermapbox"
                      }
                    ],
                    "scatterpolar": [
                      {
                        "marker": {
                          "colorbar": {
                            "outlinewidth": 0,
                            "ticks": ""
                          }
                        },
                        "type": "scatterpolar"
                      }
                    ],
                    "scatterpolargl": [
                      {
                        "marker": {
                          "colorbar": {
                            "outlinewidth": 0,
                            "ticks": ""
                          }
                        },
                        "type": "scatterpolargl"
                      }
                    ],
                    "scatterternary": [
                      {
                        "marker": {
                          "colorbar": {
                            "outlinewidth": 0,
                            "ticks": ""
                          }
                        },
                        "type": "scatterternary"
                      }
                    ],
                    "surface": [
                      {
                        "colorbar": {
                          "outlinewidth": 0,
                          "ticks": ""
                        },
                        "colorscale": [
                          [
                            0,
                            "#0d0887"
                          ],
                          [
                            0.1111111111111111,
                            "#46039f"
                          ],
                          [
                            0.2222222222222222,
                            "#7201a8"
                          ],
                          [
                            0.3333333333333333,
                            "#9c179e"
                          ],
                          [
                            0.4444444444444444,
                            "#bd3786"
                          ],
                          [
                            0.5555555555555556,
                            "#d8576b"
                          ],
                          [
                            0.6666666666666666,
                            "#ed7953"
                          ],
                          [
                            0.7777777777777778,
                            "#fb9f3a"
                          ],
                          [
                            0.8888888888888888,
                            "#fdca26"
                          ],
                          [
                            1,
                            "#f0f921"
                          ]
                        ],
                        "type": "surface"
                      }
                    ],
                    "table": [
                      {
                        "cells": {
                          "fill": {
                            "color": "#EBF0F8"
                          },
                          "line": {
                            "color": "white"
                          }
                        },
                        "header": {
                          "fill": {
                            "color": "#C8D4E3"
                          },
                          "line": {
                            "color": "white"
                          }
                        },
                        "type": "table"
                      }
                    ]
                  },
                  "layout": {
                    "annotationdefaults": {
                      "arrowcolor": "#2a3f5f",
                      "arrowhead": 0,
                      "arrowwidth": 1
                    },
                    "autotypenumbers": "strict",
                    "coloraxis": {
                      "colorbar": {
                        "outlinewidth": 0,
                        "ticks": ""
                      }
                    },
                    "colorscale": {
                      "diverging": [
                        [
                          0,
                          "#8e0152"
                        ],
                        [
                          0.1,
                          "#c51b7d"
                        ],
                        [
                          0.2,
                          "#de77ae"
                        ],
                        [
                          0.3,
                          "#f1b6da"
                        ],
                        [
                          0.4,
                          "#fde0ef"
                        ],
                        [
                          0.5,
                          "#f7f7f7"
                        ],
                        [
                          0.6,
                          "#e6f5d0"
                        ],
                        [
                          0.7,
                          "#b8e186"
                        ],
                        [
                          0.8,
                          "#7fbc41"
                        ],
                        [
                          0.9,
                          "#4d9221"
                        ],
                        [
                          1,
                          "#276419"
                        ]
                      ],
                      "sequential": [
                        [
                          0,
                          "#0d0887"
                        ],
                        [
                          0.1111111111111111,
                          "#46039f"
                        ],
                        [
                          0.2222222222222222,
                          "#7201a8"
                        ],
                        [
                          0.3333333333333333,
                          "#9c179e"
                        ],
                        [
                          0.4444444444444444,
                          "#bd3786"
                        ],
                        [
                          0.5555555555555556,
                          "#d8576b"
                        ],
                        [
                          0.6666666666666666,
                          "#ed7953"
                        ],
                        [
                          0.7777777777777778,
                          "#fb9f3a"
                        ],
                        [
                          0.8888888888888888,
                          "#fdca26"
                        ],
                        [
                          1,
                          "#f0f921"
                        ]
                      ],
                      "sequentialminus": [
                        [
                          0,
                          "#0d0887"
                        ],
                        [
                          0.1111111111111111,
                          "#46039f"
                        ],
                        [
                          0.2222222222222222,
                          "#7201a8"
                        ],
                        [
                          0.3333333333333333,
                          "#9c179e"
                        ],
                        [
                          0.4444444444444444,
                          "#bd3786"
                        ],
                        [
                          0.5555555555555556,
                          "#d8576b"
                        ],
                        [
                          0.6666666666666666,
                          "#ed7953"
                        ],
                        [
                          0.7777777777777778,
                          "#fb9f3a"
                        ],
                        [
                          0.8888888888888888,
                          "#fdca26"
                        ],
                        [
                          1,
                          "#f0f921"
                        ]
                      ]
                    },
                    "colorway": [
                      "#636efa",
                      "#EF553B",
                      "#00cc96",
                      "#ab63fa",
                      "#FFA15A",
                      "#19d3f3",
                      "#FF6692",
                      "#B6E880",
                      "#FF97FF",
                      "#FECB52"
                    ],
                    "font": {
                      "color": "#2a3f5f"
                    },
                    "geo": {
                      "bgcolor": "white",
                      "lakecolor": "white",
                      "landcolor": "#E5ECF6",
                      "showlakes": true,
                      "showland": true,
                      "subunitcolor": "white"
                    },
                    "hoverlabel": {
                      "align": "left"
                    },
                    "hovermode": "closest",
                    "mapbox": {
                      "style": "light"
                    },
                    "paper_bgcolor": "white",
                    "plot_bgcolor": "#E5ECF6",
                    "polar": {
                      "angularaxis": {
                        "gridcolor": "white",
                        "linecolor": "white",
                        "ticks": ""
                      },
                      "bgcolor": "#E5ECF6",
                      "radialaxis": {
                        "gridcolor": "white",
                        "linecolor": "white",
                        "ticks": ""
                      }
                    },
                    "scene": {
                      "xaxis": {
                        "backgroundcolor": "#E5ECF6",
                        "gridcolor": "white",
                        "gridwidth": 2,
                        "linecolor": "white",
                        "showbackground": true,
                        "ticks": "",
                        "zerolinecolor": "white"
                      },
                      "yaxis": {
                        "backgroundcolor": "#E5ECF6",
                        "gridcolor": "white",
                        "gridwidth": 2,
                        "linecolor": "white",
                        "showbackground": true,
                        "ticks": "",
                        "zerolinecolor": "white"
                      },
                      "zaxis": {
                        "backgroundcolor": "#E5ECF6",
                        "gridcolor": "white",
                        "gridwidth": 2,
                        "linecolor": "white",
                        "showbackground": true,
                        "ticks": "",
                        "zerolinecolor": "white"
                      }
                    },
                    "shapedefaults": {
                      "line": {
                        "color": "#2a3f5f"
                      }
                    },
                    "ternary": {
                      "aaxis": {
                        "gridcolor": "white",
                        "linecolor": "white",
                        "ticks": ""
                      },
                      "baxis": {
                        "gridcolor": "white",
                        "linecolor": "white",
                        "ticks": ""
                      },
                      "bgcolor": "#E5ECF6",
                      "caxis": {
                        "gridcolor": "white",
                        "linecolor": "white",
                        "ticks": ""
                      }
                    },
                    "title": {
                      "x": 0.05
                    },
                    "xaxis": {
                      "automargin": true,
                      "gridcolor": "white",
                      "linecolor": "white",
                      "ticks": "",
                      "title": {
                        "standoff": 15
                      },
                      "zerolinecolor": "white",
                      "zerolinewidth": 2
                    },
                    "yaxis": {
                      "automargin": true,
                      "gridcolor": "white",
                      "linecolor": "white",
                      "ticks": "",
                      "title": {
                        "standoff": 15
                      },
                      "zerolinecolor": "white",
                      "zerolinewidth": 2
                    }
                  }
                },
                "xaxis": {
                  "anchor": "y",
                  "domain": [
                    0,
                    1
                  ],
                  "title": {
                    "text": "Cluster"
                  }
                },
                "yaxis": {
                  "anchor": "x",
                  "domain": [
                    0,
                    1
                  ],
                  "title": {
                    "text": "idade"
                  }
                }
              }
            }
          },
          "metadata": {},
          "output_type": "display_data"
        }
      ],
      "source": [
        "# Resposta da Pergunta 10\n",
        "media_idade_cluster_grande = df_merge.groupby(\"Cluster\")['idade'].mean()\n",
        "\n",
        "print(f\"A média de idade das pessoas do cluster de tamanho grande é de {media_idade_cluster_grande[2]}\")\n",
        "\n",
        "fig = px.box(df_merge, x=\"Cluster\", y=\"idade\")\n",
        "fig.show()"
      ]
    },
    {
      "cell_type": "code",
      "execution_count": 40,
      "metadata": {
        "colab": {
          "base_uri": "https://localhost:8080/",
          "height": 542
        },
        "id": "K0zPKEJz9C5j",
        "outputId": "8ae9080b-f39f-4af9-81cf-a0c0569a9ca5"
      },
      "outputs": [
        {
          "data": {
            "text/plain": [
              "<Axes: >"
            ]
          },
          "execution_count": 40,
          "metadata": {},
          "output_type": "execute_result"
        },
        {
          "data": {
            "image/png": "[encoded data removed]",
            "text/plain": [
              "<Figure size 640x480 with 1 Axes>"
            ]
          },
          "metadata": {},
          "output_type": "display_data"
        }
      ],
      "source": [
        "df_filtrado = df_merge[(df_merge[\"Cluster\"] == 0) & (df_merge[\"genero\"] == \"Feminino\")]\n",
        "\n",
        "df_filtrado['idade'].hist(bins=15)\n"
      ]
    }
  ],
  "metadata": {
    "colab": {
      "provenance": []
    },
    "kernelspec": {
      "display_name": "Python 3",
      "name": "python3"
    },
    "language_info": {
      "codemirror_mode": {
        "name": "ipython",
        "version": 3
      },
      "file_extension": ".py",
      "mimetype": "text/x-python",
      "name": "python",
      "nbconvert_exporter": "python",
      "pygments_lexer": "ipython3",
      "version": "3.11.7"
    }
  },
  "nbformat": 4,
  "nbformat_minor": 0
}
