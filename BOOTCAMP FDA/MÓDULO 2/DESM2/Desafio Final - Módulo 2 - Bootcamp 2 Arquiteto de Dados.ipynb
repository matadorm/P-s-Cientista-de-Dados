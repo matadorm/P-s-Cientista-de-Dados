{
 "cells": [
  {
   "cell_type": "code",
   "execution_count": 1,
   "id": "c033df03",
   "metadata": {},
   "outputs": [],
   "source": [
    "# Bibliotecas\n",
    "import pandas as pd"
   ]
  },
  {
   "cell_type": "markdown",
   "id": "69191bb7",
   "metadata": {},
   "source": [
    "## Exploração de Dados (EDA): Licença Médica"
   ]
  },
  {
   "cell_type": "code",
   "execution_count": 2,
   "id": "d0cac6b1",
   "metadata": {},
   "outputs": [],
   "source": [
    "# Dados licença médica\n",
    "df_licenca = pd.read_csv('data/dados_licencas_medicas.csv', sep=';', encoding='latin-1')"
   ]
  },
  {
   "cell_type": "code",
   "execution_count": 3,
   "id": "0d8958fb",
   "metadata": {},
   "outputs": [
    {
     "data": {
      "text/plain": [
       "(1013, 18)"
      ]
     },
     "execution_count": 3,
     "metadata": {},
     "output_type": "execute_result"
    }
   ],
   "source": [
    "df_licenca.shape"
   ]
  },
  {
   "cell_type": "code",
   "execution_count": 4,
   "id": "be313136",
   "metadata": {},
   "outputs": [
    {
     "data": {
      "text/plain": [
       "Index(['nome_medico', 'especialidade', 'motivo_licença', 'id_colaborador',\n",
       "       'nome_colaborador', 'data_nascimento', 'estado_colaborador',\n",
       "       'sexo_colaborador', 'inicio_licenca', 'fim_licenca', 'duracao_licensa',\n",
       "       'idade', 'escolaridade', 'salario', 'qtd_filhos', 'hobbie',\n",
       "       'possui_pet', 'estado_civil'],\n",
       "      dtype='object')"
      ]
     },
     "execution_count": 4,
     "metadata": {},
     "output_type": "execute_result"
    }
   ],
   "source": [
    "df_licenca.columns"
   ]
  },
  {
   "cell_type": "code",
   "execution_count": 5,
   "id": "7f469382",
   "metadata": {},
   "outputs": [
    {
     "data": {
      "text/plain": [
       "17"
      ]
     },
     "execution_count": 5,
     "metadata": {},
     "output_type": "execute_result"
    }
   ],
   "source": [
    "df_licenca.duplicated().sum()"
   ]
  },
  {
   "cell_type": "code",
   "execution_count": 6,
   "id": "582ed3db",
   "metadata": {},
   "outputs": [
    {
     "data": {
      "text/plain": [
       "nome_medico            0\n",
       "especialidade          0\n",
       "motivo_licença         0\n",
       "id_colaborador         0\n",
       "nome_colaborador       0\n",
       "data_nascimento        0\n",
       "estado_colaborador     0\n",
       "sexo_colaborador       0\n",
       "inicio_licenca         0\n",
       "fim_licenca            0\n",
       "duracao_licensa        0\n",
       "idade                  0\n",
       "escolaridade           0\n",
       "salario               18\n",
       "qtd_filhos             6\n",
       "hobbie                 0\n",
       "possui_pet             0\n",
       "estado_civil           5\n",
       "dtype: int64"
      ]
     },
     "execution_count": 6,
     "metadata": {},
     "output_type": "execute_result"
    }
   ],
   "source": [
    "df_licenca.isnull().sum()"
   ]
  },
  {
   "cell_type": "code",
   "execution_count": 7,
   "id": "058f1a9c",
   "metadata": {},
   "outputs": [
    {
     "data": {
      "text/html": [
       "<div>\n",
       "<style scoped>\n",
       "    .dataframe tbody tr th:only-of-type {\n",
       "        vertical-align: middle;\n",
       "    }\n",
       "\n",
       "    .dataframe tbody tr th {\n",
       "        vertical-align: top;\n",
       "    }\n",
       "\n",
       "    .dataframe thead th {\n",
       "        text-align: right;\n",
       "    }\n",
       "</style>\n",
       "<table border=\"1\" class=\"dataframe\">\n",
       "  <thead>\n",
       "    <tr style=\"text-align: right;\">\n",
       "      <th></th>\n",
       "      <th>nome_medico</th>\n",
       "      <th>especialidade</th>\n",
       "      <th>motivo_licença</th>\n",
       "      <th>id_colaborador</th>\n",
       "      <th>nome_colaborador</th>\n",
       "      <th>data_nascimento</th>\n",
       "      <th>estado_colaborador</th>\n",
       "      <th>sexo_colaborador</th>\n",
       "      <th>inicio_licenca</th>\n",
       "      <th>fim_licenca</th>\n",
       "      <th>duracao_licensa</th>\n",
       "      <th>idade</th>\n",
       "      <th>escolaridade</th>\n",
       "      <th>salario</th>\n",
       "      <th>qtd_filhos</th>\n",
       "      <th>hobbie</th>\n",
       "      <th>possui_pet</th>\n",
       "      <th>estado_civil</th>\n",
       "    </tr>\n",
       "  </thead>\n",
       "  <tbody>\n",
       "    <tr>\n",
       "      <th>0</th>\n",
       "      <td>Dr. Pedro</td>\n",
       "      <td>Clínico geral</td>\n",
       "      <td>Acidente de trabalho</td>\n",
       "      <td>2</td>\n",
       "      <td>Sophie Aragão</td>\n",
       "      <td>27/03/1970</td>\n",
       "      <td>Rio Grande do Sul</td>\n",
       "      <td>Feminino</td>\n",
       "      <td>22/10/2022</td>\n",
       "      <td>27/10/2022</td>\n",
       "      <td>5</td>\n",
       "      <td>53</td>\n",
       "      <td>Fundamental</td>\n",
       "      <td>3966.24</td>\n",
       "      <td>2.0</td>\n",
       "      <td>Música</td>\n",
       "      <td>Sim</td>\n",
       "      <td>Solteiro(a)</td>\n",
       "    </tr>\n",
       "    <tr>\n",
       "      <th>1</th>\n",
       "      <td>Dr. Marcelo</td>\n",
       "      <td>Clínico geral</td>\n",
       "      <td>Acidente de trajeto</td>\n",
       "      <td>6</td>\n",
       "      <td>Juliana da Luz</td>\n",
       "      <td>25/06/1957</td>\n",
       "      <td>Ceará</td>\n",
       "      <td>Feminino</td>\n",
       "      <td>15/08/2023</td>\n",
       "      <td>04/09/2023</td>\n",
       "      <td>20</td>\n",
       "      <td>65</td>\n",
       "      <td>Médio</td>\n",
       "      <td>8924.56</td>\n",
       "      <td>4.0</td>\n",
       "      <td>Artes</td>\n",
       "      <td>Não</td>\n",
       "      <td>Casado(a)</td>\n",
       "    </tr>\n",
       "    <tr>\n",
       "      <th>2</th>\n",
       "      <td>Dr. Gustavo</td>\n",
       "      <td>Clínico geral</td>\n",
       "      <td>Enfermidade de filhos pequenos</td>\n",
       "      <td>7</td>\n",
       "      <td>Marina da Rocha</td>\n",
       "      <td>06/01/1978</td>\n",
       "      <td>Rio Grande do Norte</td>\n",
       "      <td>Feminino</td>\n",
       "      <td>02/04/2023</td>\n",
       "      <td>01/05/2023</td>\n",
       "      <td>29</td>\n",
       "      <td>45</td>\n",
       "      <td>Fundamental</td>\n",
       "      <td>4020.64</td>\n",
       "      <td>1.0</td>\n",
       "      <td>Leitura</td>\n",
       "      <td>Não</td>\n",
       "      <td>Viúvo(a)</td>\n",
       "    </tr>\n",
       "    <tr>\n",
       "      <th>3</th>\n",
       "      <td>Dr. Lucas</td>\n",
       "      <td>Clínico geral</td>\n",
       "      <td>Comum</td>\n",
       "      <td>11</td>\n",
       "      <td>Davi da Mota</td>\n",
       "      <td>27/09/1956</td>\n",
       "      <td>Tocantins</td>\n",
       "      <td>Masculino</td>\n",
       "      <td>09/03/2023</td>\n",
       "      <td>30/03/2023</td>\n",
       "      <td>21</td>\n",
       "      <td>66</td>\n",
       "      <td>Fundamental</td>\n",
       "      <td>6680.35</td>\n",
       "      <td>2.0</td>\n",
       "      <td>Artes</td>\n",
       "      <td>Não</td>\n",
       "      <td>Viúvo(a)</td>\n",
       "    </tr>\n",
       "    <tr>\n",
       "      <th>4</th>\n",
       "      <td>Dr. Pedro</td>\n",
       "      <td>Clínico geral</td>\n",
       "      <td>Acidente de trabalho</td>\n",
       "      <td>12</td>\n",
       "      <td>Paulo Souza</td>\n",
       "      <td>09/04/1968</td>\n",
       "      <td>Roraima</td>\n",
       "      <td>Masculino</td>\n",
       "      <td>13/11/2023</td>\n",
       "      <td>04/12/2023</td>\n",
       "      <td>21</td>\n",
       "      <td>55</td>\n",
       "      <td>Fundamental</td>\n",
       "      <td>3038.72</td>\n",
       "      <td>3.0</td>\n",
       "      <td>Artes</td>\n",
       "      <td>Não</td>\n",
       "      <td>Divorciado(a)</td>\n",
       "    </tr>\n",
       "  </tbody>\n",
       "</table>\n",
       "</div>"
      ],
      "text/plain": [
       "   nome_medico  especialidade                  motivo_licença  id_colaborador  \\\n",
       "0    Dr. Pedro  Clínico geral            Acidente de trabalho               2   \n",
       "1  Dr. Marcelo  Clínico geral             Acidente de trajeto               6   \n",
       "2  Dr. Gustavo  Clínico geral  Enfermidade de filhos pequenos               7   \n",
       "3    Dr. Lucas  Clínico geral                           Comum              11   \n",
       "4    Dr. Pedro  Clínico geral            Acidente de trabalho              12   \n",
       "\n",
       "  nome_colaborador data_nascimento   estado_colaborador sexo_colaborador  \\\n",
       "0    Sophie Aragão      27/03/1970    Rio Grande do Sul         Feminino   \n",
       "1   Juliana da Luz      25/06/1957                Ceará         Feminino   \n",
       "2  Marina da Rocha      06/01/1978  Rio Grande do Norte         Feminino   \n",
       "3     Davi da Mota      27/09/1956            Tocantins        Masculino   \n",
       "4      Paulo Souza      09/04/1968              Roraima        Masculino   \n",
       "\n",
       "  inicio_licenca fim_licenca  duracao_licensa  idade escolaridade  salario  \\\n",
       "0     22/10/2022  27/10/2022                5     53  Fundamental  3966.24   \n",
       "1     15/08/2023  04/09/2023               20     65        Médio  8924.56   \n",
       "2     02/04/2023  01/05/2023               29     45  Fundamental  4020.64   \n",
       "3     09/03/2023  30/03/2023               21     66  Fundamental  6680.35   \n",
       "4     13/11/2023  04/12/2023               21     55  Fundamental  3038.72   \n",
       "\n",
       "   qtd_filhos   hobbie possui_pet   estado_civil  \n",
       "0         2.0   Música        Sim    Solteiro(a)  \n",
       "1         4.0    Artes        Não      Casado(a)  \n",
       "2         1.0  Leitura        Não       Viúvo(a)  \n",
       "3         2.0    Artes        Não       Viúvo(a)  \n",
       "4         3.0    Artes        Não  Divorciado(a)  "
      ]
     },
     "execution_count": 7,
     "metadata": {},
     "output_type": "execute_result"
    }
   ],
   "source": [
    "df_licenca.head()"
   ]
  },
  {
   "cell_type": "markdown",
   "id": "2d833598",
   "metadata": {},
   "source": [
    "## Tratamento dos dados: Licença Médica"
   ]
  },
  {
   "cell_type": "code",
   "execution_count": 8,
   "id": "0da827cf",
   "metadata": {},
   "outputs": [],
   "source": [
    "#### Drop duplicate values\n",
    "df_licenca.drop_duplicates(inplace=True)"
   ]
  },
  {
   "cell_type": "code",
   "execution_count": 9,
   "id": "a87d1543",
   "metadata": {},
   "outputs": [
    {
     "data": {
      "text/plain": [
       "0"
      ]
     },
     "execution_count": 9,
     "metadata": {},
     "output_type": "execute_result"
    }
   ],
   "source": [
    "df_licenca.duplicated().sum()"
   ]
  },
  {
   "cell_type": "code",
   "execution_count": 10,
   "id": "cadfe93b",
   "metadata": {},
   "outputs": [
    {
     "data": {
      "text/plain": [
       "(996, 18)"
      ]
     },
     "execution_count": 10,
     "metadata": {},
     "output_type": "execute_result"
    }
   ],
   "source": [
    "df_licenca.shape"
   ]
  },
  {
   "cell_type": "code",
   "execution_count": 11,
   "id": "3e7acfe1",
   "metadata": {},
   "outputs": [],
   "source": [
    "### Tratar dados nulos\n",
    "## salario 18: com média arredondando 2 casas decimais\n",
    "## qtd_filhos 6: com a média somente com round\n",
    "## estado_civil 5: pegar a moda"
   ]
  },
  {
   "cell_type": "code",
   "execution_count": 12,
   "id": "d283f0a6",
   "metadata": {},
   "outputs": [],
   "source": [
    "# Média de salários fillna(média)\n",
    "media_salario = round(df_licenca.salario.mean(), 2) "
   ]
  },
  {
   "cell_type": "code",
   "execution_count": 13,
   "id": "5242517d",
   "metadata": {},
   "outputs": [],
   "source": [
    "df_licenca.salario.fillna(media_salario, inplace=True)"
   ]
  },
  {
   "cell_type": "code",
   "execution_count": 14,
   "id": "9a35c9e9",
   "metadata": {},
   "outputs": [
    {
     "data": {
      "text/plain": [
       "nome_medico           0\n",
       "especialidade         0\n",
       "motivo_licença        0\n",
       "id_colaborador        0\n",
       "nome_colaborador      0\n",
       "data_nascimento       0\n",
       "estado_colaborador    0\n",
       "sexo_colaborador      0\n",
       "inicio_licenca        0\n",
       "fim_licenca           0\n",
       "duracao_licensa       0\n",
       "idade                 0\n",
       "escolaridade          0\n",
       "salario               0\n",
       "qtd_filhos            6\n",
       "hobbie                0\n",
       "possui_pet            0\n",
       "estado_civil          5\n",
       "dtype: int64"
      ]
     },
     "execution_count": 14,
     "metadata": {},
     "output_type": "execute_result"
    }
   ],
   "source": [
    "df_licenca.isnull().sum()"
   ]
  },
  {
   "cell_type": "code",
   "execution_count": 15,
   "id": "117213df",
   "metadata": {},
   "outputs": [],
   "source": [
    "# Média de quantidade de filhos\n",
    "media_filhos = round(df_licenca.qtd_filhos.mean())"
   ]
  },
  {
   "cell_type": "code",
   "execution_count": 16,
   "id": "538a8ef6",
   "metadata": {},
   "outputs": [],
   "source": [
    "df_licenca.qtd_filhos.fillna(media_filhos, inplace=True)"
   ]
  },
  {
   "cell_type": "code",
   "execution_count": 17,
   "id": "8328871e",
   "metadata": {},
   "outputs": [
    {
     "data": {
      "text/plain": [
       "nome_medico           0\n",
       "especialidade         0\n",
       "motivo_licença        0\n",
       "id_colaborador        0\n",
       "nome_colaborador      0\n",
       "data_nascimento       0\n",
       "estado_colaborador    0\n",
       "sexo_colaborador      0\n",
       "inicio_licenca        0\n",
       "fim_licenca           0\n",
       "duracao_licensa       0\n",
       "idade                 0\n",
       "escolaridade          0\n",
       "salario               0\n",
       "qtd_filhos            0\n",
       "hobbie                0\n",
       "possui_pet            0\n",
       "estado_civil          5\n",
       "dtype: int64"
      ]
     },
     "execution_count": 17,
     "metadata": {},
     "output_type": "execute_result"
    }
   ],
   "source": [
    "df_licenca.isnull().sum()"
   ]
  },
  {
   "cell_type": "code",
   "execution_count": 18,
   "id": "b509a6f5",
   "metadata": {},
   "outputs": [],
   "source": [
    "## Moda do estado_civil\n",
    "moda_estado_civil = df_licenca.estado_civil.mode()"
   ]
  },
  {
   "cell_type": "code",
   "execution_count": 19,
   "id": "27c4a137",
   "metadata": {},
   "outputs": [],
   "source": [
    "df_licenca.estado_civil.fillna(moda_estado_civil, inplace=True)"
   ]
  },
  {
   "cell_type": "code",
   "execution_count": 20,
   "id": "2b91a2b9",
   "metadata": {},
   "outputs": [
    {
     "data": {
      "text/plain": [
       "nome_medico           0\n",
       "especialidade         0\n",
       "motivo_licença        0\n",
       "id_colaborador        0\n",
       "nome_colaborador      0\n",
       "data_nascimento       0\n",
       "estado_colaborador    0\n",
       "sexo_colaborador      0\n",
       "inicio_licenca        0\n",
       "fim_licenca           0\n",
       "duracao_licensa       0\n",
       "idade                 0\n",
       "escolaridade          0\n",
       "salario               0\n",
       "qtd_filhos            0\n",
       "hobbie                0\n",
       "possui_pet            0\n",
       "estado_civil          5\n",
       "dtype: int64"
      ]
     },
     "execution_count": 20,
     "metadata": {},
     "output_type": "execute_result"
    }
   ],
   "source": [
    "df_licenca.isnull().sum()"
   ]
  },
  {
   "cell_type": "code",
   "execution_count": 21,
   "id": "52c09006",
   "metadata": {},
   "outputs": [],
   "source": [
    "# Calcula a idade\n",
    "from datetime import datetime\n",
    "# Supondo que 'data_nascimento' está no formato 'dd/mm/yyyy'\n",
    "df_licenca['data_nascimento'] = pd.to_datetime(df_licenca['data_nascimento'], format='%d/%m/%Y')\n",
    "\n",
    "# Calcular a idade\n",
    "df_licenca['idade_calculada'] = (datetime.now() - df_licenca['data_nascimento']).dt.days // 365"
   ]
  },
  {
   "cell_type": "code",
   "execution_count": 22,
   "id": "1c967587",
   "metadata": {},
   "outputs": [
    {
     "data": {
      "text/plain": [
       "(996, 19)"
      ]
     },
     "execution_count": 22,
     "metadata": {},
     "output_type": "execute_result"
    }
   ],
   "source": [
    "df_licenca.shape"
   ]
  },
  {
   "cell_type": "markdown",
   "id": "06c5f70b",
   "metadata": {},
   "source": [
    "### Pergunta 1: Qual é a idade média dos colaboradores do sexo feminino que estão solteiras?\n",
    "\n",
    "#### 46.36241610738255"
   ]
  },
  {
   "cell_type": "code",
   "execution_count": 23,
   "id": "5f40d98d",
   "metadata": {},
   "outputs": [],
   "source": [
    "# Pergunta 1: Qual é a idade média dos colaboradores do sexo feminino que estão solteiras?\n",
    "df_feminino_solteira = df_licenca[(df_licenca.sexo_colaborador == 'Feminino') & (df_licenca.estado_civil == 'Solteiro(a)')]"
   ]
  },
  {
   "cell_type": "code",
   "execution_count": 24,
   "id": "da95686d",
   "metadata": {},
   "outputs": [
    {
     "data": {
      "text/plain": [
       "45.40939597315436"
      ]
     },
     "execution_count": 24,
     "metadata": {},
     "output_type": "execute_result"
    }
   ],
   "source": [
    "df_feminino_solteira.idade.mean()"
   ]
  },
  {
   "cell_type": "code",
   "execution_count": 25,
   "id": "c4c0b4e0",
   "metadata": {},
   "outputs": [
    {
     "data": {
      "text/plain": [
       "46.36241610738255"
      ]
     },
     "execution_count": 25,
     "metadata": {},
     "output_type": "execute_result"
    }
   ],
   "source": [
    "# Usar idade calculada para reponder as questões\n",
    "df_feminino_solteira.idade_calculada.mean()"
   ]
  },
  {
   "cell_type": "markdown",
   "id": "902c9991",
   "metadata": {},
   "source": [
    "### Pergunta 2: Qual é o motivo de licença que foi menos frequentemente solicitado por mulheres com mais de 35 anos?\n",
    "#### Acidente de trajeto"
   ]
  },
  {
   "cell_type": "code",
   "execution_count": 26,
   "id": "47a9e272",
   "metadata": {},
   "outputs": [],
   "source": [
    "# Qual é o motivo de licença que foi menos frequentemente solicitado por mulheres com mais de 35 anos?\n",
    "df_feminino_MAIOR_35 = df_licenca[(df_licenca.sexo_colaborador == 'Feminino') & (df_licenca.idade_calculada > 35)]"
   ]
  },
  {
   "cell_type": "code",
   "execution_count": 27,
   "id": "20a4edc1",
   "metadata": {},
   "outputs": [
    {
     "data": {
      "text/plain": [
       "motivo_licença\n",
       "Comum                             106\n",
       "Enfermidade de filhos pequenos     80\n",
       "Maternidade                        78\n",
       "Acidente de trabalho               55\n",
       "Acidente de trajeto                53\n",
       "Name: count, dtype: int64"
      ]
     },
     "execution_count": 27,
     "metadata": {},
     "output_type": "execute_result"
    }
   ],
   "source": [
    "df_feminino_MAIOR_35.motivo_licença.value_counts()"
   ]
  },
  {
   "cell_type": "markdown",
   "id": "6a9af8ff",
   "metadata": {},
   "source": [
    "### Pergunta 3: Dentre a lista abaixo, escolha o médico que atendeu o maior número de colaboradores do estado de Pernambuco?\n",
    "#### Dr. Irineu"
   ]
  },
  {
   "cell_type": "code",
   "execution_count": 28,
   "id": "6146eae2",
   "metadata": {},
   "outputs": [
    {
     "data": {
      "text/plain": [
       "estado_colaborador\n",
       "Mato Grosso do Sul     54\n",
       "Espírito Santo         46\n",
       "Amazonas               43\n",
       "Tocantins              42\n",
       "Rio Grande do Sul      41\n",
       "Paraíba                40\n",
       "Acre                   40\n",
       "Distrito Federal       39\n",
       "Rondônia               38\n",
       "Piauí                  38\n",
       "Maranhão               37\n",
       "Minas Gerais           37\n",
       "Santa Catarina         36\n",
       "Amapá                  36\n",
       "Pará                   35\n",
       "Rio Grande do Norte    35\n",
       "Rio de Janeiro         35\n",
       "São Paulo              34\n",
       "Alagoas                34\n",
       "Paraná                 34\n",
       "Roraima                33\n",
       "Mato Grosso            33\n",
       "Goiás                  33\n",
       "Pernambuco             32\n",
       "Ceará                  31\n",
       "Bahia                  30\n",
       "Sergipe                30\n",
       "Name: count, dtype: int64"
      ]
     },
     "execution_count": 28,
     "metadata": {},
     "output_type": "execute_result"
    }
   ],
   "source": [
    "df_licenca.estado_colaborador.value_counts()"
   ]
  },
  {
   "cell_type": "code",
   "execution_count": 29,
   "id": "faf3165e",
   "metadata": {},
   "outputs": [],
   "source": [
    "# Dentre a lista abaixo, escolha o médico que atendeu o maior número de colaboradores do estado de Pernambuco?\n",
    "df_PE = df_licenca[df_licenca.estado_colaborador == 'Pernambuco']"
   ]
  },
  {
   "cell_type": "code",
   "execution_count": 30,
   "id": "42c787ce",
   "metadata": {},
   "outputs": [
    {
     "data": {
      "text/plain": [
       "nome_medico\n",
       "Dr. Irineu       4\n",
       "Dr. Pedro        3\n",
       "Dr. Gustavo      3\n",
       "Dr. Lucas        3\n",
       "Dr. Vinicius     3\n",
       "Dr. Rafael       2\n",
       "Dra. Fernanda    2\n",
       "Dra. Juliana     2\n",
       "Dr. Felipe       2\n",
       "Dr. Roberto      2\n",
       "Dra. Ana         1\n",
       "Dr. Ramos        1\n",
       "Dr. Eduardo      1\n",
       "Dra. Vanessa     1\n",
       "Dr. Ricardo      1\n",
       "Dra. Daniele     1\n",
       "Name: count, dtype: int64"
      ]
     },
     "execution_count": 30,
     "metadata": {},
     "output_type": "execute_result"
    }
   ],
   "source": [
    "df_PE.nome_medico.value_counts()"
   ]
  },
  {
   "cell_type": "markdown",
   "id": "b79f39cf",
   "metadata": {},
   "source": [
    "### Pergunta 4: Qual estado tem o maior número de pessoas com ensino Fundamental que têm a leitura como hobbie?\n",
    "#### Santa Catarina"
   ]
  },
  {
   "cell_type": "code",
   "execution_count": 31,
   "id": "e163b5e8",
   "metadata": {},
   "outputs": [
    {
     "data": {
      "text/plain": [
       "escolaridade\n",
       "Médio          344\n",
       "Fundamental    327\n",
       "Superior       325\n",
       "Name: count, dtype: int64"
      ]
     },
     "execution_count": 31,
     "metadata": {},
     "output_type": "execute_result"
    }
   ],
   "source": [
    "df_licenca.escolaridade.value_counts()"
   ]
  },
  {
   "cell_type": "code",
   "execution_count": 32,
   "id": "1c0c54e9",
   "metadata": {},
   "outputs": [
    {
     "data": {
      "text/plain": [
       "hobbie\n",
       "Viagens     208\n",
       "Esportes    205\n",
       "Música      195\n",
       "Artes       195\n",
       "Leitura     193\n",
       "Name: count, dtype: int64"
      ]
     },
     "execution_count": 32,
     "metadata": {},
     "output_type": "execute_result"
    }
   ],
   "source": [
    "df_licenca.hobbie.value_counts()"
   ]
  },
  {
   "cell_type": "code",
   "execution_count": 33,
   "id": "b0921fae",
   "metadata": {},
   "outputs": [],
   "source": [
    "# Qual estado tem o maior número de pessoas com ensino Fundamental que têm a leitura como hobbie?\n",
    "df_ensinof_leitura_hobbie = df_licenca[(df_licenca.escolaridade == 'Fundamental') & (df_licenca.hobbie == 'Leitura')]"
   ]
  },
  {
   "cell_type": "code",
   "execution_count": 35,
   "id": "b324fcb8",
   "metadata": {},
   "outputs": [
    {
     "data": {
      "text/plain": [
       "estado_colaborador\n",
       "Santa Catarina         8\n",
       "Rio Grande do Sul      6\n",
       "Acre                   4\n",
       "Paraná                 4\n",
       "São Paulo              4\n",
       "Amazonas               4\n",
       "Maranhão               3\n",
       "Paraíba                3\n",
       "Rio de Janeiro         3\n",
       "Tocantins              3\n",
       "Sergipe                3\n",
       "Pernambuco             3\n",
       "Rondônia               2\n",
       "Piauí                  2\n",
       "Amapá                  2\n",
       "Mato Grosso do Sul     2\n",
       "Distrito Federal       2\n",
       "Alagoas                1\n",
       "Roraima                1\n",
       "Espírito Santo         1\n",
       "Minas Gerais           1\n",
       "Ceará                  1\n",
       "Rio Grande do Norte    1\n",
       "Name: count, dtype: int64"
      ]
     },
     "execution_count": 35,
     "metadata": {},
     "output_type": "execute_result"
    }
   ],
   "source": [
    "df_ensinof_leitura_hobbie.estado_colaborador.value_counts()"
   ]
  },
  {
   "cell_type": "markdown",
   "id": "208f5a7f",
   "metadata": {},
   "source": [
    "### Pergunta 5: Qual é o número de pessoas com ensino superior que são naturais ou pertencem ao estado de Minas Gerais?\n",
    "#### 16"
   ]
  },
  {
   "cell_type": "code",
   "execution_count": 38,
   "id": "5895fbd4",
   "metadata": {},
   "outputs": [],
   "source": [
    "# Qual é o número de pessoas com ensino superior que são naturais ou pertencem ao estado de Minas Gerais?\n",
    "df_ensino_superior_MG = df_licenca[(df_licenca.escolaridade == 'Superior') & (df_licenca.estado_colaborador == 'Minas Gerais')]"
   ]
  },
  {
   "cell_type": "code",
   "execution_count": 39,
   "id": "d050ea46",
   "metadata": {},
   "outputs": [
    {
     "data": {
      "text/plain": [
       "(16, 19)"
      ]
     },
     "execution_count": 39,
     "metadata": {},
     "output_type": "execute_result"
    }
   ],
   "source": [
    "df_ensino_superior_MG.shape"
   ]
  },
  {
   "cell_type": "markdown",
   "id": "82f23bd1",
   "metadata": {},
   "source": [
    "### Pergunta 6: Calcule a média de filhos entre todas as pessoas atendidas pelo Dr. Lessa e assinale a alternativa CORRETA.\n",
    "#### A média de filhos entre os colaboradores do sexo masculino é superior à média das colaboradoras do sexo feminino.\n",
    "\n"
   ]
  },
  {
   "cell_type": "code",
   "execution_count": 40,
   "id": "374b5560",
   "metadata": {},
   "outputs": [],
   "source": [
    "# Calcule a média de filhos entre todas as pessoas atendidas pelo Dr. Lessa e assinale a alternativa CORRETA.\n",
    "df_Dr_Lessa = df_licenca[(df_licenca.nome_medico == 'Dr. Lessa')]"
   ]
  },
  {
   "cell_type": "code",
   "execution_count": 41,
   "id": "ef878760",
   "metadata": {},
   "outputs": [
    {
     "data": {
      "text/plain": [
       "2.3783783783783785"
      ]
     },
     "execution_count": 41,
     "metadata": {},
     "output_type": "execute_result"
    }
   ],
   "source": [
    "df_Dr_Lessa.qtd_filhos.mean()"
   ]
  },
  {
   "cell_type": "code",
   "execution_count": null,
   "id": "8f092d1f",
   "metadata": {},
   "outputs": [],
   "source": [
    "## A média de filhos entre os colaboradores do sexo feminino é superior à média das colaboradoras do sexo masculino.\n",
    "## A média entre os colaboradores do sexo feminino é 2.5 enquanto a média entre os colaboradores do sexo masculino é 2.2.\n",
    "## A média de filhos entre os colaboradores do sexo masculino é superior à média das colaboradoras do sexo feminino.\n",
    "## A média de filhos para ambos os casos é igual.*/"
   ]
  },
  {
   "cell_type": "code",
   "execution_count": 48,
   "id": "6084c6ea",
   "metadata": {},
   "outputs": [],
   "source": [
    "media_filhosF = df_Dr_Lessa[df_Dr_Lessa.sexo_colaborador == 'Feminino'].qtd_filhos.mean()"
   ]
  },
  {
   "cell_type": "code",
   "execution_count": 47,
   "id": "76d2bb9e",
   "metadata": {},
   "outputs": [],
   "source": [
    "media_filhosM = df_Dr_Lessa[df_Dr_Lessa.sexo_colaborador == 'Masculino'].qtd_filhos.mean()"
   ]
  },
  {
   "cell_type": "code",
   "execution_count": 50,
   "id": "17502599",
   "metadata": {},
   "outputs": [
    {
     "name": "stdout",
     "output_type": "stream",
     "text": [
      "Média de filhos do sexo F: 2.210526315789474.\n",
      "Média de filhos do sexo M: 2.5555555555555554\n"
     ]
    }
   ],
   "source": [
    "## A média de filhos entre os colaboradores do sexo feminino é superior à média das colaboradoras do sexo masculino.\n",
    "## ERRADA\n",
    "## A média entre os colaboradores do sexo feminino é 2.5 enquanto a média entre os colaboradores do sexo masculino é 2.2.\n",
    "## ERRADA\n",
    "## A média de filhos entre os colaboradores do sexo masculino é superior à média das colaboradoras do sexo feminino.\n",
    "## CORRETA\n",
    "print(f'Média de filhos do sexo F: {media_filhosF}.\\nMédia de filhos do sexo M: {media_filhosM}')"
   ]
  },
  {
   "cell_type": "markdown",
   "id": "ffb2d998",
   "metadata": {},
   "source": [
    "### Pergunta 7: Qual colaborador possui o maior salário na base de dados?\n",
    "#### Nathan Barros"
   ]
  },
  {
   "cell_type": "code",
   "execution_count": 55,
   "id": "51143c7b",
   "metadata": {},
   "outputs": [],
   "source": [
    "## Qual colaborador possui o maior salário na base de dados?\n",
    "MAIOR_salario = df_licenca[df_licenca.salario == df_licenca.salario.max()]"
   ]
  },
  {
   "cell_type": "code",
   "execution_count": 58,
   "id": "59bf228c",
   "metadata": {},
   "outputs": [
    {
     "data": {
      "text/plain": [
       "594    Nathan Barros\n",
       "Name: nome_colaborador, dtype: object"
      ]
     },
     "execution_count": 58,
     "metadata": {},
     "output_type": "execute_result"
    }
   ],
   "source": [
    "MAIOR_salario.nome_colaborador"
   ]
  },
  {
   "cell_type": "markdown",
   "id": "64c3e942",
   "metadata": {},
   "source": [
    "### Pergunta 8: Qual estado apresenta a menor média salarial entre os colaboradores?\n",
    "#### Sergipe"
   ]
  },
  {
   "cell_type": "code",
   "execution_count": 65,
   "id": "0ee92974",
   "metadata": {},
   "outputs": [
    {
     "data": {
      "text/plain": [
       "estado_colaborador\n",
       "Sergipe                4713.703667\n",
       "Distrito Federal       4790.579487\n",
       "Acre                   4957.205500\n",
       "Mato Grosso do Sul     5037.914444\n",
       "Paraná                 5113.692059\n",
       "Espírito Santo         5138.976739\n",
       "Rio de Janeiro         5372.811429\n",
       "Alagoas                5379.895882\n",
       "Paraíba                5380.618750\n",
       "Pernambuco             5384.340313\n",
       "Rio Grande do Sul      5436.724878\n",
       "Santa Catarina         5452.204444\n",
       "Mato Grosso            5582.171818\n",
       "Rio Grande do Norte    5612.891143\n",
       "Tocantins              5624.630000\n",
       "Rondônia               5637.492632\n",
       "São Paulo              5706.749706\n",
       "Piauí                  5755.944211\n",
       "Ceará                  5762.034516\n",
       "Amapá                  5809.281667\n",
       "Bahia                  5970.216333\n",
       "Amazonas               5970.990465\n",
       "Maranhão               5992.926486\n",
       "Pará                   6014.618571\n",
       "Goiás                  6042.514242\n",
       "Roraima                6126.146970\n",
       "Minas Gerais           6175.460270\n",
       "Name: salario, dtype: float64"
      ]
     },
     "execution_count": 65,
     "metadata": {},
     "output_type": "execute_result"
    }
   ],
   "source": [
    "df_licenca.groupby('estado_colaborador')['salario'].mean().sort_values(ascending=True)"
   ]
  },
  {
   "cell_type": "markdown",
   "id": "e24e4594",
   "metadata": {},
   "source": [
    "### Pergunta 9: Qual licença teve a menor média de duração entre os colaboradores? Grupo de escolhas da pergunta\n",
    "- Comum\n",
    "- Acidente de trajeto\n",
    "- Maternidade\n",
    "- **Acidente de trabalho**  <-- **RESPOSTA**"
   ]
  },
  {
   "cell_type": "code",
   "execution_count": 67,
   "id": "ad01eb6e",
   "metadata": {},
   "outputs": [
    {
     "data": {
      "text/plain": [
       "motivo_licença\n",
       "Acidente de trabalho              14.831081\n",
       "Enfermidade de filhos pequenos    15.239382\n",
       "Comum                             15.362229\n",
       "Maternidade                       15.555556\n",
       "Acidente de trajeto               15.905063\n",
       "Name: duracao_licensa, dtype: float64"
      ]
     },
     "execution_count": 67,
     "metadata": {},
     "output_type": "execute_result"
    }
   ],
   "source": [
    "# motivo_licença\n",
    "# duracao_licensa\n",
    "df_licenca.groupby('motivo_licença')['duracao_licensa'].mean().sort_values(ascending=True)"
   ]
  },
  {
   "cell_type": "markdown",
   "id": "3ceabc88",
   "metadata": {},
   "source": [
    "### Pergunta 10: Qual especialidade realizou o maior número de atendimentos? Grupo de escolhas da pergunta\n",
    "- Pediatra\n",
    "- Traumatologista\n",
    "- Ortopedista\n",
    "- Clínico geral"
   ]
  },
  {
   "cell_type": "code",
   "execution_count": 77,
   "id": "490d8aea",
   "metadata": {},
   "outputs": [
    {
     "data": {
      "text/plain": [
       "especialidade\n",
       "Clínico geral             245\n",
       "Ginecologista obstetra    151\n",
       "Ortopedista               222\n",
       "Pediatra                  193\n",
       "Traumatologista           185\n",
       "Name: id_colaborador, dtype: int64"
      ]
     },
     "execution_count": 77,
     "metadata": {},
     "output_type": "execute_result"
    }
   ],
   "source": [
    "df_licenca.groupby('especialidade')['id_colaborador'].count()"
   ]
  },
  {
   "cell_type": "markdown",
   "id": "c0b06ae4",
   "metadata": {},
   "source": [
    "### Pergunta 12: Quais são os jogadores que possuem mais que 35.000 seguidores? Grupo de escolhas da pergunta\n",
    "- **Simon Williams, Hikaru Nakamura e Magnus Carlsen** <-- **RESPOSTA**\n",
    "- Robert L. Hess, Simon Williams, Robert L. Hess e Magnus Carlsen\n",
    "- Simon Williams e Magnus Carlsen\n",
    "- Hikaru Nakamura e Robert L. Hess"
   ]
  },
  {
   "cell_type": "markdown",
   "id": "abcb5d48",
   "metadata": {},
   "source": [
    "## Exploração de Dados (EDA): Jogadores Chess"
   ]
  },
  {
   "cell_type": "code",
   "execution_count": 90,
   "id": "77edbb1b",
   "metadata": {},
   "outputs": [],
   "source": [
    "import numpy as np"
   ]
  },
  {
   "cell_type": "code",
   "execution_count": 91,
   "id": "d6b3b661",
   "metadata": {},
   "outputs": [],
   "source": [
    "# Lê arquivo JSON\n",
    "df_jogadores = pd.read_json('data/jogadores_chess.json')"
   ]
  },
  {
   "cell_type": "code",
   "execution_count": 92,
   "id": "c849c459",
   "metadata": {},
   "outputs": [
    {
     "data": {
      "text/plain": [
       "(1332, 1)"
      ]
     },
     "execution_count": 92,
     "metadata": {},
     "output_type": "execute_result"
    }
   ],
   "source": [
    "df_jogadores.shape"
   ]
  },
  {
   "cell_type": "code",
   "execution_count": 93,
   "id": "97ad2bdf",
   "metadata": {},
   "outputs": [
    {
     "data": {
      "text/html": [
       "<div>\n",
       "<style scoped>\n",
       "    .dataframe tbody tr th:only-of-type {\n",
       "        vertical-align: middle;\n",
       "    }\n",
       "\n",
       "    .dataframe tbody tr th {\n",
       "        vertical-align: top;\n",
       "    }\n",
       "\n",
       "    .dataframe thead th {\n",
       "        text-align: right;\n",
       "    }\n",
       "</style>\n",
       "<table border=\"1\" class=\"dataframe\">\n",
       "  <thead>\n",
       "    <tr style=\"text-align: right;\">\n",
       "      <th></th>\n",
       "      <th>user</th>\n",
       "    </tr>\n",
       "  </thead>\n",
       "  <tbody>\n",
       "    <tr>\n",
       "      <th>0</th>\n",
       "      <td>{'avatar': 'https://images.chesscomfiles.com/u...</td>\n",
       "    </tr>\n",
       "    <tr>\n",
       "      <th>1</th>\n",
       "      <td>{'avatar': 'https://images.chesscomfiles.com/u...</td>\n",
       "    </tr>\n",
       "    <tr>\n",
       "      <th>2</th>\n",
       "      <td>{'avatar': 'https://images.chesscomfiles.com/u...</td>\n",
       "    </tr>\n",
       "    <tr>\n",
       "      <th>3</th>\n",
       "      <td>{'avatar': 'https://images.chesscomfiles.com/u...</td>\n",
       "    </tr>\n",
       "    <tr>\n",
       "      <th>4</th>\n",
       "      <td>{'avatar': 'https://images.chesscomfiles.com/u...</td>\n",
       "    </tr>\n",
       "  </tbody>\n",
       "</table>\n",
       "</div>"
      ],
      "text/plain": [
       "                                                user\n",
       "0  {'avatar': 'https://images.chesscomfiles.com/u...\n",
       "1  {'avatar': 'https://images.chesscomfiles.com/u...\n",
       "2  {'avatar': 'https://images.chesscomfiles.com/u...\n",
       "3  {'avatar': 'https://images.chesscomfiles.com/u...\n",
       "4  {'avatar': 'https://images.chesscomfiles.com/u..."
      ]
     },
     "execution_count": 93,
     "metadata": {},
     "output_type": "execute_result"
    }
   ],
   "source": [
    "df_jogadores.head()"
   ]
  },
  {
   "cell_type": "code",
   "execution_count": 94,
   "id": "1d0cf027",
   "metadata": {},
   "outputs": [],
   "source": [
    "# Converte par Pandas DataFrame\n",
    "df_jogadores = pd.DataFrame(data['user'])"
   ]
  },
  {
   "cell_type": "code",
   "execution_count": 95,
   "id": "8d899887",
   "metadata": {},
   "outputs": [
    {
     "data": {
      "text/html": [
       "<div>\n",
       "<style scoped>\n",
       "    .dataframe tbody tr th:only-of-type {\n",
       "        vertical-align: middle;\n",
       "    }\n",
       "\n",
       "    .dataframe tbody tr th {\n",
       "        vertical-align: top;\n",
       "    }\n",
       "\n",
       "    .dataframe thead th {\n",
       "        text-align: right;\n",
       "    }\n",
       "</style>\n",
       "<table border=\"1\" class=\"dataframe\">\n",
       "  <thead>\n",
       "    <tr style=\"text-align: right;\">\n",
       "      <th></th>\n",
       "      <th>avatar</th>\n",
       "      <th>player_id</th>\n",
       "      <th>@id</th>\n",
       "      <th>url</th>\n",
       "      <th>name</th>\n",
       "      <th>username</th>\n",
       "      <th>title</th>\n",
       "      <th>followers</th>\n",
       "      <th>country</th>\n",
       "      <th>last_online</th>\n",
       "      <th>joined</th>\n",
       "      <th>status</th>\n",
       "      <th>is_streamer</th>\n",
       "      <th>location</th>\n",
       "      <th>twitch_url</th>\n",
       "    </tr>\n",
       "  </thead>\n",
       "  <tbody>\n",
       "    <tr>\n",
       "      <th>0</th>\n",
       "      <td>https://images.chesscomfiles.com/uploads/v1/us...</td>\n",
       "      <td>18800602</td>\n",
       "      <td>https://api.chess.com/pub/player/123lt</td>\n",
       "      <td>https://www.chess.com/member/123lt</td>\n",
       "      <td>Tingjie Lei</td>\n",
       "      <td>123lt</td>\n",
       "      <td>GM</td>\n",
       "      <td>36</td>\n",
       "      <td>https://api.chess.com/pub/country/CN</td>\n",
       "      <td>1615967972</td>\n",
       "      <td>1410059361</td>\n",
       "      <td>premium</td>\n",
       "      <td>False</td>\n",
       "      <td>NaN</td>\n",
       "      <td>NaN</td>\n",
       "    </tr>\n",
       "    <tr>\n",
       "      <th>1</th>\n",
       "      <td>https://images.chesscomfiles.com/uploads/v1/us...</td>\n",
       "      <td>29499974</td>\n",
       "      <td>https://api.chess.com/pub/player/124chess</td>\n",
       "      <td>https://www.chess.com/member/124chess</td>\n",
       "      <td>Дмитрий Хегай</td>\n",
       "      <td>124chess</td>\n",
       "      <td>GM</td>\n",
       "      <td>87</td>\n",
       "      <td>https://api.chess.com/pub/country/RU</td>\n",
       "      <td>1616173422</td>\n",
       "      <td>1471316272</td>\n",
       "      <td>premium</td>\n",
       "      <td>False</td>\n",
       "      <td>Красноярск</td>\n",
       "      <td>NaN</td>\n",
       "    </tr>\n",
       "    <tr>\n",
       "      <th>2</th>\n",
       "      <td>https://images.chesscomfiles.com/uploads/v1/us...</td>\n",
       "      <td>30610578</td>\n",
       "      <td>https://api.chess.com/pub/player/1977ivan</td>\n",
       "      <td>https://www.chess.com/member/1977Ivan</td>\n",
       "      <td>Ivan Ivanisevic</td>\n",
       "      <td>1977ivan</td>\n",
       "      <td>GM</td>\n",
       "      <td>120</td>\n",
       "      <td>https://api.chess.com/pub/country/RS</td>\n",
       "      <td>1616110240</td>\n",
       "      <td>1477565847</td>\n",
       "      <td>premium</td>\n",
       "      <td>False</td>\n",
       "      <td>Belgrade</td>\n",
       "      <td>NaN</td>\n",
       "    </tr>\n",
       "    <tr>\n",
       "      <th>3</th>\n",
       "      <td>https://images.chesscomfiles.com/uploads/v1/us...</td>\n",
       "      <td>13013662</td>\n",
       "      <td>https://api.chess.com/pub/player/1stsecond</td>\n",
       "      <td>https://www.chess.com/member/1stSecond</td>\n",
       "      <td>Nikita Meshkovs</td>\n",
       "      <td>1stsecond</td>\n",
       "      <td>GM</td>\n",
       "      <td>716</td>\n",
       "      <td>https://api.chess.com/pub/country/LV</td>\n",
       "      <td>1616192647</td>\n",
       "      <td>1375617889</td>\n",
       "      <td>premium</td>\n",
       "      <td>False</td>\n",
       "      <td>Riga</td>\n",
       "      <td>NaN</td>\n",
       "    </tr>\n",
       "    <tr>\n",
       "      <th>4</th>\n",
       "      <td>https://images.chesscomfiles.com/uploads/v1/us...</td>\n",
       "      <td>39230304</td>\n",
       "      <td>https://api.chess.com/pub/player/2nd_life</td>\n",
       "      <td>https://www.chess.com/member/2nd_life</td>\n",
       "      <td>Florian Jenni</td>\n",
       "      <td>2nd_life</td>\n",
       "      <td>GM</td>\n",
       "      <td>25</td>\n",
       "      <td>https://api.chess.com/pub/country/CH</td>\n",
       "      <td>1615926963</td>\n",
       "      <td>1507311109</td>\n",
       "      <td>premium</td>\n",
       "      <td>False</td>\n",
       "      <td>Zurich</td>\n",
       "      <td>NaN</td>\n",
       "    </tr>\n",
       "    <tr>\n",
       "      <th>...</th>\n",
       "      <td>...</td>\n",
       "      <td>...</td>\n",
       "      <td>...</td>\n",
       "      <td>...</td>\n",
       "      <td>...</td>\n",
       "      <td>...</td>\n",
       "      <td>...</td>\n",
       "      <td>...</td>\n",
       "      <td>...</td>\n",
       "      <td>...</td>\n",
       "      <td>...</td>\n",
       "      <td>...</td>\n",
       "      <td>...</td>\n",
       "      <td>...</td>\n",
       "      <td>...</td>\n",
       "    </tr>\n",
       "    <tr>\n",
       "      <th>1327</th>\n",
       "      <td>https://images.chesscomfiles.com/uploads/v1/us...</td>\n",
       "      <td>27723022</td>\n",
       "      <td>https://api.chess.com/pub/player/zstardust</td>\n",
       "      <td>https://www.chess.com/member/zstardust</td>\n",
       "      <td>Fernando Peralta</td>\n",
       "      <td>zstardust</td>\n",
       "      <td>GM</td>\n",
       "      <td>18</td>\n",
       "      <td>https://api.chess.com/pub/country/AR</td>\n",
       "      <td>1614588922</td>\n",
       "      <td>1460538364</td>\n",
       "      <td>premium</td>\n",
       "      <td>False</td>\n",
       "      <td>Barcelona</td>\n",
       "      <td>NaN</td>\n",
       "    </tr>\n",
       "    <tr>\n",
       "      <th>1328</th>\n",
       "      <td>https://images.chesscomfiles.com/uploads/v1/us...</td>\n",
       "      <td>56242896</td>\n",
       "      <td>https://api.chess.com/pub/player/zubridis</td>\n",
       "      <td>https://www.chess.com/member/zubridis</td>\n",
       "      <td>Зубарев Александр</td>\n",
       "      <td>zubridis</td>\n",
       "      <td>GM</td>\n",
       "      <td>22</td>\n",
       "      <td>https://api.chess.com/pub/country/UA</td>\n",
       "      <td>1615815163</td>\n",
       "      <td>1547915802</td>\n",
       "      <td>premium</td>\n",
       "      <td>False</td>\n",
       "      <td>NaN</td>\n",
       "      <td>NaN</td>\n",
       "    </tr>\n",
       "    <tr>\n",
       "      <th>1329</th>\n",
       "      <td>https://images.chesscomfiles.com/uploads/v1/us...</td>\n",
       "      <td>32236996</td>\n",
       "      <td>https://api.chess.com/pub/player/zugazuando</td>\n",
       "      <td>https://www.chess.com/member/Zugazuando</td>\n",
       "      <td>Andre Diamant</td>\n",
       "      <td>zugazuando</td>\n",
       "      <td>GM</td>\n",
       "      <td>846</td>\n",
       "      <td>https://api.chess.com/pub/country/BR</td>\n",
       "      <td>1616248251</td>\n",
       "      <td>1483890316</td>\n",
       "      <td>premium</td>\n",
       "      <td>True</td>\n",
       "      <td>NaN</td>\n",
       "      <td>https://twitch.tv/cexequemate</td>\n",
       "    </tr>\n",
       "    <tr>\n",
       "      <th>1330</th>\n",
       "      <td>https://images.chesscomfiles.com/uploads/v1/us...</td>\n",
       "      <td>63063390</td>\n",
       "      <td>https://api.chess.com/pub/player/zuraazmai</td>\n",
       "      <td>https://www.chess.com/member/ZURAAZMAI</td>\n",
       "      <td>ZURAB AZMAIPARASHVILI</td>\n",
       "      <td>zuraazmai</td>\n",
       "      <td>GM</td>\n",
       "      <td>76</td>\n",
       "      <td>https://api.chess.com/pub/country/GE</td>\n",
       "      <td>1616245103</td>\n",
       "      <td>1562518973</td>\n",
       "      <td>premium</td>\n",
       "      <td>False</td>\n",
       "      <td>Тбилиси</td>\n",
       "      <td>NaN</td>\n",
       "    </tr>\n",
       "    <tr>\n",
       "      <th>1331</th>\n",
       "      <td>https://images.chesscomfiles.com/uploads/v1/us...</td>\n",
       "      <td>26345508</td>\n",
       "      <td>https://api.chess.com/pub/player/zvonokchess1996</td>\n",
       "      <td>https://www.chess.com/member/zvonokchess1996</td>\n",
       "      <td>Nikita Petrov</td>\n",
       "      <td>zvonokchess1996</td>\n",
       "      <td>GM</td>\n",
       "      <td>187</td>\n",
       "      <td>https://api.chess.com/pub/country/RU</td>\n",
       "      <td>1616194265</td>\n",
       "      <td>1453784089</td>\n",
       "      <td>premium</td>\n",
       "      <td>False</td>\n",
       "      <td>Novorossiysk</td>\n",
       "      <td>NaN</td>\n",
       "    </tr>\n",
       "  </tbody>\n",
       "</table>\n",
       "<p>1332 rows × 15 columns</p>\n",
       "</div>"
      ],
      "text/plain": [
       "                                                 avatar  player_id  \\\n",
       "0     https://images.chesscomfiles.com/uploads/v1/us...   18800602   \n",
       "1     https://images.chesscomfiles.com/uploads/v1/us...   29499974   \n",
       "2     https://images.chesscomfiles.com/uploads/v1/us...   30610578   \n",
       "3     https://images.chesscomfiles.com/uploads/v1/us...   13013662   \n",
       "4     https://images.chesscomfiles.com/uploads/v1/us...   39230304   \n",
       "...                                                 ...        ...   \n",
       "1327  https://images.chesscomfiles.com/uploads/v1/us...   27723022   \n",
       "1328  https://images.chesscomfiles.com/uploads/v1/us...   56242896   \n",
       "1329  https://images.chesscomfiles.com/uploads/v1/us...   32236996   \n",
       "1330  https://images.chesscomfiles.com/uploads/v1/us...   63063390   \n",
       "1331  https://images.chesscomfiles.com/uploads/v1/us...   26345508   \n",
       "\n",
       "                                                   @id  \\\n",
       "0               https://api.chess.com/pub/player/123lt   \n",
       "1            https://api.chess.com/pub/player/124chess   \n",
       "2            https://api.chess.com/pub/player/1977ivan   \n",
       "3           https://api.chess.com/pub/player/1stsecond   \n",
       "4            https://api.chess.com/pub/player/2nd_life   \n",
       "...                                                ...   \n",
       "1327        https://api.chess.com/pub/player/zstardust   \n",
       "1328         https://api.chess.com/pub/player/zubridis   \n",
       "1329       https://api.chess.com/pub/player/zugazuando   \n",
       "1330        https://api.chess.com/pub/player/zuraazmai   \n",
       "1331  https://api.chess.com/pub/player/zvonokchess1996   \n",
       "\n",
       "                                               url                   name  \\\n",
       "0               https://www.chess.com/member/123lt            Tingjie Lei   \n",
       "1            https://www.chess.com/member/124chess          Дмитрий Хегай   \n",
       "2            https://www.chess.com/member/1977Ivan        Ivan Ivanisevic   \n",
       "3           https://www.chess.com/member/1stSecond        Nikita Meshkovs   \n",
       "4            https://www.chess.com/member/2nd_life          Florian Jenni   \n",
       "...                                            ...                    ...   \n",
       "1327        https://www.chess.com/member/zstardust       Fernando Peralta   \n",
       "1328         https://www.chess.com/member/zubridis      Зубарев Александр   \n",
       "1329       https://www.chess.com/member/Zugazuando          Andre Diamant   \n",
       "1330        https://www.chess.com/member/ZURAAZMAI  ZURAB AZMAIPARASHVILI   \n",
       "1331  https://www.chess.com/member/zvonokchess1996          Nikita Petrov   \n",
       "\n",
       "             username title  followers                               country  \\\n",
       "0               123lt    GM         36  https://api.chess.com/pub/country/CN   \n",
       "1            124chess    GM         87  https://api.chess.com/pub/country/RU   \n",
       "2            1977ivan    GM        120  https://api.chess.com/pub/country/RS   \n",
       "3           1stsecond    GM        716  https://api.chess.com/pub/country/LV   \n",
       "4            2nd_life    GM         25  https://api.chess.com/pub/country/CH   \n",
       "...               ...   ...        ...                                   ...   \n",
       "1327        zstardust    GM         18  https://api.chess.com/pub/country/AR   \n",
       "1328         zubridis    GM         22  https://api.chess.com/pub/country/UA   \n",
       "1329       zugazuando    GM        846  https://api.chess.com/pub/country/BR   \n",
       "1330        zuraazmai    GM         76  https://api.chess.com/pub/country/GE   \n",
       "1331  zvonokchess1996    GM        187  https://api.chess.com/pub/country/RU   \n",
       "\n",
       "      last_online      joined   status  is_streamer      location  \\\n",
       "0      1615967972  1410059361  premium        False           NaN   \n",
       "1      1616173422  1471316272  premium        False    Красноярск   \n",
       "2      1616110240  1477565847  premium        False      Belgrade   \n",
       "3      1616192647  1375617889  premium        False          Riga   \n",
       "4      1615926963  1507311109  premium        False        Zurich   \n",
       "...           ...         ...      ...          ...           ...   \n",
       "1327   1614588922  1460538364  premium        False     Barcelona   \n",
       "1328   1615815163  1547915802  premium        False           NaN   \n",
       "1329   1616248251  1483890316  premium         True           NaN   \n",
       "1330   1616245103  1562518973  premium        False       Тбилиси   \n",
       "1331   1616194265  1453784089  premium        False  Novorossiysk   \n",
       "\n",
       "                         twitch_url  \n",
       "0                               NaN  \n",
       "1                               NaN  \n",
       "2                               NaN  \n",
       "3                               NaN  \n",
       "4                               NaN  \n",
       "...                             ...  \n",
       "1327                            NaN  \n",
       "1328                            NaN  \n",
       "1329  https://twitch.tv/cexequemate  \n",
       "1330                            NaN  \n",
       "1331                            NaN  \n",
       "\n",
       "[1332 rows x 15 columns]"
      ]
     },
     "execution_count": 95,
     "metadata": {},
     "output_type": "execute_result"
    }
   ],
   "source": [
    "df_jogadores"
   ]
  },
  {
   "cell_type": "markdown",
   "id": "bfd1c1a5",
   "metadata": {},
   "source": [
    "## Tratamento dos dados: Jogadores Chess"
   ]
  },
  {
   "cell_type": "code",
   "execution_count": 96,
   "id": "27a1d210",
   "metadata": {},
   "outputs": [
    {
     "data": {
      "text/plain": [
       "(1332, 15)"
      ]
     },
     "execution_count": 96,
     "metadata": {},
     "output_type": "execute_result"
    }
   ],
   "source": [
    "df_jogadores.shape"
   ]
  },
  {
   "cell_type": "code",
   "execution_count": 98,
   "id": "7872eef5",
   "metadata": {},
   "outputs": [
    {
     "data": {
      "text/plain": [
       "0"
      ]
     },
     "execution_count": 98,
     "metadata": {},
     "output_type": "execute_result"
    }
   ],
   "source": [
    "df_jogadores.duplicated().sum()"
   ]
  },
  {
   "cell_type": "code",
   "execution_count": 99,
   "id": "2fc7b299",
   "metadata": {},
   "outputs": [
    {
     "data": {
      "text/plain": [
       "avatar          332\n",
       "player_id         0\n",
       "@id               0\n",
       "url               0\n",
       "name            216\n",
       "username          0\n",
       "title             0\n",
       "followers         0\n",
       "country           0\n",
       "last_online       0\n",
       "joined            0\n",
       "status            0\n",
       "is_streamer       0\n",
       "location        622\n",
       "twitch_url     1285\n",
       "dtype: int64"
      ]
     },
     "execution_count": 99,
     "metadata": {},
     "output_type": "execute_result"
    }
   ],
   "source": [
    "df_jogadores.isna().sum()"
   ]
  },
  {
   "cell_type": "code",
   "execution_count": 101,
   "id": "f5dc632c",
   "metadata": {},
   "outputs": [
    {
     "data": {
      "text/plain": [
       "451     Simon Williams\n",
       "594    Hikaru Nakamura\n",
       "812     Magnus Carlsen\n",
       "Name: name, dtype: object"
      ]
     },
     "execution_count": 101,
     "metadata": {},
     "output_type": "execute_result"
    }
   ],
   "source": [
    "# Quais são os jogadores que possuem mais que 35.000 seguidores? \n",
    "df_jogadores[df_jogadores.followers > 35000]['name']"
   ]
  },
  {
   "cell_type": "markdown",
   "id": "bb5fe0d5",
   "metadata": {},
   "source": [
    "## Pergunta 13: Qual a sigla do pais do jogador Magnus Carlsen? Grupo de escolhas da pergunta\n",
    "- SC\n",
    "- **NO** <-- **RESPOSTA**\n",
    "- US\n",
    "- PT\n",
    " "
   ]
  },
  {
   "cell_type": "code",
   "execution_count": 102,
   "id": "83c54232",
   "metadata": {},
   "outputs": [
    {
     "data": {
      "text/plain": [
       "812    https://api.chess.com/pub/country/NO\n",
       "Name: country, dtype: object"
      ]
     },
     "execution_count": 102,
     "metadata": {},
     "output_type": "execute_result"
    }
   ],
   "source": [
    "df_jogadores[df_jogadores.name == 'Magnus Carlsen'].country"
   ]
  },
  {
   "cell_type": "markdown",
   "id": "bbedc121",
   "metadata": {},
   "source": [
    "### Pergunta 14: Qual o total de jogadores que são do Estados Unidos? Grupo de escolhas da pergunta\n",
    "- 2 jogadores\n",
    "- 16 jogadores\n",
    "- 160 jogadores\n",
    "- **233 jogadores**  <-- **RESPOSTA MAIS PRÓXIMA** Resposta correta 223"
   ]
  },
  {
   "cell_type": "code",
   "execution_count": 109,
   "id": "17baf96f",
   "metadata": {},
   "outputs": [
    {
     "data": {
      "text/plain": [
       "country\n",
       "https://api.chess.com/pub/country/US    223\n",
       "https://api.chess.com/pub/country/RU    152\n",
       "https://api.chess.com/pub/country/IN     78\n",
       "https://api.chess.com/pub/country/UA     54\n",
       "https://api.chess.com/pub/country/DE     42\n",
       "                                       ... \n",
       "https://api.chess.com/pub/country/CI      1\n",
       "https://api.chess.com/pub/country/JP      1\n",
       "https://api.chess.com/pub/country/EC      1\n",
       "https://api.chess.com/pub/country/UY      1\n",
       "https://api.chess.com/pub/country/GL      1\n",
       "Name: count, Length: 102, dtype: int64"
      ]
     },
     "execution_count": 109,
     "metadata": {},
     "output_type": "execute_result"
    }
   ],
   "source": [
    "df_jogadores.country.value_counts()"
   ]
  },
  {
   "cell_type": "code",
   "execution_count": 111,
   "id": "05acac12",
   "metadata": {},
   "outputs": [
    {
     "name": "stdout",
     "output_type": "stream",
     "text": [
      "Número de jogadores dos EUA: 223\n"
     ]
    }
   ],
   "source": [
    "jogadores_USA = df_jogadores[df_jogadores.country == 'https://api.chess.com/pub/country/US'].shape[0]\n",
    "print(\"Número de jogadores dos EUA:\", jogadores_USA)"
   ]
  },
  {
   "cell_type": "markdown",
   "id": "887176c9",
   "metadata": {},
   "source": [
    "## Pergunta 15: Quais são as classificações presentes no dataset jogadores_chess para a feature status? Grupo de escolhas da pergunta\n",
    "- 'basic', 'premium', 'staff' e ‘ GM’\n",
    "- **'basic', 'premium', 'staff'** <-- **RESPOSTA**\n",
    "- 'basic' e 'premium'\n",
    "- Nenhuma das alternativas."
   ]
  },
  {
   "cell_type": "code",
   "execution_count": 112,
   "id": "b7e398f5",
   "metadata": {},
   "outputs": [
    {
     "data": {
      "text/plain": [
       "status\n",
       "premium    1322\n",
       "staff         8\n",
       "basic         2\n",
       "Name: count, dtype: int64"
      ]
     },
     "execution_count": 112,
     "metadata": {},
     "output_type": "execute_result"
    }
   ],
   "source": [
    "## Quais são as classificações presentes no dataset jogadores_chess para a feature status?\n",
    "df_jogadores.status.value_counts()"
   ]
  },
  {
   "cell_type": "code",
   "execution_count": null,
   "id": "9e115a5a",
   "metadata": {},
   "outputs": [],
   "source": []
  }
 ],
 "metadata": {
  "kernelspec": {
   "display_name": "Python 3 (ipykernel)",
   "language": "python",
   "name": "python3"
  },
  "language_info": {
   "codemirror_mode": {
    "name": "ipython",
    "version": 3
   },
   "file_extension": ".py",
   "mimetype": "text/x-python",
   "name": "python",
   "nbconvert_exporter": "python",
   "pygments_lexer": "ipython3",
   "version": "3.11.5"
  }
 },
 "nbformat": 4,
 "nbformat_minor": 5
}
