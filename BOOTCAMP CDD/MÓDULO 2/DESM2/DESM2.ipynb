{
 "cells": [
  {
   "cell_type": "code",
   "execution_count": 2,
   "metadata": {},
   "outputs": [
    {
     "data": {
      "text/plain": [
       "'3.5.1'"
      ]
     },
     "execution_count": 2,
     "metadata": {},
     "output_type": "execute_result"
    }
   ],
   "source": [
    "from pyspark.sql import SparkSession\n",
    "from pyspark.ml.feature import VectorAssembler\n",
    "from pyspark.ml.classification import DecisionTreeClassifier\n",
    "from pyspark.ml import Pipeline\n",
    "from pyspark.ml.evaluation import MulticlassClassificationEvaluator\n",
    "from pyspark.ml.feature import StringIndexer, OneHotEncoder\n",
    "\n",
    "\n",
    "\n",
    "# Spark entry point\n",
    "spark = SparkSession \\\n",
    "    .builder \\\n",
    "    .appName(\"DESM2\") \\\n",
    "    .getOrCreate()\n",
    "\n",
    "spark.version"
   ]
  },
  {
   "cell_type": "code",
   "execution_count": 3,
   "metadata": {},
   "outputs": [],
   "source": [
    "# Carregando a planilha CSV\n",
    "stroke_data_df = spark.read.csv('C:\\\\Users\\\\Matheus Poletto\\\\Desktop\\\\Cientista de Dados\\\\POS XP\\\\BOOTCAMP CDD\\\\MÓDULO 2\\\\DESM2\\\\stroke_data.csv',header='True',inferSchema='True')\n"
   ]
  },
  {
   "cell_type": "code",
   "execution_count": 4,
   "metadata": {},
   "outputs": [
    {
     "name": "stdout",
     "output_type": "stream",
     "text": [
      "root\n",
      " |-- 0: integer (nullable = true)\n",
      " |-- gender: string (nullable = true)\n",
      " |-- age: double (nullable = true)\n",
      " |-- hypertension: integer (nullable = true)\n",
      " |-- heart_disease: integer (nullable = true)\n",
      " |-- ever_married: string (nullable = true)\n",
      " |-- work_type: string (nullable = true)\n",
      " |-- Residence_type: string (nullable = true)\n",
      " |-- avg_glucose_level: double (nullable = true)\n",
      " |-- bmi: double (nullable = true)\n",
      " |-- smoking_status: string (nullable = true)\n",
      " |-- stroke: integer (nullable = true)\n",
      "\n"
     ]
    }
   ],
   "source": [
    "# Detalhes dos atributos em https://www.kaggle.com/datasets/fedesoriano/stroke-prediction-dataset\n",
    "stroke_data_df.printSchema()\n"
   ]
  },
  {
   "cell_type": "code",
   "execution_count": 5,
   "metadata": {},
   "outputs": [],
   "source": [
    "stroke_data_df = stroke_data_df.withColumnRenamed(\"0\", \"id\")\\\n",
    "    .withColumnRenamed(\"Residence_type\", \"residence_type\")\n",
    "                                                  "
   ]
  },
  {
   "cell_type": "code",
   "execution_count": 6,
   "metadata": {},
   "outputs": [
    {
     "name": "stdout",
     "output_type": "stream",
     "text": [
      "+---+------+----+------------+-------------+------------+-------------+--------------+-----------------+-----+---------------+------+\n",
      "| id|gender| age|hypertension|heart_disease|ever_married|    work_type|residence_type|avg_glucose_level|  bmi| smoking_status|stroke|\n",
      "+---+------+----+------------+-------------+------------+-------------+--------------+-----------------+-----+---------------+------+\n",
      "|  1|Female|18.0|           0|            0|          No|      Private|         Urban|            94.19|12.12|         smokes|     1|\n",
      "|  2|  Male|58.0|           1|            0|         Yes|      Private|         Rural|           154.24| 33.7|   never_smoked|     0|\n",
      "|  3|Female|36.0|           0|            0|         Yes|     Govt_job|         Urban|            72.63| 24.7|         smokes|     0|\n",
      "|  4|Female|62.0|           0|            0|         Yes|Self-employed|         Rural|            85.52| 31.2|formerly smoked|     0|\n",
      "|  5|Female|82.0|           0|            0|         Yes|      Private|         Rural|            59.32| 33.2|         smokes|     1|\n",
      "|  6|Female|82.0|           0|            0|          No|     Govt_job|         Urban|            234.5| 24.0|formerly smoked|     0|\n",
      "|  7|Female|33.0|           0|            0|         Yes|Self-employed|         Urban|           193.42| 29.9|         smokes|     0|\n",
      "|  8|Female|37.0|           0|            0|         Yes|      Private|         Rural|            156.7| 36.9|         smokes|     1|\n",
      "|  9|Female|41.0|           0|            0|         Yes|     Govt_job|         Rural|            64.06| 33.8|         smokes|     1|\n",
      "| 10|Female|70.0|           0|            0|         Yes|Self-employed|         Rural|            76.34| 24.4|formerly smoked|     1|\n",
      "| 11|Female|25.0|           0|            0|          No|      Private|         Urban|            91.15| 28.7|         smokes|     1|\n",
      "| 12|Female|43.0|           1|            0|          No|Self-employed|         Rural|            60.12| 34.2|formerly smoked|     0|\n",
      "| 13|  Male|72.0|           0|            1|         Yes|      Private|         Rural|           235.22| 40.3|formerly smoked|     1|\n",
      "| 14|Female|20.0|           0|            0|          No|      Private|         Rural|           106.47| 33.7|         smokes|     1|\n",
      "| 15|  Male|20.0|           0|            0|          No|      Private|         Urban|           104.78| 20.3|         smokes|     1|\n",
      "| 16|  Male|41.0|           0|            0|         Yes|Self-employed|         Urban|            159.3| 34.6|         smokes|     1|\n",
      "| 17|Female|23.0|           0|            0|          No|      Private|         Urban|           116.95| 23.8|         smokes|     1|\n",
      "| 18|  Male|22.0|           0|            0|          No|Self-employed|         Rural|            72.05| 31.9|         smokes|     1|\n",
      "| 19|  Male|69.0|           0|            0|         Yes|      Private|         Rural|            64.06| 35.1|formerly smoked|     0|\n",
      "| 20|Female|44.0|           0|            0|         Yes|Self-employed|         Rural|           135.03| 36.1|         smokes|     1|\n",
      "+---+------+----+------------+-------------+------------+-------------+--------------+-----------------+-----+---------------+------+\n",
      "only showing top 20 rows\n",
      "\n"
     ]
    }
   ],
   "source": [
    "stroke_data_df.show()"
   ]
  },
  {
   "cell_type": "code",
   "execution_count": 7,
   "metadata": {},
   "outputs": [
    {
     "data": {
      "text/plain": [
       "67135"
      ]
     },
     "execution_count": 7,
     "metadata": {},
     "output_type": "execute_result"
    }
   ],
   "source": [
    "# Pergunta 1 - Quantos registros existem no arquivo?\n",
    "stroke_data_df.count()"
   ]
  },
  {
   "cell_type": "code",
   "execution_count": 8,
   "metadata": {},
   "outputs": [
    {
     "name": "stdout",
     "output_type": "stream",
     "text": [
      "coluna id, int\n",
      "coluna gender, string\n",
      "coluna age, double\n",
      "coluna hypertension, int\n",
      "coluna heart_disease, int\n",
      "coluna ever_married, string\n",
      "coluna work_type, string\n",
      "coluna residence_type, string\n",
      "coluna avg_glucose_level, double\n",
      "coluna bmi, double\n",
      "coluna smoking_status, string\n",
      "coluna stroke, int\n",
      "int: 4\n",
      "string: 5\n",
      "double: 3\n",
      "Total de colunas: 12\n"
     ]
    }
   ],
   "source": [
    "# Pergunta 2 - Quantas colunas existem no arquivo? Quantas são numéricas? \n",
    "\n",
    "columns_info = [f\"coluna {name}, {dtype}\" for name, dtype in stroke_data_df.dtypes]\n",
    "\n",
    "for info in columns_info:\n",
    "    print(info)\n",
    "\n",
    "# Contando o número de colunas por tipo de dado\n",
    "type_counts = {}\n",
    "for name, dtype in stroke_data_df.dtypes:\n",
    "    if dtype in type_counts:\n",
    "        type_counts[dtype] += 1\n",
    "    else:\n",
    "        type_counts[dtype] = 1\n",
    "\n",
    "# Exibindo a contagem de cada tipo de dado\n",
    "for dtype, count in type_counts.items():\n",
    "    print(f\"{dtype}: {count}\")\n",
    "\n",
    "# Calculando e exibindo o total de colunas\n",
    "total_columns = sum(type_counts.values())\n",
    "print(f\"Total de colunas: {total_columns}\")"
   ]
  },
  {
   "cell_type": "code",
   "execution_count": 9,
   "metadata": {},
   "outputs": [
    {
     "name": "stdout",
     "output_type": "stream",
     "text": [
      "Pacientes que sofreram derrame: 40287\n",
      "Pacientes que não sofreram derrame: 26848\n"
     ]
    }
   ],
   "source": [
    "# Pergunta 3 - No conjunto de dados, quantos pacientes sofreram e não sofreram derrame (stroke), respectivamente?\n",
    "\n",
    "count_1 = stroke_data_df.filter(stroke_data_df.stroke == 1).count()\n",
    "count_2 = stroke_data_df.filter(stroke_data_df.stroke == 0).count()\n",
    "\n",
    "print(f\"Pacientes que sofreram derrame: {count_1}\")\n",
    "print(f\"Pacientes que não sofreram derrame: {count_2}\")\n"
   ]
  },
  {
   "cell_type": "code",
   "execution_count": 10,
   "metadata": {},
   "outputs": [
    {
     "name": "stdout",
     "output_type": "stream",
     "text": [
      "+-------------+------------+\n",
      "|    work_type|num_patients|\n",
      "+-------------+------------+\n",
      "|      Private|       23711|\n",
      "|Self-employed|       10807|\n",
      "|     Govt_job|        5164|\n",
      "|     children|         520|\n",
      "| Never_worked|          85|\n",
      "+-------------+------------+\n",
      "\n"
     ]
    }
   ],
   "source": [
    "# Pergunta 4 - A partir do dataframe, crie uma tabela temporária usando df.createOrReplaceTempView('table') e a seguir use spark.sql para escrever uma consulta SQL que obtenha\n",
    "# quantos pacientes tiveram derrame por tipo de trabalho (work_type). Quantos pacientes sofreram derrame e trabalhavam respectivamente, no setor privado, de forma independente, \n",
    "# no governo e quantas são crianças?\n",
    "\n",
    "stroke_data_df.createOrReplaceTempView(\"data_stroke\")\n",
    "spark.sql(\"\"\"\n",
    "SELECT work_type, COUNT(*) as num_patients\n",
    "FROM data_stroke\n",
    "WHERE stroke = 1\n",
    "GROUP BY work_type\n",
    "ORDER BY\n",
    "    CASE\n",
    "        WHEN work_type = 'Private' THEN 1\n",
    "        WHEN work_type = 'Self-employed' THEN 2\n",
    "        WHEN work_type = 'Govt_job' THEN 3\n",
    "        WHEN work_type = 'children' THEN 4\n",
    "        \n",
    "        ELSE 5\n",
    "    END\n",
    "\"\"\"            \n",
    ").show()"
   ]
  },
  {
   "cell_type": "code",
   "execution_count": 11,
   "metadata": {},
   "outputs": [
    {
     "name": "stdout",
     "output_type": "stream",
     "text": [
      "+------+------------------+\n",
      "|gender|        proportion|\n",
      "+------+------------------+\n",
      "|Female|58.881358456840694|\n",
      "+------+------------------+\n",
      "\n"
     ]
    }
   ],
   "source": [
    "# Pergunta 5 - Escreva uma consulta com spark.sql para determinar a proporção, por gênero, de participantes do estudo. A maioria dos participantes é:\n",
    "spark.sql(\"\"\"\n",
    "          SELECT gender, COUNT(*) * 100 / SUM(COUNT(*)) OVER () AS proportion\n",
    "          FROM data_stroke\n",
    "          GROUP BY gender\n",
    "          ORDER BY proportion DESC\n",
    "          LIMIT 1\n",
    "          \n",
    "          \"\"\").show()"
   ]
  },
  {
   "cell_type": "code",
   "execution_count": 12,
   "metadata": {},
   "outputs": [
    {
     "name": "stdout",
     "output_type": "stream",
     "text": [
      "+------------------------+\n",
      "|prob_hypertension_stroke|\n",
      "+------------------------+\n",
      "|      0.8003086139602433|\n",
      "+------------------------+\n",
      "\n",
      "+---------------------------+\n",
      "|prob_no_hypertension_stroke|\n",
      "+---------------------------+\n",
      "|         0.5607826365871913|\n",
      "+---------------------------+\n",
      "\n"
     ]
    }
   ],
   "source": [
    "# Pergunta 6 - Escreva uma consulta com spark.sql para determinar quem tem mais probabilidade de sofrer derrame: hipertensos ou não-hipertensos. \n",
    "# Você pode escrever uma consulta para cada grupo. A partir das probabilidades que você obteve, você conclui que:\n",
    "spark.sql(\"\"\"\n",
    "            SELECT (COUNT(CASE WHEN stroke = 1 THEN 1 END) * 1.0 / COUNT(*)) AS prob_hypertension_stroke\n",
    "            FROM data_stroke\n",
    "            WHERE hypertension = 1\n",
    "          \n",
    "          \"\"\").show()\n",
    "\n",
    "spark.sql(\"\"\"\n",
    "            SELECT (COUNT(CASE WHEN stroke = 1 THEN 1 END) * 1.0 / COUNT(*)) AS prob_no_hypertension_stroke\n",
    "            FROM data_stroke\n",
    "            WHERE hypertension = 0\n",
    "          \n",
    "          \"\"\").show()"
   ]
  },
  {
   "cell_type": "code",
   "execution_count": 13,
   "metadata": {},
   "outputs": [
    {
     "name": "stdout",
     "output_type": "stream",
     "text": [
      "+----+------------+\n",
      "| age|total_stroke|\n",
      "+----+------------+\n",
      "|79.0|        2916|\n",
      "+----+------------+\n",
      "\n"
     ]
    }
   ],
   "source": [
    "# Pergunta 7 - Escreva uma consulta com spark.sql que determine o número de pessoas que sofreram derrame por idade. Com qual idade o maior número de pessoas do conjunto de dados \n",
    "# sofreu derrame?\n",
    "\n",
    "spark.sql(\"\"\"\n",
    "          SELECT age, COUNT(*) AS total_stroke\n",
    "          FROM data_stroke\n",
    "          WHERE stroke = 1\n",
    "          GROUP BY age\n",
    "          ORDER BY total_stroke DESC\n",
    "          LIMIT 1\n",
    "          \"\"\").show()"
   ]
  },
  {
   "cell_type": "code",
   "execution_count": 14,
   "metadata": {},
   "outputs": [
    {
     "name": "stdout",
     "output_type": "stream",
     "text": [
      "+------------+\n",
      "|total_stroke|\n",
      "+------------+\n",
      "|       28938|\n",
      "+------------+\n",
      "\n"
     ]
    }
   ],
   "source": [
    "# Pergunta 8 - Usando a API de dataframes, determine quantas pessoas sofreram derrames após os 50 anos.\n",
    "spark.sql(\"\"\"\n",
    "          SELECT COUNT(*) AS total_stroke\n",
    "          FROM data_stroke\n",
    "          WHERE stroke = 1 AND age > 50\n",
    "          \n",
    "          \"\"\").show()"
   ]
  },
  {
   "cell_type": "code",
   "execution_count": 15,
   "metadata": {},
   "outputs": [
    {
     "name": "stdout",
     "output_type": "stream",
     "text": [
      "+------+-----------+\n",
      "|stroke|avg_glucose|\n",
      "+------+-----------+\n",
      "|     1|     119.95|\n",
      "|     0|      103.6|\n",
      "+------+-----------+\n",
      "\n"
     ]
    }
   ],
   "source": [
    "# Pergunta 9 - Usando spark.sql, determine qual o nível médio de glicose para pessoas que, respectivamente, sofreram e não sofreram derrame.\n",
    "spark.sql(\"\"\"\n",
    "          SELECT stroke, ROUND(AVG(avg_glucose_level),2) AS avg_glucose\n",
    "          FROM data_stroke\n",
    "          GROUP BY stroke\n",
    "          \n",
    "          \"\"\").show()"
   ]
  },
  {
   "cell_type": "code",
   "execution_count": 16,
   "metadata": {},
   "outputs": [
    {
     "name": "stdout",
     "output_type": "stream",
     "text": [
      "+------+-------+\n",
      "|stroke|avg_bmi|\n",
      "+------+-------+\n",
      "|     1|  29.94|\n",
      "|     0|  27.99|\n",
      "+------+-------+\n",
      "\n"
     ]
    }
   ],
   "source": [
    "# Pergunta 10 - Qual é o BMI (IMC = índice de massa corpórea) médio de quem sofreu e não sofreu derrame?\n",
    "spark.sql(\"\"\"\n",
    "          SELECT stroke, ROUND(AVG(bmi),2) AS avg_bmi\n",
    "          FROM data_stroke\n",
    "          GROUP BY stroke\n",
    "          \n",
    "          \"\"\").show()\n"
   ]
  },
  {
   "cell_type": "code",
   "execution_count": 17,
   "metadata": {},
   "outputs": [
    {
     "name": "stdout",
     "output_type": "stream",
     "text": [
      "+----+----+------------+-------------+-----------------+------+--------------------+-------------+--------------------+----------+\n",
      "| age| bmi|hypertension|heart_disease|avg_glucose_level|stroke|            features|rawPrediction|         probability|prediction|\n",
      "+----+----+------------+-------------+-----------------+------+--------------------+-------------+--------------------+----------+\n",
      "|0.08|12.1|           0|            0|           125.11|     0|[0.08,12.1,0.0,0....| [2995.0,1.0]|[0.99966622162883...|       0.0|\n",
      "|0.08|15.1|           0|            0|            68.58|     0|[0.08,15.1,0.0,0....| [2995.0,1.0]|[0.99966622162883...|       0.0|\n",
      "|0.08|16.7|           0|            0|           108.82|     0|[0.08,16.7,0.0,0....| [2995.0,1.0]|[0.99966622162883...|       0.0|\n",
      "|0.16|12.0|           0|            0|            99.25|     0|[0.16,12.0,0.0,0....| [2995.0,1.0]|[0.99966622162883...|       0.0|\n",
      "|0.16|13.9|           0|            0|           109.52|     0|[0.16,13.9,0.0,0....| [2995.0,1.0]|[0.99966622162883...|       0.0|\n",
      "|0.16|14.7|           0|            0|            70.87|     0|[0.16,14.7,0.0,0....| [2995.0,1.0]|[0.99966622162883...|       0.0|\n",
      "|0.16|15.4|           0|            0|            81.42|     0|[0.16,15.4,0.0,0....| [2995.0,1.0]|[0.99966622162883...|       0.0|\n",
      "|0.16|15.9|           0|            0|            64.74|     0|[0.16,15.9,0.0,0....| [2995.0,1.0]|[0.99966622162883...|       0.0|\n",
      "|0.16|16.2|           0|            0|            63.72|     0|[0.16,16.2,0.0,0....| [2995.0,1.0]|[0.99966622162883...|       0.0|\n",
      "|0.16|16.3|           0|            0|           123.92|     0|[0.16,16.3,0.0,0....| [2995.0,1.0]|[0.99966622162883...|       0.0|\n",
      "+----+----+------------+-------------+-----------------+------+--------------------+-------------+--------------------+----------+\n",
      "only showing top 10 rows\n",
      "\n"
     ]
    }
   ],
   "source": [
    "# Pergunta 11 - Crie um modelo de árvore de decisão que prevê a chance de derrame (stroke) a partir das variáveis contínuas/categóricas: idade, BMI, hipertensão, doença do coração, \n",
    "# nível médio de glicose. Use o conteúdo da segunda aula interativa para criar e avaliar o modelo.\n",
    "# Qual a acurácia de um modelo construído?\n",
    "\n",
    "#selecionando as colunas do modelo\n",
    "decision_tree_df = stroke_data_df.select(\"age\", \"bmi\", \"hypertension\", \"heart_disease\", \"avg_glucose_level\", \"stroke\")\n",
    "assembler = VectorAssembler(inputCols=[\"age\", \"bmi\", \"hypertension\", \"heart_disease\", \"avg_glucose_level\"],outputCol=\"features\")\n",
    "classifier = DecisionTreeClassifier(labelCol=\"stroke\", featuresCol=\"features\")\n",
    "pipeline = Pipeline(stages=[assembler, classifier])\n",
    "train_data, test_data = decision_tree_df.randomSplit([0.7, 0.3])\n",
    "predictSurvivedModel = pipeline.fit(train_data)\n",
    "predictions = predictSurvivedModel.transform(test_data)\n",
    "predictions.show(10)"
   ]
  },
  {
   "cell_type": "code",
   "execution_count": 18,
   "metadata": {},
   "outputs": [
    {
     "data": {
      "text/plain": [
       "0.6875341852717418"
      ]
     },
     "execution_count": 18,
     "metadata": {},
     "output_type": "execute_result"
    }
   ],
   "source": [
    "#avaliando o modelo\n",
    "evaluator = MulticlassClassificationEvaluator(labelCol='stroke', predictionCol='prediction', metricName='accuracy')\n",
    "accuracy = evaluator.evaluate(predictions)\n",
    "\n",
    "accuracy\n"
   ]
  },
  {
   "cell_type": "code",
   "execution_count": 19,
   "metadata": {},
   "outputs": [
    {
     "name": "stdout",
     "output_type": "stream",
     "text": [
      "+----+-----+------------+-------------+-----------------+------+---------------+------+\n",
      "| age|  bmi|hypertension|heart_disease|avg_glucose_level|gender| smoking_status|stroke|\n",
      "+----+-----+------------+-------------+-----------------+------+---------------+------+\n",
      "|18.0|12.12|           0|            0|            94.19|Female|         smokes|     1|\n",
      "|58.0| 33.7|           1|            0|           154.24|  Male|   never_smoked|     0|\n",
      "|36.0| 24.7|           0|            0|            72.63|Female|         smokes|     0|\n",
      "|62.0| 31.2|           0|            0|            85.52|Female|formerly smoked|     0|\n",
      "|82.0| 33.2|           0|            0|            59.32|Female|         smokes|     1|\n",
      "+----+-----+------------+-------------+-----------------+------+---------------+------+\n",
      "only showing top 5 rows\n",
      "\n"
     ]
    }
   ],
   "source": [
    "# Pergunta 12 - Adicione ao modelo as variáveis categóricas: gênero e status de fumante. Use o conteúdo da aula interativa para lidar com as variáveis categóricas. \n",
    "# A acurácia (qualidade) do modelo aumentou para:\n",
    "\n",
    "#selecionando as colunas do modelo\n",
    "decision_tree_df12 = stroke_data_df.select(\"age\", \"bmi\", \"hypertension\", \"heart_disease\", \"avg_glucose_level\", \"gender\", \"smoking_status\", \"stroke\")\n",
    "decision_tree_df12.show(5)\n"
   ]
  },
  {
   "cell_type": "code",
   "execution_count": 20,
   "metadata": {},
   "outputs": [
    {
     "name": "stdout",
     "output_type": "stream",
     "text": [
      "+----+-----+------------+-------------+-----------------+------+---------------+------+--------------+--------------+----------------------+----------------------+\n",
      "| age|  bmi|hypertension|heart_disease|avg_glucose_level|gender| smoking_status|stroke|gender_indexer|gender_encoder|smoking_status_indexer|smoking_status_encoder|\n",
      "+----+-----+------------+-------------+-----------------+------+---------------+------+--------------+--------------+----------------------+----------------------+\n",
      "|18.0|12.12|           0|            0|            94.19|Female|         smokes|     1|           0.0| (2,[0],[1.0])|                   0.0|         (2,[0],[1.0])|\n",
      "|58.0| 33.7|           1|            0|           154.24|  Male|   never_smoked|     0|           1.0| (2,[1],[1.0])|                   2.0|             (2,[],[])|\n",
      "|36.0| 24.7|           0|            0|            72.63|Female|         smokes|     0|           0.0| (2,[0],[1.0])|                   0.0|         (2,[0],[1.0])|\n",
      "|62.0| 31.2|           0|            0|            85.52|Female|formerly smoked|     0|           0.0| (2,[0],[1.0])|                   1.0|         (2,[1],[1.0])|\n",
      "|82.0| 33.2|           0|            0|            59.32|Female|         smokes|     1|           0.0| (2,[0],[1.0])|                   0.0|         (2,[0],[1.0])|\n",
      "+----+-----+------------+-------------+-----------------+------+---------------+------+--------------+--------------+----------------------+----------------------+\n",
      "only showing top 5 rows\n",
      "\n"
     ]
    }
   ],
   "source": [
    "#gender encoder\n",
    "gender_indexer = StringIndexer(inputCol=\"gender\", outputCol=\"gender_indexer\")\n",
    "gender_encoder = OneHotEncoder(inputCol=\"gender_indexer\", outputCol=\"gender_encoder\")\n",
    "#smoking encoder\n",
    "smoking_indexer = StringIndexer(inputCol=\"smoking_status\", outputCol=\"smoking_status_indexer\")\n",
    "smoking_encoder = OneHotEncoder(inputCol=\"smoking_status_indexer\", outputCol=\"smoking_status_encoder\")\n",
    "\n",
    "pipeline_encoder = Pipeline(stages=[gender_indexer, gender_encoder, smoking_indexer, smoking_encoder])\n",
    "model_encoder = pipeline_encoder.fit(decision_tree_df12)\n",
    "encoded_df = model_encoder.transform(decision_tree_df12)\n",
    "encoded_df.show(5)"
   ]
  },
  {
   "cell_type": "code",
   "execution_count": 21,
   "metadata": {},
   "outputs": [
    {
     "name": "stdout",
     "output_type": "stream",
     "text": [
      "+----+-----+------------+-------------+-----------------+----------------------+--------------+\n",
      "| age|  bmi|hypertension|heart_disease|avg_glucose_level|smoking_status_encoder|gender_encoder|\n",
      "+----+-----+------------+-------------+-----------------+----------------------+--------------+\n",
      "|18.0|12.12|           0|            0|            94.19|         (2,[0],[1.0])| (2,[0],[1.0])|\n",
      "|58.0| 33.7|           1|            0|           154.24|             (2,[],[])| (2,[1],[1.0])|\n",
      "|36.0| 24.7|           0|            0|            72.63|         (2,[0],[1.0])| (2,[0],[1.0])|\n",
      "|62.0| 31.2|           0|            0|            85.52|         (2,[1],[1.0])| (2,[0],[1.0])|\n",
      "|82.0| 33.2|           0|            0|            59.32|         (2,[0],[1.0])| (2,[0],[1.0])|\n",
      "+----+-----+------------+-------------+-----------------+----------------------+--------------+\n",
      "only showing top 5 rows\n",
      "\n"
     ]
    }
   ],
   "source": [
    "encoded_df.select(\"age\", \"bmi\", \"hypertension\", \"heart_disease\", \"avg_glucose_level\", \"smoking_status_encoder\", \"gender_encoder\").show(5)"
   ]
  },
  {
   "cell_type": "code",
   "execution_count": 22,
   "metadata": {},
   "outputs": [
    {
     "name": "stdout",
     "output_type": "stream",
     "text": [
      "+----+----+------------+-------------+-----------------+------+--------------+------+--------------+--------------+----------------------+----------------------+--------------------+--------------+--------------------+----------+\n",
      "| age| bmi|hypertension|heart_disease|avg_glucose_level|gender|smoking_status|stroke|gender_indexer|gender_encoder|smoking_status_indexer|smoking_status_encoder|            features| rawPrediction|         probability|prediction|\n",
      "+----+----+------------+-------------+-----------------+------+--------------+------+--------------+--------------+----------------------+----------------------+--------------------+--------------+--------------------+----------+\n",
      "|0.08|12.2|           0|            0|           111.09|Female|  never_smoked|     0|           0.0| (2,[0],[1.0])|                   2.0|             (2,[],[])|(9,[0,1,4,7],[0.0...|[9250.0,102.0]|[0.98909324208725...|       0.0|\n",
      "|0.08|14.1|           0|            0|           139.67|Female|  never_smoked|     0|           0.0| (2,[0],[1.0])|                   2.0|             (2,[],[])|(9,[0,1,4,7],[0.0...|[9250.0,102.0]|[0.98909324208725...|       0.0|\n",
      "|0.08|15.1|           0|            0|            68.58|  Male|  never_smoked|     0|           1.0| (2,[1],[1.0])|                   2.0|             (2,[],[])|(9,[0,1,4,8],[0.0...|[9250.0,102.0]|[0.98909324208725...|       0.0|\n",
      "|0.08|16.1|           0|            0|            98.89|  Male|  never_smoked|     0|           1.0| (2,[1],[1.0])|                   2.0|             (2,[],[])|(9,[0,1,4,8],[0.0...|[9250.0,102.0]|[0.98909324208725...|       0.0|\n",
      "|0.08|16.9|           0|            0|            70.33|  Male|  never_smoked|     0|           1.0| (2,[1],[1.0])|                   2.0|             (2,[],[])|(9,[0,1,4,8],[0.0...|[9250.0,102.0]|[0.98909324208725...|       0.0|\n",
      "|0.08|31.2|           0|            0|            67.55|Female|  never_smoked|     0|           0.0| (2,[0],[1.0])|                   2.0|             (2,[],[])|(9,[0,1,4,7],[0.0...|[9250.0,102.0]|[0.98909324208725...|       0.0|\n",
      "|0.16|12.0|           0|            0|            99.25|Female|  never_smoked|     0|           0.0| (2,[0],[1.0])|                   2.0|             (2,[],[])|(9,[0,1,4,7],[0.1...|[9250.0,102.0]|[0.98909324208725...|       0.0|\n",
      "|0.16|13.8|           0|            0|            60.67|Female|  never_smoked|     0|           0.0| (2,[0],[1.0])|                   2.0|             (2,[],[])|(9,[0,1,4,7],[0.1...|[9250.0,102.0]|[0.98909324208725...|       0.0|\n",
      "|0.16|15.4|           0|            0|            81.42|Female|  never_smoked|     0|           0.0| (2,[0],[1.0])|                   2.0|             (2,[],[])|(9,[0,1,4,7],[0.1...|[9250.0,102.0]|[0.98909324208725...|       0.0|\n",
      "|0.16|15.7|           0|            0|            89.07|Female|  never_smoked|     0|           0.0| (2,[0],[1.0])|                   2.0|             (2,[],[])|(9,[0,1,4,7],[0.1...|[9250.0,102.0]|[0.98909324208725...|       0.0|\n",
      "+----+----+------------+-------------+-----------------+------+--------------+------+--------------+--------------+----------------------+----------------------+--------------------+--------------+--------------------+----------+\n",
      "only showing top 10 rows\n",
      "\n"
     ]
    }
   ],
   "source": [
    "#Reaplicando ao modelo\n",
    "\n",
    "assembler = VectorAssembler(inputCols=[\"age\", \"bmi\", \"hypertension\", \"heart_disease\", \"avg_glucose_level\", \"smoking_status_encoder\", \"gender_encoder\"],outputCol=\"features\")\n",
    "classifier = DecisionTreeClassifier(labelCol=\"stroke\", featuresCol=\"features\")\n",
    "pipeline = Pipeline(stages=[assembler, classifier])\n",
    "train_data, test_data = encoded_df.randomSplit([0.7, 0.3])\n",
    "predictSurvivedModel = pipeline.fit(train_data)\n",
    "predictions = predictSurvivedModel.transform(test_data)\n",
    "predictions.show(10)"
   ]
  },
  {
   "cell_type": "code",
   "execution_count": 23,
   "metadata": {},
   "outputs": [
    {
     "data": {
      "text/plain": [
       "0.8314634507982009"
      ]
     },
     "execution_count": 23,
     "metadata": {},
     "output_type": "execute_result"
    }
   ],
   "source": [
    "#re-avaliando o modelo\n",
    "evaluator = MulticlassClassificationEvaluator(labelCol='stroke', predictionCol='prediction', metricName='accuracy')\n",
    "accuracy = evaluator.evaluate(predictions)\n",
    "\n",
    "accuracy"
   ]
  },
  {
   "cell_type": "code",
   "execution_count": 24,
   "metadata": {},
   "outputs": [],
   "source": [
    "# Pergunta 13 - Adicione ao modelo as variáveis categóricas: gênero e status de fumante. Use o conteúdo da aula interativa para lidar com as variáveis categóricas. \n",
    "# Qual dessas variáveis é mais importante no modelo de árvore de decisão que você construiu?\n",
    "decisionTreeModel = predictSurvivedModel.stages[-1]\n"
   ]
  },
  {
   "cell_type": "code",
   "execution_count": 25,
   "metadata": {},
   "outputs": [
    {
     "data": {
      "text/plain": [
       "['age',\n",
       " 'bmi',\n",
       " 'hypertension',\n",
       " 'heart_disease',\n",
       " 'avg_glucose_level',\n",
       " 'smoking_status_encoder',\n",
       " 'gender_encoder']"
      ]
     },
     "execution_count": 25,
     "metadata": {},
     "output_type": "execute_result"
    }
   ],
   "source": [
    "assembler.getInputCols()\n"
   ]
  },
  {
   "cell_type": "code",
   "execution_count": 26,
   "metadata": {},
   "outputs": [
    {
     "data": {
      "text/plain": [
       "SparseVector(9, {0: 0.1704, 1: 0.0012, 4: 0.0066, 5: 0.4905, 6: 0.3311, 7: 0.0003})"
      ]
     },
     "execution_count": 26,
     "metadata": {},
     "output_type": "execute_result"
    }
   ],
   "source": [
    "decisionTreeModel.featureImportances"
   ]
  },
  {
   "cell_type": "code",
   "execution_count": 27,
   "metadata": {},
   "outputs": [
    {
     "data": {
      "text/plain": [
       "[('age', 0.17043091574871366),\n",
       " ('bmi', 0.0012164102265446739),\n",
       " ('hypertension', 0.0),\n",
       " ('heart_disease', 0.0),\n",
       " ('avg_glucose_level', 0.0065685103017649165),\n",
       " ('smoking_status_encoder', 0.4904525656122635),\n",
       " ('gender_encoder', 0.331073062426722)]"
      ]
     },
     "execution_count": 27,
     "metadata": {},
     "output_type": "execute_result"
    }
   ],
   "source": [
    "list(zip(assembler.getInputCols(), decisionTreeModel.featureImportances))"
   ]
  },
  {
   "cell_type": "code",
   "execution_count": 28,
   "metadata": {},
   "outputs": [
    {
     "data": {
      "text/plain": [
       "5"
      ]
     },
     "execution_count": 28,
     "metadata": {},
     "output_type": "execute_result"
    }
   ],
   "source": [
    "# Pergunta 14 - Adicione ao modelo as variáveis categóricas: gênero e status de fumante. Use o conteúdo da aula interativa para lidar com as variáveis categóricas.\n",
    "# Qual a profundidade da árvore de decisão? \n",
    "decisionTreeModel.depth"
   ]
  },
  {
   "cell_type": "code",
   "execution_count": 29,
   "metadata": {},
   "outputs": [
    {
     "name": "stdout",
     "output_type": "stream",
     "text": [
      "Number of nodes in the decision tree: 25\n"
     ]
    }
   ],
   "source": [
    "# Pergunta 15 - Quantos nodos a árvore de decisão possui?\n",
    "\n",
    "tree = decisionTreeModel.toDebugString\n",
    "\n",
    "import re\n",
    "\n",
    "int(re.search(r'numNodes=(\\d+)', tree).group(1))\n",
    "\n",
    "print(f\"Number of nodes in the decision tree: {int(re.search(r'numNodes=(\\d+)', tree).group(1))}\")\n"
   ]
  },
  {
   "cell_type": "code",
   "execution_count": 31,
   "metadata": {},
   "outputs": [
    {
     "data": {
      "text/html": [
       "<div>\n",
       "<style scoped>\n",
       "    .dataframe tbody tr th:only-of-type {\n",
       "        vertical-align: middle;\n",
       "    }\n",
       "\n",
       "    .dataframe tbody tr th {\n",
       "        vertical-align: top;\n",
       "    }\n",
       "\n",
       "    .dataframe thead th {\n",
       "        text-align: right;\n",
       "    }\n",
       "</style>\n",
       "<table border=\"1\" class=\"dataframe\">\n",
       "  <thead>\n",
       "    <tr style=\"text-align: right;\">\n",
       "      <th></th>\n",
       "      <th>id</th>\n",
       "      <th>gender</th>\n",
       "      <th>age</th>\n",
       "      <th>hypertension</th>\n",
       "      <th>heart_disease</th>\n",
       "      <th>ever_married</th>\n",
       "      <th>work_type</th>\n",
       "      <th>residence_type</th>\n",
       "      <th>avg_glucose_level</th>\n",
       "      <th>bmi</th>\n",
       "      <th>smoking_status</th>\n",
       "      <th>stroke</th>\n",
       "    </tr>\n",
       "  </thead>\n",
       "  <tbody>\n",
       "    <tr>\n",
       "      <th>0</th>\n",
       "      <td>1</td>\n",
       "      <td>Female</td>\n",
       "      <td>18.0</td>\n",
       "      <td>0</td>\n",
       "      <td>0</td>\n",
       "      <td>No</td>\n",
       "      <td>Private</td>\n",
       "      <td>Urban</td>\n",
       "      <td>94.19</td>\n",
       "      <td>12.12</td>\n",
       "      <td>smokes</td>\n",
       "      <td>1</td>\n",
       "    </tr>\n",
       "    <tr>\n",
       "      <th>1</th>\n",
       "      <td>2</td>\n",
       "      <td>Male</td>\n",
       "      <td>58.0</td>\n",
       "      <td>1</td>\n",
       "      <td>0</td>\n",
       "      <td>Yes</td>\n",
       "      <td>Private</td>\n",
       "      <td>Rural</td>\n",
       "      <td>154.24</td>\n",
       "      <td>33.70</td>\n",
       "      <td>never_smoked</td>\n",
       "      <td>0</td>\n",
       "    </tr>\n",
       "    <tr>\n",
       "      <th>2</th>\n",
       "      <td>3</td>\n",
       "      <td>Female</td>\n",
       "      <td>36.0</td>\n",
       "      <td>0</td>\n",
       "      <td>0</td>\n",
       "      <td>Yes</td>\n",
       "      <td>Govt_job</td>\n",
       "      <td>Urban</td>\n",
       "      <td>72.63</td>\n",
       "      <td>24.70</td>\n",
       "      <td>smokes</td>\n",
       "      <td>0</td>\n",
       "    </tr>\n",
       "    <tr>\n",
       "      <th>3</th>\n",
       "      <td>4</td>\n",
       "      <td>Female</td>\n",
       "      <td>62.0</td>\n",
       "      <td>0</td>\n",
       "      <td>0</td>\n",
       "      <td>Yes</td>\n",
       "      <td>Self-employed</td>\n",
       "      <td>Rural</td>\n",
       "      <td>85.52</td>\n",
       "      <td>31.20</td>\n",
       "      <td>formerly smoked</td>\n",
       "      <td>0</td>\n",
       "    </tr>\n",
       "    <tr>\n",
       "      <th>4</th>\n",
       "      <td>5</td>\n",
       "      <td>Female</td>\n",
       "      <td>82.0</td>\n",
       "      <td>0</td>\n",
       "      <td>0</td>\n",
       "      <td>Yes</td>\n",
       "      <td>Private</td>\n",
       "      <td>Rural</td>\n",
       "      <td>59.32</td>\n",
       "      <td>33.20</td>\n",
       "      <td>smokes</td>\n",
       "      <td>1</td>\n",
       "    </tr>\n",
       "    <tr>\n",
       "      <th>...</th>\n",
       "      <td>...</td>\n",
       "      <td>...</td>\n",
       "      <td>...</td>\n",
       "      <td>...</td>\n",
       "      <td>...</td>\n",
       "      <td>...</td>\n",
       "      <td>...</td>\n",
       "      <td>...</td>\n",
       "      <td>...</td>\n",
       "      <td>...</td>\n",
       "      <td>...</td>\n",
       "      <td>...</td>\n",
       "    </tr>\n",
       "    <tr>\n",
       "      <th>67130</th>\n",
       "      <td>67131</td>\n",
       "      <td>Male</td>\n",
       "      <td>18.0</td>\n",
       "      <td>0</td>\n",
       "      <td>0</td>\n",
       "      <td>No</td>\n",
       "      <td>Private</td>\n",
       "      <td>Urban</td>\n",
       "      <td>109.06</td>\n",
       "      <td>22.10</td>\n",
       "      <td>smokes</td>\n",
       "      <td>1</td>\n",
       "    </tr>\n",
       "    <tr>\n",
       "      <th>67131</th>\n",
       "      <td>67132</td>\n",
       "      <td>Female</td>\n",
       "      <td>29.0</td>\n",
       "      <td>0</td>\n",
       "      <td>0</td>\n",
       "      <td>Yes</td>\n",
       "      <td>Private</td>\n",
       "      <td>Urban</td>\n",
       "      <td>73.02</td>\n",
       "      <td>32.10</td>\n",
       "      <td>never_smoked</td>\n",
       "      <td>0</td>\n",
       "    </tr>\n",
       "    <tr>\n",
       "      <th>67132</th>\n",
       "      <td>67133</td>\n",
       "      <td>Female</td>\n",
       "      <td>24.0</td>\n",
       "      <td>0</td>\n",
       "      <td>0</td>\n",
       "      <td>No</td>\n",
       "      <td>Private</td>\n",
       "      <td>Urban</td>\n",
       "      <td>141.18</td>\n",
       "      <td>23.30</td>\n",
       "      <td>smokes</td>\n",
       "      <td>1</td>\n",
       "    </tr>\n",
       "    <tr>\n",
       "      <th>67133</th>\n",
       "      <td>67134</td>\n",
       "      <td>Female</td>\n",
       "      <td>77.0</td>\n",
       "      <td>0</td>\n",
       "      <td>0</td>\n",
       "      <td>Yes</td>\n",
       "      <td>Self-employed</td>\n",
       "      <td>Urban</td>\n",
       "      <td>199.71</td>\n",
       "      <td>36.20</td>\n",
       "      <td>formerly smoked</td>\n",
       "      <td>1</td>\n",
       "    </tr>\n",
       "    <tr>\n",
       "      <th>67134</th>\n",
       "      <td>67135</td>\n",
       "      <td>Male</td>\n",
       "      <td>76.0</td>\n",
       "      <td>0</td>\n",
       "      <td>1</td>\n",
       "      <td>Yes</td>\n",
       "      <td>Self-employed</td>\n",
       "      <td>Urban</td>\n",
       "      <td>202.96</td>\n",
       "      <td>31.80</td>\n",
       "      <td>formerly smoked</td>\n",
       "      <td>1</td>\n",
       "    </tr>\n",
       "  </tbody>\n",
       "</table>\n",
       "<p>67135 rows × 12 columns</p>\n",
       "</div>"
      ],
      "text/plain": [
       "          id  gender   age  hypertension  heart_disease ever_married  \\\n",
       "0          1  Female  18.0             0              0           No   \n",
       "1          2    Male  58.0             1              0          Yes   \n",
       "2          3  Female  36.0             0              0          Yes   \n",
       "3          4  Female  62.0             0              0          Yes   \n",
       "4          5  Female  82.0             0              0          Yes   \n",
       "...      ...     ...   ...           ...            ...          ...   \n",
       "67130  67131    Male  18.0             0              0           No   \n",
       "67131  67132  Female  29.0             0              0          Yes   \n",
       "67132  67133  Female  24.0             0              0           No   \n",
       "67133  67134  Female  77.0             0              0          Yes   \n",
       "67134  67135    Male  76.0             0              1          Yes   \n",
       "\n",
       "           work_type residence_type  avg_glucose_level    bmi  \\\n",
       "0            Private          Urban              94.19  12.12   \n",
       "1            Private          Rural             154.24  33.70   \n",
       "2           Govt_job          Urban              72.63  24.70   \n",
       "3      Self-employed          Rural              85.52  31.20   \n",
       "4            Private          Rural              59.32  33.20   \n",
       "...              ...            ...                ...    ...   \n",
       "67130        Private          Urban             109.06  22.10   \n",
       "67131        Private          Urban              73.02  32.10   \n",
       "67132        Private          Urban             141.18  23.30   \n",
       "67133  Self-employed          Urban             199.71  36.20   \n",
       "67134  Self-employed          Urban             202.96  31.80   \n",
       "\n",
       "        smoking_status  stroke  \n",
       "0               smokes       1  \n",
       "1         never_smoked       0  \n",
       "2               smokes       0  \n",
       "3      formerly smoked       0  \n",
       "4               smokes       1  \n",
       "...                ...     ...  \n",
       "67130           smokes       1  \n",
       "67131     never_smoked       0  \n",
       "67132           smokes       1  \n",
       "67133  formerly smoked       1  \n",
       "67134  formerly smoked       1  \n",
       "\n",
       "[67135 rows x 12 columns]"
      ]
     },
     "execution_count": 31,
     "metadata": {},
     "output_type": "execute_result"
    }
   ],
   "source": [
    "stroke_data_df.toPandas()"
   ]
  },
  {
   "cell_type": "code",
   "execution_count": null,
   "metadata": {},
   "outputs": [
    {
     "name": "stdout",
     "output_type": "stream",
     "text": [
      "+---+------+----+------------+-------------+------------+-------------+--------------+-----------------+-----+---------------+------+\n",
      "| id|gender| age|hypertension|heart_disease|ever_married|    work_type|residence_type|avg_glucose_level|  bmi| smoking_status|stroke|\n",
      "+---+------+----+------------+-------------+------------+-------------+--------------+-----------------+-----+---------------+------+\n",
      "|  1|Female|18.0|           0|            0|          No|      Private|         Urban|            94.19|12.12|         smokes|     1|\n",
      "|  2|  Male|58.0|           1|            0|         Yes|      Private|         Rural|           154.24| 33.7|   never_smoked|     0|\n",
      "|  3|Female|36.0|           0|            0|         Yes|     Govt_job|         Urban|            72.63| 24.7|         smokes|     0|\n",
      "|  4|Female|62.0|           0|            0|         Yes|Self-employed|         Rural|            85.52| 31.2|formerly smoked|     0|\n",
      "|  5|Female|82.0|           0|            0|         Yes|      Private|         Rural|            59.32| 33.2|         smokes|     1|\n",
      "|  6|Female|82.0|           0|            0|          No|     Govt_job|         Urban|            234.5| 24.0|formerly smoked|     0|\n",
      "|  7|Female|33.0|           0|            0|         Yes|Self-employed|         Urban|           193.42| 29.9|         smokes|     0|\n",
      "|  8|Female|37.0|           0|            0|         Yes|      Private|         Rural|            156.7| 36.9|         smokes|     1|\n",
      "|  9|Female|41.0|           0|            0|         Yes|     Govt_job|         Rural|            64.06| 33.8|         smokes|     1|\n",
      "| 10|Female|70.0|           0|            0|         Yes|Self-employed|         Rural|            76.34| 24.4|formerly smoked|     1|\n",
      "| 11|Female|25.0|           0|            0|          No|      Private|         Urban|            91.15| 28.7|         smokes|     1|\n",
      "| 12|Female|43.0|           1|            0|          No|Self-employed|         Rural|            60.12| 34.2|formerly smoked|     0|\n",
      "| 13|  Male|72.0|           0|            1|         Yes|      Private|         Rural|           235.22| 40.3|formerly smoked|     1|\n",
      "| 14|Female|20.0|           0|            0|          No|      Private|         Rural|           106.47| 33.7|         smokes|     1|\n",
      "| 15|  Male|20.0|           0|            0|          No|      Private|         Urban|           104.78| 20.3|         smokes|     1|\n",
      "| 16|  Male|41.0|           0|            0|         Yes|Self-employed|         Urban|            159.3| 34.6|         smokes|     1|\n",
      "| 17|Female|23.0|           0|            0|          No|      Private|         Urban|           116.95| 23.8|         smokes|     1|\n",
      "| 18|  Male|22.0|           0|            0|          No|Self-employed|         Rural|            72.05| 31.9|         smokes|     1|\n",
      "| 19|  Male|69.0|           0|            0|         Yes|      Private|         Rural|            64.06| 35.1|formerly smoked|     0|\n",
      "| 20|Female|44.0|           0|            0|         Yes|Self-employed|         Rural|           135.03| 36.1|         smokes|     1|\n",
      "+---+------+----+------------+-------------+------------+-------------+--------------+-----------------+-----+---------------+------+\n",
      "only showing top 20 rows\n",
      "\n"
     ]
    }
   ],
   "source": [
    "stroke_data_df.show()"
   ]
  }
 ],
 "metadata": {
  "kernelspec": {
   "display_name": "Python 3",
   "language": "python",
   "name": "python3"
  },
  "language_info": {
   "codemirror_mode": {
    "name": "ipython",
    "version": 3
   },
   "file_extension": ".py",
   "mimetype": "text/x-python",
   "name": "python",
   "nbconvert_exporter": "python",
   "pygments_lexer": "ipython3",
   "version": "3.12.3"
  }
 },
 "nbformat": 4,
 "nbformat_minor": 2
}
