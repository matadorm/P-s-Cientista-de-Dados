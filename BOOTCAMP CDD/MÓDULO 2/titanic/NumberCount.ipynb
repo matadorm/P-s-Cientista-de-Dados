{
 "cells": [
  {
   "cell_type": "code",
   "execution_count": 1,
   "id": "e690dfa5",
   "metadata": {},
   "outputs": [
    {
     "data": {
      "text/plain": [
       "'3.2.1'"
      ]
     },
     "execution_count": 1,
     "metadata": {},
     "output_type": "execute_result"
    }
   ],
   "source": [
    "from pyspark.sql import SparkSession\n",
    "\n",
    "# Spark entry point\n",
    "spark = SparkSession \\\n",
    "    .builder \\\n",
    "    .appName(\"Aula Interativa 1 - Cientista de Dados - Apache Spark\") \\\n",
    "    .getOrCreate()\n",
    "\n",
    "spark.version\n"
   ]
  },
  {
   "cell_type": "code",
   "execution_count": 2,
   "id": "b831dfd4",
   "metadata": {},
   "outputs": [
    {
     "name": "stdout",
     "output_type": "stream",
     "text": [
      "Number of partitions: 9\n"
     ]
    }
   ],
   "source": [
    "filename = 'C:/Users/pedro.guerra/Downloads/XPE/cientista-dados/aula1/numbers.txt'\n",
    "\n",
    "\n",
    "linesRdd = spark.read.text(filename).rdd.map(lambda r: r[0])\n",
    "print(\"Number of partitions: {}\".format(linesRdd.getNumPartitions()))\n"
   ]
  },
  {
   "cell_type": "code",
   "execution_count": 3,
   "id": "98cfc1a9",
   "metadata": {},
   "outputs": [
    {
     "name": "stdout",
     "output_type": "stream",
     "text": [
      "The end\n"
     ]
    }
   ],
   "source": [
    "from operator import add\n",
    "\n",
    "countsRdd = linesRdd.flatMap(lambda line: line.split(' ')) \\\n",
    "                     .filter(lambda number: int(number) % 2 == 0) \\\n",
    "                     .map(lambda number: (number, 1)) \\\n",
    "                     .reduceByKey(add)\n",
    "\n",
    "print('The end')"
   ]
  },
  {
   "cell_type": "code",
   "execution_count": 4,
   "id": "dca6f39e",
   "metadata": {},
   "outputs": [
    {
     "data": {
      "text/plain": [
       "PythonRDD[9] at RDD at PythonRDD.scala:53"
      ]
     },
     "execution_count": 4,
     "metadata": {},
     "output_type": "execute_result"
    }
   ],
   "source": [
    "# https://learn.microsoft.com/en-us/azure/databricks/kb/scala/best-practice-cache-count-take\n",
    "countsRdd.cache()"
   ]
  },
  {
   "cell_type": "code",
   "execution_count": 5,
   "id": "7c962112",
   "metadata": {},
   "outputs": [
    {
     "name": "stdout",
     "output_type": "stream",
     "text": [
      "2 49985872\n",
      "8 49983488\n",
      "10 50001175\n",
      "6 49991238\n",
      "0 49983624\n",
      "4 49983104\n"
     ]
    }
   ],
   "source": [
    "countDict = countsRdd.collect()\n",
    "for (number, count) in countDict:\n",
    "    print(number, count)\n"
   ]
  },
  {
   "cell_type": "code",
   "execution_count": null,
   "id": "8c213dbd",
   "metadata": {},
   "outputs": [],
   "source": [
    "countsRdd.max(lambda x:x[1])"
   ]
  },
  {
   "cell_type": "code",
   "execution_count": null,
   "id": "87fbad4c",
   "metadata": {},
   "outputs": [],
   "source": [
    "countRdd2 = linesRdd.flatMap(lambda line: line.split(' ')) \\\n",
    "                     .filter(lambda number: int(number) % 2 == 0) \\\n",
    "                     .map(lambda number: (number, 1)) \\\n",
    "                     .reduceByKey(add)\n",
    "                     \n",
    "countsRdd2.max(lambda x:x[1])"
   ]
  },
  {
   "cell_type": "code",
   "execution_count": null,
   "id": "e03ab9f1",
   "metadata": {},
   "outputs": [],
   "source": []
  }
 ],
 "metadata": {
  "kernelspec": {
   "display_name": "Python 3 (ipykernel)",
   "language": "python",
   "name": "python3"
  },
  "language_info": {
   "codemirror_mode": {
    "name": "ipython",
    "version": 3
   },
   "file_extension": ".py",
   "mimetype": "text/x-python",
   "name": "python",
   "nbconvert_exporter": "python",
   "pygments_lexer": "ipython3",
   "version": "3.10.6"
  }
 },
 "nbformat": 4,
 "nbformat_minor": 5
}
