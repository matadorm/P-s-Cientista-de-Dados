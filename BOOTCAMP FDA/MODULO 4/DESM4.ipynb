{
 "cells": [
  {
   "cell_type": "code",
   "execution_count": 1,
   "metadata": {
    "application/vnd.databricks.v1+cell": {
     "cellMetadata": {
      "byteLimit": 2048000,
      "rowLimit": 10000
     },
     "inputWidgets": {},
     "nuid": "b791f1ff-47de-481a-9b26-666a04caa99f",
     "showTitle": false,
     "title": ""
    }
   },
   "outputs": [],
   "source": [
    "#acessando dados\n",
    "#%fs ls dbfs:/databricks-datasets/COVID/coronavirusdataset/Case.csv\n",
    "#%fs ls dbfs:/databricks-datasets/COVID/coronavirusdataset/PatientInfo.csv\n",
    "#%fs ls dbfs:/databricks-datasets/COVID/coronavirusdataset/PatientRoute.csv"
   ]
  },
  {
   "cell_type": "code",
   "execution_count": 2,
   "metadata": {
    "application/vnd.databricks.v1+cell": {
     "cellMetadata": {
      "byteLimit": 2048000,
      "rowLimit": 10000
     },
     "inputWidgets": {},
     "nuid": "67e7c65e-a2bf-4e22-9cee-8e682686838b",
     "showTitle": false,
     "title": ""
    }
   },
   "outputs": [
    {
     "name": "stderr",
     "output_type": "stream",
     "text": [
      "UsageError: Line magic function `%fs` not found.\n"
     ]
    }
   ],
   "source": [
    "%fs ls"
   ]
  },
  {
   "cell_type": "code",
   "execution_count": 0,
   "metadata": {
    "application/vnd.databricks.v1+cell": {
     "cellMetadata": {
      "byteLimit": 2048000,
      "rowLimit": 10000
     },
     "inputWidgets": {},
     "nuid": "b8d58eb3-60a5-4cfb-b75d-a4046a9b186c",
     "showTitle": false,
     "title": ""
    }
   },
   "outputs": [
    {
     "data": {
      "text/html": [
       "<style scoped>\n",
       "  .table-result-container {\n",
       "    max-height: 300px;\n",
       "    overflow: auto;\n",
       "  }\n",
       "  table, th, td {\n",
       "    border: 1px solid black;\n",
       "    border-collapse: collapse;\n",
       "  }\n",
       "  th, td {\n",
       "    padding: 5px;\n",
       "  }\n",
       "  th {\n",
       "    text-align: left;\n",
       "  }\n",
       "</style><div class='table-result-container'><table class='table-result'><thead style='background-color: white'><tr><th>path</th><th>name</th><th>size</th><th>modificationTime</th></tr></thead><tbody><tr><td>dbfs:/databricks-datasets/COVID/.DS_Store</td><td>.DS_Store</td><td>6148</td><td>1615608421000</td></tr><tr><td>dbfs:/databricks-datasets/COVID/CORD-19/</td><td>CORD-19/</td><td>0</td><td>0</td></tr><tr><td>dbfs:/databricks-datasets/COVID/CSSEGISandData/</td><td>CSSEGISandData/</td><td>0</td><td>0</td></tr><tr><td>dbfs:/databricks-datasets/COVID/ESRI_hospital_beds/</td><td>ESRI_hospital_beds/</td><td>0</td><td>0</td></tr><tr><td>dbfs:/databricks-datasets/COVID/IHME/</td><td>IHME/</td><td>0</td><td>0</td></tr><tr><td>dbfs:/databricks-datasets/COVID/USAFacts/</td><td>USAFacts/</td><td>0</td><td>0</td></tr><tr><td>dbfs:/databricks-datasets/COVID/coronavirusdataset/</td><td>coronavirusdataset/</td><td>0</td><td>0</td></tr><tr><td>dbfs:/databricks-datasets/COVID/covid-19-data/</td><td>covid-19-data/</td><td>0</td><td>0</td></tr><tr><td>dbfs:/databricks-datasets/COVID/download_daily_covid-19_datasets.sh</td><td>download_daily_covid-19_datasets.sh</td><td>1083</td><td>1609181325000</td></tr><tr><td>dbfs:/databricks-datasets/COVID/estimated_patient_impact_and_hospital_capacity_by_state/</td><td>estimated_patient_impact_and_hospital_capacity_by_state/</td><td>0</td><td>0</td></tr></tbody></table></div>"
      ]
     },
     "metadata": {
      "application/vnd.databricks.v1+output": {
       "addedWidgets": {},
       "aggData": [],
       "aggError": "",
       "aggOverflow": false,
       "aggSchema": [],
       "aggSeriesLimitReached": false,
       "aggType": "",
       "arguments": {},
       "columnCustomDisplayInfos": {},
       "data": [
        [
         "dbfs:/databricks-datasets/COVID/.DS_Store",
         ".DS_Store",
         6148,
         1615608421000
        ],
        [
         "dbfs:/databricks-datasets/COVID/CORD-19/",
         "CORD-19/",
         0,
         0
        ],
        [
         "dbfs:/databricks-datasets/COVID/CSSEGISandData/",
         "CSSEGISandData/",
         0,
         0
        ],
        [
         "dbfs:/databricks-datasets/COVID/ESRI_hospital_beds/",
         "ESRI_hospital_beds/",
         0,
         0
        ],
        [
         "dbfs:/databricks-datasets/COVID/IHME/",
         "IHME/",
         0,
         0
        ],
        [
         "dbfs:/databricks-datasets/COVID/USAFacts/",
         "USAFacts/",
         0,
         0
        ],
        [
         "dbfs:/databricks-datasets/COVID/coronavirusdataset/",
         "coronavirusdataset/",
         0,
         0
        ],
        [
         "dbfs:/databricks-datasets/COVID/covid-19-data/",
         "covid-19-data/",
         0,
         0
        ],
        [
         "dbfs:/databricks-datasets/COVID/download_daily_covid-19_datasets.sh",
         "download_daily_covid-19_datasets.sh",
         1083,
         1609181325000
        ],
        [
         "dbfs:/databricks-datasets/COVID/estimated_patient_impact_and_hospital_capacity_by_state/",
         "estimated_patient_impact_and_hospital_capacity_by_state/",
         0,
         0
        ]
       ],
       "datasetInfos": [],
       "dbfsResultPath": null,
       "isJsonSchema": true,
       "metadata": {
        "isDbfsCommandResult": false
       },
       "overflow": false,
       "plotOptions": {
        "customPlotOptions": {},
        "displayType": "table",
        "pivotAggregation": null,
        "pivotColumns": null,
        "xColumns": null,
        "yColumns": null
       },
       "removedWidgets": [],
       "schema": [
        {
         "metadata": "{}",
         "name": "path",
         "type": "\"string\""
        },
        {
         "metadata": "{}",
         "name": "name",
         "type": "\"string\""
        },
        {
         "metadata": "{}",
         "name": "size",
         "type": "\"long\""
        },
        {
         "metadata": "{}",
         "name": "modificationTime",
         "type": "\"long\""
        }
       ],
       "type": "table"
      }
     },
     "output_type": "display_data"
    }
   ],
   "source": [
    "%fs ls dbfs:/databricks-datasets/COVID/\n"
   ]
  },
  {
   "cell_type": "code",
   "execution_count": 0,
   "metadata": {
    "application/vnd.databricks.v1+cell": {
     "cellMetadata": {
      "byteLimit": 2048000,
      "rowLimit": 10000
     },
     "inputWidgets": {},
     "nuid": "c87f00e0-9112-4900-8c5c-b52a42215bde",
     "showTitle": false,
     "title": ""
    }
   },
   "outputs": [],
   "source": [
    "#o header e inferschema são necessários porque se não a contagem dá errado\n",
    "df_case = spark.read.csv(\"/databricks-datasets/COVID/coronavirusdataset/Case.csv\", header=True, inferSchema=True)\n",
    "df_pinfo = spark.read.csv(\"/databricks-datasets/COVID/coronavirusdataset/PatientInfo.csv\", header=True, inferSchema=True)\n",
    "df_proute = spark.read.csv(\"/databricks-datasets/COVID/coronavirusdataset/PatientRoute.csv\", header=True, inferSchema=True)\n"
   ]
  },
  {
   "cell_type": "markdown",
   "metadata": {
    "application/vnd.databricks.v1+cell": {
     "cellMetadata": {
      "byteLimit": 2048000,
      "rowLimit": 10000
     },
     "inputWidgets": {},
     "nuid": "6220c231-660d-4081-915a-7d22add8b7b6",
     "showTitle": false,
     "title": ""
    }
   },
   "source": [
    "#1 - Quantas linhas existem no dataset Case.csv?"
   ]
  },
  {
   "cell_type": "code",
   "execution_count": 0,
   "metadata": {
    "application/vnd.databricks.v1+cell": {
     "cellMetadata": {
      "byteLimit": 2048000,
      "rowLimit": 10000
     },
     "inputWidgets": {},
     "nuid": "56fdd309-52ef-43d2-88a5-591ddbc42fee",
     "showTitle": false,
     "title": ""
    }
   },
   "outputs": [
    {
     "name": "stdout",
     "output_type": "stream",
     "text": [
      "O número de linhas é 174\n"
     ]
    }
   ],
   "source": [
    "numlinhas = df_case.count()\n",
    "print(f\"O número de linhas é {numlinhas}\")"
   ]
  },
  {
   "cell_type": "markdown",
   "metadata": {
    "application/vnd.databricks.v1+cell": {
     "cellMetadata": {
      "byteLimit": 2048000,
      "rowLimit": 10000
     },
     "inputWidgets": {},
     "nuid": "9592d2d6-99ab-496c-b63e-d759930f91ca",
     "showTitle": false,
     "title": ""
    }
   },
   "source": [
    "#2 - No dataset Case.csv, assinale a alternativa VERDADEIRA.\n",
    "\n",
    "- city possui apenas 2 valores únicos\n",
    "\n",
    "- group possui apenas 2 valores únicos\n",
    "\n",
    "- province possui apenas 2 valores únicos\n",
    "\n",
    "- infection_case possui apenas 2 valores únicos"
   ]
  },
  {
   "cell_type": "code",
   "execution_count": 0,
   "metadata": {
    "application/vnd.databricks.v1+cell": {
     "cellMetadata": {
      "byteLimit": 2048000,
      "rowLimit": 10000
     },
     "inputWidgets": {},
     "nuid": "cea36758-8c6e-4e33-908e-142a2b6d11b3",
     "showTitle": false,
     "title": ""
    }
   },
   "outputs": [
    {
     "name": "stdout",
     "output_type": "stream",
     "text": [
      "+--------+--------+------------+-----+--------------------+---------+---------+----------+\n",
      "| case_id|province|        city|group|      infection_case|confirmed| latitude| longitude|\n",
      "+--------+--------+------------+-----+--------------------+---------+---------+----------+\n",
      "| 1000001|   Seoul|  Yongsan-gu| true|       Itaewon Clubs|      139|37.538621|126.992652|\n",
      "| 1000002|   Seoul|   Gwanak-gu| true|             Richway|      119| 37.48208|126.901384|\n",
      "| 1000003|   Seoul|     Guro-gu| true| Guro-gu Call Center|       95|37.508163|126.884387|\n",
      "| 1000004|   Seoul|Yangcheon-gu| true|Yangcheon Table T...|       43|37.546061|126.874209|\n",
      "| 1000005|   Seoul|   Dobong-gu| true|     Day Care Center|       43|37.679422|127.044374|\n",
      "+--------+--------+------------+-----+--------------------+---------+---------+----------+\n",
      "only showing top 5 rows\n",
      "\n"
     ]
    }
   ],
   "source": [
    "df_case.show(5)"
   ]
  },
  {
   "cell_type": "code",
   "execution_count": 0,
   "metadata": {
    "application/vnd.databricks.v1+cell": {
     "cellMetadata": {
      "byteLimit": 2048000,
      "rowLimit": 10000
     },
     "inputWidgets": {},
     "nuid": "1901b324-f469-4a9a-a56c-54678caa96b1",
     "showTitle": false,
     "title": ""
    }
   },
   "outputs": [
    {
     "name": "stdout",
     "output_type": "stream",
     "text": [
      "root\n",
      " |--  case_id: integer (nullable = true)\n",
      " |-- province: string (nullable = true)\n",
      " |-- city: string (nullable = true)\n",
      " |-- group: boolean (nullable = true)\n",
      " |-- infection_case: string (nullable = true)\n",
      " |-- confirmed: integer (nullable = true)\n",
      " |-- latitude: string (nullable = true)\n",
      " |-- longitude: string (nullable = true)\n",
      "\n"
     ]
    }
   ],
   "source": [
    "df_case.printSchema()"
   ]
  },
  {
   "cell_type": "code",
   "execution_count": 0,
   "metadata": {
    "application/vnd.databricks.v1+cell": {
     "cellMetadata": {
      "byteLimit": 2048000,
      "rowLimit": 10000
     },
     "inputWidgets": {},
     "nuid": "25a9526e-837e-487e-8f58-cc85bc37651c",
     "showTitle": false,
     "title": ""
    }
   },
   "outputs": [
    {
     "name": "stdout",
     "output_type": "stream",
     "text": [
      "Os valores úncios são: City:48, Group:2, Province:17, Infection Case:81. Portanto a resposta é a coluna group com 2.\n"
     ]
    }
   ],
   "source": [
    "unique_city = df_case.select(\"city\").distinct().count()\n",
    "unique_group = df_case.select(\"group\").distinct().count()\n",
    "unique_province = df_case.select(\"province\").distinct().count()\n",
    "unique_infection = df_case.select(\"infection_case\").distinct().count()\n",
    "\n",
    "unique_counts = {\n",
    "    \"city\": unique_city,\n",
    "    \"group\": unique_group,\n",
    "    \"province\": unique_province,\n",
    "    \"infection_case\": unique_infection\n",
    "}\n",
    "\n",
    "colun_min = min(unique_counts, key=unique_counts.get)\n",
    "unique_min = unique_counts[colun_min]\n",
    "\n",
    "print(f\"Os valores úncios são: City:{unique_city}, Group:{unique_group}, Province:{unique_province}, Infection Case:{unique_infection}. Portanto a resposta é a coluna {colun_min} com {unique_min}.\")"
   ]
  },
  {
   "cell_type": "markdown",
   "metadata": {
    "application/vnd.databricks.v1+cell": {
     "cellMetadata": {
      "byteLimit": 2048000,
      "rowLimit": 10000
     },
     "inputWidgets": {},
     "nuid": "0be1245b-ce2f-4fcc-8944-54f0d6ef9db5",
     "showTitle": false,
     "title": ""
    }
   },
   "source": [
    "#3 - No dataset Case.csv, a média de confirmed é:"
   ]
  },
  {
   "cell_type": "code",
   "execution_count": 0,
   "metadata": {
    "application/vnd.databricks.v1+cell": {
     "cellMetadata": {
      "byteLimit": 2048000,
      "rowLimit": 10000
     },
     "inputWidgets": {},
     "nuid": "7341006d-fd66-465b-9358-d3d5ba5459b6",
     "showTitle": false,
     "title": ""
    }
   },
   "outputs": [],
   "source": [
    "unique_min = min(unique_city,unique_group,unique_province,unique_infection)"
   ]
  },
  {
   "cell_type": "code",
   "execution_count": 0,
   "metadata": {
    "application/vnd.databricks.v1+cell": {
     "cellMetadata": {
      "byteLimit": 2048000,
      "rowLimit": 10000
     },
     "inputWidgets": {},
     "nuid": "821618b4-9076-4721-9fbb-f744b8c56168",
     "showTitle": false,
     "title": ""
    }
   },
   "outputs": [
    {
     "name": "stdout",
     "output_type": "stream",
     "text": [
      "A média de confirmed é 65.48850574712644.\n"
     ]
    }
   ],
   "source": [
    "from pyspark.sql import SparkSession\n",
    "from pyspark.sql.functions import avg\n",
    "\n",
    "mean_confirmed = df_case.select(avg(\"confirmed\")).collect()[0][0]\n",
    "print(f\"A média de confirmed é {mean_confirmed}.\")"
   ]
  },
  {
   "cell_type": "markdown",
   "metadata": {
    "application/vnd.databricks.v1+cell": {
     "cellMetadata": {
      "byteLimit": 2048000,
      "rowLimit": 10000
     },
     "inputWidgets": {},
     "nuid": "f32f5293-c724-4ad1-80a6-341732eb44e9",
     "showTitle": false,
     "title": ""
    }
   },
   "source": [
    "#4 - No dataset Case.csv, a cidade (city) que apresentou mais casos (confirmed) foi:\n"
   ]
  },
  {
   "cell_type": "code",
   "execution_count": 0,
   "metadata": {
    "application/vnd.databricks.v1+cell": {
     "cellMetadata": {
      "byteLimit": 2048000,
      "rowLimit": 10000
     },
     "inputWidgets": {},
     "nuid": "26fc49e6-9f14-4914-a9f5-8d439b828a95",
     "showTitle": false,
     "title": ""
    }
   },
   "outputs": [
    {
     "name": "stdout",
     "output_type": "stream",
     "text": [
      "A cidade com maior número de casos é: Nam-gu.\n"
     ]
    }
   ],
   "source": [
    "from pyspark.sql.functions import col, desc\n",
    "\n",
    "df = df_case.select('city', 'confirmed')\n",
    "df = df.orderBy(col('confirmed').desc()).first()[0]\n",
    "print(f\"A cidade com maior número de casos é: {df}.\")"
   ]
  },
  {
   "cell_type": "markdown",
   "metadata": {
    "application/vnd.databricks.v1+cell": {
     "cellMetadata": {
      "byteLimit": 2048000,
      "rowLimit": 10000
     },
     "inputWidgets": {},
     "nuid": "7153511b-a995-4199-8ea3-7a6c7f03b7ea",
     "showTitle": false,
     "title": ""
    }
   },
   "source": [
    "#5 - No dataset Case.csv, a média de casos (confirmed), na província (province) de Seoul foi de:"
   ]
  },
  {
   "cell_type": "code",
   "execution_count": 0,
   "metadata": {
    "application/vnd.databricks.v1+cell": {
     "cellMetadata": {
      "byteLimit": 2048000,
      "rowLimit": 10000
     },
     "inputWidgets": {},
     "nuid": "ea466127-36a4-4c31-8592-888f172168ed",
     "showTitle": false,
     "title": ""
    }
   },
   "outputs": [
    {
     "data": {
      "text/plain": []
     },
     "metadata": {
      "application/vnd.databricks.v1+output": {
       "arguments": {},
       "data": "",
       "errorSummary": "Command skipped",
       "errorTraceType": "ansi",
       "metadata": {},
       "type": "ipynbError"
      }
     },
     "output_type": "display_data"
    }
   ],
   "source": [
    "seoul_cases = df_case.filter(col('province') == 'Seoul')\n",
    "mean_seoul = seoul_cases.agg(avg('confirmed')).collect()[0][0]\n",
    "mean_seoul = round(mean_seoul, 2)\n",
    "print(f\"A média de casos da província Seoul é {mean_seoul}.\")"
   ]
  },
  {
   "cell_type": "markdown",
   "metadata": {
    "application/vnd.databricks.v1+cell": {
     "cellMetadata": {
      "byteLimit": 2048000,
      "rowLimit": 10000
     },
     "inputWidgets": {},
     "nuid": "72acd68a-8460-4f92-a1d8-7cb15e7f1056",
     "showTitle": false,
     "title": ""
    }
   },
   "source": [
    "#6 - Quantas linhas existem no dataset PatientInfo.csv?"
   ]
  },
  {
   "cell_type": "code",
   "execution_count": 0,
   "metadata": {
    "application/vnd.databricks.v1+cell": {
     "cellMetadata": {
      "byteLimit": 2048000,
      "rowLimit": 10000
     },
     "inputWidgets": {},
     "nuid": "3984ee54-e837-4ee1-bbac-52e650a1bc56",
     "showTitle": false,
     "title": ""
    }
   },
   "outputs": [
    {
     "data": {
      "text/plain": []
     },
     "metadata": {
      "application/vnd.databricks.v1+output": {
       "arguments": {},
       "data": "",
       "errorSummary": "Command skipped",
       "errorTraceType": "ansi",
       "metadata": {},
       "type": "ipynbError"
      }
     },
     "output_type": "display_data"
    }
   ],
   "source": [
    "numlinhaspinfo = df_pinfo.count()\n",
    "print(f\"O número de linhas é {numlinhaspinfo}\")"
   ]
  },
  {
   "cell_type": "markdown",
   "metadata": {
    "application/vnd.databricks.v1+cell": {
     "cellMetadata": {
      "byteLimit": 2048000,
      "rowLimit": 10000
     },
     "inputWidgets": {},
     "nuid": "dbb53217-05a8-439c-ac82-f51573f77d50",
     "showTitle": false,
     "title": ""
    }
   },
   "source": [
    "#7 - No dataset PatientInfo.csv, assinale a alternativa VERDADEIRA.\n",
    "\n",
    "- state possui apenas 2 valores únicos\n",
    "\n",
    "- state possui apenas 3 valores únicos\n",
    "\n",
    "- infection_case possui apenas 3 valores únicos\n",
    "\n",
    "- sex possui apenas 2 valores únicos"
   ]
  },
  {
   "cell_type": "code",
   "execution_count": 0,
   "metadata": {
    "application/vnd.databricks.v1+cell": {
     "cellMetadata": {
      "byteLimit": 2048000,
      "rowLimit": 10000
     },
     "inputWidgets": {},
     "nuid": "589d04b4-75fb-49f6-8b0c-6bd6033df191",
     "showTitle": false,
     "title": ""
    }
   },
   "outputs": [
    {
     "data": {
      "text/plain": []
     },
     "metadata": {
      "application/vnd.databricks.v1+output": {
       "arguments": {},
       "data": "",
       "errorSummary": "Command skipped",
       "errorTraceType": "ansi",
       "metadata": {},
       "type": "ipynbError"
      }
     },
     "output_type": "display_data"
    }
   ],
   "source": [
    "df_pinfo.show(5)"
   ]
  },
  {
   "cell_type": "code",
   "execution_count": 0,
   "metadata": {
    "application/vnd.databricks.v1+cell": {
     "cellMetadata": {
      "byteLimit": 2048000,
      "rowLimit": 10000
     },
     "inputWidgets": {},
     "nuid": "df006787-20a3-4cde-8e5b-ecd3ef31c39f",
     "showTitle": false,
     "title": ""
    }
   },
   "outputs": [
    {
     "data": {
      "text/plain": []
     },
     "metadata": {
      "application/vnd.databricks.v1+output": {
       "arguments": {},
       "data": "",
       "errorSummary": "Command skipped",
       "errorTraceType": "ansi",
       "metadata": {},
       "type": "ipynbError"
      }
     },
     "output_type": "display_data"
    }
   ],
   "source": [
    "unique_state = df_pinfo.select(\"state\").distinct().count()\n",
    "unique_infpinfo = df_pinfo.select(\"infection_case\").distinct().count()\n",
    "unique_sex = df_pinfo.select(\"sex\").distinct().count()\n",
    "\n",
    "print(f\"Os valores únicos são: state:{unique_state}, infection case:{unique_infpinfo}, sex:{unique_sex}.\")"
   ]
  },
  {
   "cell_type": "markdown",
   "metadata": {
    "application/vnd.databricks.v1+cell": {
     "cellMetadata": {
      "byteLimit": 2048000,
      "rowLimit": 10000
     },
     "inputWidgets": {},
     "nuid": "54e04642-c77d-4b56-898c-d1cd0a3c8cd6",
     "showTitle": false,
     "title": ""
    }
   },
   "source": [
    "#8 - No dataset PatientInfo.csv, pessoas do sexo (sex) feminino (female), da cidade (city) Jongno-gu, e do grupo de idade (age) 10s são:\n",
    "\n",
    "- 3\n",
    "- 2\n",
    "- 1\n",
    "- 0"
   ]
  },
  {
   "cell_type": "code",
   "execution_count": 3,
   "metadata": {
    "application/vnd.databricks.v1+cell": {
     "cellMetadata": {
      "byteLimit": 2048000,
      "rowLimit": 10000
     },
     "inputWidgets": {},
     "nuid": "13bbcea8-4b9c-4544-8422-83d5fb4a1c5b",
     "showTitle": false,
     "title": ""
    }
   },
   "outputs": [
    {
     "ename": "NameError",
     "evalue": "name 'df_pinfo' is not defined",
     "output_type": "error",
     "traceback": [
      "\u001b[1;31m---------------------------------------------------------------------------\u001b[0m",
      "\u001b[1;31mNameError\u001b[0m                                 Traceback (most recent call last)",
      "Cell \u001b[1;32mIn[3], line 1\u001b[0m\n\u001b[1;32m----> 1\u001b[0m pinfo \u001b[38;5;241m=\u001b[39m \u001b[43mdf_pinfo\u001b[49m\u001b[38;5;241m.\u001b[39mfilter(\n\u001b[0;32m      2\u001b[0m     (col(\u001b[38;5;124m'\u001b[39m\u001b[38;5;124msex\u001b[39m\u001b[38;5;124m'\u001b[39m) \u001b[38;5;241m==\u001b[39m \u001b[38;5;124m'\u001b[39m\u001b[38;5;124mfemale\u001b[39m\u001b[38;5;124m'\u001b[39m) \u001b[38;5;241m&\u001b[39m\n\u001b[0;32m      3\u001b[0m     (col(\u001b[38;5;124m'\u001b[39m\u001b[38;5;124mcity\u001b[39m\u001b[38;5;124m'\u001b[39m) \u001b[38;5;241m==\u001b[39m \u001b[38;5;124m'\u001b[39m\u001b[38;5;124mJongno-gu\u001b[39m\u001b[38;5;124m'\u001b[39m) \u001b[38;5;241m&\u001b[39m\n\u001b[0;32m      4\u001b[0m     (col(\u001b[38;5;124m'\u001b[39m\u001b[38;5;124mage\u001b[39m\u001b[38;5;124m'\u001b[39m) \u001b[38;5;241m==\u001b[39m \u001b[38;5;124m'\u001b[39m\u001b[38;5;124m10s\u001b[39m\u001b[38;5;124m'\u001b[39m)\n\u001b[0;32m      5\u001b[0m )\n\u001b[0;32m      6\u001b[0m pinfo \u001b[38;5;241m=\u001b[39m pinfo\u001b[38;5;241m.\u001b[39mcount()\n\u001b[0;32m      8\u001b[0m \u001b[38;5;28mprint\u001b[39m(\u001b[38;5;124mf\u001b[39m\u001b[38;5;124m\"\u001b[39m\u001b[38;5;124mO número de pessoas com essas características é: \u001b[39m\u001b[38;5;132;01m{\u001b[39;00mpinfo\u001b[38;5;132;01m}\u001b[39;00m\u001b[38;5;124m.\u001b[39m\u001b[38;5;124m\"\u001b[39m)\n",
      "\u001b[1;31mNameError\u001b[0m: name 'df_pinfo' is not defined"
     ]
    }
   ],
   "source": [
    "pinfo = df_pinfo.filter(\n",
    "    (col('sex') == 'female') &\n",
    "    (col('city') == 'Jongno-gu') &\n",
    "    (col('age') == '10s')\n",
    ")\n",
    "pinfo = pinfo.count()\n",
    "\n",
    "print(f\"O número de pessoas com essas características é: {pinfo}.\")\n"
   ]
  },
  {
   "cell_type": "markdown",
   "metadata": {
    "application/vnd.databricks.v1+cell": {
     "cellMetadata": {
      "byteLimit": 2048000,
      "rowLimit": 10000
     },
     "inputWidgets": {},
     "nuid": "e514b16a-7499-4096-8e86-572c845538fb",
     "showTitle": false,
     "title": ""
    }
   },
   "source": [
    "#9 - Quantas linhas existem no dataset PatientRoute.csv?\n"
   ]
  },
  {
   "cell_type": "code",
   "execution_count": 0,
   "metadata": {
    "application/vnd.databricks.v1+cell": {
     "cellMetadata": {
      "byteLimit": 2048000,
      "rowLimit": 10000
     },
     "inputWidgets": {},
     "nuid": "ba7966f7-d53c-4bba-8774-ca293215aebc",
     "showTitle": false,
     "title": ""
    }
   },
   "outputs": [
    {
     "data": {
      "text/plain": []
     },
     "metadata": {
      "application/vnd.databricks.v1+output": {
       "arguments": {},
       "data": "",
       "errorSummary": "Command skipped",
       "errorTraceType": "ansi",
       "metadata": {},
       "type": "ipynbError"
      }
     },
     "output_type": "display_data"
    }
   ],
   "source": [
    "numlinhasproute = df_proute.count()\n",
    "print(f\"O número de linhas é {numlinhasproute}\")"
   ]
  },
  {
   "cell_type": "markdown",
   "metadata": {
    "application/vnd.databricks.v1+cell": {
     "cellMetadata": {
      "byteLimit": 2048000,
      "rowLimit": 10000
     },
     "inputWidgets": {},
     "nuid": "47296b47-4c28-4012-a729-c5534383fb4b",
     "showTitle": false,
     "title": ""
    }
   },
   "source": [
    "#10 - No dataset PatientRoute.csv, a maior latitude encontrada é de:\n"
   ]
  },
  {
   "cell_type": "code",
   "execution_count": 0,
   "metadata": {
    "application/vnd.databricks.v1+cell": {
     "cellMetadata": {
      "byteLimit": 2048000,
      "rowLimit": 10000
     },
     "inputWidgets": {},
     "nuid": "578df9af-03cd-4f23-9025-7d32153fdc29",
     "showTitle": false,
     "title": ""
    }
   },
   "outputs": [
    {
     "data": {
      "text/plain": []
     },
     "metadata": {
      "application/vnd.databricks.v1+output": {
       "arguments": {},
       "data": "",
       "errorSummary": "Command skipped",
       "errorTraceType": "ansi",
       "metadata": {},
       "type": "ipynbError"
      }
     },
     "output_type": "display_data"
    }
   ],
   "source": [
    "df_proute.show(2)"
   ]
  },
  {
   "cell_type": "code",
   "execution_count": 0,
   "metadata": {
    "application/vnd.databricks.v1+cell": {
     "cellMetadata": {
      "byteLimit": 2048000,
      "rowLimit": 10000
     },
     "inputWidgets": {},
     "nuid": "b3a57b63-0fb4-4092-ab4d-1c0fb943572f",
     "showTitle": false,
     "title": ""
    }
   },
   "outputs": [
    {
     "data": {
      "text/plain": []
     },
     "metadata": {
      "application/vnd.databricks.v1+output": {
       "arguments": {},
       "data": "",
       "errorSummary": "Command skipped",
       "errorTraceType": "ansi",
       "metadata": {},
       "type": "ipynbError"
      }
     },
     "output_type": "display_data"
    }
   ],
   "source": [
    "df_proute.printSchema()"
   ]
  },
  {
   "cell_type": "code",
   "execution_count": 0,
   "metadata": {
    "application/vnd.databricks.v1+cell": {
     "cellMetadata": {
      "byteLimit": 2048000,
      "rowLimit": 10000
     },
     "inputWidgets": {},
     "nuid": "55729763-d418-4a53-867b-1fc0450f3e1e",
     "showTitle": false,
     "title": ""
    }
   },
   "outputs": [
    {
     "data": {
      "text/plain": []
     },
     "metadata": {
      "application/vnd.databricks.v1+output": {
       "arguments": {},
       "data": "",
       "errorSummary": "Command skipped",
       "errorTraceType": "ansi",
       "metadata": {},
       "type": "ipynbError"
      }
     },
     "output_type": "display_data"
    }
   ],
   "source": [
    "max_latitude = df_proute.agg({'Latitude': 'max'}).collect()[0][0]\n",
    "max_latitude = round(max_latitude, 5)\n",
    "print(f\"A maior latitude encontrada neste DF é {max_latitude}\")"
   ]
  },
  {
   "cell_type": "markdown",
   "metadata": {
    "application/vnd.databricks.v1+cell": {
     "cellMetadata": {
      "byteLimit": 2048000,
      "rowLimit": 10000
     },
     "inputWidgets": {},
     "nuid": "9d2e41e1-237b-44b9-94e3-c53abc522a2f",
     "showTitle": false,
     "title": ""
    }
   },
   "source": [
    "#11 - No dataset PatientRoute.csv, a menor longitude encontrada é de:"
   ]
  },
  {
   "cell_type": "code",
   "execution_count": 0,
   "metadata": {
    "application/vnd.databricks.v1+cell": {
     "cellMetadata": {
      "byteLimit": 2048000,
      "rowLimit": 10000
     },
     "inputWidgets": {},
     "nuid": "324b9b65-f8dc-434f-8a48-ac6d0961a6d5",
     "showTitle": false,
     "title": ""
    }
   },
   "outputs": [
    {
     "name": "stdout",
     "output_type": "stream",
     "text": [
      "A menor latitude encontrada neste DF é 126.301\n"
     ]
    }
   ],
   "source": [
    "min_long = df_proute.agg({'longitude': 'min'}).collect()[0][0]\n",
    "min_long = round(min_long, 3)\n",
    "print(f\"A menor latitude encontrada neste DF é {min_long}\")"
   ]
  },
  {
   "cell_type": "markdown",
   "metadata": {
    "application/vnd.databricks.v1+cell": {
     "cellMetadata": {
      "byteLimit": 2048000,
      "rowLimit": 10000
     },
     "inputWidgets": {},
     "nuid": "6fca06e4-ddd7-4524-8560-6c86bbc41fde",
     "showTitle": false,
     "title": ""
    }
   },
   "source": [
    "#12 - Pacientes detectados (type) no aeroporto (airport), e que tiveram caso de infecção (infection_case) como contato com pacientes (contact with patient) retornam uma contagem de:"
   ]
  },
  {
   "cell_type": "code",
   "execution_count": 0,
   "metadata": {
    "application/vnd.databricks.v1+cell": {
     "cellMetadata": {
      "byteLimit": 2048000,
      "rowLimit": 10000
     },
     "inputWidgets": {},
     "nuid": "c7056348-12d3-4b22-a2df-18831d52c8e0",
     "showTitle": false,
     "title": ""
    }
   },
   "outputs": [
    {
     "data": {
      "text/plain": []
     },
     "metadata": {
      "application/vnd.databricks.v1+output": {
       "arguments": {},
       "data": "",
       "errorSummary": "Command skipped",
       "errorTraceType": "ansi",
       "metadata": {},
       "type": "ipynbError"
      }
     },
     "output_type": "display_data"
    }
   ],
   "source": [
    "df_pinfo.show(1)"
   ]
  },
  {
   "cell_type": "code",
   "execution_count": 0,
   "metadata": {
    "application/vnd.databricks.v1+cell": {
     "cellMetadata": {
      "byteLimit": 2048000,
      "rowLimit": 10000
     },
     "inputWidgets": {},
     "nuid": "00d8adbc-2238-4c05-8c8d-9485fb49d6e4",
     "showTitle": false,
     "title": ""
    }
   },
   "outputs": [
    {
     "data": {
      "text/plain": []
     },
     "metadata": {
      "application/vnd.databricks.v1+output": {
       "arguments": {},
       "data": "",
       "errorSummary": "Command skipped",
       "errorTraceType": "ansi",
       "metadata": {},
       "type": "ipynbError"
      }
     },
     "output_type": "display_data"
    }
   ],
   "source": [
    "df_proute.show(1)"
   ]
  },
  {
   "cell_type": "code",
   "execution_count": 0,
   "metadata": {
    "application/vnd.databricks.v1+cell": {
     "cellMetadata": {
      "byteLimit": 2048000,
      "rowLimit": 10000
     },
     "inputWidgets": {},
     "nuid": "ebf61fba-9851-48ef-9542-e3328724fd14",
     "showTitle": false,
     "title": ""
    }
   },
   "outputs": [
    {
     "data": {
      "text/plain": []
     },
     "metadata": {
      "application/vnd.databricks.v1+output": {
       "arguments": {},
       "data": "",
       "errorSummary": "Command skipped",
       "errorTraceType": "ansi",
       "metadata": {},
       "type": "ipynbError"
      }
     },
     "output_type": "display_data"
    }
   ],
   "source": [
    "#column_type = ['patient_id', 'type']\n",
    "#column_infcase = ['patient_id', 'infection_case']\n",
    "\n",
    "df_type = df_proute.select('patient_id', 'type')\n",
    "df_infcase = df_pinfo.select('patient_id', 'infection_case')\n",
    "\n",
    "df_joined = df_type.join(df_infcase, 'patient_id', 'inner')\n",
    "df_joined.show(2)"
   ]
  },
  {
   "cell_type": "code",
   "execution_count": 0,
   "metadata": {
    "application/vnd.databricks.v1+cell": {
     "cellMetadata": {
      "byteLimit": 2048000,
      "rowLimit": 10000
     },
     "inputWidgets": {},
     "nuid": "63b8855c-31a5-47e3-bf5d-6cd8cfddd531",
     "showTitle": false,
     "title": ""
    }
   },
   "outputs": [
    {
     "data": {
      "text/plain": []
     },
     "metadata": {
      "application/vnd.databricks.v1+output": {
       "arguments": {},
       "data": "",
       "errorSummary": "Command skipped",
       "errorTraceType": "ansi",
       "metadata": {},
       "type": "ipynbError"
      }
     },
     "output_type": "display_data"
    }
   ],
   "source": [
    "pfinal = df_joined.filter(\n",
    "    (col('type') == 'airport') &\n",
    "    (col('infection_case') == 'contact with patient')\n",
    ")\n",
    "\n",
    "pfinal = pfinal.count()\n",
    "\n",
    "print(f\"A contagem de pacientes com essas características retorna o valor de {pfinal}.\")"
   ]
  }
 ],
 "metadata": {
  "application/vnd.databricks.v1+notebook": {
   "dashboards": [],
   "environmentMetadata": null,
   "language": "python",
   "notebookMetadata": {
    "mostRecentlyExecutedCommandWithImplicitDF": {
     "commandId": 3671144873979250,
     "dataframes": [
      "_sqldf"
     ]
    },
    "pythonIndentUnit": 4
   },
   "notebookName": "DESM4",
   "widgets": {}
  },
  "kernelspec": {
   "display_name": "Python 3",
   "language": "python",
   "name": "python3"
  },
  "language_info": {
   "codemirror_mode": {
    "name": "ipython",
    "version": 3
   },
   "file_extension": ".py",
   "mimetype": "text/x-python",
   "name": "python",
   "nbconvert_exporter": "python",
   "pygments_lexer": "ipython3",
   "version": "3.12.3"
  }
 },
 "nbformat": 4,
 "nbformat_minor": 0
}
